{
 "cells": [
  {
   "cell_type": "code",
   "execution_count": 1,
   "id": "e809ec7f",
   "metadata": {},
   "outputs": [],
   "source": [
    "import pandas as pd\n",
    "import geojson\n",
    "import json\n",
    "from shapely.geometry import shape, MultiLineString\n",
    "import math"
   ]
  },
  {
   "cell_type": "code",
   "execution_count": 2,
   "id": "acbef498",
   "metadata": {},
   "outputs": [],
   "source": [
    "hidro = pd.read_csv(\"instalaciones-hidrocarburos-ductos-res-319-93.csv\")"
   ]
  },
  {
   "cell_type": "code",
   "execution_count": 3,
   "id": "85d97463",
   "metadata": {},
   "outputs": [
    {
     "name": "stdout",
     "output_type": "stream",
     "text": [
      "<class 'pandas.core.frame.DataFrame'>\n",
      "RangeIndex: 134112 entries, 0 to 134111\n",
      "Data columns (total 13 columns):\n",
      " #   Column                    Non-Null Count   Dtype  \n",
      "---  ------                    --------------   -----  \n",
      " 0   du                        134112 non-null  object \n",
      " 1   trdu                      134039 non-null  object \n",
      " 2   empresa_informante        133900 non-null  object \n",
      " 3   tipo                      134104 non-null  object \n",
      " 4   tipo_tramo                133985 non-null  object \n",
      " 5   diametro                  134112 non-null  float64\n",
      " 6   prof                      134112 non-null  float64\n",
      " 7   espesor                   134112 non-null  float64\n",
      " 8   material                  134112 non-null  object \n",
      " 9   revestim                  134091 non-null  object \n",
      " 10  geojson                   134112 non-null  object \n",
      " 11  alta_planos_base          134112 non-null  object \n",
      " 12  modificacion_planos_base  69231 non-null   object \n",
      "dtypes: float64(3), object(10)\n",
      "memory usage: 13.3+ MB\n"
     ]
    }
   ],
   "source": [
    "hidro.info()"
   ]
  },
  {
   "cell_type": "code",
   "execution_count": 4,
   "id": "56e60ece",
   "metadata": {},
   "outputs": [],
   "source": [
    "# Borro las filas con valores Nan en las columnas empresa_informante y tipo. Estas filas no aportar información a\n",
    "# mis objetivos\n",
    "\n",
    "hidro.dropna(subset=[\"empresa_informante\",\"tipo\"], inplace=True)"
   ]
  },
  {
   "cell_type": "code",
   "execution_count": 5,
   "id": "05162cc8",
   "metadata": {},
   "outputs": [
    {
     "name": "stdout",
     "output_type": "stream",
     "text": [
      "<class 'pandas.core.frame.DataFrame'>\n",
      "Index: 133892 entries, 123 to 134111\n",
      "Data columns (total 13 columns):\n",
      " #   Column                    Non-Null Count   Dtype  \n",
      "---  ------                    --------------   -----  \n",
      " 0   du                        133892 non-null  object \n",
      " 1   trdu                      133819 non-null  object \n",
      " 2   empresa_informante        133892 non-null  object \n",
      " 3   tipo                      133892 non-null  object \n",
      " 4   tipo_tramo                133773 non-null  object \n",
      " 5   diametro                  133892 non-null  float64\n",
      " 6   prof                      133892 non-null  float64\n",
      " 7   espesor                   133892 non-null  float64\n",
      " 8   material                  133892 non-null  object \n",
      " 9   revestim                  133872 non-null  object \n",
      " 10  geojson                   133892 non-null  object \n",
      " 11  alta_planos_base          133892 non-null  object \n",
      " 12  modificacion_planos_base  69039 non-null   object \n",
      "dtypes: float64(3), object(10)\n",
      "memory usage: 14.3+ MB\n"
     ]
    }
   ],
   "source": [
    "hidro.info()"
   ]
  },
  {
   "cell_type": "code",
   "execution_count": 6,
   "id": "954bef9e",
   "metadata": {},
   "outputs": [],
   "source": [
    "hidro.drop([\"alta_planos_base\", \"modificacion_planos_base\"], axis=1,inplace=True)"
   ]
  },
  {
   "cell_type": "code",
   "execution_count": 7,
   "id": "25c97099",
   "metadata": {},
   "outputs": [],
   "source": [
    "hidro[\"du\"] = hidro[\"du\"].str.upper()\n",
    "hidro[\"trdu\"] = hidro[\"trdu\"].str.upper()\n",
    "hidro[\"material\"] = hidro[\"material\"].str.upper()\n",
    "hidro[\"revestim\"] = hidro[\"revestim\"].str.upper()"
   ]
  },
  {
   "cell_type": "code",
   "execution_count": 8,
   "id": "a60bcaac",
   "metadata": {
    "scrolled": false
   },
   "outputs": [
    {
     "name": "stdout",
     "output_type": "stream",
     "text": [
      "<class 'pandas.core.frame.DataFrame'>\n",
      "Index: 133892 entries, 123 to 134111\n",
      "Data columns (total 11 columns):\n",
      " #   Column              Non-Null Count   Dtype  \n",
      "---  ------              --------------   -----  \n",
      " 0   du                  133892 non-null  object \n",
      " 1   trdu                133819 non-null  object \n",
      " 2   empresa_informante  133892 non-null  object \n",
      " 3   tipo                133892 non-null  object \n",
      " 4   tipo_tramo          133773 non-null  object \n",
      " 5   diametro            133892 non-null  float64\n",
      " 6   prof                133892 non-null  float64\n",
      " 7   espesor             133892 non-null  float64\n",
      " 8   material            133892 non-null  object \n",
      " 9   revestim            133872 non-null  object \n",
      " 10  geojson             133892 non-null  object \n",
      "dtypes: float64(3), object(8)\n",
      "memory usage: 12.3+ MB\n"
     ]
    }
   ],
   "source": [
    "hidro.info()"
   ]
  },
  {
   "cell_type": "code",
   "execution_count": 9,
   "id": "25517d77",
   "metadata": {},
   "outputs": [],
   "source": [
    "# Puedo suponer que los registros iguales son de información duplicada.\n",
    "\n",
    "hidro.drop_duplicates(inplace=True)"
   ]
  },
  {
   "cell_type": "code",
   "execution_count": 10,
   "id": "b2d41d88",
   "metadata": {},
   "outputs": [],
   "source": [
    "# Creo una función para pasar la columna geojson a un objeto geojson\n",
    "\n",
    "def convertir_a_objeto_geojson(cadena_geojson):\n",
    "    return geojson.loads(cadena_geojson)\n",
    "\n",
    "\n",
    "# Convierto la columna geojson a un objeto geojson\n",
    "\n",
    "hidro['objeto_geojson'] = hidro['geojson'].apply(convertir_a_objeto_geojson)\n",
    "\n",
    "\n",
    "# Creo una función para calcular la longitud del tramo\n",
    "\n",
    "def calcular_longitud_multilinestring(objeto_geojson):\n",
    "    # Convertir el objeto GeoJSON a un objeto Shapely\n",
    "    shapely_geojson = shape(objeto_geojson)\n",
    "    if isinstance(shapely_geojson, MultiLineString):\n",
    "        # Calcular la longitud de las líneas en el MultiLineString\n",
    "        longitud_total = sum(line.length for line in shapely_geojson.geoms)\n",
    "        return longitud_total\n",
    "    else:\n",
    "        # En caso de que no sea MultiLineString, devolver 0 o algún valor adecuado\n",
    "        return 0\n",
    "    \n",
    "# Calculo sobre la columna objeto_geojson la longitud del tramo\n",
    "\n",
    "hidro[\"longitud\"] = hidro['objeto_geojson'].apply(calcular_longitud_multilinestring)\n",
    "\n",
    "# Lo paso a kilómetros\n",
    "\n",
    "hidro['longitud'] = hidro['longitud']*100"
   ]
  },
  {
   "cell_type": "code",
   "execution_count": 11,
   "id": "f65ec9e2",
   "metadata": {},
   "outputs": [],
   "source": [
    "# Completo la columna tipo_tramo según corresponda en función de la columna profundidad\n",
    "\n",
    "hidro.loc[(hidro[\"prof\"] == 0), \"tipo_tramo\"] = \"AEREO\"\n",
    "hidro.loc[(hidro[\"prof\"] != 0), \"tipo_tramo\"] = \"ENTERRADO\"\n",
    "        "
   ]
  },
  {
   "cell_type": "code",
   "execution_count": 12,
   "id": "986b4a6e",
   "metadata": {},
   "outputs": [],
   "source": [
    "# Completo la columna trdu\n",
    "\n",
    "hidro.loc[hidro[\"trdu\"].isnull(), \"trdu\"] = \"Sin dato\""
   ]
  },
  {
   "cell_type": "code",
   "execution_count": 13,
   "id": "276491fd",
   "metadata": {
    "collapsed": true
   },
   "outputs": [
    {
     "name": "stdout",
     "output_type": "stream",
     "text": [
      "<class 'pandas.core.frame.DataFrame'>\n",
      "Index: 132980 entries, 123 to 134111\n",
      "Data columns (total 13 columns):\n",
      " #   Column              Non-Null Count   Dtype  \n",
      "---  ------              --------------   -----  \n",
      " 0   du                  132980 non-null  object \n",
      " 1   trdu                132980 non-null  object \n",
      " 2   empresa_informante  132980 non-null  object \n",
      " 3   tipo                132980 non-null  object \n",
      " 4   tipo_tramo          132980 non-null  object \n",
      " 5   diametro            132980 non-null  float64\n",
      " 6   prof                132980 non-null  float64\n",
      " 7   espesor             132980 non-null  float64\n",
      " 8   material            132980 non-null  object \n",
      " 9   revestim            132960 non-null  object \n",
      " 10  geojson             132980 non-null  object \n",
      " 11  objeto_geojson      132980 non-null  object \n",
      " 12  longitud            132980 non-null  float64\n",
      "dtypes: float64(4), object(9)\n",
      "memory usage: 14.2+ MB\n"
     ]
    }
   ],
   "source": [
    "hidro.info()"
   ]
  },
  {
   "cell_type": "code",
   "execution_count": 14,
   "id": "01b8d94f",
   "metadata": {},
   "outputs": [],
   "source": [
    "hidro.drop([\"espesor\", \"objeto_geojson\"],axis=1, inplace=True)"
   ]
  },
  {
   "cell_type": "code",
   "execution_count": 15,
   "id": "fe587a84",
   "metadata": {},
   "outputs": [
    {
     "data": {
      "text/html": [
       "<div>\n",
       "<style scoped>\n",
       "    .dataframe tbody tr th:only-of-type {\n",
       "        vertical-align: middle;\n",
       "    }\n",
       "\n",
       "    .dataframe tbody tr th {\n",
       "        vertical-align: top;\n",
       "    }\n",
       "\n",
       "    .dataframe thead th {\n",
       "        text-align: right;\n",
       "    }\n",
       "</style>\n",
       "<table border=\"1\" class=\"dataframe\">\n",
       "  <thead>\n",
       "    <tr style=\"text-align: right;\">\n",
       "      <th></th>\n",
       "      <th>du</th>\n",
       "      <th>trdu</th>\n",
       "      <th>empresa_informante</th>\n",
       "      <th>tipo</th>\n",
       "      <th>tipo_tramo</th>\n",
       "      <th>diametro</th>\n",
       "      <th>prof</th>\n",
       "      <th>material</th>\n",
       "      <th>revestim</th>\n",
       "      <th>geojson</th>\n",
       "      <th>longitud</th>\n",
       "    </tr>\n",
       "  </thead>\n",
       "  <tbody>\n",
       "    <tr>\n",
       "      <th>123</th>\n",
       "      <td>ALTO LAS HORMIGAS</td>\n",
       "      <td>ALTO LAS HORMIGAS-LAS BASES</td>\n",
       "      <td>COMPAÑÍA GENERAL DE COMBUSTIBLES S.A.</td>\n",
       "      <td>GASODUCTO</td>\n",
       "      <td>ENTERRADO</td>\n",
       "      <td>6.000</td>\n",
       "      <td>1.2</td>\n",
       "      <td>ACERO</td>\n",
       "      <td>POLIURETANO EXTRUIDO TRICAPA</td>\n",
       "      <td>{\"type\":\"MultiLineString\",\"coordinates\":[[[-67...</td>\n",
       "      <td>17.765197</td>\n",
       "    </tr>\n",
       "    <tr>\n",
       "      <th>124</th>\n",
       "      <td>DEL T-25</td>\n",
       "      <td>DEL T-25</td>\n",
       "      <td>PETROLERA EL TREBOL S.A.</td>\n",
       "      <td>OLEODUCTO</td>\n",
       "      <td>AEREO</td>\n",
       "      <td>2.875</td>\n",
       "      <td>0.0</td>\n",
       "      <td>ACERO</td>\n",
       "      <td>POLIURETANO Y CHAPA</td>\n",
       "      <td>{\"type\":\"MultiLineString\",\"coordinates\":[[[-69...</td>\n",
       "      <td>0.117905</td>\n",
       "    </tr>\n",
       "    <tr>\n",
       "      <th>125</th>\n",
       "      <td>DEL T-47</td>\n",
       "      <td>DEL T-47</td>\n",
       "      <td>PETROLERA EL TREBOL S.A.</td>\n",
       "      <td>OLEODUCTO</td>\n",
       "      <td>AEREO</td>\n",
       "      <td>2.875</td>\n",
       "      <td>0.0</td>\n",
       "      <td>ACERO</td>\n",
       "      <td>POLIURETANO Y CHAPA</td>\n",
       "      <td>{\"type\":\"MultiLineString\",\"coordinates\":[[[-69...</td>\n",
       "      <td>0.181930</td>\n",
       "    </tr>\n",
       "    <tr>\n",
       "      <th>126</th>\n",
       "      <td>DEL TR-1014</td>\n",
       "      <td>DEL TR-1014</td>\n",
       "      <td>PETROLERA EL TREBOL S.A.</td>\n",
       "      <td>OLEODUCTO</td>\n",
       "      <td>AEREO</td>\n",
       "      <td>2.875</td>\n",
       "      <td>0.0</td>\n",
       "      <td>ACERO</td>\n",
       "      <td>POLIURETANO Y CHAPA</td>\n",
       "      <td>{\"type\":\"MultiLineString\",\"coordinates\":[[[-69...</td>\n",
       "      <td>0.708452</td>\n",
       "    </tr>\n",
       "    <tr>\n",
       "      <th>127</th>\n",
       "      <td>DEL T-36</td>\n",
       "      <td>DEL T-36</td>\n",
       "      <td>PETROLERA EL TREBOL S.A.</td>\n",
       "      <td>OLEODUCTO</td>\n",
       "      <td>AEREO</td>\n",
       "      <td>2.875</td>\n",
       "      <td>0.0</td>\n",
       "      <td>ACERO</td>\n",
       "      <td>POLIURETANO Y CHAPA</td>\n",
       "      <td>{\"type\":\"MultiLineString\",\"coordinates\":[[[-69...</td>\n",
       "      <td>0.344256</td>\n",
       "    </tr>\n",
       "  </tbody>\n",
       "</table>\n",
       "</div>"
      ],
      "text/plain": [
       "                    du                         trdu  \\\n",
       "123  ALTO LAS HORMIGAS  ALTO LAS HORMIGAS-LAS BASES   \n",
       "124           DEL T-25                     DEL T-25   \n",
       "125           DEL T-47                     DEL T-47   \n",
       "126        DEL TR-1014                  DEL TR-1014   \n",
       "127           DEL T-36                     DEL T-36   \n",
       "\n",
       "                        empresa_informante       tipo tipo_tramo  diametro  \\\n",
       "123  COMPAÑÍA GENERAL DE COMBUSTIBLES S.A.  GASODUCTO  ENTERRADO     6.000   \n",
       "124               PETROLERA EL TREBOL S.A.  OLEODUCTO      AEREO     2.875   \n",
       "125               PETROLERA EL TREBOL S.A.  OLEODUCTO      AEREO     2.875   \n",
       "126               PETROLERA EL TREBOL S.A.  OLEODUCTO      AEREO     2.875   \n",
       "127               PETROLERA EL TREBOL S.A.  OLEODUCTO      AEREO     2.875   \n",
       "\n",
       "     prof material                      revestim  \\\n",
       "123   1.2    ACERO  POLIURETANO EXTRUIDO TRICAPA   \n",
       "124   0.0    ACERO           POLIURETANO Y CHAPA   \n",
       "125   0.0    ACERO           POLIURETANO Y CHAPA   \n",
       "126   0.0    ACERO           POLIURETANO Y CHAPA   \n",
       "127   0.0    ACERO           POLIURETANO Y CHAPA   \n",
       "\n",
       "                                               geojson   longitud  \n",
       "123  {\"type\":\"MultiLineString\",\"coordinates\":[[[-67...  17.765197  \n",
       "124  {\"type\":\"MultiLineString\",\"coordinates\":[[[-69...   0.117905  \n",
       "125  {\"type\":\"MultiLineString\",\"coordinates\":[[[-69...   0.181930  \n",
       "126  {\"type\":\"MultiLineString\",\"coordinates\":[[[-69...   0.708452  \n",
       "127  {\"type\":\"MultiLineString\",\"coordinates\":[[[-69...   0.344256  "
      ]
     },
     "execution_count": 15,
     "metadata": {},
     "output_type": "execute_result"
    }
   ],
   "source": [
    "hidro.head()"
   ]
  },
  {
   "cell_type": "code",
   "execution_count": 16,
   "id": "896d3757",
   "metadata": {},
   "outputs": [],
   "source": [
    "hidro.index.name = \"ID\""
   ]
  },
  {
   "cell_type": "code",
   "execution_count": 17,
   "id": "f8be50f9",
   "metadata": {},
   "outputs": [],
   "source": [
    "hidro.to_csv(path_or_buf=\"hidrocarburos_con_long.csv\", index=\"ID\")"
   ]
  }
 ],
 "metadata": {
  "kernelspec": {
   "display_name": "Python 3 (ipykernel)",
   "language": "python",
   "name": "python3"
  },
  "language_info": {
   "codemirror_mode": {
    "name": "ipython",
    "version": 3
   },
   "file_extension": ".py",
   "mimetype": "text/x-python",
   "name": "python",
   "nbconvert_exporter": "python",
   "pygments_lexer": "ipython3",
   "version": "3.11.5"
  }
 },
 "nbformat": 4,
 "nbformat_minor": 5
}
