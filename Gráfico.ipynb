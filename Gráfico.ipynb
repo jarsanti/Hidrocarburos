{
 "cells": [
  {
   "cell_type": "code",
   "execution_count": 1,
   "id": "e766d1ff",
   "metadata": {},
   "outputs": [
    {
     "data": {
      "text/html": [
       "        <script type=\"text/javascript\">\n",
       "        window.PlotlyConfig = {MathJaxConfig: 'local'};\n",
       "        if (window.MathJax && window.MathJax.Hub && window.MathJax.Hub.Config) {window.MathJax.Hub.Config({SVG: {font: \"STIX-Web\"}});}\n",
       "        if (typeof require !== 'undefined') {\n",
       "        require.undef(\"plotly\");\n",
       "        requirejs.config({\n",
       "            paths: {\n",
       "                'plotly': ['https://cdn.plot.ly/plotly-2.12.1.min']\n",
       "            }\n",
       "        });\n",
       "        require(['plotly'], function(Plotly) {\n",
       "            window._Plotly = Plotly;\n",
       "        });\n",
       "        }\n",
       "        </script>\n",
       "        "
      ]
     },
     "metadata": {},
     "output_type": "display_data"
    },
    {
     "data": {
      "text/html": [
       "        <script type=\"text/javascript\">\n",
       "        window.PlotlyConfig = {MathJaxConfig: 'local'};\n",
       "        if (window.MathJax && window.MathJax.Hub && window.MathJax.Hub.Config) {window.MathJax.Hub.Config({SVG: {font: \"STIX-Web\"}});}\n",
       "        if (typeof require !== 'undefined') {\n",
       "        require.undef(\"plotly\");\n",
       "        requirejs.config({\n",
       "            paths: {\n",
       "                'plotly': ['https://cdn.plot.ly/plotly-2.12.1.min']\n",
       "            }\n",
       "        });\n",
       "        require(['plotly'], function(Plotly) {\n",
       "            window._Plotly = Plotly;\n",
       "        });\n",
       "        }\n",
       "        </script>\n",
       "        "
      ]
     },
     "metadata": {},
     "output_type": "display_data"
    }
   ],
   "source": [
    "import pandas as pd\n",
    "import numpy as np\n",
    "import cufflinks as cf\n",
    "import plotly.express as px\n",
    "import plotly.graph_objects as go\n",
    "from IPython.display import display, HTML\n",
    "cf.set_config_file(sharing=\"public\",theme=\"white\",offline=True)"
   ]
  },
  {
   "cell_type": "code",
   "execution_count": 2,
   "id": "5c2a8935",
   "metadata": {},
   "outputs": [],
   "source": [
    "df_hidro = pd.read_csv(\"hidrocarburos_limpio.csv\", index_col=\"ID\")"
   ]
  },
  {
   "cell_type": "code",
   "execution_count": 3,
   "id": "8ecf2f9a",
   "metadata": {
    "scrolled": true
   },
   "outputs": [
    {
     "name": "stdout",
     "output_type": "stream",
     "text": [
      "<class 'pandas.core.frame.DataFrame'>\n",
      "Index: 132980 entries, 123 to 134111\n",
      "Data columns (total 11 columns):\n",
      " #   Column              Non-Null Count   Dtype  \n",
      "---  ------              --------------   -----  \n",
      " 0   du                  132980 non-null  object \n",
      " 1   trdu                132980 non-null  object \n",
      " 2   empresa_informante  132980 non-null  object \n",
      " 3   tipo                132980 non-null  object \n",
      " 4   tipo_tramo          132980 non-null  object \n",
      " 5   diametro            132980 non-null  float64\n",
      " 6   prof                132980 non-null  float64\n",
      " 7   material            132980 non-null  object \n",
      " 8   revestim            132980 non-null  object \n",
      " 9   geojson             132980 non-null  object \n",
      " 10  longitud            132980 non-null  float64\n",
      "dtypes: float64(3), object(8)\n",
      "memory usage: 12.2+ MB\n"
     ]
    }
   ],
   "source": [
    "df_hidro.info()"
   ]
  },
  {
   "cell_type": "code",
   "execution_count": 4,
   "id": "31b4e35a",
   "metadata": {},
   "outputs": [],
   "source": [
    "# La empresa SINOPEC ARGENTINA y CGC ENERGIA declaran exactamente la misma cantidad de ductos, asumo que están duplicados\n",
    "# los datos por algún motivo desconocido.\n",
    "\n",
    "df_hidro.drop(df_hidro[df_hidro[\"empresa_informante\"] == \"CGC ENERGIA SAU\"].index,inplace=True)\n",
    "\n",
    "# La empresa PAN AMERICAN ENERGY SL y PAN AMERICAN ENERGY (SUCURSAL ARGENTINA) LLC las considero como una única empresa \n",
    "# a los fines prácticos.\n",
    "\n",
    "df_hidro.loc[df_hidro[\"empresa_informante\"] == \"PAN AMERICAN ENERGY SL\",\"empresa_informante\"] = \"PAN AMERICAN ENERGY (SUCURSAL ARGENTINA) LLC\"\n",
    "\n",
    "# La empresa VISTA ENERGY ARGENTINA SAU y VISTA OIL & GAS ARGENTINA SAU las considero como una única empresa \n",
    "# a los fines prácticos.\n",
    "\n",
    "df_hidro.loc[df_hidro[\"empresa_informante\"] == \"VISTA ENERGY ARGENTINA SAU\",\"empresa_informante\"] = \"VISTA OIL & GAS ARGENTINA SAU\"\n",
    "\n",
    "# Agrego una columna que determine si es Troncal o No Troncal\n",
    "df_hidro.loc[(df_hidro[\"diametro\"] < 20), \"troncal\"] = \"NO TRONCAL\"\n",
    "df_hidro.loc[(df_hidro[\"diametro\"] >= 20), \"troncal\"] = \"TRONCAL\""
   ]
  },
  {
   "cell_type": "code",
   "execution_count": 5,
   "id": "03f3e3d4",
   "metadata": {},
   "outputs": [],
   "source": [
    "empresa_tipo = df_hidro.pivot_table(index=\"empresa_informante\", columns=\"tipo\", values=\"longitud\", aggfunc='sum', margins = \"total\").fillna(0)\n",
    "empresa_tipo = empresa_tipo.sort_values(by=\"All\", ascending=True)\n",
    "empresa_tipo = empresa_tipo.reset_index()\n",
    "empresa_tipo_primeros = empresa_tipo.tail(13)\n",
    "empresa_tipo_otros = empresa_tipo.iloc[:-13].sum()\n",
    "ultima_fila = pd.DataFrame(empresa_tipo_otros).transpose()\n",
    "ultima_fila[\"empresa_informante\"] = \"Otros\"\n",
    "ultima_empresa_tipo = pd.concat([empresa_tipo_primeros,ultima_fila])\n",
    "ultima_empresa_tipo = ultima_empresa_tipo.sort_values(by = \"All\", ascending=True)\n",
    "ultima_empresa_tipo=ultima_empresa_tipo.reset_index(drop=True)\n",
    "ultima_empresa_tipo = ultima_empresa_tipo.infer_objects()\n"
   ]
  },
  {
   "cell_type": "code",
   "execution_count": 6,
   "id": "5e192b9c",
   "metadata": {},
   "outputs": [
    {
     "data": {
      "text/html": [
       "<div>\n",
       "<style scoped>\n",
       "    .dataframe tbody tr th:only-of-type {\n",
       "        vertical-align: middle;\n",
       "    }\n",
       "\n",
       "    .dataframe tbody tr th {\n",
       "        vertical-align: top;\n",
       "    }\n",
       "\n",
       "    .dataframe thead th {\n",
       "        text-align: right;\n",
       "    }\n",
       "</style>\n",
       "<table border=\"1\" class=\"dataframe\">\n",
       "  <thead>\n",
       "    <tr style=\"text-align: right;\">\n",
       "      <th>tipo</th>\n",
       "      <th>empresa_informante</th>\n",
       "      <th>ACUEDUCTO</th>\n",
       "      <th>GASODUCTO</th>\n",
       "      <th>OLEODUCTO</th>\n",
       "      <th>OTROS</th>\n",
       "      <th>POLIDUCTO</th>\n",
       "      <th>All</th>\n",
       "    </tr>\n",
       "  </thead>\n",
       "  <tbody>\n",
       "    <tr>\n",
       "      <th>0</th>\n",
       "      <td>PETROLERA ENTRE LOMAS S.A.</td>\n",
       "      <td>118.152701</td>\n",
       "      <td>202.042264</td>\n",
       "      <td>186.644824</td>\n",
       "      <td>0.000000</td>\n",
       "      <td>0.000000</td>\n",
       "      <td>506.839789</td>\n",
       "    </tr>\n",
       "    <tr>\n",
       "      <th>1</th>\n",
       "      <td>TOTAL AUSTRAL S.A.</td>\n",
       "      <td>4.811562</td>\n",
       "      <td>425.919574</td>\n",
       "      <td>173.003681</td>\n",
       "      <td>4.007238</td>\n",
       "      <td>92.439845</td>\n",
       "      <td>700.181900</td>\n",
       "    </tr>\n",
       "    <tr>\n",
       "      <th>2</th>\n",
       "      <td>CAPEX S.A.</td>\n",
       "      <td>63.077838</td>\n",
       "      <td>87.133580</td>\n",
       "      <td>303.604606</td>\n",
       "      <td>0.000000</td>\n",
       "      <td>399.488792</td>\n",
       "      <td>853.304815</td>\n",
       "    </tr>\n",
       "    <tr>\n",
       "      <th>3</th>\n",
       "      <td>OILSTONE ENERGIA S.A.</td>\n",
       "      <td>290.599075</td>\n",
       "      <td>764.175128</td>\n",
       "      <td>741.236677</td>\n",
       "      <td>0.000000</td>\n",
       "      <td>0.000000</td>\n",
       "      <td>1796.010880</td>\n",
       "    </tr>\n",
       "    <tr>\n",
       "      <th>4</th>\n",
       "      <td>VISTA OIL &amp; GAS ARGENTINA SAU</td>\n",
       "      <td>290.534204</td>\n",
       "      <td>620.848479</td>\n",
       "      <td>931.154510</td>\n",
       "      <td>0.000000</td>\n",
       "      <td>0.000000</td>\n",
       "      <td>1842.537193</td>\n",
       "    </tr>\n",
       "    <tr>\n",
       "      <th>5</th>\n",
       "      <td>PETROBRAS ARGENTINA S.A.</td>\n",
       "      <td>0.000000</td>\n",
       "      <td>752.884137</td>\n",
       "      <td>1082.999753</td>\n",
       "      <td>0.000000</td>\n",
       "      <td>24.566513</td>\n",
       "      <td>1860.450402</td>\n",
       "    </tr>\n",
       "    <tr>\n",
       "      <th>6</th>\n",
       "      <td>CHEVRON ARGENTINA S.R.L.</td>\n",
       "      <td>579.367241</td>\n",
       "      <td>161.103103</td>\n",
       "      <td>1333.368952</td>\n",
       "      <td>0.000000</td>\n",
       "      <td>0.000000</td>\n",
       "      <td>2073.839297</td>\n",
       "    </tr>\n",
       "    <tr>\n",
       "      <th>7</th>\n",
       "      <td>Otros</td>\n",
       "      <td>353.598251</td>\n",
       "      <td>1452.095866</td>\n",
       "      <td>1586.549930</td>\n",
       "      <td>295.955159</td>\n",
       "      <td>112.018391</td>\n",
       "      <td>3800.217597</td>\n",
       "    </tr>\n",
       "    <tr>\n",
       "      <th>8</th>\n",
       "      <td>TECPETROL S.A.</td>\n",
       "      <td>694.404638</td>\n",
       "      <td>1297.304333</td>\n",
       "      <td>1858.782047</td>\n",
       "      <td>56.070616</td>\n",
       "      <td>120.448344</td>\n",
       "      <td>4027.009978</td>\n",
       "    </tr>\n",
       "    <tr>\n",
       "      <th>9</th>\n",
       "      <td>PLUSPETROL S.A.</td>\n",
       "      <td>1228.829532</td>\n",
       "      <td>1404.666751</td>\n",
       "      <td>1831.484114</td>\n",
       "      <td>0.000000</td>\n",
       "      <td>0.792063</td>\n",
       "      <td>4465.772460</td>\n",
       "    </tr>\n",
       "    <tr>\n",
       "      <th>10</th>\n",
       "      <td>SINOPEC ARGENTINA EXPLORATION AND PRODUCTION, ...</td>\n",
       "      <td>717.954901</td>\n",
       "      <td>1546.931892</td>\n",
       "      <td>3836.608272</td>\n",
       "      <td>0.000000</td>\n",
       "      <td>0.000000</td>\n",
       "      <td>6101.495065</td>\n",
       "    </tr>\n",
       "    <tr>\n",
       "      <th>11</th>\n",
       "      <td>PAN AMERICAN ENERGY (SUCURSAL ARGENTINA) LLC</td>\n",
       "      <td>4866.060808</td>\n",
       "      <td>5264.018899</td>\n",
       "      <td>18061.542565</td>\n",
       "      <td>0.000000</td>\n",
       "      <td>666.379391</td>\n",
       "      <td>28858.001663</td>\n",
       "    </tr>\n",
       "    <tr>\n",
       "      <th>12</th>\n",
       "      <td>YPF S.A.</td>\n",
       "      <td>10679.666304</td>\n",
       "      <td>25000.242268</td>\n",
       "      <td>30318.648313</td>\n",
       "      <td>0.000000</td>\n",
       "      <td>12.478611</td>\n",
       "      <td>66011.035497</td>\n",
       "    </tr>\n",
       "    <tr>\n",
       "      <th>13</th>\n",
       "      <td>All</td>\n",
       "      <td>19887.057056</td>\n",
       "      <td>38979.366275</td>\n",
       "      <td>62245.628244</td>\n",
       "      <td>356.033013</td>\n",
       "      <td>1428.611950</td>\n",
       "      <td>122896.696538</td>\n",
       "    </tr>\n",
       "  </tbody>\n",
       "</table>\n",
       "</div>"
      ],
      "text/plain": [
       "tipo                                 empresa_informante     ACUEDUCTO  \\\n",
       "0                            PETROLERA ENTRE LOMAS S.A.    118.152701   \n",
       "1                                    TOTAL AUSTRAL S.A.      4.811562   \n",
       "2                                            CAPEX S.A.     63.077838   \n",
       "3                                 OILSTONE ENERGIA S.A.    290.599075   \n",
       "4                         VISTA OIL & GAS ARGENTINA SAU    290.534204   \n",
       "5                              PETROBRAS ARGENTINA S.A.      0.000000   \n",
       "6                              CHEVRON ARGENTINA S.R.L.    579.367241   \n",
       "7                                                 Otros    353.598251   \n",
       "8                                        TECPETROL S.A.    694.404638   \n",
       "9                                       PLUSPETROL S.A.   1228.829532   \n",
       "10    SINOPEC ARGENTINA EXPLORATION AND PRODUCTION, ...    717.954901   \n",
       "11         PAN AMERICAN ENERGY (SUCURSAL ARGENTINA) LLC   4866.060808   \n",
       "12                                             YPF S.A.  10679.666304   \n",
       "13                                                  All  19887.057056   \n",
       "\n",
       "tipo     GASODUCTO     OLEODUCTO       OTROS    POLIDUCTO            All  \n",
       "0       202.042264    186.644824    0.000000     0.000000     506.839789  \n",
       "1       425.919574    173.003681    4.007238    92.439845     700.181900  \n",
       "2        87.133580    303.604606    0.000000   399.488792     853.304815  \n",
       "3       764.175128    741.236677    0.000000     0.000000    1796.010880  \n",
       "4       620.848479    931.154510    0.000000     0.000000    1842.537193  \n",
       "5       752.884137   1082.999753    0.000000    24.566513    1860.450402  \n",
       "6       161.103103   1333.368952    0.000000     0.000000    2073.839297  \n",
       "7      1452.095866   1586.549930  295.955159   112.018391    3800.217597  \n",
       "8      1297.304333   1858.782047   56.070616   120.448344    4027.009978  \n",
       "9      1404.666751   1831.484114    0.000000     0.792063    4465.772460  \n",
       "10     1546.931892   3836.608272    0.000000     0.000000    6101.495065  \n",
       "11     5264.018899  18061.542565    0.000000   666.379391   28858.001663  \n",
       "12    25000.242268  30318.648313    0.000000    12.478611   66011.035497  \n",
       "13    38979.366275  62245.628244  356.033013  1428.611950  122896.696538  "
      ]
     },
     "execution_count": 6,
     "metadata": {},
     "output_type": "execute_result"
    }
   ],
   "source": [
    "ultima_empresa_tipo"
   ]
  },
  {
   "cell_type": "code",
   "execution_count": 25,
   "id": "e0c5dbe9",
   "metadata": {},
   "outputs": [
    {
     "data": {
      "application/vnd.plotly.v1+json": {
       "config": {
        "plotlyServerURL": "https://plot.ly"
       },
       "data": [
        {
         "alignmentgroup": "True",
         "hovertemplate": "variable=ACUEDUCTO<br>value=%{x}<br>y=%{y}<extra></extra>",
         "legendgroup": "ACUEDUCTO",
         "marker": {
          "color": "#636efa",
          "pattern": {
           "shape": ""
          }
         },
         "name": "ACUEDUCTO",
         "offsetgroup": "ACUEDUCTO",
         "orientation": "h",
         "showlegend": true,
         "textposition": "auto",
         "type": "bar",
         "x": [
          118.15270113036152,
          4.811562098001144,
          63.07783754910265,
          290.5990751587799,
          290.5342038368044,
          0,
          579.3672414150501,
          353.5982512108625,
          694.4046377768092,
          1228.8295316464794,
          717.9549012594285,
          4866.060808431094,
          10679.666304462617
         ],
         "xaxis": "x",
         "y": [
          "PETROLERA ENTRE LOMAS S.A.",
          "TOTAL AUSTRAL S.A.",
          "CAPEX S.A.",
          "OILSTONE ENERGIA S.A.",
          "VISTA OIL & GAS ARGENTINA SAU",
          "PETROBRAS ARGENTINA S.A.",
          "CHEVRON ARGENTINA S.R.L.",
          "Otros",
          "TECPETROL S.A.",
          "PLUSPETROL S.A.",
          "SINOPEC ARGENTINA EXPLORATION AND PRODUCTION, INC.",
          "PAN AMERICAN ENERGY (SUCURSAL ARGENTINA) LLC",
          "YPF S.A."
         ],
         "yaxis": "y"
        },
        {
         "alignmentgroup": "True",
         "hovertemplate": "variable=GASODUCTO<br>value=%{x}<br>y=%{y}<extra></extra>",
         "legendgroup": "GASODUCTO",
         "marker": {
          "color": "#EF553B",
          "pattern": {
           "shape": ""
          }
         },
         "name": "GASODUCTO",
         "offsetgroup": "GASODUCTO",
         "orientation": "h",
         "showlegend": true,
         "textposition": "auto",
         "type": "bar",
         "x": [
          202.04226403917426,
          425.91957358993335,
          87.13358001781498,
          764.1751275914137,
          620.8484794506132,
          752.8841367101801,
          161.10310311426798,
          1452.0958662093326,
          1297.3043334905644,
          1404.6667514833705,
          1546.9318917223575,
          5264.018898982313,
          25000.242268363207
         ],
         "xaxis": "x",
         "y": [
          "PETROLERA ENTRE LOMAS S.A.",
          "TOTAL AUSTRAL S.A.",
          "CAPEX S.A.",
          "OILSTONE ENERGIA S.A.",
          "VISTA OIL & GAS ARGENTINA SAU",
          "PETROBRAS ARGENTINA S.A.",
          "CHEVRON ARGENTINA S.R.L.",
          "Otros",
          "TECPETROL S.A.",
          "PLUSPETROL S.A.",
          "SINOPEC ARGENTINA EXPLORATION AND PRODUCTION, INC.",
          "PAN AMERICAN ENERGY (SUCURSAL ARGENTINA) LLC",
          "YPF S.A."
         ],
         "yaxis": "y"
        },
        {
         "alignmentgroup": "True",
         "hovertemplate": "variable=OLEODUCTO<br>value=%{x}<br>y=%{y}<extra></extra>",
         "legendgroup": "OLEODUCTO",
         "marker": {
          "color": "#00cc96",
          "pattern": {
           "shape": ""
          }
         },
         "name": "OLEODUCTO",
         "offsetgroup": "OLEODUCTO",
         "orientation": "h",
         "showlegend": true,
         "textposition": "auto",
         "type": "bar",
         "x": [
          186.6448240027739,
          173.00368147300438,
          303.60460573665443,
          741.2366773375564,
          931.1545097204018,
          1082.9997528190404,
          1333.368952485546,
          1586.5499299692726,
          1858.7820469533656,
          1831.484114122986,
          3836.608272417189,
          18061.54256450593,
          30318.64831260955
         ],
         "xaxis": "x",
         "y": [
          "PETROLERA ENTRE LOMAS S.A.",
          "TOTAL AUSTRAL S.A.",
          "CAPEX S.A.",
          "OILSTONE ENERGIA S.A.",
          "VISTA OIL & GAS ARGENTINA SAU",
          "PETROBRAS ARGENTINA S.A.",
          "CHEVRON ARGENTINA S.R.L.",
          "Otros",
          "TECPETROL S.A.",
          "PLUSPETROL S.A.",
          "SINOPEC ARGENTINA EXPLORATION AND PRODUCTION, INC.",
          "PAN AMERICAN ENERGY (SUCURSAL ARGENTINA) LLC",
          "YPF S.A."
         ],
         "yaxis": "y"
        },
        {
         "alignmentgroup": "True",
         "hovertemplate": "variable=OTROS<br>value=%{x}<br>y=%{y}<extra></extra>",
         "legendgroup": "OTROS",
         "marker": {
          "color": "#ab63fa",
          "pattern": {
           "shape": ""
          }
         },
         "name": "OTROS",
         "offsetgroup": "OTROS",
         "orientation": "h",
         "showlegend": true,
         "textposition": "auto",
         "type": "bar",
         "x": [
          0,
          4.007238155729522,
          0,
          0,
          0,
          0,
          0,
          295.9551588642769,
          56.07061585422549,
          0,
          0,
          0,
          0
         ],
         "xaxis": "x",
         "y": [
          "PETROLERA ENTRE LOMAS S.A.",
          "TOTAL AUSTRAL S.A.",
          "CAPEX S.A.",
          "OILSTONE ENERGIA S.A.",
          "VISTA OIL & GAS ARGENTINA SAU",
          "PETROBRAS ARGENTINA S.A.",
          "CHEVRON ARGENTINA S.R.L.",
          "Otros",
          "TECPETROL S.A.",
          "PLUSPETROL S.A.",
          "SINOPEC ARGENTINA EXPLORATION AND PRODUCTION, INC.",
          "PAN AMERICAN ENERGY (SUCURSAL ARGENTINA) LLC",
          "YPF S.A."
         ],
         "yaxis": "y"
        },
        {
         "alignmentgroup": "True",
         "hovertemplate": "variable=POLIDUCTO<br>value=%{x}<br>y=%{y}<extra></extra>",
         "legendgroup": "POLIDUCTO",
         "marker": {
          "color": "#FFA15A",
          "pattern": {
           "shape": ""
          }
         },
         "name": "POLIDUCTO",
         "offsetgroup": "POLIDUCTO",
         "orientation": "h",
         "showlegend": true,
         "textposition": "auto",
         "type": "bar",
         "x": [
          0,
          92.43984502345457,
          399.4887920843688,
          0,
          0,
          24.566512969733154,
          0,
          112.01839071485966,
          120.44834375201269,
          0.7920627863943717,
          0,
          666.3793912355965,
          12.478611180164505
         ],
         "xaxis": "x",
         "y": [
          "PETROLERA ENTRE LOMAS S.A.",
          "TOTAL AUSTRAL S.A.",
          "CAPEX S.A.",
          "OILSTONE ENERGIA S.A.",
          "VISTA OIL & GAS ARGENTINA SAU",
          "PETROBRAS ARGENTINA S.A.",
          "CHEVRON ARGENTINA S.R.L.",
          "Otros",
          "TECPETROL S.A.",
          "PLUSPETROL S.A.",
          "SINOPEC ARGENTINA EXPLORATION AND PRODUCTION, INC.",
          "PAN AMERICAN ENERGY (SUCURSAL ARGENTINA) LLC",
          "YPF S.A."
         ],
         "yaxis": "y"
        }
       ],
       "layout": {
        "barmode": "stack",
        "height": 600,
        "legend": {
         "title": {
          "text": "variable"
         },
         "tracegroupgap": 0
        },
        "margin": {
         "t": 60
        },
        "template": {
         "data": {
          "bar": [
           {
            "error_x": {
             "color": "#2a3f5f"
            },
            "error_y": {
             "color": "#2a3f5f"
            },
            "marker": {
             "line": {
              "color": "#E5ECF6",
              "width": 0.5
             },
             "pattern": {
              "fillmode": "overlay",
              "size": 10,
              "solidity": 0.2
             }
            },
            "type": "bar"
           }
          ],
          "barpolar": [
           {
            "marker": {
             "line": {
              "color": "#E5ECF6",
              "width": 0.5
             },
             "pattern": {
              "fillmode": "overlay",
              "size": 10,
              "solidity": 0.2
             }
            },
            "type": "barpolar"
           }
          ],
          "carpet": [
           {
            "aaxis": {
             "endlinecolor": "#2a3f5f",
             "gridcolor": "white",
             "linecolor": "white",
             "minorgridcolor": "white",
             "startlinecolor": "#2a3f5f"
            },
            "baxis": {
             "endlinecolor": "#2a3f5f",
             "gridcolor": "white",
             "linecolor": "white",
             "minorgridcolor": "white",
             "startlinecolor": "#2a3f5f"
            },
            "type": "carpet"
           }
          ],
          "choropleth": [
           {
            "colorbar": {
             "outlinewidth": 0,
             "ticks": ""
            },
            "type": "choropleth"
           }
          ],
          "contour": [
           {
            "colorbar": {
             "outlinewidth": 0,
             "ticks": ""
            },
            "colorscale": [
             [
              0,
              "#0d0887"
             ],
             [
              0.1111111111111111,
              "#46039f"
             ],
             [
              0.2222222222222222,
              "#7201a8"
             ],
             [
              0.3333333333333333,
              "#9c179e"
             ],
             [
              0.4444444444444444,
              "#bd3786"
             ],
             [
              0.5555555555555556,
              "#d8576b"
             ],
             [
              0.6666666666666666,
              "#ed7953"
             ],
             [
              0.7777777777777778,
              "#fb9f3a"
             ],
             [
              0.8888888888888888,
              "#fdca26"
             ],
             [
              1,
              "#f0f921"
             ]
            ],
            "type": "contour"
           }
          ],
          "contourcarpet": [
           {
            "colorbar": {
             "outlinewidth": 0,
             "ticks": ""
            },
            "type": "contourcarpet"
           }
          ],
          "heatmap": [
           {
            "colorbar": {
             "outlinewidth": 0,
             "ticks": ""
            },
            "colorscale": [
             [
              0,
              "#0d0887"
             ],
             [
              0.1111111111111111,
              "#46039f"
             ],
             [
              0.2222222222222222,
              "#7201a8"
             ],
             [
              0.3333333333333333,
              "#9c179e"
             ],
             [
              0.4444444444444444,
              "#bd3786"
             ],
             [
              0.5555555555555556,
              "#d8576b"
             ],
             [
              0.6666666666666666,
              "#ed7953"
             ],
             [
              0.7777777777777778,
              "#fb9f3a"
             ],
             [
              0.8888888888888888,
              "#fdca26"
             ],
             [
              1,
              "#f0f921"
             ]
            ],
            "type": "heatmap"
           }
          ],
          "heatmapgl": [
           {
            "colorbar": {
             "outlinewidth": 0,
             "ticks": ""
            },
            "colorscale": [
             [
              0,
              "#0d0887"
             ],
             [
              0.1111111111111111,
              "#46039f"
             ],
             [
              0.2222222222222222,
              "#7201a8"
             ],
             [
              0.3333333333333333,
              "#9c179e"
             ],
             [
              0.4444444444444444,
              "#bd3786"
             ],
             [
              0.5555555555555556,
              "#d8576b"
             ],
             [
              0.6666666666666666,
              "#ed7953"
             ],
             [
              0.7777777777777778,
              "#fb9f3a"
             ],
             [
              0.8888888888888888,
              "#fdca26"
             ],
             [
              1,
              "#f0f921"
             ]
            ],
            "type": "heatmapgl"
           }
          ],
          "histogram": [
           {
            "marker": {
             "pattern": {
              "fillmode": "overlay",
              "size": 10,
              "solidity": 0.2
             }
            },
            "type": "histogram"
           }
          ],
          "histogram2d": [
           {
            "colorbar": {
             "outlinewidth": 0,
             "ticks": ""
            },
            "colorscale": [
             [
              0,
              "#0d0887"
             ],
             [
              0.1111111111111111,
              "#46039f"
             ],
             [
              0.2222222222222222,
              "#7201a8"
             ],
             [
              0.3333333333333333,
              "#9c179e"
             ],
             [
              0.4444444444444444,
              "#bd3786"
             ],
             [
              0.5555555555555556,
              "#d8576b"
             ],
             [
              0.6666666666666666,
              "#ed7953"
             ],
             [
              0.7777777777777778,
              "#fb9f3a"
             ],
             [
              0.8888888888888888,
              "#fdca26"
             ],
             [
              1,
              "#f0f921"
             ]
            ],
            "type": "histogram2d"
           }
          ],
          "histogram2dcontour": [
           {
            "colorbar": {
             "outlinewidth": 0,
             "ticks": ""
            },
            "colorscale": [
             [
              0,
              "#0d0887"
             ],
             [
              0.1111111111111111,
              "#46039f"
             ],
             [
              0.2222222222222222,
              "#7201a8"
             ],
             [
              0.3333333333333333,
              "#9c179e"
             ],
             [
              0.4444444444444444,
              "#bd3786"
             ],
             [
              0.5555555555555556,
              "#d8576b"
             ],
             [
              0.6666666666666666,
              "#ed7953"
             ],
             [
              0.7777777777777778,
              "#fb9f3a"
             ],
             [
              0.8888888888888888,
              "#fdca26"
             ],
             [
              1,
              "#f0f921"
             ]
            ],
            "type": "histogram2dcontour"
           }
          ],
          "mesh3d": [
           {
            "colorbar": {
             "outlinewidth": 0,
             "ticks": ""
            },
            "type": "mesh3d"
           }
          ],
          "parcoords": [
           {
            "line": {
             "colorbar": {
              "outlinewidth": 0,
              "ticks": ""
             }
            },
            "type": "parcoords"
           }
          ],
          "pie": [
           {
            "automargin": true,
            "type": "pie"
           }
          ],
          "scatter": [
           {
            "fillpattern": {
             "fillmode": "overlay",
             "size": 10,
             "solidity": 0.2
            },
            "type": "scatter"
           }
          ],
          "scatter3d": [
           {
            "line": {
             "colorbar": {
              "outlinewidth": 0,
              "ticks": ""
             }
            },
            "marker": {
             "colorbar": {
              "outlinewidth": 0,
              "ticks": ""
             }
            },
            "type": "scatter3d"
           }
          ],
          "scattercarpet": [
           {
            "marker": {
             "colorbar": {
              "outlinewidth": 0,
              "ticks": ""
             }
            },
            "type": "scattercarpet"
           }
          ],
          "scattergeo": [
           {
            "marker": {
             "colorbar": {
              "outlinewidth": 0,
              "ticks": ""
             }
            },
            "type": "scattergeo"
           }
          ],
          "scattergl": [
           {
            "marker": {
             "colorbar": {
              "outlinewidth": 0,
              "ticks": ""
             }
            },
            "type": "scattergl"
           }
          ],
          "scattermapbox": [
           {
            "marker": {
             "colorbar": {
              "outlinewidth": 0,
              "ticks": ""
             }
            },
            "type": "scattermapbox"
           }
          ],
          "scatterpolar": [
           {
            "marker": {
             "colorbar": {
              "outlinewidth": 0,
              "ticks": ""
             }
            },
            "type": "scatterpolar"
           }
          ],
          "scatterpolargl": [
           {
            "marker": {
             "colorbar": {
              "outlinewidth": 0,
              "ticks": ""
             }
            },
            "type": "scatterpolargl"
           }
          ],
          "scatterternary": [
           {
            "marker": {
             "colorbar": {
              "outlinewidth": 0,
              "ticks": ""
             }
            },
            "type": "scatterternary"
           }
          ],
          "surface": [
           {
            "colorbar": {
             "outlinewidth": 0,
             "ticks": ""
            },
            "colorscale": [
             [
              0,
              "#0d0887"
             ],
             [
              0.1111111111111111,
              "#46039f"
             ],
             [
              0.2222222222222222,
              "#7201a8"
             ],
             [
              0.3333333333333333,
              "#9c179e"
             ],
             [
              0.4444444444444444,
              "#bd3786"
             ],
             [
              0.5555555555555556,
              "#d8576b"
             ],
             [
              0.6666666666666666,
              "#ed7953"
             ],
             [
              0.7777777777777778,
              "#fb9f3a"
             ],
             [
              0.8888888888888888,
              "#fdca26"
             ],
             [
              1,
              "#f0f921"
             ]
            ],
            "type": "surface"
           }
          ],
          "table": [
           {
            "cells": {
             "fill": {
              "color": "#EBF0F8"
             },
             "line": {
              "color": "white"
             }
            },
            "header": {
             "fill": {
              "color": "#C8D4E3"
             },
             "line": {
              "color": "white"
             }
            },
            "type": "table"
           }
          ]
         },
         "layout": {
          "annotationdefaults": {
           "arrowcolor": "#2a3f5f",
           "arrowhead": 0,
           "arrowwidth": 1
          },
          "autotypenumbers": "strict",
          "coloraxis": {
           "colorbar": {
            "outlinewidth": 0,
            "ticks": ""
           }
          },
          "colorscale": {
           "diverging": [
            [
             0,
             "#8e0152"
            ],
            [
             0.1,
             "#c51b7d"
            ],
            [
             0.2,
             "#de77ae"
            ],
            [
             0.3,
             "#f1b6da"
            ],
            [
             0.4,
             "#fde0ef"
            ],
            [
             0.5,
             "#f7f7f7"
            ],
            [
             0.6,
             "#e6f5d0"
            ],
            [
             0.7,
             "#b8e186"
            ],
            [
             0.8,
             "#7fbc41"
            ],
            [
             0.9,
             "#4d9221"
            ],
            [
             1,
             "#276419"
            ]
           ],
           "sequential": [
            [
             0,
             "#0d0887"
            ],
            [
             0.1111111111111111,
             "#46039f"
            ],
            [
             0.2222222222222222,
             "#7201a8"
            ],
            [
             0.3333333333333333,
             "#9c179e"
            ],
            [
             0.4444444444444444,
             "#bd3786"
            ],
            [
             0.5555555555555556,
             "#d8576b"
            ],
            [
             0.6666666666666666,
             "#ed7953"
            ],
            [
             0.7777777777777778,
             "#fb9f3a"
            ],
            [
             0.8888888888888888,
             "#fdca26"
            ],
            [
             1,
             "#f0f921"
            ]
           ],
           "sequentialminus": [
            [
             0,
             "#0d0887"
            ],
            [
             0.1111111111111111,
             "#46039f"
            ],
            [
             0.2222222222222222,
             "#7201a8"
            ],
            [
             0.3333333333333333,
             "#9c179e"
            ],
            [
             0.4444444444444444,
             "#bd3786"
            ],
            [
             0.5555555555555556,
             "#d8576b"
            ],
            [
             0.6666666666666666,
             "#ed7953"
            ],
            [
             0.7777777777777778,
             "#fb9f3a"
            ],
            [
             0.8888888888888888,
             "#fdca26"
            ],
            [
             1,
             "#f0f921"
            ]
           ]
          },
          "colorway": [
           "#636efa",
           "#EF553B",
           "#00cc96",
           "#ab63fa",
           "#FFA15A",
           "#19d3f3",
           "#FF6692",
           "#B6E880",
           "#FF97FF",
           "#FECB52"
          ],
          "font": {
           "color": "#2a3f5f"
          },
          "geo": {
           "bgcolor": "white",
           "lakecolor": "white",
           "landcolor": "#E5ECF6",
           "showlakes": true,
           "showland": true,
           "subunitcolor": "white"
          },
          "hoverlabel": {
           "align": "left"
          },
          "hovermode": "closest",
          "mapbox": {
           "style": "light"
          },
          "paper_bgcolor": "white",
          "plot_bgcolor": "#E5ECF6",
          "polar": {
           "angularaxis": {
            "gridcolor": "white",
            "linecolor": "white",
            "ticks": ""
           },
           "bgcolor": "#E5ECF6",
           "radialaxis": {
            "gridcolor": "white",
            "linecolor": "white",
            "ticks": ""
           }
          },
          "scene": {
           "xaxis": {
            "backgroundcolor": "#E5ECF6",
            "gridcolor": "white",
            "gridwidth": 2,
            "linecolor": "white",
            "showbackground": true,
            "ticks": "",
            "zerolinecolor": "white"
           },
           "yaxis": {
            "backgroundcolor": "#E5ECF6",
            "gridcolor": "white",
            "gridwidth": 2,
            "linecolor": "white",
            "showbackground": true,
            "ticks": "",
            "zerolinecolor": "white"
           },
           "zaxis": {
            "backgroundcolor": "#E5ECF6",
            "gridcolor": "white",
            "gridwidth": 2,
            "linecolor": "white",
            "showbackground": true,
            "ticks": "",
            "zerolinecolor": "white"
           }
          },
          "shapedefaults": {
           "line": {
            "color": "#2a3f5f"
           }
          },
          "ternary": {
           "aaxis": {
            "gridcolor": "white",
            "linecolor": "white",
            "ticks": ""
           },
           "baxis": {
            "gridcolor": "white",
            "linecolor": "white",
            "ticks": ""
           },
           "bgcolor": "#E5ECF6",
           "caxis": {
            "gridcolor": "white",
            "linecolor": "white",
            "ticks": ""
           }
          },
          "title": {
           "x": 0.05
          },
          "xaxis": {
           "automargin": true,
           "gridcolor": "white",
           "linecolor": "white",
           "ticks": "",
           "title": {
            "standoff": 15
           },
           "zerolinecolor": "white",
           "zerolinewidth": 2
          },
          "yaxis": {
           "automargin": true,
           "gridcolor": "white",
           "linecolor": "white",
           "ticks": "",
           "title": {
            "standoff": 15
           },
           "zerolinecolor": "white",
           "zerolinewidth": 2
          }
         }
        },
        "title": {
         "text": "Longitud de ductos por Empresa y Tipo"
        },
        "xaxis": {
         "anchor": "y",
         "domain": [
          0,
          1
         ],
         "tickformat": ".0f",
         "title": {
          "text": "Kilómetros"
         }
        },
        "yaxis": {
         "anchor": "x",
         "domain": [
          0,
          1
         ],
         "title": {
          "text": "Empresa Informante"
         }
        }
       }
      },
      "text/html": [
       "<div>                            <div id=\"cacf4e01-1e07-4ef6-ab2b-67954b9e9d66\" class=\"plotly-graph-div\" style=\"height:600px; width:100%;\"></div>            <script type=\"text/javascript\">                require([\"plotly\"], function(Plotly) {                    window.PLOTLYENV=window.PLOTLYENV || {};                                    if (document.getElementById(\"cacf4e01-1e07-4ef6-ab2b-67954b9e9d66\")) {                    Plotly.newPlot(                        \"cacf4e01-1e07-4ef6-ab2b-67954b9e9d66\",                        [{\"alignmentgroup\":\"True\",\"hovertemplate\":\"variable=ACUEDUCTO<br>value=%{x}<br>y=%{y}<extra></extra>\",\"legendgroup\":\"ACUEDUCTO\",\"marker\":{\"color\":\"#636efa\",\"pattern\":{\"shape\":\"\"}},\"name\":\"ACUEDUCTO\",\"offsetgroup\":\"ACUEDUCTO\",\"orientation\":\"h\",\"showlegend\":true,\"textposition\":\"auto\",\"x\":[118.15270113036152,4.811562098001144,63.07783754910265,290.5990751587799,290.5342038368044,0.0,579.3672414150501,353.5982512108625,694.4046377768092,1228.8295316464794,717.9549012594285,4866.060808431094,10679.666304462617],\"xaxis\":\"x\",\"y\":[\"PETROLERA ENTRE LOMAS S.A.\",\"TOTAL AUSTRAL S.A.\",\"CAPEX S.A.\",\"OILSTONE ENERGIA S.A.\",\"VISTA OIL & GAS ARGENTINA SAU\",\"PETROBRAS ARGENTINA S.A.\",\"CHEVRON ARGENTINA S.R.L.\",\"Otros\",\"TECPETROL S.A.\",\"PLUSPETROL S.A.\",\"SINOPEC ARGENTINA EXPLORATION AND PRODUCTION, INC.\",\"PAN AMERICAN ENERGY (SUCURSAL ARGENTINA) LLC\",\"YPF S.A.\"],\"yaxis\":\"y\",\"type\":\"bar\"},{\"alignmentgroup\":\"True\",\"hovertemplate\":\"variable=GASODUCTO<br>value=%{x}<br>y=%{y}<extra></extra>\",\"legendgroup\":\"GASODUCTO\",\"marker\":{\"color\":\"#EF553B\",\"pattern\":{\"shape\":\"\"}},\"name\":\"GASODUCTO\",\"offsetgroup\":\"GASODUCTO\",\"orientation\":\"h\",\"showlegend\":true,\"textposition\":\"auto\",\"x\":[202.04226403917426,425.91957358993335,87.13358001781498,764.1751275914137,620.8484794506132,752.8841367101801,161.10310311426798,1452.0958662093326,1297.3043334905644,1404.6667514833705,1546.9318917223575,5264.018898982313,25000.242268363207],\"xaxis\":\"x\",\"y\":[\"PETROLERA ENTRE LOMAS S.A.\",\"TOTAL AUSTRAL S.A.\",\"CAPEX S.A.\",\"OILSTONE ENERGIA S.A.\",\"VISTA OIL & GAS ARGENTINA SAU\",\"PETROBRAS ARGENTINA S.A.\",\"CHEVRON ARGENTINA S.R.L.\",\"Otros\",\"TECPETROL S.A.\",\"PLUSPETROL S.A.\",\"SINOPEC ARGENTINA EXPLORATION AND PRODUCTION, INC.\",\"PAN AMERICAN ENERGY (SUCURSAL ARGENTINA) LLC\",\"YPF S.A.\"],\"yaxis\":\"y\",\"type\":\"bar\"},{\"alignmentgroup\":\"True\",\"hovertemplate\":\"variable=OLEODUCTO<br>value=%{x}<br>y=%{y}<extra></extra>\",\"legendgroup\":\"OLEODUCTO\",\"marker\":{\"color\":\"#00cc96\",\"pattern\":{\"shape\":\"\"}},\"name\":\"OLEODUCTO\",\"offsetgroup\":\"OLEODUCTO\",\"orientation\":\"h\",\"showlegend\":true,\"textposition\":\"auto\",\"x\":[186.6448240027739,173.00368147300438,303.60460573665443,741.2366773375564,931.1545097204018,1082.9997528190404,1333.368952485546,1586.5499299692726,1858.7820469533656,1831.484114122986,3836.608272417189,18061.54256450593,30318.64831260955],\"xaxis\":\"x\",\"y\":[\"PETROLERA ENTRE LOMAS S.A.\",\"TOTAL AUSTRAL S.A.\",\"CAPEX S.A.\",\"OILSTONE ENERGIA S.A.\",\"VISTA OIL & GAS ARGENTINA SAU\",\"PETROBRAS ARGENTINA S.A.\",\"CHEVRON ARGENTINA S.R.L.\",\"Otros\",\"TECPETROL S.A.\",\"PLUSPETROL S.A.\",\"SINOPEC ARGENTINA EXPLORATION AND PRODUCTION, INC.\",\"PAN AMERICAN ENERGY (SUCURSAL ARGENTINA) LLC\",\"YPF S.A.\"],\"yaxis\":\"y\",\"type\":\"bar\"},{\"alignmentgroup\":\"True\",\"hovertemplate\":\"variable=OTROS<br>value=%{x}<br>y=%{y}<extra></extra>\",\"legendgroup\":\"OTROS\",\"marker\":{\"color\":\"#ab63fa\",\"pattern\":{\"shape\":\"\"}},\"name\":\"OTROS\",\"offsetgroup\":\"OTROS\",\"orientation\":\"h\",\"showlegend\":true,\"textposition\":\"auto\",\"x\":[0.0,4.007238155729522,0.0,0.0,0.0,0.0,0.0,295.9551588642769,56.07061585422549,0.0,0.0,0.0,0.0],\"xaxis\":\"x\",\"y\":[\"PETROLERA ENTRE LOMAS S.A.\",\"TOTAL AUSTRAL S.A.\",\"CAPEX S.A.\",\"OILSTONE ENERGIA S.A.\",\"VISTA OIL & GAS ARGENTINA SAU\",\"PETROBRAS ARGENTINA S.A.\",\"CHEVRON ARGENTINA S.R.L.\",\"Otros\",\"TECPETROL S.A.\",\"PLUSPETROL S.A.\",\"SINOPEC ARGENTINA EXPLORATION AND PRODUCTION, INC.\",\"PAN AMERICAN ENERGY (SUCURSAL ARGENTINA) LLC\",\"YPF S.A.\"],\"yaxis\":\"y\",\"type\":\"bar\"},{\"alignmentgroup\":\"True\",\"hovertemplate\":\"variable=POLIDUCTO<br>value=%{x}<br>y=%{y}<extra></extra>\",\"legendgroup\":\"POLIDUCTO\",\"marker\":{\"color\":\"#FFA15A\",\"pattern\":{\"shape\":\"\"}},\"name\":\"POLIDUCTO\",\"offsetgroup\":\"POLIDUCTO\",\"orientation\":\"h\",\"showlegend\":true,\"textposition\":\"auto\",\"x\":[0.0,92.43984502345457,399.4887920843688,0.0,0.0,24.566512969733154,0.0,112.01839071485966,120.44834375201269,0.7920627863943717,0.0,666.3793912355965,12.478611180164505],\"xaxis\":\"x\",\"y\":[\"PETROLERA ENTRE LOMAS S.A.\",\"TOTAL AUSTRAL S.A.\",\"CAPEX S.A.\",\"OILSTONE ENERGIA S.A.\",\"VISTA OIL & GAS ARGENTINA SAU\",\"PETROBRAS ARGENTINA S.A.\",\"CHEVRON ARGENTINA S.R.L.\",\"Otros\",\"TECPETROL S.A.\",\"PLUSPETROL S.A.\",\"SINOPEC ARGENTINA EXPLORATION AND PRODUCTION, INC.\",\"PAN AMERICAN ENERGY (SUCURSAL ARGENTINA) LLC\",\"YPF S.A.\"],\"yaxis\":\"y\",\"type\":\"bar\"}],                        {\"template\":{\"data\":{\"histogram2dcontour\":[{\"type\":\"histogram2dcontour\",\"colorbar\":{\"outlinewidth\":0,\"ticks\":\"\"},\"colorscale\":[[0.0,\"#0d0887\"],[0.1111111111111111,\"#46039f\"],[0.2222222222222222,\"#7201a8\"],[0.3333333333333333,\"#9c179e\"],[0.4444444444444444,\"#bd3786\"],[0.5555555555555556,\"#d8576b\"],[0.6666666666666666,\"#ed7953\"],[0.7777777777777778,\"#fb9f3a\"],[0.8888888888888888,\"#fdca26\"],[1.0,\"#f0f921\"]]}],\"choropleth\":[{\"type\":\"choropleth\",\"colorbar\":{\"outlinewidth\":0,\"ticks\":\"\"}}],\"histogram2d\":[{\"type\":\"histogram2d\",\"colorbar\":{\"outlinewidth\":0,\"ticks\":\"\"},\"colorscale\":[[0.0,\"#0d0887\"],[0.1111111111111111,\"#46039f\"],[0.2222222222222222,\"#7201a8\"],[0.3333333333333333,\"#9c179e\"],[0.4444444444444444,\"#bd3786\"],[0.5555555555555556,\"#d8576b\"],[0.6666666666666666,\"#ed7953\"],[0.7777777777777778,\"#fb9f3a\"],[0.8888888888888888,\"#fdca26\"],[1.0,\"#f0f921\"]]}],\"heatmap\":[{\"type\":\"heatmap\",\"colorbar\":{\"outlinewidth\":0,\"ticks\":\"\"},\"colorscale\":[[0.0,\"#0d0887\"],[0.1111111111111111,\"#46039f\"],[0.2222222222222222,\"#7201a8\"],[0.3333333333333333,\"#9c179e\"],[0.4444444444444444,\"#bd3786\"],[0.5555555555555556,\"#d8576b\"],[0.6666666666666666,\"#ed7953\"],[0.7777777777777778,\"#fb9f3a\"],[0.8888888888888888,\"#fdca26\"],[1.0,\"#f0f921\"]]}],\"heatmapgl\":[{\"type\":\"heatmapgl\",\"colorbar\":{\"outlinewidth\":0,\"ticks\":\"\"},\"colorscale\":[[0.0,\"#0d0887\"],[0.1111111111111111,\"#46039f\"],[0.2222222222222222,\"#7201a8\"],[0.3333333333333333,\"#9c179e\"],[0.4444444444444444,\"#bd3786\"],[0.5555555555555556,\"#d8576b\"],[0.6666666666666666,\"#ed7953\"],[0.7777777777777778,\"#fb9f3a\"],[0.8888888888888888,\"#fdca26\"],[1.0,\"#f0f921\"]]}],\"contourcarpet\":[{\"type\":\"contourcarpet\",\"colorbar\":{\"outlinewidth\":0,\"ticks\":\"\"}}],\"contour\":[{\"type\":\"contour\",\"colorbar\":{\"outlinewidth\":0,\"ticks\":\"\"},\"colorscale\":[[0.0,\"#0d0887\"],[0.1111111111111111,\"#46039f\"],[0.2222222222222222,\"#7201a8\"],[0.3333333333333333,\"#9c179e\"],[0.4444444444444444,\"#bd3786\"],[0.5555555555555556,\"#d8576b\"],[0.6666666666666666,\"#ed7953\"],[0.7777777777777778,\"#fb9f3a\"],[0.8888888888888888,\"#fdca26\"],[1.0,\"#f0f921\"]]}],\"surface\":[{\"type\":\"surface\",\"colorbar\":{\"outlinewidth\":0,\"ticks\":\"\"},\"colorscale\":[[0.0,\"#0d0887\"],[0.1111111111111111,\"#46039f\"],[0.2222222222222222,\"#7201a8\"],[0.3333333333333333,\"#9c179e\"],[0.4444444444444444,\"#bd3786\"],[0.5555555555555556,\"#d8576b\"],[0.6666666666666666,\"#ed7953\"],[0.7777777777777778,\"#fb9f3a\"],[0.8888888888888888,\"#fdca26\"],[1.0,\"#f0f921\"]]}],\"mesh3d\":[{\"type\":\"mesh3d\",\"colorbar\":{\"outlinewidth\":0,\"ticks\":\"\"}}],\"scatter\":[{\"fillpattern\":{\"fillmode\":\"overlay\",\"size\":10,\"solidity\":0.2},\"type\":\"scatter\"}],\"parcoords\":[{\"type\":\"parcoords\",\"line\":{\"colorbar\":{\"outlinewidth\":0,\"ticks\":\"\"}}}],\"scatterpolargl\":[{\"type\":\"scatterpolargl\",\"marker\":{\"colorbar\":{\"outlinewidth\":0,\"ticks\":\"\"}}}],\"bar\":[{\"error_x\":{\"color\":\"#2a3f5f\"},\"error_y\":{\"color\":\"#2a3f5f\"},\"marker\":{\"line\":{\"color\":\"#E5ECF6\",\"width\":0.5},\"pattern\":{\"fillmode\":\"overlay\",\"size\":10,\"solidity\":0.2}},\"type\":\"bar\"}],\"scattergeo\":[{\"type\":\"scattergeo\",\"marker\":{\"colorbar\":{\"outlinewidth\":0,\"ticks\":\"\"}}}],\"scatterpolar\":[{\"type\":\"scatterpolar\",\"marker\":{\"colorbar\":{\"outlinewidth\":0,\"ticks\":\"\"}}}],\"histogram\":[{\"marker\":{\"pattern\":{\"fillmode\":\"overlay\",\"size\":10,\"solidity\":0.2}},\"type\":\"histogram\"}],\"scattergl\":[{\"type\":\"scattergl\",\"marker\":{\"colorbar\":{\"outlinewidth\":0,\"ticks\":\"\"}}}],\"scatter3d\":[{\"type\":\"scatter3d\",\"line\":{\"colorbar\":{\"outlinewidth\":0,\"ticks\":\"\"}},\"marker\":{\"colorbar\":{\"outlinewidth\":0,\"ticks\":\"\"}}}],\"scattermapbox\":[{\"type\":\"scattermapbox\",\"marker\":{\"colorbar\":{\"outlinewidth\":0,\"ticks\":\"\"}}}],\"scatterternary\":[{\"type\":\"scatterternary\",\"marker\":{\"colorbar\":{\"outlinewidth\":0,\"ticks\":\"\"}}}],\"scattercarpet\":[{\"type\":\"scattercarpet\",\"marker\":{\"colorbar\":{\"outlinewidth\":0,\"ticks\":\"\"}}}],\"carpet\":[{\"aaxis\":{\"endlinecolor\":\"#2a3f5f\",\"gridcolor\":\"white\",\"linecolor\":\"white\",\"minorgridcolor\":\"white\",\"startlinecolor\":\"#2a3f5f\"},\"baxis\":{\"endlinecolor\":\"#2a3f5f\",\"gridcolor\":\"white\",\"linecolor\":\"white\",\"minorgridcolor\":\"white\",\"startlinecolor\":\"#2a3f5f\"},\"type\":\"carpet\"}],\"table\":[{\"cells\":{\"fill\":{\"color\":\"#EBF0F8\"},\"line\":{\"color\":\"white\"}},\"header\":{\"fill\":{\"color\":\"#C8D4E3\"},\"line\":{\"color\":\"white\"}},\"type\":\"table\"}],\"barpolar\":[{\"marker\":{\"line\":{\"color\":\"#E5ECF6\",\"width\":0.5},\"pattern\":{\"fillmode\":\"overlay\",\"size\":10,\"solidity\":0.2}},\"type\":\"barpolar\"}],\"pie\":[{\"automargin\":true,\"type\":\"pie\"}]},\"layout\":{\"autotypenumbers\":\"strict\",\"colorway\":[\"#636efa\",\"#EF553B\",\"#00cc96\",\"#ab63fa\",\"#FFA15A\",\"#19d3f3\",\"#FF6692\",\"#B6E880\",\"#FF97FF\",\"#FECB52\"],\"font\":{\"color\":\"#2a3f5f\"},\"hovermode\":\"closest\",\"hoverlabel\":{\"align\":\"left\"},\"paper_bgcolor\":\"white\",\"plot_bgcolor\":\"#E5ECF6\",\"polar\":{\"bgcolor\":\"#E5ECF6\",\"angularaxis\":{\"gridcolor\":\"white\",\"linecolor\":\"white\",\"ticks\":\"\"},\"radialaxis\":{\"gridcolor\":\"white\",\"linecolor\":\"white\",\"ticks\":\"\"}},\"ternary\":{\"bgcolor\":\"#E5ECF6\",\"aaxis\":{\"gridcolor\":\"white\",\"linecolor\":\"white\",\"ticks\":\"\"},\"baxis\":{\"gridcolor\":\"white\",\"linecolor\":\"white\",\"ticks\":\"\"},\"caxis\":{\"gridcolor\":\"white\",\"linecolor\":\"white\",\"ticks\":\"\"}},\"coloraxis\":{\"colorbar\":{\"outlinewidth\":0,\"ticks\":\"\"}},\"colorscale\":{\"sequential\":[[0.0,\"#0d0887\"],[0.1111111111111111,\"#46039f\"],[0.2222222222222222,\"#7201a8\"],[0.3333333333333333,\"#9c179e\"],[0.4444444444444444,\"#bd3786\"],[0.5555555555555556,\"#d8576b\"],[0.6666666666666666,\"#ed7953\"],[0.7777777777777778,\"#fb9f3a\"],[0.8888888888888888,\"#fdca26\"],[1.0,\"#f0f921\"]],\"sequentialminus\":[[0.0,\"#0d0887\"],[0.1111111111111111,\"#46039f\"],[0.2222222222222222,\"#7201a8\"],[0.3333333333333333,\"#9c179e\"],[0.4444444444444444,\"#bd3786\"],[0.5555555555555556,\"#d8576b\"],[0.6666666666666666,\"#ed7953\"],[0.7777777777777778,\"#fb9f3a\"],[0.8888888888888888,\"#fdca26\"],[1.0,\"#f0f921\"]],\"diverging\":[[0,\"#8e0152\"],[0.1,\"#c51b7d\"],[0.2,\"#de77ae\"],[0.3,\"#f1b6da\"],[0.4,\"#fde0ef\"],[0.5,\"#f7f7f7\"],[0.6,\"#e6f5d0\"],[0.7,\"#b8e186\"],[0.8,\"#7fbc41\"],[0.9,\"#4d9221\"],[1,\"#276419\"]]},\"xaxis\":{\"gridcolor\":\"white\",\"linecolor\":\"white\",\"ticks\":\"\",\"title\":{\"standoff\":15},\"zerolinecolor\":\"white\",\"automargin\":true,\"zerolinewidth\":2},\"yaxis\":{\"gridcolor\":\"white\",\"linecolor\":\"white\",\"ticks\":\"\",\"title\":{\"standoff\":15},\"zerolinecolor\":\"white\",\"automargin\":true,\"zerolinewidth\":2},\"scene\":{\"xaxis\":{\"backgroundcolor\":\"#E5ECF6\",\"gridcolor\":\"white\",\"linecolor\":\"white\",\"showbackground\":true,\"ticks\":\"\",\"zerolinecolor\":\"white\",\"gridwidth\":2},\"yaxis\":{\"backgroundcolor\":\"#E5ECF6\",\"gridcolor\":\"white\",\"linecolor\":\"white\",\"showbackground\":true,\"ticks\":\"\",\"zerolinecolor\":\"white\",\"gridwidth\":2},\"zaxis\":{\"backgroundcolor\":\"#E5ECF6\",\"gridcolor\":\"white\",\"linecolor\":\"white\",\"showbackground\":true,\"ticks\":\"\",\"zerolinecolor\":\"white\",\"gridwidth\":2}},\"shapedefaults\":{\"line\":{\"color\":\"#2a3f5f\"}},\"annotationdefaults\":{\"arrowcolor\":\"#2a3f5f\",\"arrowhead\":0,\"arrowwidth\":1},\"geo\":{\"bgcolor\":\"white\",\"landcolor\":\"#E5ECF6\",\"subunitcolor\":\"white\",\"showland\":true,\"showlakes\":true,\"lakecolor\":\"white\"},\"title\":{\"x\":0.05},\"mapbox\":{\"style\":\"light\"}}},\"xaxis\":{\"anchor\":\"y\",\"domain\":[0.0,1.0],\"title\":{\"text\":\"Kil\\u00f3metros\"},\"tickformat\":\".0f\"},\"yaxis\":{\"anchor\":\"x\",\"domain\":[0.0,1.0],\"title\":{\"text\":\"Empresa Informante\"}},\"legend\":{\"title\":{\"text\":\"variable\"},\"tracegroupgap\":0},\"margin\":{\"t\":60},\"barmode\":\"stack\",\"title\":{\"text\":\"Longitud de ductos por Empresa y Tipo\"},\"height\":600},                        {\"responsive\": true}                    ).then(function(){\n",
       "                            \n",
       "var gd = document.getElementById('cacf4e01-1e07-4ef6-ab2b-67954b9e9d66');\n",
       "var x = new MutationObserver(function (mutations, observer) {{\n",
       "        var display = window.getComputedStyle(gd).display;\n",
       "        if (!display || display === 'none') {{\n",
       "            console.log([gd, 'removed!']);\n",
       "            Plotly.purge(gd);\n",
       "            observer.disconnect();\n",
       "        }}\n",
       "}});\n",
       "\n",
       "// Listen for the removal of the full notebook cells\n",
       "var notebookContainer = gd.closest('#notebook-container');\n",
       "if (notebookContainer) {{\n",
       "    x.observe(notebookContainer, {childList: true});\n",
       "}}\n",
       "\n",
       "// Listen for the clearing of the current output cell\n",
       "var outputEl = gd.closest('.output');\n",
       "if (outputEl) {{\n",
       "    x.observe(outputEl, {childList: true});\n",
       "}}\n",
       "\n",
       "                        })                };                });            </script>        </div>"
      ]
     },
     "metadata": {},
     "output_type": "display_data"
    }
   ],
   "source": [
    "fig =px.bar(ultima_empresa_tipo.iloc[:-1,:-1],y =ultima_empresa_tipo.iloc[:-1,:-1][\"empresa_informante\"],x=ultima_empresa_tipo.iloc[:-1,:-1].columns[1:], orientation=\"h\")\n",
    "\n",
    "\n",
    "fig.update_layout(\n",
    "    barmode='stack',\n",
    "    xaxis=dict(title='Kilómetros',tickformat='.0f'),\n",
    "    title='Longitud de ductos por Empresa y Tipo',\n",
    "    yaxis=dict(title=\"Empresa Informante\"),\n",
    "    height=600)\n",
    "\n",
    "fig.write_html(\"Longitud de ductos por empresa y tipo.html\")\n",
    "fig.show()"
   ]
  },
  {
   "cell_type": "code",
   "execution_count": 8,
   "id": "dab655ed",
   "metadata": {},
   "outputs": [],
   "source": [
    "df_hidro_reducida = df_hidro.drop(columns=[\"du\",\"trdu\",\"tipo\",\"tipo_tramo\",\"diametro\",\"prof\",\"material\",\"revestim\",\"geojson\"])"
   ]
  },
  {
   "cell_type": "code",
   "execution_count": 9,
   "id": "ee968a5c",
   "metadata": {},
   "outputs": [],
   "source": [
    "tienen_cantidad_troncal_por_empresa = df_hidro_reducida.groupby([\"empresa_informante\",\"troncal\"]).sum().reset_index()\n",
    "tienen_cantidad_troncal_por_empresa['longitud_total'] = tienen_cantidad_troncal_por_empresa.groupby('empresa_informante')['longitud'].transform('sum')\n",
    "tienen_cantidad_troncal_por_empresa['longitud_pct'] = tienen_cantidad_troncal_por_empresa['longitud'] / tienen_cantidad_troncal_por_empresa['longitud_total'] * 100\n",
    "\n",
    "tienen_cantidad_troncal_por_empresa=tienen_cantidad_troncal_por_empresa[tienen_cantidad_troncal_por_empresa[\"longitud_pct\"] !=100]\n",
    "tienen_cantidad_troncal_por_empresa=pd.concat([tienen_cantidad_troncal_por_empresa,pd.DataFrame({'empresa_informante': ['OTROS'],'troncal': ['NO TRONCAL'],'longitud': [0],'longitud_total': [0],'longitud_pct': [100]})])\n",
    "          "
   ]
  },
  {
   "cell_type": "code",
   "execution_count": 27,
   "id": "85560577",
   "metadata": {},
   "outputs": [
    {
     "data": {
      "application/vnd.plotly.v1+json": {
       "config": {
        "plotlyServerURL": "https://plot.ly"
       },
       "data": [
        {
         "alignmentgroup": "True",
         "hovertemplate": "troncal=NO TRONCAL<br>Porcentaje de longitud=%{text}<br>empresa_informante=%{y}<extra></extra>",
         "legendgroup": "NO TRONCAL",
         "marker": {
          "color": "#636efa",
          "pattern": {
           "shape": ""
          }
         },
         "name": "NO TRONCAL",
         "offsetgroup": "NO TRONCAL",
         "orientation": "h",
         "showlegend": true,
         "text": [
          99.99585789470294,
          94.82424549872947,
          98.53637277098542,
          98.81489784745317,
          90.96608091500133,
          69.3047371259124,
          99.60362597821407,
          94.43552099646354,
          33.5533846266567,
          99.41654915308897,
          96.3644446107879,
          100
         ],
         "textposition": "inside",
         "texttemplate": "%{text:.1f}%",
         "type": "bar",
         "x": [
          99.99585789470294,
          94.82424549872947,
          98.53637277098542,
          98.81489784745317,
          90.96608091500133,
          69.3047371259124,
          99.60362597821407,
          94.43552099646354,
          33.5533846266567,
          99.41654915308897,
          96.3644446107879,
          100
         ],
         "xaxis": "x",
         "y": [
          "CHEVRON ARGENTINA S.R.L.",
          "OILSTONE ENERGIA S.A.",
          "PAN AMERICAN ENERGY (SUCURSAL ARGENTINA) LLC",
          "PETROBRAS ARGENTINA S.A.",
          "PETROLEOS SUDAMERICANOS S.A.",
          "PLUSPETROL ENERGY S.A.",
          "PLUSPETROL S.A.",
          "TECPETROL S.A.",
          "TOTAL AUSTRAL S.A.",
          "VISTA OIL & GAS ARGENTINA SAU",
          "YPF S.A.",
          "OTROS"
         ],
         "yaxis": "y"
        },
        {
         "alignmentgroup": "True",
         "hovertemplate": "troncal=TRONCAL<br>Porcentaje de longitud=%{text}<br>empresa_informante=%{y}<extra></extra>",
         "legendgroup": "TRONCAL",
         "marker": {
          "color": "#EF553B",
          "pattern": {
           "shape": ""
          }
         },
         "name": "TRONCAL",
         "offsetgroup": "TRONCAL",
         "orientation": "h",
         "showlegend": true,
         "text": [
          0.004142105297054428,
          5.175754501270541,
          1.4636272290145824,
          1.1851021525468406,
          9.033919084998658,
          30.695262874087607,
          0.39637402178593195,
          5.564479003536452,
          66.44661537334329,
          0.5834508469110399,
          3.6355553892120995
         ],
         "textposition": "inside",
         "texttemplate": "%{text:.1f}%",
         "type": "bar",
         "x": [
          0.004142105297054428,
          5.175754501270541,
          1.4636272290145824,
          1.1851021525468406,
          9.033919084998658,
          30.695262874087607,
          0.39637402178593195,
          5.564479003536452,
          66.44661537334329,
          0.5834508469110399,
          3.6355553892120995
         ],
         "xaxis": "x",
         "y": [
          "CHEVRON ARGENTINA S.R.L.",
          "OILSTONE ENERGIA S.A.",
          "PAN AMERICAN ENERGY (SUCURSAL ARGENTINA) LLC",
          "PETROBRAS ARGENTINA S.A.",
          "PETROLEOS SUDAMERICANOS S.A.",
          "PLUSPETROL ENERGY S.A.",
          "PLUSPETROL S.A.",
          "TECPETROL S.A.",
          "TOTAL AUSTRAL S.A.",
          "VISTA OIL & GAS ARGENTINA SAU",
          "YPF S.A."
         ],
         "yaxis": "y"
        }
       ],
       "layout": {
        "barmode": "stack",
        "height": 600,
        "legend": {
         "title": {
          "text": "troncal"
         },
         "tracegroupgap": 0
        },
        "margin": {
         "t": 60
        },
        "template": {
         "data": {
          "bar": [
           {
            "error_x": {
             "color": "#2a3f5f"
            },
            "error_y": {
             "color": "#2a3f5f"
            },
            "marker": {
             "line": {
              "color": "#E5ECF6",
              "width": 0.5
             },
             "pattern": {
              "fillmode": "overlay",
              "size": 10,
              "solidity": 0.2
             }
            },
            "type": "bar"
           }
          ],
          "barpolar": [
           {
            "marker": {
             "line": {
              "color": "#E5ECF6",
              "width": 0.5
             },
             "pattern": {
              "fillmode": "overlay",
              "size": 10,
              "solidity": 0.2
             }
            },
            "type": "barpolar"
           }
          ],
          "carpet": [
           {
            "aaxis": {
             "endlinecolor": "#2a3f5f",
             "gridcolor": "white",
             "linecolor": "white",
             "minorgridcolor": "white",
             "startlinecolor": "#2a3f5f"
            },
            "baxis": {
             "endlinecolor": "#2a3f5f",
             "gridcolor": "white",
             "linecolor": "white",
             "minorgridcolor": "white",
             "startlinecolor": "#2a3f5f"
            },
            "type": "carpet"
           }
          ],
          "choropleth": [
           {
            "colorbar": {
             "outlinewidth": 0,
             "ticks": ""
            },
            "type": "choropleth"
           }
          ],
          "contour": [
           {
            "colorbar": {
             "outlinewidth": 0,
             "ticks": ""
            },
            "colorscale": [
             [
              0,
              "#0d0887"
             ],
             [
              0.1111111111111111,
              "#46039f"
             ],
             [
              0.2222222222222222,
              "#7201a8"
             ],
             [
              0.3333333333333333,
              "#9c179e"
             ],
             [
              0.4444444444444444,
              "#bd3786"
             ],
             [
              0.5555555555555556,
              "#d8576b"
             ],
             [
              0.6666666666666666,
              "#ed7953"
             ],
             [
              0.7777777777777778,
              "#fb9f3a"
             ],
             [
              0.8888888888888888,
              "#fdca26"
             ],
             [
              1,
              "#f0f921"
             ]
            ],
            "type": "contour"
           }
          ],
          "contourcarpet": [
           {
            "colorbar": {
             "outlinewidth": 0,
             "ticks": ""
            },
            "type": "contourcarpet"
           }
          ],
          "heatmap": [
           {
            "colorbar": {
             "outlinewidth": 0,
             "ticks": ""
            },
            "colorscale": [
             [
              0,
              "#0d0887"
             ],
             [
              0.1111111111111111,
              "#46039f"
             ],
             [
              0.2222222222222222,
              "#7201a8"
             ],
             [
              0.3333333333333333,
              "#9c179e"
             ],
             [
              0.4444444444444444,
              "#bd3786"
             ],
             [
              0.5555555555555556,
              "#d8576b"
             ],
             [
              0.6666666666666666,
              "#ed7953"
             ],
             [
              0.7777777777777778,
              "#fb9f3a"
             ],
             [
              0.8888888888888888,
              "#fdca26"
             ],
             [
              1,
              "#f0f921"
             ]
            ],
            "type": "heatmap"
           }
          ],
          "heatmapgl": [
           {
            "colorbar": {
             "outlinewidth": 0,
             "ticks": ""
            },
            "colorscale": [
             [
              0,
              "#0d0887"
             ],
             [
              0.1111111111111111,
              "#46039f"
             ],
             [
              0.2222222222222222,
              "#7201a8"
             ],
             [
              0.3333333333333333,
              "#9c179e"
             ],
             [
              0.4444444444444444,
              "#bd3786"
             ],
             [
              0.5555555555555556,
              "#d8576b"
             ],
             [
              0.6666666666666666,
              "#ed7953"
             ],
             [
              0.7777777777777778,
              "#fb9f3a"
             ],
             [
              0.8888888888888888,
              "#fdca26"
             ],
             [
              1,
              "#f0f921"
             ]
            ],
            "type": "heatmapgl"
           }
          ],
          "histogram": [
           {
            "marker": {
             "pattern": {
              "fillmode": "overlay",
              "size": 10,
              "solidity": 0.2
             }
            },
            "type": "histogram"
           }
          ],
          "histogram2d": [
           {
            "colorbar": {
             "outlinewidth": 0,
             "ticks": ""
            },
            "colorscale": [
             [
              0,
              "#0d0887"
             ],
             [
              0.1111111111111111,
              "#46039f"
             ],
             [
              0.2222222222222222,
              "#7201a8"
             ],
             [
              0.3333333333333333,
              "#9c179e"
             ],
             [
              0.4444444444444444,
              "#bd3786"
             ],
             [
              0.5555555555555556,
              "#d8576b"
             ],
             [
              0.6666666666666666,
              "#ed7953"
             ],
             [
              0.7777777777777778,
              "#fb9f3a"
             ],
             [
              0.8888888888888888,
              "#fdca26"
             ],
             [
              1,
              "#f0f921"
             ]
            ],
            "type": "histogram2d"
           }
          ],
          "histogram2dcontour": [
           {
            "colorbar": {
             "outlinewidth": 0,
             "ticks": ""
            },
            "colorscale": [
             [
              0,
              "#0d0887"
             ],
             [
              0.1111111111111111,
              "#46039f"
             ],
             [
              0.2222222222222222,
              "#7201a8"
             ],
             [
              0.3333333333333333,
              "#9c179e"
             ],
             [
              0.4444444444444444,
              "#bd3786"
             ],
             [
              0.5555555555555556,
              "#d8576b"
             ],
             [
              0.6666666666666666,
              "#ed7953"
             ],
             [
              0.7777777777777778,
              "#fb9f3a"
             ],
             [
              0.8888888888888888,
              "#fdca26"
             ],
             [
              1,
              "#f0f921"
             ]
            ],
            "type": "histogram2dcontour"
           }
          ],
          "mesh3d": [
           {
            "colorbar": {
             "outlinewidth": 0,
             "ticks": ""
            },
            "type": "mesh3d"
           }
          ],
          "parcoords": [
           {
            "line": {
             "colorbar": {
              "outlinewidth": 0,
              "ticks": ""
             }
            },
            "type": "parcoords"
           }
          ],
          "pie": [
           {
            "automargin": true,
            "type": "pie"
           }
          ],
          "scatter": [
           {
            "fillpattern": {
             "fillmode": "overlay",
             "size": 10,
             "solidity": 0.2
            },
            "type": "scatter"
           }
          ],
          "scatter3d": [
           {
            "line": {
             "colorbar": {
              "outlinewidth": 0,
              "ticks": ""
             }
            },
            "marker": {
             "colorbar": {
              "outlinewidth": 0,
              "ticks": ""
             }
            },
            "type": "scatter3d"
           }
          ],
          "scattercarpet": [
           {
            "marker": {
             "colorbar": {
              "outlinewidth": 0,
              "ticks": ""
             }
            },
            "type": "scattercarpet"
           }
          ],
          "scattergeo": [
           {
            "marker": {
             "colorbar": {
              "outlinewidth": 0,
              "ticks": ""
             }
            },
            "type": "scattergeo"
           }
          ],
          "scattergl": [
           {
            "marker": {
             "colorbar": {
              "outlinewidth": 0,
              "ticks": ""
             }
            },
            "type": "scattergl"
           }
          ],
          "scattermapbox": [
           {
            "marker": {
             "colorbar": {
              "outlinewidth": 0,
              "ticks": ""
             }
            },
            "type": "scattermapbox"
           }
          ],
          "scatterpolar": [
           {
            "marker": {
             "colorbar": {
              "outlinewidth": 0,
              "ticks": ""
             }
            },
            "type": "scatterpolar"
           }
          ],
          "scatterpolargl": [
           {
            "marker": {
             "colorbar": {
              "outlinewidth": 0,
              "ticks": ""
             }
            },
            "type": "scatterpolargl"
           }
          ],
          "scatterternary": [
           {
            "marker": {
             "colorbar": {
              "outlinewidth": 0,
              "ticks": ""
             }
            },
            "type": "scatterternary"
           }
          ],
          "surface": [
           {
            "colorbar": {
             "outlinewidth": 0,
             "ticks": ""
            },
            "colorscale": [
             [
              0,
              "#0d0887"
             ],
             [
              0.1111111111111111,
              "#46039f"
             ],
             [
              0.2222222222222222,
              "#7201a8"
             ],
             [
              0.3333333333333333,
              "#9c179e"
             ],
             [
              0.4444444444444444,
              "#bd3786"
             ],
             [
              0.5555555555555556,
              "#d8576b"
             ],
             [
              0.6666666666666666,
              "#ed7953"
             ],
             [
              0.7777777777777778,
              "#fb9f3a"
             ],
             [
              0.8888888888888888,
              "#fdca26"
             ],
             [
              1,
              "#f0f921"
             ]
            ],
            "type": "surface"
           }
          ],
          "table": [
           {
            "cells": {
             "fill": {
              "color": "#EBF0F8"
             },
             "line": {
              "color": "white"
             }
            },
            "header": {
             "fill": {
              "color": "#C8D4E3"
             },
             "line": {
              "color": "white"
             }
            },
            "type": "table"
           }
          ]
         },
         "layout": {
          "annotationdefaults": {
           "arrowcolor": "#2a3f5f",
           "arrowhead": 0,
           "arrowwidth": 1
          },
          "autotypenumbers": "strict",
          "coloraxis": {
           "colorbar": {
            "outlinewidth": 0,
            "ticks": ""
           }
          },
          "colorscale": {
           "diverging": [
            [
             0,
             "#8e0152"
            ],
            [
             0.1,
             "#c51b7d"
            ],
            [
             0.2,
             "#de77ae"
            ],
            [
             0.3,
             "#f1b6da"
            ],
            [
             0.4,
             "#fde0ef"
            ],
            [
             0.5,
             "#f7f7f7"
            ],
            [
             0.6,
             "#e6f5d0"
            ],
            [
             0.7,
             "#b8e186"
            ],
            [
             0.8,
             "#7fbc41"
            ],
            [
             0.9,
             "#4d9221"
            ],
            [
             1,
             "#276419"
            ]
           ],
           "sequential": [
            [
             0,
             "#0d0887"
            ],
            [
             0.1111111111111111,
             "#46039f"
            ],
            [
             0.2222222222222222,
             "#7201a8"
            ],
            [
             0.3333333333333333,
             "#9c179e"
            ],
            [
             0.4444444444444444,
             "#bd3786"
            ],
            [
             0.5555555555555556,
             "#d8576b"
            ],
            [
             0.6666666666666666,
             "#ed7953"
            ],
            [
             0.7777777777777778,
             "#fb9f3a"
            ],
            [
             0.8888888888888888,
             "#fdca26"
            ],
            [
             1,
             "#f0f921"
            ]
           ],
           "sequentialminus": [
            [
             0,
             "#0d0887"
            ],
            [
             0.1111111111111111,
             "#46039f"
            ],
            [
             0.2222222222222222,
             "#7201a8"
            ],
            [
             0.3333333333333333,
             "#9c179e"
            ],
            [
             0.4444444444444444,
             "#bd3786"
            ],
            [
             0.5555555555555556,
             "#d8576b"
            ],
            [
             0.6666666666666666,
             "#ed7953"
            ],
            [
             0.7777777777777778,
             "#fb9f3a"
            ],
            [
             0.8888888888888888,
             "#fdca26"
            ],
            [
             1,
             "#f0f921"
            ]
           ]
          },
          "colorway": [
           "#636efa",
           "#EF553B",
           "#00cc96",
           "#ab63fa",
           "#FFA15A",
           "#19d3f3",
           "#FF6692",
           "#B6E880",
           "#FF97FF",
           "#FECB52"
          ],
          "font": {
           "color": "#2a3f5f"
          },
          "geo": {
           "bgcolor": "white",
           "lakecolor": "white",
           "landcolor": "#E5ECF6",
           "showlakes": true,
           "showland": true,
           "subunitcolor": "white"
          },
          "hoverlabel": {
           "align": "left"
          },
          "hovermode": "closest",
          "mapbox": {
           "style": "light"
          },
          "paper_bgcolor": "white",
          "plot_bgcolor": "#E5ECF6",
          "polar": {
           "angularaxis": {
            "gridcolor": "white",
            "linecolor": "white",
            "ticks": ""
           },
           "bgcolor": "#E5ECF6",
           "radialaxis": {
            "gridcolor": "white",
            "linecolor": "white",
            "ticks": ""
           }
          },
          "scene": {
           "xaxis": {
            "backgroundcolor": "#E5ECF6",
            "gridcolor": "white",
            "gridwidth": 2,
            "linecolor": "white",
            "showbackground": true,
            "ticks": "",
            "zerolinecolor": "white"
           },
           "yaxis": {
            "backgroundcolor": "#E5ECF6",
            "gridcolor": "white",
            "gridwidth": 2,
            "linecolor": "white",
            "showbackground": true,
            "ticks": "",
            "zerolinecolor": "white"
           },
           "zaxis": {
            "backgroundcolor": "#E5ECF6",
            "gridcolor": "white",
            "gridwidth": 2,
            "linecolor": "white",
            "showbackground": true,
            "ticks": "",
            "zerolinecolor": "white"
           }
          },
          "shapedefaults": {
           "line": {
            "color": "#2a3f5f"
           }
          },
          "ternary": {
           "aaxis": {
            "gridcolor": "white",
            "linecolor": "white",
            "ticks": ""
           },
           "baxis": {
            "gridcolor": "white",
            "linecolor": "white",
            "ticks": ""
           },
           "bgcolor": "#E5ECF6",
           "caxis": {
            "gridcolor": "white",
            "linecolor": "white",
            "ticks": ""
           }
          },
          "title": {
           "x": 0.05
          },
          "xaxis": {
           "automargin": true,
           "gridcolor": "white",
           "linecolor": "white",
           "ticks": "",
           "title": {
            "standoff": 15
           },
           "zerolinecolor": "white",
           "zerolinewidth": 2
          },
          "yaxis": {
           "automargin": true,
           "gridcolor": "white",
           "linecolor": "white",
           "ticks": "",
           "title": {
            "standoff": 15
           },
           "zerolinecolor": "white",
           "zerolinewidth": 2
          }
         }
        },
        "title": {
         "text": "Porcentaje por longitud por ductos Troncales vs No Troncales"
        },
        "xaxis": {
         "anchor": "y",
         "domain": [
          0,
          1
         ],
         "ticksuffix": "%",
         "title": {
          "text": "Porcentaje"
         }
        },
        "yaxis": {
         "anchor": "x",
         "domain": [
          0,
          1
         ],
         "title": {
          "text": "empresa_informante"
         }
        }
       }
      },
      "text/html": [
       "<div>                            <div id=\"c3634271-a7ec-4d2c-ae5a-3ed312971bc5\" class=\"plotly-graph-div\" style=\"height:600px; width:100%;\"></div>            <script type=\"text/javascript\">                require([\"plotly\"], function(Plotly) {                    window.PLOTLYENV=window.PLOTLYENV || {};                                    if (document.getElementById(\"c3634271-a7ec-4d2c-ae5a-3ed312971bc5\")) {                    Plotly.newPlot(                        \"c3634271-a7ec-4d2c-ae5a-3ed312971bc5\",                        [{\"alignmentgroup\":\"True\",\"hovertemplate\":\"troncal=NO TRONCAL<br>Porcentaje de longitud=%{text}<br>empresa_informante=%{y}<extra></extra>\",\"legendgroup\":\"NO TRONCAL\",\"marker\":{\"color\":\"#636efa\",\"pattern\":{\"shape\":\"\"}},\"name\":\"NO TRONCAL\",\"offsetgroup\":\"NO TRONCAL\",\"orientation\":\"h\",\"showlegend\":true,\"text\":[99.99585789470294,94.82424549872947,98.53637277098542,98.81489784745317,90.96608091500133,69.3047371259124,99.60362597821407,94.43552099646354,33.5533846266567,99.41654915308897,96.3644446107879,100.0],\"textposition\":\"inside\",\"x\":[99.99585789470294,94.82424549872947,98.53637277098542,98.81489784745317,90.96608091500133,69.3047371259124,99.60362597821407,94.43552099646354,33.5533846266567,99.41654915308897,96.3644446107879,100.0],\"xaxis\":\"x\",\"y\":[\"CHEVRON ARGENTINA S.R.L.\",\"OILSTONE ENERGIA S.A.\",\"PAN AMERICAN ENERGY (SUCURSAL ARGENTINA) LLC\",\"PETROBRAS ARGENTINA S.A.\",\"PETROLEOS SUDAMERICANOS S.A.\",\"PLUSPETROL ENERGY S.A.\",\"PLUSPETROL S.A.\",\"TECPETROL S.A.\",\"TOTAL AUSTRAL S.A.\",\"VISTA OIL & GAS ARGENTINA SAU\",\"YPF S.A.\",\"OTROS\"],\"yaxis\":\"y\",\"type\":\"bar\",\"texttemplate\":\"%{text:.1f}%\"},{\"alignmentgroup\":\"True\",\"hovertemplate\":\"troncal=TRONCAL<br>Porcentaje de longitud=%{text}<br>empresa_informante=%{y}<extra></extra>\",\"legendgroup\":\"TRONCAL\",\"marker\":{\"color\":\"#EF553B\",\"pattern\":{\"shape\":\"\"}},\"name\":\"TRONCAL\",\"offsetgroup\":\"TRONCAL\",\"orientation\":\"h\",\"showlegend\":true,\"text\":[0.004142105297054428,5.175754501270541,1.4636272290145824,1.1851021525468406,9.033919084998658,30.695262874087607,0.39637402178593195,5.564479003536452,66.44661537334329,0.5834508469110399,3.6355553892120995],\"textposition\":\"inside\",\"x\":[0.004142105297054428,5.175754501270541,1.4636272290145824,1.1851021525468406,9.033919084998658,30.695262874087607,0.39637402178593195,5.564479003536452,66.44661537334329,0.5834508469110399,3.6355553892120995],\"xaxis\":\"x\",\"y\":[\"CHEVRON ARGENTINA S.R.L.\",\"OILSTONE ENERGIA S.A.\",\"PAN AMERICAN ENERGY (SUCURSAL ARGENTINA) LLC\",\"PETROBRAS ARGENTINA S.A.\",\"PETROLEOS SUDAMERICANOS S.A.\",\"PLUSPETROL ENERGY S.A.\",\"PLUSPETROL S.A.\",\"TECPETROL S.A.\",\"TOTAL AUSTRAL S.A.\",\"VISTA OIL & GAS ARGENTINA SAU\",\"YPF S.A.\"],\"yaxis\":\"y\",\"type\":\"bar\",\"texttemplate\":\"%{text:.1f}%\"}],                        {\"template\":{\"data\":{\"histogram2dcontour\":[{\"type\":\"histogram2dcontour\",\"colorbar\":{\"outlinewidth\":0,\"ticks\":\"\"},\"colorscale\":[[0.0,\"#0d0887\"],[0.1111111111111111,\"#46039f\"],[0.2222222222222222,\"#7201a8\"],[0.3333333333333333,\"#9c179e\"],[0.4444444444444444,\"#bd3786\"],[0.5555555555555556,\"#d8576b\"],[0.6666666666666666,\"#ed7953\"],[0.7777777777777778,\"#fb9f3a\"],[0.8888888888888888,\"#fdca26\"],[1.0,\"#f0f921\"]]}],\"choropleth\":[{\"type\":\"choropleth\",\"colorbar\":{\"outlinewidth\":0,\"ticks\":\"\"}}],\"histogram2d\":[{\"type\":\"histogram2d\",\"colorbar\":{\"outlinewidth\":0,\"ticks\":\"\"},\"colorscale\":[[0.0,\"#0d0887\"],[0.1111111111111111,\"#46039f\"],[0.2222222222222222,\"#7201a8\"],[0.3333333333333333,\"#9c179e\"],[0.4444444444444444,\"#bd3786\"],[0.5555555555555556,\"#d8576b\"],[0.6666666666666666,\"#ed7953\"],[0.7777777777777778,\"#fb9f3a\"],[0.8888888888888888,\"#fdca26\"],[1.0,\"#f0f921\"]]}],\"heatmap\":[{\"type\":\"heatmap\",\"colorbar\":{\"outlinewidth\":0,\"ticks\":\"\"},\"colorscale\":[[0.0,\"#0d0887\"],[0.1111111111111111,\"#46039f\"],[0.2222222222222222,\"#7201a8\"],[0.3333333333333333,\"#9c179e\"],[0.4444444444444444,\"#bd3786\"],[0.5555555555555556,\"#d8576b\"],[0.6666666666666666,\"#ed7953\"],[0.7777777777777778,\"#fb9f3a\"],[0.8888888888888888,\"#fdca26\"],[1.0,\"#f0f921\"]]}],\"heatmapgl\":[{\"type\":\"heatmapgl\",\"colorbar\":{\"outlinewidth\":0,\"ticks\":\"\"},\"colorscale\":[[0.0,\"#0d0887\"],[0.1111111111111111,\"#46039f\"],[0.2222222222222222,\"#7201a8\"],[0.3333333333333333,\"#9c179e\"],[0.4444444444444444,\"#bd3786\"],[0.5555555555555556,\"#d8576b\"],[0.6666666666666666,\"#ed7953\"],[0.7777777777777778,\"#fb9f3a\"],[0.8888888888888888,\"#fdca26\"],[1.0,\"#f0f921\"]]}],\"contourcarpet\":[{\"type\":\"contourcarpet\",\"colorbar\":{\"outlinewidth\":0,\"ticks\":\"\"}}],\"contour\":[{\"type\":\"contour\",\"colorbar\":{\"outlinewidth\":0,\"ticks\":\"\"},\"colorscale\":[[0.0,\"#0d0887\"],[0.1111111111111111,\"#46039f\"],[0.2222222222222222,\"#7201a8\"],[0.3333333333333333,\"#9c179e\"],[0.4444444444444444,\"#bd3786\"],[0.5555555555555556,\"#d8576b\"],[0.6666666666666666,\"#ed7953\"],[0.7777777777777778,\"#fb9f3a\"],[0.8888888888888888,\"#fdca26\"],[1.0,\"#f0f921\"]]}],\"surface\":[{\"type\":\"surface\",\"colorbar\":{\"outlinewidth\":0,\"ticks\":\"\"},\"colorscale\":[[0.0,\"#0d0887\"],[0.1111111111111111,\"#46039f\"],[0.2222222222222222,\"#7201a8\"],[0.3333333333333333,\"#9c179e\"],[0.4444444444444444,\"#bd3786\"],[0.5555555555555556,\"#d8576b\"],[0.6666666666666666,\"#ed7953\"],[0.7777777777777778,\"#fb9f3a\"],[0.8888888888888888,\"#fdca26\"],[1.0,\"#f0f921\"]]}],\"mesh3d\":[{\"type\":\"mesh3d\",\"colorbar\":{\"outlinewidth\":0,\"ticks\":\"\"}}],\"scatter\":[{\"fillpattern\":{\"fillmode\":\"overlay\",\"size\":10,\"solidity\":0.2},\"type\":\"scatter\"}],\"parcoords\":[{\"type\":\"parcoords\",\"line\":{\"colorbar\":{\"outlinewidth\":0,\"ticks\":\"\"}}}],\"scatterpolargl\":[{\"type\":\"scatterpolargl\",\"marker\":{\"colorbar\":{\"outlinewidth\":0,\"ticks\":\"\"}}}],\"bar\":[{\"error_x\":{\"color\":\"#2a3f5f\"},\"error_y\":{\"color\":\"#2a3f5f\"},\"marker\":{\"line\":{\"color\":\"#E5ECF6\",\"width\":0.5},\"pattern\":{\"fillmode\":\"overlay\",\"size\":10,\"solidity\":0.2}},\"type\":\"bar\"}],\"scattergeo\":[{\"type\":\"scattergeo\",\"marker\":{\"colorbar\":{\"outlinewidth\":0,\"ticks\":\"\"}}}],\"scatterpolar\":[{\"type\":\"scatterpolar\",\"marker\":{\"colorbar\":{\"outlinewidth\":0,\"ticks\":\"\"}}}],\"histogram\":[{\"marker\":{\"pattern\":{\"fillmode\":\"overlay\",\"size\":10,\"solidity\":0.2}},\"type\":\"histogram\"}],\"scattergl\":[{\"type\":\"scattergl\",\"marker\":{\"colorbar\":{\"outlinewidth\":0,\"ticks\":\"\"}}}],\"scatter3d\":[{\"type\":\"scatter3d\",\"line\":{\"colorbar\":{\"outlinewidth\":0,\"ticks\":\"\"}},\"marker\":{\"colorbar\":{\"outlinewidth\":0,\"ticks\":\"\"}}}],\"scattermapbox\":[{\"type\":\"scattermapbox\",\"marker\":{\"colorbar\":{\"outlinewidth\":0,\"ticks\":\"\"}}}],\"scatterternary\":[{\"type\":\"scatterternary\",\"marker\":{\"colorbar\":{\"outlinewidth\":0,\"ticks\":\"\"}}}],\"scattercarpet\":[{\"type\":\"scattercarpet\",\"marker\":{\"colorbar\":{\"outlinewidth\":0,\"ticks\":\"\"}}}],\"carpet\":[{\"aaxis\":{\"endlinecolor\":\"#2a3f5f\",\"gridcolor\":\"white\",\"linecolor\":\"white\",\"minorgridcolor\":\"white\",\"startlinecolor\":\"#2a3f5f\"},\"baxis\":{\"endlinecolor\":\"#2a3f5f\",\"gridcolor\":\"white\",\"linecolor\":\"white\",\"minorgridcolor\":\"white\",\"startlinecolor\":\"#2a3f5f\"},\"type\":\"carpet\"}],\"table\":[{\"cells\":{\"fill\":{\"color\":\"#EBF0F8\"},\"line\":{\"color\":\"white\"}},\"header\":{\"fill\":{\"color\":\"#C8D4E3\"},\"line\":{\"color\":\"white\"}},\"type\":\"table\"}],\"barpolar\":[{\"marker\":{\"line\":{\"color\":\"#E5ECF6\",\"width\":0.5},\"pattern\":{\"fillmode\":\"overlay\",\"size\":10,\"solidity\":0.2}},\"type\":\"barpolar\"}],\"pie\":[{\"automargin\":true,\"type\":\"pie\"}]},\"layout\":{\"autotypenumbers\":\"strict\",\"colorway\":[\"#636efa\",\"#EF553B\",\"#00cc96\",\"#ab63fa\",\"#FFA15A\",\"#19d3f3\",\"#FF6692\",\"#B6E880\",\"#FF97FF\",\"#FECB52\"],\"font\":{\"color\":\"#2a3f5f\"},\"hovermode\":\"closest\",\"hoverlabel\":{\"align\":\"left\"},\"paper_bgcolor\":\"white\",\"plot_bgcolor\":\"#E5ECF6\",\"polar\":{\"bgcolor\":\"#E5ECF6\",\"angularaxis\":{\"gridcolor\":\"white\",\"linecolor\":\"white\",\"ticks\":\"\"},\"radialaxis\":{\"gridcolor\":\"white\",\"linecolor\":\"white\",\"ticks\":\"\"}},\"ternary\":{\"bgcolor\":\"#E5ECF6\",\"aaxis\":{\"gridcolor\":\"white\",\"linecolor\":\"white\",\"ticks\":\"\"},\"baxis\":{\"gridcolor\":\"white\",\"linecolor\":\"white\",\"ticks\":\"\"},\"caxis\":{\"gridcolor\":\"white\",\"linecolor\":\"white\",\"ticks\":\"\"}},\"coloraxis\":{\"colorbar\":{\"outlinewidth\":0,\"ticks\":\"\"}},\"colorscale\":{\"sequential\":[[0.0,\"#0d0887\"],[0.1111111111111111,\"#46039f\"],[0.2222222222222222,\"#7201a8\"],[0.3333333333333333,\"#9c179e\"],[0.4444444444444444,\"#bd3786\"],[0.5555555555555556,\"#d8576b\"],[0.6666666666666666,\"#ed7953\"],[0.7777777777777778,\"#fb9f3a\"],[0.8888888888888888,\"#fdca26\"],[1.0,\"#f0f921\"]],\"sequentialminus\":[[0.0,\"#0d0887\"],[0.1111111111111111,\"#46039f\"],[0.2222222222222222,\"#7201a8\"],[0.3333333333333333,\"#9c179e\"],[0.4444444444444444,\"#bd3786\"],[0.5555555555555556,\"#d8576b\"],[0.6666666666666666,\"#ed7953\"],[0.7777777777777778,\"#fb9f3a\"],[0.8888888888888888,\"#fdca26\"],[1.0,\"#f0f921\"]],\"diverging\":[[0,\"#8e0152\"],[0.1,\"#c51b7d\"],[0.2,\"#de77ae\"],[0.3,\"#f1b6da\"],[0.4,\"#fde0ef\"],[0.5,\"#f7f7f7\"],[0.6,\"#e6f5d0\"],[0.7,\"#b8e186\"],[0.8,\"#7fbc41\"],[0.9,\"#4d9221\"],[1,\"#276419\"]]},\"xaxis\":{\"gridcolor\":\"white\",\"linecolor\":\"white\",\"ticks\":\"\",\"title\":{\"standoff\":15},\"zerolinecolor\":\"white\",\"automargin\":true,\"zerolinewidth\":2},\"yaxis\":{\"gridcolor\":\"white\",\"linecolor\":\"white\",\"ticks\":\"\",\"title\":{\"standoff\":15},\"zerolinecolor\":\"white\",\"automargin\":true,\"zerolinewidth\":2},\"scene\":{\"xaxis\":{\"backgroundcolor\":\"#E5ECF6\",\"gridcolor\":\"white\",\"linecolor\":\"white\",\"showbackground\":true,\"ticks\":\"\",\"zerolinecolor\":\"white\",\"gridwidth\":2},\"yaxis\":{\"backgroundcolor\":\"#E5ECF6\",\"gridcolor\":\"white\",\"linecolor\":\"white\",\"showbackground\":true,\"ticks\":\"\",\"zerolinecolor\":\"white\",\"gridwidth\":2},\"zaxis\":{\"backgroundcolor\":\"#E5ECF6\",\"gridcolor\":\"white\",\"linecolor\":\"white\",\"showbackground\":true,\"ticks\":\"\",\"zerolinecolor\":\"white\",\"gridwidth\":2}},\"shapedefaults\":{\"line\":{\"color\":\"#2a3f5f\"}},\"annotationdefaults\":{\"arrowcolor\":\"#2a3f5f\",\"arrowhead\":0,\"arrowwidth\":1},\"geo\":{\"bgcolor\":\"white\",\"landcolor\":\"#E5ECF6\",\"subunitcolor\":\"white\",\"showland\":true,\"showlakes\":true,\"lakecolor\":\"white\"},\"title\":{\"x\":0.05},\"mapbox\":{\"style\":\"light\"}}},\"xaxis\":{\"anchor\":\"y\",\"domain\":[0.0,1.0],\"title\":{\"text\":\"Porcentaje\"},\"ticksuffix\":\"%\"},\"yaxis\":{\"anchor\":\"x\",\"domain\":[0.0,1.0],\"title\":{\"text\":\"empresa_informante\"}},\"legend\":{\"title\":{\"text\":\"troncal\"},\"tracegroupgap\":0},\"margin\":{\"t\":60},\"barmode\":\"stack\",\"title\":{\"text\":\"Porcentaje por longitud por ductos Troncales vs No Troncales\"},\"height\":600},                        {\"responsive\": true}                    ).then(function(){\n",
       "                            \n",
       "var gd = document.getElementById('c3634271-a7ec-4d2c-ae5a-3ed312971bc5');\n",
       "var x = new MutationObserver(function (mutations, observer) {{\n",
       "        var display = window.getComputedStyle(gd).display;\n",
       "        if (!display || display === 'none') {{\n",
       "            console.log([gd, 'removed!']);\n",
       "            Plotly.purge(gd);\n",
       "            observer.disconnect();\n",
       "        }}\n",
       "}});\n",
       "\n",
       "// Listen for the removal of the full notebook cells\n",
       "var notebookContainer = gd.closest('#notebook-container');\n",
       "if (notebookContainer) {{\n",
       "    x.observe(notebookContainer, {childList: true});\n",
       "}}\n",
       "\n",
       "// Listen for the clearing of the current output cell\n",
       "var outputEl = gd.closest('.output');\n",
       "if (outputEl) {{\n",
       "    x.observe(outputEl, {childList: true});\n",
       "}}\n",
       "\n",
       "                        })                };                });            </script>        </div>"
      ]
     },
     "metadata": {},
     "output_type": "display_data"
    }
   ],
   "source": [
    "fig = px.bar(tienen_cantidad_troncal_por_empresa, y=\"empresa_informante\", x=\"longitud_pct\", color=\"troncal\", orientation=\"h\",\n",
    "             labels={'longitud_pct':'Porcentaje de longitud'}, text='longitud_pct')\n",
    "\n",
    "fig.update_traces(texttemplate='%{text:.1f}%', textposition='inside')\n",
    "fig.update_layout(\n",
    "    barmode='stack',\n",
    "    xaxis=dict(title='Porcentaje', ticksuffix='%'),\n",
    "        title='Porcentaje por longitud por ductos Troncales vs No Troncales',\n",
    "    height=600\n",
    ")\n",
    "\n",
    "fig.show()\n",
    "fig.write_html(\"Porcentaje por longitud por ductos troncales vs no troncales.html\")"
   ]
  },
  {
   "cell_type": "code",
   "execution_count": 11,
   "id": "77e99cf0",
   "metadata": {},
   "outputs": [],
   "source": [
    "# Hago lo mismo pero para ductos troncales, es decir mayor a 20 pulgadas.\n",
    "\n",
    "df_hidro_trocal = df_hidro[df_hidro[\"diametro\"] >= 20]\n",
    "empresa_tipo2 = df_hidro_trocal.pivot_table(index=\"empresa_informante\", columns=\"tipo\", values=\"longitud\", aggfunc='sum', margins = \"total\").fillna(0)\n",
    "empresa_tipo2 = empresa_tipo2.sort_values(by=\"All\", ascending=True)\n",
    "empresa_tipo2 = empresa_tipo2.reset_index()\n",
    "empresa_tipo_primeros2 = empresa_tipo2.tail(13)\n",
    "empresa_tipo_otros2 = empresa_tipo2.iloc[:-13].sum()\n",
    "ultima_fila2 = pd.DataFrame(empresa_tipo_otros2).transpose()\n",
    "ultima_fila2[\"empresa_informante\"] = \"Otros\"\n",
    "ultima_empresa_tipo2 = pd.concat([empresa_tipo_primeros2,ultima_fila2])\n",
    "ultima_empresa_tipo2 = ultima_empresa_tipo2.sort_values(by = \"All\", ascending=True)\n",
    "ultima_empresa_tipo2=ultima_empresa_tipo2.reset_index(drop=True)\n",
    "ultima_empresa_tipo2 = ultima_empresa_tipo2.infer_objects()"
   ]
  },
  {
   "cell_type": "code",
   "execution_count": 28,
   "id": "68988f65",
   "metadata": {
    "scrolled": false
   },
   "outputs": [
    {
     "data": {
      "application/vnd.plotly.v1+json": {
       "config": {
        "plotlyServerURL": "https://plot.ly"
       },
       "data": [
        {
         "alignmentgroup": "True",
         "hovertemplate": "variable=ACUEDUCTO<br>value=%{x}<br>y=%{y}<extra></extra>",
         "legendgroup": "ACUEDUCTO",
         "marker": {
          "color": "#636efa",
          "pattern": {
           "shape": ""
          }
         },
         "name": "ACUEDUCTO",
         "offsetgroup": "ACUEDUCTO",
         "orientation": "h",
         "showlegend": true,
         "textposition": "auto",
         "type": "bar",
         "x": [
          0,
          0,
          10.750298857255025,
          0,
          0,
          0,
          0,
          0,
          0,
          0,
          0,
          350.2189510110064
         ],
         "xaxis": "x",
         "y": [
          "Otros",
          "CHEVRON ARGENTINA S.R.L.",
          "VISTA OIL & GAS ARGENTINA SAU",
          "PLUSPETROL S.A.",
          "PETROBRAS ARGENTINA S.A.",
          "PETROLEOS SUDAMERICANOS S.A.",
          "PLUSPETROL ENERGY S.A.",
          "OILSTONE ENERGIA S.A.",
          "TECPETROL S.A.",
          "PAN AMERICAN ENERGY (SUCURSAL ARGENTINA) LLC",
          "TOTAL AUSTRAL S.A.",
          "YPF S.A."
         ],
         "yaxis": "y"
        },
        {
         "alignmentgroup": "True",
         "hovertemplate": "variable=GASODUCTO<br>value=%{x}<br>y=%{y}<extra></extra>",
         "legendgroup": "GASODUCTO",
         "marker": {
          "color": "#EF553B",
          "pattern": {
           "shape": ""
          }
         },
         "name": "GASODUCTO",
         "offsetgroup": "GASODUCTO",
         "orientation": "h",
         "showlegend": true,
         "textposition": "auto",
         "type": "bar",
         "x": [
          0,
          0.085900607374049,
          0,
          17.701161903666048,
          20.38785761181638,
          26.89353502210179,
          65.35674470241251,
          92.37604871393327,
          224.0821246865001,
          52.88130141316915,
          343.8609268013316,
          1881.8615563127858
         ],
         "xaxis": "x",
         "y": [
          "Otros",
          "CHEVRON ARGENTINA S.R.L.",
          "VISTA OIL & GAS ARGENTINA SAU",
          "PLUSPETROL S.A.",
          "PETROBRAS ARGENTINA S.A.",
          "PETROLEOS SUDAMERICANOS S.A.",
          "PLUSPETROL ENERGY S.A.",
          "OILSTONE ENERGIA S.A.",
          "TECPETROL S.A.",
          "PAN AMERICAN ENERGY (SUCURSAL ARGENTINA) LLC",
          "TOTAL AUSTRAL S.A.",
          "YPF S.A."
         ],
         "yaxis": "y"
        },
        {
         "alignmentgroup": "True",
         "hovertemplate": "variable=OLEODUCTO<br>value=%{x}<br>y=%{y}<extra></extra>",
         "legendgroup": "OLEODUCTO",
         "marker": {
          "color": "#00cc96",
          "pattern": {
           "shape": ""
          }
         },
         "name": "OLEODUCTO",
         "offsetgroup": "OLEODUCTO",
         "orientation": "h",
         "showlegend": true,
         "textposition": "auto",
         "type": "bar",
         "x": [
          0,
          0,
          0,
          0,
          1.6603801552650816,
          6.67402841395702,
          0,
          0.5810652555171076,
          0,
          369.4922686782475,
          35.453876572348875,
          167.7872511481266
         ],
         "xaxis": "x",
         "y": [
          "Otros",
          "CHEVRON ARGENTINA S.R.L.",
          "VISTA OIL & GAS ARGENTINA SAU",
          "PLUSPETROL S.A.",
          "PETROBRAS ARGENTINA S.A.",
          "PETROLEOS SUDAMERICANOS S.A.",
          "PLUSPETROL ENERGY S.A.",
          "OILSTONE ENERGIA S.A.",
          "TECPETROL S.A.",
          "PAN AMERICAN ENERGY (SUCURSAL ARGENTINA) LLC",
          "TOTAL AUSTRAL S.A.",
          "YPF S.A."
         ],
         "yaxis": "y"
        },
        {
         "alignmentgroup": "True",
         "hovertemplate": "variable=POLIDUCTO<br>value=%{x}<br>y=%{y}<extra></extra>",
         "legendgroup": "POLIDUCTO",
         "marker": {
          "color": "#ab63fa",
          "pattern": {
           "shape": ""
          }
         },
         "name": "POLIDUCTO",
         "offsetgroup": "POLIDUCTO",
         "orientation": "h",
         "showlegend": true,
         "textposition": "auto",
         "type": "bar",
         "x": [
          0,
          0,
          0,
          0,
          0,
          0,
          0,
          0,
          0,
          0,
          85.93237085908694,
          0
         ],
         "xaxis": "x",
         "y": [
          "Otros",
          "CHEVRON ARGENTINA S.R.L.",
          "VISTA OIL & GAS ARGENTINA SAU",
          "PLUSPETROL S.A.",
          "PETROBRAS ARGENTINA S.A.",
          "PETROLEOS SUDAMERICANOS S.A.",
          "PLUSPETROL ENERGY S.A.",
          "OILSTONE ENERGIA S.A.",
          "TECPETROL S.A.",
          "PAN AMERICAN ENERGY (SUCURSAL ARGENTINA) LLC",
          "TOTAL AUSTRAL S.A.",
          "YPF S.A."
         ],
         "yaxis": "y"
        }
       ],
       "layout": {
        "barmode": "stack",
        "height": 600,
        "legend": {
         "title": {
          "text": "variable"
         },
         "tracegroupgap": 0
        },
        "margin": {
         "t": 60
        },
        "template": {
         "data": {
          "bar": [
           {
            "error_x": {
             "color": "#2a3f5f"
            },
            "error_y": {
             "color": "#2a3f5f"
            },
            "marker": {
             "line": {
              "color": "#E5ECF6",
              "width": 0.5
             },
             "pattern": {
              "fillmode": "overlay",
              "size": 10,
              "solidity": 0.2
             }
            },
            "type": "bar"
           }
          ],
          "barpolar": [
           {
            "marker": {
             "line": {
              "color": "#E5ECF6",
              "width": 0.5
             },
             "pattern": {
              "fillmode": "overlay",
              "size": 10,
              "solidity": 0.2
             }
            },
            "type": "barpolar"
           }
          ],
          "carpet": [
           {
            "aaxis": {
             "endlinecolor": "#2a3f5f",
             "gridcolor": "white",
             "linecolor": "white",
             "minorgridcolor": "white",
             "startlinecolor": "#2a3f5f"
            },
            "baxis": {
             "endlinecolor": "#2a3f5f",
             "gridcolor": "white",
             "linecolor": "white",
             "minorgridcolor": "white",
             "startlinecolor": "#2a3f5f"
            },
            "type": "carpet"
           }
          ],
          "choropleth": [
           {
            "colorbar": {
             "outlinewidth": 0,
             "ticks": ""
            },
            "type": "choropleth"
           }
          ],
          "contour": [
           {
            "colorbar": {
             "outlinewidth": 0,
             "ticks": ""
            },
            "colorscale": [
             [
              0,
              "#0d0887"
             ],
             [
              0.1111111111111111,
              "#46039f"
             ],
             [
              0.2222222222222222,
              "#7201a8"
             ],
             [
              0.3333333333333333,
              "#9c179e"
             ],
             [
              0.4444444444444444,
              "#bd3786"
             ],
             [
              0.5555555555555556,
              "#d8576b"
             ],
             [
              0.6666666666666666,
              "#ed7953"
             ],
             [
              0.7777777777777778,
              "#fb9f3a"
             ],
             [
              0.8888888888888888,
              "#fdca26"
             ],
             [
              1,
              "#f0f921"
             ]
            ],
            "type": "contour"
           }
          ],
          "contourcarpet": [
           {
            "colorbar": {
             "outlinewidth": 0,
             "ticks": ""
            },
            "type": "contourcarpet"
           }
          ],
          "heatmap": [
           {
            "colorbar": {
             "outlinewidth": 0,
             "ticks": ""
            },
            "colorscale": [
             [
              0,
              "#0d0887"
             ],
             [
              0.1111111111111111,
              "#46039f"
             ],
             [
              0.2222222222222222,
              "#7201a8"
             ],
             [
              0.3333333333333333,
              "#9c179e"
             ],
             [
              0.4444444444444444,
              "#bd3786"
             ],
             [
              0.5555555555555556,
              "#d8576b"
             ],
             [
              0.6666666666666666,
              "#ed7953"
             ],
             [
              0.7777777777777778,
              "#fb9f3a"
             ],
             [
              0.8888888888888888,
              "#fdca26"
             ],
             [
              1,
              "#f0f921"
             ]
            ],
            "type": "heatmap"
           }
          ],
          "heatmapgl": [
           {
            "colorbar": {
             "outlinewidth": 0,
             "ticks": ""
            },
            "colorscale": [
             [
              0,
              "#0d0887"
             ],
             [
              0.1111111111111111,
              "#46039f"
             ],
             [
              0.2222222222222222,
              "#7201a8"
             ],
             [
              0.3333333333333333,
              "#9c179e"
             ],
             [
              0.4444444444444444,
              "#bd3786"
             ],
             [
              0.5555555555555556,
              "#d8576b"
             ],
             [
              0.6666666666666666,
              "#ed7953"
             ],
             [
              0.7777777777777778,
              "#fb9f3a"
             ],
             [
              0.8888888888888888,
              "#fdca26"
             ],
             [
              1,
              "#f0f921"
             ]
            ],
            "type": "heatmapgl"
           }
          ],
          "histogram": [
           {
            "marker": {
             "pattern": {
              "fillmode": "overlay",
              "size": 10,
              "solidity": 0.2
             }
            },
            "type": "histogram"
           }
          ],
          "histogram2d": [
           {
            "colorbar": {
             "outlinewidth": 0,
             "ticks": ""
            },
            "colorscale": [
             [
              0,
              "#0d0887"
             ],
             [
              0.1111111111111111,
              "#46039f"
             ],
             [
              0.2222222222222222,
              "#7201a8"
             ],
             [
              0.3333333333333333,
              "#9c179e"
             ],
             [
              0.4444444444444444,
              "#bd3786"
             ],
             [
              0.5555555555555556,
              "#d8576b"
             ],
             [
              0.6666666666666666,
              "#ed7953"
             ],
             [
              0.7777777777777778,
              "#fb9f3a"
             ],
             [
              0.8888888888888888,
              "#fdca26"
             ],
             [
              1,
              "#f0f921"
             ]
            ],
            "type": "histogram2d"
           }
          ],
          "histogram2dcontour": [
           {
            "colorbar": {
             "outlinewidth": 0,
             "ticks": ""
            },
            "colorscale": [
             [
              0,
              "#0d0887"
             ],
             [
              0.1111111111111111,
              "#46039f"
             ],
             [
              0.2222222222222222,
              "#7201a8"
             ],
             [
              0.3333333333333333,
              "#9c179e"
             ],
             [
              0.4444444444444444,
              "#bd3786"
             ],
             [
              0.5555555555555556,
              "#d8576b"
             ],
             [
              0.6666666666666666,
              "#ed7953"
             ],
             [
              0.7777777777777778,
              "#fb9f3a"
             ],
             [
              0.8888888888888888,
              "#fdca26"
             ],
             [
              1,
              "#f0f921"
             ]
            ],
            "type": "histogram2dcontour"
           }
          ],
          "mesh3d": [
           {
            "colorbar": {
             "outlinewidth": 0,
             "ticks": ""
            },
            "type": "mesh3d"
           }
          ],
          "parcoords": [
           {
            "line": {
             "colorbar": {
              "outlinewidth": 0,
              "ticks": ""
             }
            },
            "type": "parcoords"
           }
          ],
          "pie": [
           {
            "automargin": true,
            "type": "pie"
           }
          ],
          "scatter": [
           {
            "fillpattern": {
             "fillmode": "overlay",
             "size": 10,
             "solidity": 0.2
            },
            "type": "scatter"
           }
          ],
          "scatter3d": [
           {
            "line": {
             "colorbar": {
              "outlinewidth": 0,
              "ticks": ""
             }
            },
            "marker": {
             "colorbar": {
              "outlinewidth": 0,
              "ticks": ""
             }
            },
            "type": "scatter3d"
           }
          ],
          "scattercarpet": [
           {
            "marker": {
             "colorbar": {
              "outlinewidth": 0,
              "ticks": ""
             }
            },
            "type": "scattercarpet"
           }
          ],
          "scattergeo": [
           {
            "marker": {
             "colorbar": {
              "outlinewidth": 0,
              "ticks": ""
             }
            },
            "type": "scattergeo"
           }
          ],
          "scattergl": [
           {
            "marker": {
             "colorbar": {
              "outlinewidth": 0,
              "ticks": ""
             }
            },
            "type": "scattergl"
           }
          ],
          "scattermapbox": [
           {
            "marker": {
             "colorbar": {
              "outlinewidth": 0,
              "ticks": ""
             }
            },
            "type": "scattermapbox"
           }
          ],
          "scatterpolar": [
           {
            "marker": {
             "colorbar": {
              "outlinewidth": 0,
              "ticks": ""
             }
            },
            "type": "scatterpolar"
           }
          ],
          "scatterpolargl": [
           {
            "marker": {
             "colorbar": {
              "outlinewidth": 0,
              "ticks": ""
             }
            },
            "type": "scatterpolargl"
           }
          ],
          "scatterternary": [
           {
            "marker": {
             "colorbar": {
              "outlinewidth": 0,
              "ticks": ""
             }
            },
            "type": "scatterternary"
           }
          ],
          "surface": [
           {
            "colorbar": {
             "outlinewidth": 0,
             "ticks": ""
            },
            "colorscale": [
             [
              0,
              "#0d0887"
             ],
             [
              0.1111111111111111,
              "#46039f"
             ],
             [
              0.2222222222222222,
              "#7201a8"
             ],
             [
              0.3333333333333333,
              "#9c179e"
             ],
             [
              0.4444444444444444,
              "#bd3786"
             ],
             [
              0.5555555555555556,
              "#d8576b"
             ],
             [
              0.6666666666666666,
              "#ed7953"
             ],
             [
              0.7777777777777778,
              "#fb9f3a"
             ],
             [
              0.8888888888888888,
              "#fdca26"
             ],
             [
              1,
              "#f0f921"
             ]
            ],
            "type": "surface"
           }
          ],
          "table": [
           {
            "cells": {
             "fill": {
              "color": "#EBF0F8"
             },
             "line": {
              "color": "white"
             }
            },
            "header": {
             "fill": {
              "color": "#C8D4E3"
             },
             "line": {
              "color": "white"
             }
            },
            "type": "table"
           }
          ]
         },
         "layout": {
          "annotationdefaults": {
           "arrowcolor": "#2a3f5f",
           "arrowhead": 0,
           "arrowwidth": 1
          },
          "autotypenumbers": "strict",
          "coloraxis": {
           "colorbar": {
            "outlinewidth": 0,
            "ticks": ""
           }
          },
          "colorscale": {
           "diverging": [
            [
             0,
             "#8e0152"
            ],
            [
             0.1,
             "#c51b7d"
            ],
            [
             0.2,
             "#de77ae"
            ],
            [
             0.3,
             "#f1b6da"
            ],
            [
             0.4,
             "#fde0ef"
            ],
            [
             0.5,
             "#f7f7f7"
            ],
            [
             0.6,
             "#e6f5d0"
            ],
            [
             0.7,
             "#b8e186"
            ],
            [
             0.8,
             "#7fbc41"
            ],
            [
             0.9,
             "#4d9221"
            ],
            [
             1,
             "#276419"
            ]
           ],
           "sequential": [
            [
             0,
             "#0d0887"
            ],
            [
             0.1111111111111111,
             "#46039f"
            ],
            [
             0.2222222222222222,
             "#7201a8"
            ],
            [
             0.3333333333333333,
             "#9c179e"
            ],
            [
             0.4444444444444444,
             "#bd3786"
            ],
            [
             0.5555555555555556,
             "#d8576b"
            ],
            [
             0.6666666666666666,
             "#ed7953"
            ],
            [
             0.7777777777777778,
             "#fb9f3a"
            ],
            [
             0.8888888888888888,
             "#fdca26"
            ],
            [
             1,
             "#f0f921"
            ]
           ],
           "sequentialminus": [
            [
             0,
             "#0d0887"
            ],
            [
             0.1111111111111111,
             "#46039f"
            ],
            [
             0.2222222222222222,
             "#7201a8"
            ],
            [
             0.3333333333333333,
             "#9c179e"
            ],
            [
             0.4444444444444444,
             "#bd3786"
            ],
            [
             0.5555555555555556,
             "#d8576b"
            ],
            [
             0.6666666666666666,
             "#ed7953"
            ],
            [
             0.7777777777777778,
             "#fb9f3a"
            ],
            [
             0.8888888888888888,
             "#fdca26"
            ],
            [
             1,
             "#f0f921"
            ]
           ]
          },
          "colorway": [
           "#636efa",
           "#EF553B",
           "#00cc96",
           "#ab63fa",
           "#FFA15A",
           "#19d3f3",
           "#FF6692",
           "#B6E880",
           "#FF97FF",
           "#FECB52"
          ],
          "font": {
           "color": "#2a3f5f"
          },
          "geo": {
           "bgcolor": "white",
           "lakecolor": "white",
           "landcolor": "#E5ECF6",
           "showlakes": true,
           "showland": true,
           "subunitcolor": "white"
          },
          "hoverlabel": {
           "align": "left"
          },
          "hovermode": "closest",
          "mapbox": {
           "style": "light"
          },
          "paper_bgcolor": "white",
          "plot_bgcolor": "#E5ECF6",
          "polar": {
           "angularaxis": {
            "gridcolor": "white",
            "linecolor": "white",
            "ticks": ""
           },
           "bgcolor": "#E5ECF6",
           "radialaxis": {
            "gridcolor": "white",
            "linecolor": "white",
            "ticks": ""
           }
          },
          "scene": {
           "xaxis": {
            "backgroundcolor": "#E5ECF6",
            "gridcolor": "white",
            "gridwidth": 2,
            "linecolor": "white",
            "showbackground": true,
            "ticks": "",
            "zerolinecolor": "white"
           },
           "yaxis": {
            "backgroundcolor": "#E5ECF6",
            "gridcolor": "white",
            "gridwidth": 2,
            "linecolor": "white",
            "showbackground": true,
            "ticks": "",
            "zerolinecolor": "white"
           },
           "zaxis": {
            "backgroundcolor": "#E5ECF6",
            "gridcolor": "white",
            "gridwidth": 2,
            "linecolor": "white",
            "showbackground": true,
            "ticks": "",
            "zerolinecolor": "white"
           }
          },
          "shapedefaults": {
           "line": {
            "color": "#2a3f5f"
           }
          },
          "ternary": {
           "aaxis": {
            "gridcolor": "white",
            "linecolor": "white",
            "ticks": ""
           },
           "baxis": {
            "gridcolor": "white",
            "linecolor": "white",
            "ticks": ""
           },
           "bgcolor": "#E5ECF6",
           "caxis": {
            "gridcolor": "white",
            "linecolor": "white",
            "ticks": ""
           }
          },
          "title": {
           "x": 0.05
          },
          "xaxis": {
           "automargin": true,
           "gridcolor": "white",
           "linecolor": "white",
           "ticks": "",
           "title": {
            "standoff": 15
           },
           "zerolinecolor": "white",
           "zerolinewidth": 2
          },
          "yaxis": {
           "automargin": true,
           "gridcolor": "white",
           "linecolor": "white",
           "ticks": "",
           "title": {
            "standoff": 15
           },
           "zerolinecolor": "white",
           "zerolinewidth": 2
          }
         }
        },
        "title": {
         "text": "Longitud de ductos troncales por Empresa y Tipo"
        },
        "xaxis": {
         "anchor": "y",
         "domain": [
          0,
          1
         ],
         "tickformat": ".0f",
         "title": {
          "text": "Kilómetros"
         }
        },
        "yaxis": {
         "anchor": "x",
         "domain": [
          0,
          1
         ],
         "title": {
          "text": "Empresa Informante"
         }
        }
       }
      },
      "text/html": [
       "<div>                            <div id=\"edaf0deb-d88c-44b2-a955-e2796aa52324\" class=\"plotly-graph-div\" style=\"height:600px; width:100%;\"></div>            <script type=\"text/javascript\">                require([\"plotly\"], function(Plotly) {                    window.PLOTLYENV=window.PLOTLYENV || {};                                    if (document.getElementById(\"edaf0deb-d88c-44b2-a955-e2796aa52324\")) {                    Plotly.newPlot(                        \"edaf0deb-d88c-44b2-a955-e2796aa52324\",                        [{\"alignmentgroup\":\"True\",\"hovertemplate\":\"variable=ACUEDUCTO<br>value=%{x}<br>y=%{y}<extra></extra>\",\"legendgroup\":\"ACUEDUCTO\",\"marker\":{\"color\":\"#636efa\",\"pattern\":{\"shape\":\"\"}},\"name\":\"ACUEDUCTO\",\"offsetgroup\":\"ACUEDUCTO\",\"orientation\":\"h\",\"showlegend\":true,\"textposition\":\"auto\",\"x\":[0.0,0.0,10.750298857255025,0.0,0.0,0.0,0.0,0.0,0.0,0.0,0.0,350.2189510110064],\"xaxis\":\"x\",\"y\":[\"Otros\",\"CHEVRON ARGENTINA S.R.L.\",\"VISTA OIL & GAS ARGENTINA SAU\",\"PLUSPETROL S.A.\",\"PETROBRAS ARGENTINA S.A.\",\"PETROLEOS SUDAMERICANOS S.A.\",\"PLUSPETROL ENERGY S.A.\",\"OILSTONE ENERGIA S.A.\",\"TECPETROL S.A.\",\"PAN AMERICAN ENERGY (SUCURSAL ARGENTINA) LLC\",\"TOTAL AUSTRAL S.A.\",\"YPF S.A.\"],\"yaxis\":\"y\",\"type\":\"bar\"},{\"alignmentgroup\":\"True\",\"hovertemplate\":\"variable=GASODUCTO<br>value=%{x}<br>y=%{y}<extra></extra>\",\"legendgroup\":\"GASODUCTO\",\"marker\":{\"color\":\"#EF553B\",\"pattern\":{\"shape\":\"\"}},\"name\":\"GASODUCTO\",\"offsetgroup\":\"GASODUCTO\",\"orientation\":\"h\",\"showlegend\":true,\"textposition\":\"auto\",\"x\":[0.0,0.085900607374049,0.0,17.701161903666048,20.38785761181638,26.89353502210179,65.35674470241251,92.37604871393327,224.0821246865001,52.88130141316915,343.8609268013316,1881.8615563127858],\"xaxis\":\"x\",\"y\":[\"Otros\",\"CHEVRON ARGENTINA S.R.L.\",\"VISTA OIL & GAS ARGENTINA SAU\",\"PLUSPETROL S.A.\",\"PETROBRAS ARGENTINA S.A.\",\"PETROLEOS SUDAMERICANOS S.A.\",\"PLUSPETROL ENERGY S.A.\",\"OILSTONE ENERGIA S.A.\",\"TECPETROL S.A.\",\"PAN AMERICAN ENERGY (SUCURSAL ARGENTINA) LLC\",\"TOTAL AUSTRAL S.A.\",\"YPF S.A.\"],\"yaxis\":\"y\",\"type\":\"bar\"},{\"alignmentgroup\":\"True\",\"hovertemplate\":\"variable=OLEODUCTO<br>value=%{x}<br>y=%{y}<extra></extra>\",\"legendgroup\":\"OLEODUCTO\",\"marker\":{\"color\":\"#00cc96\",\"pattern\":{\"shape\":\"\"}},\"name\":\"OLEODUCTO\",\"offsetgroup\":\"OLEODUCTO\",\"orientation\":\"h\",\"showlegend\":true,\"textposition\":\"auto\",\"x\":[0.0,0.0,0.0,0.0,1.6603801552650816,6.67402841395702,0.0,0.5810652555171076,0.0,369.4922686782475,35.453876572348875,167.7872511481266],\"xaxis\":\"x\",\"y\":[\"Otros\",\"CHEVRON ARGENTINA S.R.L.\",\"VISTA OIL & GAS ARGENTINA SAU\",\"PLUSPETROL S.A.\",\"PETROBRAS ARGENTINA S.A.\",\"PETROLEOS SUDAMERICANOS S.A.\",\"PLUSPETROL ENERGY S.A.\",\"OILSTONE ENERGIA S.A.\",\"TECPETROL S.A.\",\"PAN AMERICAN ENERGY (SUCURSAL ARGENTINA) LLC\",\"TOTAL AUSTRAL S.A.\",\"YPF S.A.\"],\"yaxis\":\"y\",\"type\":\"bar\"},{\"alignmentgroup\":\"True\",\"hovertemplate\":\"variable=POLIDUCTO<br>value=%{x}<br>y=%{y}<extra></extra>\",\"legendgroup\":\"POLIDUCTO\",\"marker\":{\"color\":\"#ab63fa\",\"pattern\":{\"shape\":\"\"}},\"name\":\"POLIDUCTO\",\"offsetgroup\":\"POLIDUCTO\",\"orientation\":\"h\",\"showlegend\":true,\"textposition\":\"auto\",\"x\":[0.0,0.0,0.0,0.0,0.0,0.0,0.0,0.0,0.0,0.0,85.93237085908694,0.0],\"xaxis\":\"x\",\"y\":[\"Otros\",\"CHEVRON ARGENTINA S.R.L.\",\"VISTA OIL & GAS ARGENTINA SAU\",\"PLUSPETROL S.A.\",\"PETROBRAS ARGENTINA S.A.\",\"PETROLEOS SUDAMERICANOS S.A.\",\"PLUSPETROL ENERGY S.A.\",\"OILSTONE ENERGIA S.A.\",\"TECPETROL S.A.\",\"PAN AMERICAN ENERGY (SUCURSAL ARGENTINA) LLC\",\"TOTAL AUSTRAL S.A.\",\"YPF S.A.\"],\"yaxis\":\"y\",\"type\":\"bar\"}],                        {\"template\":{\"data\":{\"histogram2dcontour\":[{\"type\":\"histogram2dcontour\",\"colorbar\":{\"outlinewidth\":0,\"ticks\":\"\"},\"colorscale\":[[0.0,\"#0d0887\"],[0.1111111111111111,\"#46039f\"],[0.2222222222222222,\"#7201a8\"],[0.3333333333333333,\"#9c179e\"],[0.4444444444444444,\"#bd3786\"],[0.5555555555555556,\"#d8576b\"],[0.6666666666666666,\"#ed7953\"],[0.7777777777777778,\"#fb9f3a\"],[0.8888888888888888,\"#fdca26\"],[1.0,\"#f0f921\"]]}],\"choropleth\":[{\"type\":\"choropleth\",\"colorbar\":{\"outlinewidth\":0,\"ticks\":\"\"}}],\"histogram2d\":[{\"type\":\"histogram2d\",\"colorbar\":{\"outlinewidth\":0,\"ticks\":\"\"},\"colorscale\":[[0.0,\"#0d0887\"],[0.1111111111111111,\"#46039f\"],[0.2222222222222222,\"#7201a8\"],[0.3333333333333333,\"#9c179e\"],[0.4444444444444444,\"#bd3786\"],[0.5555555555555556,\"#d8576b\"],[0.6666666666666666,\"#ed7953\"],[0.7777777777777778,\"#fb9f3a\"],[0.8888888888888888,\"#fdca26\"],[1.0,\"#f0f921\"]]}],\"heatmap\":[{\"type\":\"heatmap\",\"colorbar\":{\"outlinewidth\":0,\"ticks\":\"\"},\"colorscale\":[[0.0,\"#0d0887\"],[0.1111111111111111,\"#46039f\"],[0.2222222222222222,\"#7201a8\"],[0.3333333333333333,\"#9c179e\"],[0.4444444444444444,\"#bd3786\"],[0.5555555555555556,\"#d8576b\"],[0.6666666666666666,\"#ed7953\"],[0.7777777777777778,\"#fb9f3a\"],[0.8888888888888888,\"#fdca26\"],[1.0,\"#f0f921\"]]}],\"heatmapgl\":[{\"type\":\"heatmapgl\",\"colorbar\":{\"outlinewidth\":0,\"ticks\":\"\"},\"colorscale\":[[0.0,\"#0d0887\"],[0.1111111111111111,\"#46039f\"],[0.2222222222222222,\"#7201a8\"],[0.3333333333333333,\"#9c179e\"],[0.4444444444444444,\"#bd3786\"],[0.5555555555555556,\"#d8576b\"],[0.6666666666666666,\"#ed7953\"],[0.7777777777777778,\"#fb9f3a\"],[0.8888888888888888,\"#fdca26\"],[1.0,\"#f0f921\"]]}],\"contourcarpet\":[{\"type\":\"contourcarpet\",\"colorbar\":{\"outlinewidth\":0,\"ticks\":\"\"}}],\"contour\":[{\"type\":\"contour\",\"colorbar\":{\"outlinewidth\":0,\"ticks\":\"\"},\"colorscale\":[[0.0,\"#0d0887\"],[0.1111111111111111,\"#46039f\"],[0.2222222222222222,\"#7201a8\"],[0.3333333333333333,\"#9c179e\"],[0.4444444444444444,\"#bd3786\"],[0.5555555555555556,\"#d8576b\"],[0.6666666666666666,\"#ed7953\"],[0.7777777777777778,\"#fb9f3a\"],[0.8888888888888888,\"#fdca26\"],[1.0,\"#f0f921\"]]}],\"surface\":[{\"type\":\"surface\",\"colorbar\":{\"outlinewidth\":0,\"ticks\":\"\"},\"colorscale\":[[0.0,\"#0d0887\"],[0.1111111111111111,\"#46039f\"],[0.2222222222222222,\"#7201a8\"],[0.3333333333333333,\"#9c179e\"],[0.4444444444444444,\"#bd3786\"],[0.5555555555555556,\"#d8576b\"],[0.6666666666666666,\"#ed7953\"],[0.7777777777777778,\"#fb9f3a\"],[0.8888888888888888,\"#fdca26\"],[1.0,\"#f0f921\"]]}],\"mesh3d\":[{\"type\":\"mesh3d\",\"colorbar\":{\"outlinewidth\":0,\"ticks\":\"\"}}],\"scatter\":[{\"fillpattern\":{\"fillmode\":\"overlay\",\"size\":10,\"solidity\":0.2},\"type\":\"scatter\"}],\"parcoords\":[{\"type\":\"parcoords\",\"line\":{\"colorbar\":{\"outlinewidth\":0,\"ticks\":\"\"}}}],\"scatterpolargl\":[{\"type\":\"scatterpolargl\",\"marker\":{\"colorbar\":{\"outlinewidth\":0,\"ticks\":\"\"}}}],\"bar\":[{\"error_x\":{\"color\":\"#2a3f5f\"},\"error_y\":{\"color\":\"#2a3f5f\"},\"marker\":{\"line\":{\"color\":\"#E5ECF6\",\"width\":0.5},\"pattern\":{\"fillmode\":\"overlay\",\"size\":10,\"solidity\":0.2}},\"type\":\"bar\"}],\"scattergeo\":[{\"type\":\"scattergeo\",\"marker\":{\"colorbar\":{\"outlinewidth\":0,\"ticks\":\"\"}}}],\"scatterpolar\":[{\"type\":\"scatterpolar\",\"marker\":{\"colorbar\":{\"outlinewidth\":0,\"ticks\":\"\"}}}],\"histogram\":[{\"marker\":{\"pattern\":{\"fillmode\":\"overlay\",\"size\":10,\"solidity\":0.2}},\"type\":\"histogram\"}],\"scattergl\":[{\"type\":\"scattergl\",\"marker\":{\"colorbar\":{\"outlinewidth\":0,\"ticks\":\"\"}}}],\"scatter3d\":[{\"type\":\"scatter3d\",\"line\":{\"colorbar\":{\"outlinewidth\":0,\"ticks\":\"\"}},\"marker\":{\"colorbar\":{\"outlinewidth\":0,\"ticks\":\"\"}}}],\"scattermapbox\":[{\"type\":\"scattermapbox\",\"marker\":{\"colorbar\":{\"outlinewidth\":0,\"ticks\":\"\"}}}],\"scatterternary\":[{\"type\":\"scatterternary\",\"marker\":{\"colorbar\":{\"outlinewidth\":0,\"ticks\":\"\"}}}],\"scattercarpet\":[{\"type\":\"scattercarpet\",\"marker\":{\"colorbar\":{\"outlinewidth\":0,\"ticks\":\"\"}}}],\"carpet\":[{\"aaxis\":{\"endlinecolor\":\"#2a3f5f\",\"gridcolor\":\"white\",\"linecolor\":\"white\",\"minorgridcolor\":\"white\",\"startlinecolor\":\"#2a3f5f\"},\"baxis\":{\"endlinecolor\":\"#2a3f5f\",\"gridcolor\":\"white\",\"linecolor\":\"white\",\"minorgridcolor\":\"white\",\"startlinecolor\":\"#2a3f5f\"},\"type\":\"carpet\"}],\"table\":[{\"cells\":{\"fill\":{\"color\":\"#EBF0F8\"},\"line\":{\"color\":\"white\"}},\"header\":{\"fill\":{\"color\":\"#C8D4E3\"},\"line\":{\"color\":\"white\"}},\"type\":\"table\"}],\"barpolar\":[{\"marker\":{\"line\":{\"color\":\"#E5ECF6\",\"width\":0.5},\"pattern\":{\"fillmode\":\"overlay\",\"size\":10,\"solidity\":0.2}},\"type\":\"barpolar\"}],\"pie\":[{\"automargin\":true,\"type\":\"pie\"}]},\"layout\":{\"autotypenumbers\":\"strict\",\"colorway\":[\"#636efa\",\"#EF553B\",\"#00cc96\",\"#ab63fa\",\"#FFA15A\",\"#19d3f3\",\"#FF6692\",\"#B6E880\",\"#FF97FF\",\"#FECB52\"],\"font\":{\"color\":\"#2a3f5f\"},\"hovermode\":\"closest\",\"hoverlabel\":{\"align\":\"left\"},\"paper_bgcolor\":\"white\",\"plot_bgcolor\":\"#E5ECF6\",\"polar\":{\"bgcolor\":\"#E5ECF6\",\"angularaxis\":{\"gridcolor\":\"white\",\"linecolor\":\"white\",\"ticks\":\"\"},\"radialaxis\":{\"gridcolor\":\"white\",\"linecolor\":\"white\",\"ticks\":\"\"}},\"ternary\":{\"bgcolor\":\"#E5ECF6\",\"aaxis\":{\"gridcolor\":\"white\",\"linecolor\":\"white\",\"ticks\":\"\"},\"baxis\":{\"gridcolor\":\"white\",\"linecolor\":\"white\",\"ticks\":\"\"},\"caxis\":{\"gridcolor\":\"white\",\"linecolor\":\"white\",\"ticks\":\"\"}},\"coloraxis\":{\"colorbar\":{\"outlinewidth\":0,\"ticks\":\"\"}},\"colorscale\":{\"sequential\":[[0.0,\"#0d0887\"],[0.1111111111111111,\"#46039f\"],[0.2222222222222222,\"#7201a8\"],[0.3333333333333333,\"#9c179e\"],[0.4444444444444444,\"#bd3786\"],[0.5555555555555556,\"#d8576b\"],[0.6666666666666666,\"#ed7953\"],[0.7777777777777778,\"#fb9f3a\"],[0.8888888888888888,\"#fdca26\"],[1.0,\"#f0f921\"]],\"sequentialminus\":[[0.0,\"#0d0887\"],[0.1111111111111111,\"#46039f\"],[0.2222222222222222,\"#7201a8\"],[0.3333333333333333,\"#9c179e\"],[0.4444444444444444,\"#bd3786\"],[0.5555555555555556,\"#d8576b\"],[0.6666666666666666,\"#ed7953\"],[0.7777777777777778,\"#fb9f3a\"],[0.8888888888888888,\"#fdca26\"],[1.0,\"#f0f921\"]],\"diverging\":[[0,\"#8e0152\"],[0.1,\"#c51b7d\"],[0.2,\"#de77ae\"],[0.3,\"#f1b6da\"],[0.4,\"#fde0ef\"],[0.5,\"#f7f7f7\"],[0.6,\"#e6f5d0\"],[0.7,\"#b8e186\"],[0.8,\"#7fbc41\"],[0.9,\"#4d9221\"],[1,\"#276419\"]]},\"xaxis\":{\"gridcolor\":\"white\",\"linecolor\":\"white\",\"ticks\":\"\",\"title\":{\"standoff\":15},\"zerolinecolor\":\"white\",\"automargin\":true,\"zerolinewidth\":2},\"yaxis\":{\"gridcolor\":\"white\",\"linecolor\":\"white\",\"ticks\":\"\",\"title\":{\"standoff\":15},\"zerolinecolor\":\"white\",\"automargin\":true,\"zerolinewidth\":2},\"scene\":{\"xaxis\":{\"backgroundcolor\":\"#E5ECF6\",\"gridcolor\":\"white\",\"linecolor\":\"white\",\"showbackground\":true,\"ticks\":\"\",\"zerolinecolor\":\"white\",\"gridwidth\":2},\"yaxis\":{\"backgroundcolor\":\"#E5ECF6\",\"gridcolor\":\"white\",\"linecolor\":\"white\",\"showbackground\":true,\"ticks\":\"\",\"zerolinecolor\":\"white\",\"gridwidth\":2},\"zaxis\":{\"backgroundcolor\":\"#E5ECF6\",\"gridcolor\":\"white\",\"linecolor\":\"white\",\"showbackground\":true,\"ticks\":\"\",\"zerolinecolor\":\"white\",\"gridwidth\":2}},\"shapedefaults\":{\"line\":{\"color\":\"#2a3f5f\"}},\"annotationdefaults\":{\"arrowcolor\":\"#2a3f5f\",\"arrowhead\":0,\"arrowwidth\":1},\"geo\":{\"bgcolor\":\"white\",\"landcolor\":\"#E5ECF6\",\"subunitcolor\":\"white\",\"showland\":true,\"showlakes\":true,\"lakecolor\":\"white\"},\"title\":{\"x\":0.05},\"mapbox\":{\"style\":\"light\"}}},\"xaxis\":{\"anchor\":\"y\",\"domain\":[0.0,1.0],\"title\":{\"text\":\"Kil\\u00f3metros\"},\"tickformat\":\".0f\"},\"yaxis\":{\"anchor\":\"x\",\"domain\":[0.0,1.0],\"title\":{\"text\":\"Empresa Informante\"}},\"legend\":{\"title\":{\"text\":\"variable\"},\"tracegroupgap\":0},\"margin\":{\"t\":60},\"barmode\":\"stack\",\"title\":{\"text\":\"Longitud de ductos troncales por Empresa y Tipo\"},\"height\":600},                        {\"responsive\": true}                    ).then(function(){\n",
       "                            \n",
       "var gd = document.getElementById('edaf0deb-d88c-44b2-a955-e2796aa52324');\n",
       "var x = new MutationObserver(function (mutations, observer) {{\n",
       "        var display = window.getComputedStyle(gd).display;\n",
       "        if (!display || display === 'none') {{\n",
       "            console.log([gd, 'removed!']);\n",
       "            Plotly.purge(gd);\n",
       "            observer.disconnect();\n",
       "        }}\n",
       "}});\n",
       "\n",
       "// Listen for the removal of the full notebook cells\n",
       "var notebookContainer = gd.closest('#notebook-container');\n",
       "if (notebookContainer) {{\n",
       "    x.observe(notebookContainer, {childList: true});\n",
       "}}\n",
       "\n",
       "// Listen for the clearing of the current output cell\n",
       "var outputEl = gd.closest('.output');\n",
       "if (outputEl) {{\n",
       "    x.observe(outputEl, {childList: true});\n",
       "}}\n",
       "\n",
       "                        })                };                });            </script>        </div>"
      ]
     },
     "metadata": {},
     "output_type": "display_data"
    }
   ],
   "source": [
    "fig = px.bar(ultima_empresa_tipo2.iloc[:-1,:-1],y =ultima_empresa_tipo2.iloc[:-1,:-1][\"empresa_informante\"],x=ultima_empresa_tipo2.iloc[:-1,:-1].columns[1:], orientation=\"h\")\n",
    "\n",
    "\n",
    "fig.update_layout(\n",
    "    barmode='stack',\n",
    "    xaxis=dict(title='Kilómetros',tickformat='.0f'),\n",
    "    title='Longitud de ductos troncales por Empresa y Tipo',\n",
    "    yaxis=dict(title=\"Empresa Informante\"),\n",
    "    height=600)\n",
    "\n",
    "fig.write_html(\"Longitud de ductos troncales por empresa y tipo.html\")\n",
    "fig"
   ]
  },
  {
   "cell_type": "code",
   "execution_count": 29,
   "id": "528c04a5",
   "metadata": {},
   "outputs": [
    {
     "data": {
      "application/vnd.plotly.v1+json": {
       "config": {
        "plotlyServerURL": "https://plot.ly"
       },
       "data": [
        {
         "domain": {
          "x": [
           0,
           1
          ],
          "y": [
           0,
           1
          ]
         },
         "hovertemplate": "tipo=%{label}<br>longitud=%{value}<extra></extra>",
         "labels": [
          "GASODUCTO",
          "GASODUCTO",
          "GASODUCTO",
          "GASODUCTO",
          "GASODUCTO",
          "GASODUCTO",
          "GASODUCTO",
          "GASODUCTO",
          "GASODUCTO",
          "GASODUCTO",
          "GASODUCTO",
          "OLEODUCTO",
          "OLEODUCTO",
          "GASODUCTO",
          "GASODUCTO",
          "GASODUCTO",
          "GASODUCTO",
          "GASODUCTO",
          "GASODUCTO",
          "GASODUCTO",
          "GASODUCTO",
          "GASODUCTO",
          "GASODUCTO",
          "GASODUCTO",
          "GASODUCTO",
          "GASODUCTO",
          "OLEODUCTO",
          "GASODUCTO",
          "GASODUCTO",
          "GASODUCTO",
          "GASODUCTO",
          "GASODUCTO",
          "GASODUCTO",
          "GASODUCTO",
          "GASODUCTO",
          "GASODUCTO",
          "GASODUCTO",
          "GASODUCTO",
          "GASODUCTO",
          "OLEODUCTO",
          "OLEODUCTO",
          "OLEODUCTO",
          "OLEODUCTO",
          "OLEODUCTO",
          "OLEODUCTO",
          "OLEODUCTO",
          "OLEODUCTO",
          "OLEODUCTO",
          "OLEODUCTO",
          "OLEODUCTO",
          "OLEODUCTO",
          "OLEODUCTO",
          "OLEODUCTO",
          "OLEODUCTO",
          "OLEODUCTO",
          "OLEODUCTO",
          "OLEODUCTO",
          "OLEODUCTO",
          "OLEODUCTO",
          "OLEODUCTO",
          "OLEODUCTO",
          "OLEODUCTO",
          "OLEODUCTO",
          "OLEODUCTO",
          "OLEODUCTO",
          "OLEODUCTO",
          "OLEODUCTO",
          "OLEODUCTO",
          "GASODUCTO",
          "GASODUCTO",
          "GASODUCTO",
          "GASODUCTO",
          "GASODUCTO",
          "GASODUCTO",
          "GASODUCTO",
          "GASODUCTO",
          "GASODUCTO",
          "GASODUCTO",
          "GASODUCTO",
          "GASODUCTO",
          "GASODUCTO",
          "GASODUCTO",
          "GASODUCTO",
          "GASODUCTO",
          "GASODUCTO",
          "GASODUCTO",
          "GASODUCTO",
          "GASODUCTO",
          "GASODUCTO",
          "GASODUCTO",
          "GASODUCTO",
          "GASODUCTO",
          "GASODUCTO",
          "GASODUCTO",
          "GASODUCTO",
          "GASODUCTO",
          "GASODUCTO",
          "GASODUCTO",
          "GASODUCTO",
          "GASODUCTO",
          "GASODUCTO",
          "GASODUCTO",
          "GASODUCTO",
          "GASODUCTO",
          "GASODUCTO",
          "GASODUCTO",
          "GASODUCTO",
          "GASODUCTO",
          "GASODUCTO",
          "GASODUCTO",
          "GASODUCTO",
          "GASODUCTO",
          "GASODUCTO",
          "GASODUCTO",
          "GASODUCTO",
          "GASODUCTO",
          "GASODUCTO",
          "GASODUCTO",
          "GASODUCTO",
          "GASODUCTO",
          "GASODUCTO",
          "GASODUCTO",
          "GASODUCTO",
          "GASODUCTO",
          "GASODUCTO",
          "GASODUCTO",
          "GASODUCTO",
          "GASODUCTO",
          "ACUEDUCTO",
          "ACUEDUCTO",
          "ACUEDUCTO",
          "ACUEDUCTO",
          "ACUEDUCTO",
          "ACUEDUCTO",
          "ACUEDUCTO",
          "GASODUCTO",
          "GASODUCTO",
          "GASODUCTO",
          "GASODUCTO",
          "GASODUCTO",
          "GASODUCTO",
          "GASODUCTO",
          "GASODUCTO",
          "GASODUCTO",
          "GASODUCTO",
          "GASODUCTO",
          "GASODUCTO",
          "GASODUCTO",
          "GASODUCTO",
          "GASODUCTO",
          "GASODUCTO",
          "GASODUCTO",
          "GASODUCTO",
          "GASODUCTO",
          "GASODUCTO",
          "GASODUCTO",
          "GASODUCTO",
          "GASODUCTO",
          "GASODUCTO",
          "GASODUCTO",
          "GASODUCTO",
          "GASODUCTO",
          "GASODUCTO",
          "GASODUCTO",
          "GASODUCTO",
          "GASODUCTO",
          "ACUEDUCTO",
          "ACUEDUCTO",
          "ACUEDUCTO",
          "ACUEDUCTO",
          "GASODUCTO",
          "GASODUCTO",
          "GASODUCTO",
          "GASODUCTO",
          "GASODUCTO",
          "GASODUCTO",
          "GASODUCTO",
          "GASODUCTO",
          "GASODUCTO",
          "ACUEDUCTO",
          "ACUEDUCTO",
          "GASODUCTO",
          "GASODUCTO",
          "GASODUCTO",
          "GASODUCTO",
          "GASODUCTO",
          "GASODUCTO",
          "GASODUCTO",
          "GASODUCTO",
          "GASODUCTO",
          "GASODUCTO",
          "GASODUCTO",
          "OLEODUCTO",
          "OLEODUCTO",
          "OLEODUCTO",
          "OLEODUCTO",
          "OLEODUCTO",
          "OLEODUCTO",
          "OLEODUCTO",
          "OLEODUCTO",
          "OLEODUCTO",
          "OLEODUCTO",
          "OLEODUCTO",
          "OLEODUCTO",
          "OLEODUCTO",
          "OLEODUCTO",
          "OLEODUCTO",
          "OLEODUCTO",
          "OLEODUCTO",
          "OLEODUCTO",
          "OLEODUCTO",
          "OLEODUCTO",
          "OLEODUCTO",
          "OLEODUCTO",
          "OLEODUCTO",
          "OLEODUCTO",
          "OLEODUCTO",
          "OLEODUCTO",
          "OLEODUCTO",
          "OLEODUCTO",
          "OLEODUCTO",
          "OLEODUCTO",
          "OLEODUCTO",
          "OLEODUCTO",
          "OLEODUCTO",
          "OLEODUCTO",
          "GASODUCTO",
          "OLEODUCTO",
          "OLEODUCTO",
          "OLEODUCTO",
          "OLEODUCTO",
          "OLEODUCTO",
          "OLEODUCTO",
          "OLEODUCTO",
          "OLEODUCTO",
          "OLEODUCTO",
          "OLEODUCTO",
          "OLEODUCTO",
          "OLEODUCTO",
          "GASODUCTO",
          "GASODUCTO",
          "GASODUCTO",
          "OLEODUCTO",
          "OLEODUCTO",
          "OLEODUCTO",
          "OLEODUCTO",
          "OLEODUCTO",
          "OLEODUCTO",
          "OLEODUCTO",
          "OLEODUCTO",
          "OLEODUCTO",
          "OLEODUCTO",
          "OLEODUCTO",
          "ACUEDUCTO",
          "OLEODUCTO",
          "OLEODUCTO",
          "ACUEDUCTO",
          "ACUEDUCTO",
          "ACUEDUCTO",
          "ACUEDUCTO",
          "ACUEDUCTO",
          "ACUEDUCTO",
          "ACUEDUCTO",
          "ACUEDUCTO",
          "ACUEDUCTO",
          "ACUEDUCTO",
          "ACUEDUCTO",
          "ACUEDUCTO",
          "ACUEDUCTO",
          "GASODUCTO",
          "GASODUCTO",
          "GASODUCTO",
          "GASODUCTO",
          "GASODUCTO",
          "GASODUCTO",
          "GASODUCTO",
          "GASODUCTO",
          "GASODUCTO",
          "GASODUCTO",
          "GASODUCTO",
          "GASODUCTO",
          "GASODUCTO",
          "GASODUCTO",
          "GASODUCTO",
          "GASODUCTO",
          "GASODUCTO",
          "GASODUCTO",
          "GASODUCTO",
          "GASODUCTO",
          "GASODUCTO",
          "GASODUCTO",
          "GASODUCTO",
          "GASODUCTO",
          "GASODUCTO",
          "GASODUCTO",
          "GASODUCTO",
          "GASODUCTO",
          "GASODUCTO",
          "GASODUCTO",
          "GASODUCTO",
          "GASODUCTO",
          "GASODUCTO",
          "GASODUCTO",
          "GASODUCTO",
          "GASODUCTO",
          "GASODUCTO",
          "GASODUCTO",
          "GASODUCTO",
          "GASODUCTO",
          "GASODUCTO",
          "GASODUCTO",
          "GASODUCTO",
          "GASODUCTO",
          "GASODUCTO",
          "GASODUCTO",
          "GASODUCTO",
          "GASODUCTO",
          "GASODUCTO",
          "GASODUCTO",
          "GASODUCTO",
          "GASODUCTO",
          "GASODUCTO",
          "GASODUCTO",
          "GASODUCTO",
          "GASODUCTO",
          "GASODUCTO",
          "GASODUCTO",
          "GASODUCTO",
          "GASODUCTO",
          "GASODUCTO",
          "GASODUCTO",
          "GASODUCTO",
          "GASODUCTO",
          "GASODUCTO",
          "GASODUCTO",
          "GASODUCTO",
          "GASODUCTO",
          "GASODUCTO",
          "GASODUCTO",
          "GASODUCTO",
          "GASODUCTO",
          "GASODUCTO",
          "GASODUCTO",
          "GASODUCTO",
          "GASODUCTO",
          "GASODUCTO",
          "GASODUCTO",
          "GASODUCTO",
          "GASODUCTO",
          "GASODUCTO",
          "GASODUCTO",
          "GASODUCTO",
          "GASODUCTO",
          "GASODUCTO",
          "GASODUCTO",
          "GASODUCTO",
          "GASODUCTO",
          "GASODUCTO",
          "GASODUCTO",
          "GASODUCTO",
          "GASODUCTO",
          "GASODUCTO",
          "GASODUCTO",
          "GASODUCTO",
          "GASODUCTO",
          "GASODUCTO",
          "GASODUCTO",
          "GASODUCTO",
          "GASODUCTO",
          "GASODUCTO",
          "GASODUCTO",
          "GASODUCTO",
          "GASODUCTO",
          "GASODUCTO",
          "GASODUCTO",
          "GASODUCTO",
          "GASODUCTO",
          "GASODUCTO",
          "GASODUCTO",
          "GASODUCTO",
          "GASODUCTO",
          "GASODUCTO",
          "GASODUCTO",
          "GASODUCTO",
          "GASODUCTO",
          "GASODUCTO",
          "GASODUCTO",
          "GASODUCTO",
          "GASODUCTO",
          "GASODUCTO",
          "GASODUCTO",
          "GASODUCTO",
          "GASODUCTO",
          "GASODUCTO",
          "GASODUCTO",
          "GASODUCTO",
          "GASODUCTO",
          "GASODUCTO",
          "GASODUCTO",
          "GASODUCTO",
          "GASODUCTO",
          "GASODUCTO",
          "GASODUCTO",
          "GASODUCTO",
          "GASODUCTO",
          "GASODUCTO",
          "GASODUCTO",
          "GASODUCTO",
          "GASODUCTO",
          "GASODUCTO",
          "GASODUCTO",
          "GASODUCTO",
          "GASODUCTO",
          "GASODUCTO",
          "GASODUCTO",
          "GASODUCTO",
          "GASODUCTO",
          "GASODUCTO",
          "GASODUCTO",
          "GASODUCTO",
          "GASODUCTO",
          "GASODUCTO",
          "GASODUCTO",
          "GASODUCTO",
          "GASODUCTO",
          "GASODUCTO",
          "GASODUCTO",
          "GASODUCTO",
          "GASODUCTO",
          "GASODUCTO",
          "GASODUCTO",
          "GASODUCTO",
          "GASODUCTO",
          "GASODUCTO",
          "GASODUCTO",
          "GASODUCTO",
          "GASODUCTO",
          "GASODUCTO",
          "GASODUCTO",
          "GASODUCTO",
          "GASODUCTO",
          "GASODUCTO",
          "GASODUCTO",
          "GASODUCTO",
          "GASODUCTO",
          "GASODUCTO",
          "GASODUCTO",
          "GASODUCTO",
          "GASODUCTO",
          "GASODUCTO",
          "GASODUCTO",
          "GASODUCTO",
          "GASODUCTO",
          "GASODUCTO",
          "GASODUCTO",
          "GASODUCTO",
          "GASODUCTO",
          "GASODUCTO",
          "GASODUCTO",
          "GASODUCTO",
          "GASODUCTO",
          "GASODUCTO",
          "GASODUCTO",
          "GASODUCTO",
          "GASODUCTO",
          "GASODUCTO",
          "GASODUCTO",
          "GASODUCTO",
          "GASODUCTO",
          "GASODUCTO",
          "GASODUCTO",
          "GASODUCTO",
          "GASODUCTO",
          "GASODUCTO",
          "GASODUCTO",
          "GASODUCTO",
          "GASODUCTO",
          "GASODUCTO",
          "GASODUCTO",
          "GASODUCTO",
          "GASODUCTO",
          "GASODUCTO",
          "GASODUCTO",
          "GASODUCTO",
          "GASODUCTO",
          "GASODUCTO",
          "GASODUCTO",
          "GASODUCTO",
          "GASODUCTO",
          "GASODUCTO",
          "GASODUCTO",
          "GASODUCTO",
          "GASODUCTO",
          "GASODUCTO",
          "ACUEDUCTO",
          "GASODUCTO",
          "GASODUCTO",
          "ACUEDUCTO",
          "ACUEDUCTO",
          "ACUEDUCTO",
          "GASODUCTO",
          "GASODUCTO",
          "GASODUCTO",
          "GASODUCTO",
          "GASODUCTO",
          "GASODUCTO",
          "GASODUCTO",
          "GASODUCTO",
          "GASODUCTO",
          "GASODUCTO",
          "GASODUCTO",
          "GASODUCTO",
          "GASODUCTO",
          "GASODUCTO",
          "GASODUCTO",
          "ACUEDUCTO",
          "OLEODUCTO",
          "OLEODUCTO",
          "OLEODUCTO",
          "OLEODUCTO",
          "OLEODUCTO",
          "OLEODUCTO",
          "OLEODUCTO",
          "OLEODUCTO",
          "OLEODUCTO",
          "OLEODUCTO",
          "OLEODUCTO",
          "OLEODUCTO",
          "OLEODUCTO",
          "OLEODUCTO",
          "OLEODUCTO",
          "OLEODUCTO",
          "OLEODUCTO",
          "OLEODUCTO",
          "OLEODUCTO",
          "OLEODUCTO",
          "OLEODUCTO",
          "OLEODUCTO",
          "OLEODUCTO",
          "OLEODUCTO",
          "OLEODUCTO",
          "OLEODUCTO",
          "OLEODUCTO",
          "OLEODUCTO",
          "OLEODUCTO",
          "GASODUCTO",
          "GASODUCTO",
          "GASODUCTO",
          "GASODUCTO",
          "GASODUCTO",
          "GASODUCTO",
          "GASODUCTO",
          "GASODUCTO",
          "GASODUCTO",
          "GASODUCTO",
          "GASODUCTO",
          "GASODUCTO",
          "GASODUCTO",
          "GASODUCTO",
          "GASODUCTO",
          "GASODUCTO",
          "GASODUCTO",
          "GASODUCTO",
          "GASODUCTO",
          "GASODUCTO",
          "GASODUCTO",
          "GASODUCTO",
          "GASODUCTO",
          "GASODUCTO",
          "GASODUCTO",
          "GASODUCTO",
          "GASODUCTO",
          "ACUEDUCTO",
          "GASODUCTO",
          "GASODUCTO",
          "GASODUCTO",
          "GASODUCTO",
          "GASODUCTO",
          "GASODUCTO",
          "GASODUCTO",
          "GASODUCTO",
          "GASODUCTO",
          "GASODUCTO",
          "GASODUCTO",
          "GASODUCTO",
          "GASODUCTO",
          "GASODUCTO",
          "GASODUCTO",
          "GASODUCTO",
          "GASODUCTO",
          "GASODUCTO",
          "GASODUCTO",
          "GASODUCTO",
          "GASODUCTO",
          "GASODUCTO",
          "GASODUCTO",
          "GASODUCTO",
          "GASODUCTO",
          "GASODUCTO",
          "GASODUCTO",
          "GASODUCTO",
          "GASODUCTO",
          "GASODUCTO",
          "GASODUCTO",
          "GASODUCTO",
          "GASODUCTO",
          "GASODUCTO",
          "GASODUCTO",
          "GASODUCTO",
          "GASODUCTO",
          "GASODUCTO",
          "GASODUCTO",
          "GASODUCTO",
          "GASODUCTO",
          "GASODUCTO",
          "GASODUCTO",
          "GASODUCTO",
          "GASODUCTO",
          "GASODUCTO",
          "GASODUCTO",
          "GASODUCTO",
          "GASODUCTO",
          "GASODUCTO",
          "GASODUCTO",
          "GASODUCTO",
          "GASODUCTO",
          "GASODUCTO",
          "GASODUCTO",
          "GASODUCTO",
          "GASODUCTO",
          "GASODUCTO",
          "GASODUCTO",
          "ACUEDUCTO",
          "ACUEDUCTO",
          "ACUEDUCTO",
          "ACUEDUCTO",
          "GASODUCTO",
          "GASODUCTO",
          "GASODUCTO",
          "GASODUCTO",
          "GASODUCTO",
          "GASODUCTO",
          "GASODUCTO",
          "GASODUCTO",
          "GASODUCTO",
          "GASODUCTO",
          "GASODUCTO",
          "GASODUCTO",
          "GASODUCTO",
          "GASODUCTO",
          "GASODUCTO",
          "GASODUCTO",
          "GASODUCTO",
          "GASODUCTO",
          "GASODUCTO",
          "GASODUCTO",
          "GASODUCTO",
          "GASODUCTO",
          "GASODUCTO",
          "GASODUCTO",
          "GASODUCTO",
          "GASODUCTO",
          "GASODUCTO",
          "GASODUCTO",
          "GASODUCTO",
          "GASODUCTO",
          "GASODUCTO",
          "GASODUCTO",
          "GASODUCTO",
          "GASODUCTO",
          "GASODUCTO",
          "GASODUCTO",
          "GASODUCTO",
          "GASODUCTO",
          "GASODUCTO",
          "GASODUCTO",
          "GASODUCTO",
          "ACUEDUCTO",
          "ACUEDUCTO",
          "ACUEDUCTO",
          "GASODUCTO",
          "GASODUCTO",
          "GASODUCTO",
          "GASODUCTO",
          "GASODUCTO",
          "GASODUCTO",
          "GASODUCTO",
          "GASODUCTO",
          "GASODUCTO",
          "GASODUCTO",
          "GASODUCTO",
          "GASODUCTO",
          "GASODUCTO",
          "GASODUCTO",
          "GASODUCTO",
          "ACUEDUCTO",
          "ACUEDUCTO",
          "GASODUCTO",
          "GASODUCTO",
          "GASODUCTO",
          "GASODUCTO",
          "GASODUCTO",
          "GASODUCTO",
          "GASODUCTO",
          "GASODUCTO",
          "GASODUCTO",
          "GASODUCTO",
          "GASODUCTO",
          "OLEODUCTO",
          "GASODUCTO",
          "GASODUCTO",
          "GASODUCTO",
          "OLEODUCTO",
          "POLIDUCTO",
          "GASODUCTO",
          "GASODUCTO",
          "GASODUCTO",
          "GASODUCTO",
          "GASODUCTO",
          "GASODUCTO",
          "GASODUCTO",
          "GASODUCTO",
          "GASODUCTO",
          "GASODUCTO",
          "GASODUCTO",
          "GASODUCTO",
          "GASODUCTO",
          "GASODUCTO",
          "GASODUCTO",
          "GASODUCTO",
          "GASODUCTO",
          "GASODUCTO",
          "GASODUCTO",
          "GASODUCTO",
          "GASODUCTO",
          "GASODUCTO",
          "GASODUCTO",
          "GASODUCTO",
          "GASODUCTO",
          "GASODUCTO",
          "GASODUCTO",
          "GASODUCTO",
          "GASODUCTO",
          "GASODUCTO",
          "OLEODUCTO",
          "GASODUCTO",
          "GASODUCTO",
          "GASODUCTO",
          "GASODUCTO",
          "GASODUCTO",
          "GASODUCTO",
          "GASODUCTO",
          "GASODUCTO",
          "GASODUCTO",
          "GASODUCTO",
          "GASODUCTO",
          "GASODUCTO",
          "GASODUCTO",
          "GASODUCTO",
          "GASODUCTO",
          "GASODUCTO",
          "GASODUCTO",
          "GASODUCTO",
          "GASODUCTO",
          "GASODUCTO",
          "GASODUCTO",
          "GASODUCTO",
          "GASODUCTO",
          "GASODUCTO",
          "GASODUCTO",
          "GASODUCTO",
          "GASODUCTO",
          "GASODUCTO",
          "GASODUCTO",
          "GASODUCTO",
          "GASODUCTO",
          "GASODUCTO",
          "GASODUCTO",
          "GASODUCTO",
          "GASODUCTO",
          "GASODUCTO",
          "GASODUCTO",
          "GASODUCTO",
          "GASODUCTO",
          "GASODUCTO",
          "GASODUCTO",
          "GASODUCTO",
          "GASODUCTO",
          "GASODUCTO",
          "GASODUCTO",
          "GASODUCTO",
          "GASODUCTO",
          "GASODUCTO",
          "GASODUCTO",
          "GASODUCTO",
          "GASODUCTO",
          "GASODUCTO",
          "GASODUCTO",
          "GASODUCTO",
          "GASODUCTO",
          "GASODUCTO",
          "GASODUCTO",
          "GASODUCTO",
          "GASODUCTO",
          "GASODUCTO",
          "GASODUCTO",
          "GASODUCTO",
          "GASODUCTO",
          "GASODUCTO",
          "GASODUCTO",
          "GASODUCTO",
          "GASODUCTO",
          "GASODUCTO",
          "GASODUCTO",
          "GASODUCTO",
          "GASODUCTO",
          "GASODUCTO",
          "GASODUCTO",
          "GASODUCTO",
          "GASODUCTO",
          "GASODUCTO",
          "GASODUCTO",
          "GASODUCTO",
          "GASODUCTO",
          "GASODUCTO",
          "OLEODUCTO",
          "OLEODUCTO",
          "ACUEDUCTO",
          "ACUEDUCTO",
          "GASODUCTO",
          "GASODUCTO",
          "GASODUCTO",
          "GASODUCTO",
          "GASODUCTO",
          "GASODUCTO",
          "GASODUCTO",
          "ACUEDUCTO",
          "ACUEDUCTO",
          "OLEODUCTO"
         ],
         "legendgroup": "",
         "name": "",
         "showlegend": true,
         "type": "pie",
         "values": [
          23.37989329987204,
          17.256944897161908,
          2.955635301661116,
          1.629648530101058,
          12.264041057355843,
          0.085900607374049,
          10.44022221639727,
          0.5328111860691467,
          2.96067257392658,
          3.74709733527213,
          0.2953236360334582,
          6.612484120964182,
          0.0615442929928378,
          4.911736484099336,
          6.120823513248668,
          0.0484532764631724,
          57.08150273019829,
          5.309298141157794,
          4.903075276122869,
          28.0353196118633,
          2.2256462049283097,
          26.686812118296988,
          6.346285761969309,
          3.897907132950703,
          5.0653741553961655,
          5.078290561500203,
          1.6603801552650816,
          1.032837876268139,
          17.653802513836546,
          25.126403833942017,
          14.51398641102862,
          9.275132678298489,
          4.3796006538358,
          0.3366241075583502,
          0.9890040997830648,
          17.344450058594695,
          1.7032829275228492,
          13.724691059080676,
          3.2682882123234114,
          8.099315982142526,
          10.113947378104614,
          8.296149053913073,
          18.88387584187469,
          6.945816229195312,
          3.572034059097267,
          1.0487388247857443,
          9.905137485213354,
          2.5497639362706206,
          1.679168703554633,
          5.077446021518226,
          0.8024150042633349,
          21.41665023615978,
          7.887457660416573,
          9.175272753449844,
          1.4078831461064616,
          3.849536032109845,
          9.444654269311815,
          2.024041590309912,
          0.9573524947405664,
          4.025913345891223,
          2.031336514525504,
          10.482577100508529,
          3.149388784449477,
          0.4797252065068322,
          1.2257776775786198,
          7.206069641881547,
          10.607706318279863,
          9.069110018114406,
          0.0903231974632919,
          1.8631034529443264,
          0.3280430593080126,
          0.01277810627655,
          4.028878337920286,
          0.0281625638039968,
          0.0028160255681723,
          0.5197548350705522,
          0.0802168311513948,
          0.5183063861958704,
          1.8326303924286529,
          0.5175305078118899,
          4.891509920442352,
          32.61656618812809,
          0.0107786826651296,
          24.09706384728156,
          4.04044595949878,
          1.8353987801687035,
          0.0038183766178106,
          0.0027892651360575,
          0.360646139565335,
          0.01277810627655,
          1.9119154893187784,
          0.1050908654448172,
          0.1204548501009777,
          0.0676782414141159,
          0.8181909619654537,
          32.74017851428442,
          23.97385130142264,
          0.0141226768000315,
          0.0559890214184863,
          0.01164560002685,
          0.1491331166793932,
          5.960426056179455,
          0.0139032370321628,
          3.5780196562341486,
          0.2770252248212199,
          1.572150001239199,
          0.0845092221709309,
          0.0282453536000631,
          0.0226922724562698,
          5.301826322436069,
          0.1040800197105551,
          4.061024679951104,
          1.854574219086752,
          10.71177273563519,
          2.5159487418420805,
          1.7189001862780977,
          0.2770246286029669,
          0.4999847240566442,
          0.0528000104621782,
          1.4138037375341816,
          3.63002954393596,
          5.531171950826465,
          4.801375085090855,
          4.86183249207871,
          7.457279209134058,
          11.026735393191226,
          14.508958739475784,
          6.172039433888754,
          9.489324859309104,
          5.794855257231466,
          2.4485184043878223,
          9.321643491250516,
          6.18103293725436,
          2.1400816756542795,
          2.827197550267567,
          12.264041057355843,
          0.4581740706816751,
          1.3408934346181158,
          7.81186173386106,
          1.3097366427034178,
          0.3465550732904041,
          2.8430373305878858,
          0.6332742386618825,
          0.2547826818241728,
          0.3446778117406039,
          0.9106759689475222,
          0.32736604524999,
          3.007220537220641,
          3.692887653744047,
          2.112809124731167,
          0.7514947679705732,
          1.0967297330788228,
          0.0079309520234785,
          1.359603632393395,
          13.427826235468002,
          0.0231175258190797,
          4.231674049664297,
          0.1372447866102324,
          3.3847888563127606,
          2.7682206404439835,
          1.3565906034427653,
          13.835443477691015,
          10.84929786981833,
          1.4762997712703785,
          2.3425629774366263,
          0.4330268892180799,
          24.970442236838927,
          0.4488161966383729,
          0.0381561306368564,
          2.348627440803125,
          7.202342456412601,
          8.242596769537272,
          4.261940619168898,
          0.0321829917794994,
          14.417485927634038,
          1.232542681848054,
          1.2764669897112864,
          0.1920772977932896,
          8.098497392652796,
          3.569173193740592,
          2.340508759638306,
          1.7753509094632105,
          0.3156012710738706,
          1.4676296064770584,
          1.9129530668143984,
          2.731064505760481,
          2.955635301661116,
          1.629648530101058,
          2.8134691430760266,
          0.4663278268653592,
          0.4157235653665345,
          2.874226564141364,
          0.2899144230977502,
          0.0106550457535691,
          0.4348462754510043,
          0.5505043717783363,
          0.0020099751248763,
          0.9026218566356492,
          8.943811548148865,
          0.0007211102552428,
          0.8145880169396732,
          0.000635917360031,
          0.348582108730283,
          0.0119885697893264,
          0.0056603886787259,
          0.2902349239735532,
          0.0057035076924667,
          0.1779399123514263,
          0.000360555126636,
          0.0004472135956419,
          0.0673404845173176,
          0.0044011362163797,
          0.0003605551272272,
          0.2490094113901666,
          0.0017033270048098,
          0.0004472135950063,
          0.0011440306516396,
          0.3502487954973722,
          0.2065089198137354,
          0.0003605551272272,
          0.0003605551272272,
          0.0012165525057916,
          0.0011045361003452,
          0.0022024984388568,
          0.0014328973781221,
          0.0013342650088624,
          5.072270598547915,
          0.0012727922064393,
          0.0989247236781101,
          0.6884540528203702,
          0.1738829683106157,
          0.002686598146014,
          0.0736205144088761,
          0.691663313318909,
          2.0351833613075083,
          0.0015652475837933,
          0.005162363800345,
          0.0022840329655071,
          0.003496048807088,
          8.242596769537272,
          1.2526268579378468,
          51.26831141886501,
          0.0097557468968849,
          0.0053851648072604,
          0.7460770006875852,
          0.0039560080892922,
          0.0091105565604967,
          0.0050695167418594,
          0.1984274573616744,
          0.1141805156154106,
          0.0049193495507899,
          0.0019849433235909,
          0.1038344923056396,
          1.0121985534524989,
          0.0967405295500614,
          0.2412747696665768,
          16.710277575502964,
          0.047644677446662,
          0.5464371116251697,
          0.1672763282720523,
          2.353371342420912,
          13.173837170126925,
          2.7554683772335142,
          0.2079036850783944,
          4.518880735423512,
          2.159921141687317,
          4.182327073597506,
          4.237774813455789,
          0.068653404867379,
          6.80497391304408,
          6.362694581808517,
          0.6569860380923345,
          0.0327783985042992,
          1.8030889925472848,
          3.5589262391169907,
          0.3863203017985413,
          10.14962999472489,
          0.1190131404793269,
          0.0293124546902644,
          0.037664970463018,
          2.4799307325612934,
          6.12772272528276,
          1.780728726275914,
          9.278467589182744,
          9.970878368487853,
          4.014824073880422,
          0.3168827187662734,
          0.9890040997830648,
          0.0842377743056334,
          0.8209995271039504,
          0.0377922772596645,
          0.249947067478806,
          0.359088225205958,
          0.1447100145256681,
          2.6984627256715794,
          7.487007294173919,
          0.3948652979521841,
          0.1304987416727643,
          1.3088486528967973,
          0.0005242640688955,
          9.071768093991952,
          3.906144818358519,
          0.028358161340242,
          2.842963263217988,
          0.6129410936593838,
          1.6710241235302803,
          3.0124809582675827,
          5.13410252472617,
          0.5541853214917266,
          2.890535363842609,
          0.0854199631814393,
          1.4851198190688883,
          0.1361073179890998,
          3.144113369800763,
          0.9230711145956724,
          15.64978328148993,
          0.0004123105628994,
          0.2824683260256598,
          0.2187701178846108,
          0.0305665162840773,
          0.0098005101905553,
          2.781843595210275,
          0.0047265209187604,
          5.514273077292856,
          0.0417264354801273,
          46.52552374612659,
          0.3598684801723912,
          2.039907035081199,
          0.0161335055092832,
          3.2941975671093062,
          3.5579581766981607,
          3.157760727846122,
          44.11746272203717,
          5.631639630588609,
          1.0445217831523812,
          14.723266867620136,
          0.0022803508502989,
          1.0610411479739268,
          1.7306451549276372,
          6.752716226225291,
          10.84929786981833,
          3.73262654776222,
          3.2280355553153783,
          0.3392906609101291,
          0.2077733948624064,
          4.90796257771563,
          1.4760591254718898,
          0.384584140488575,
          13.83545183665741,
          0.3544737849241529,
          0.3628942598642525,
          2.537413848887348,
          7.81186173386106,
          7.1441693194748845,
          2.3479793013744974,
          2.825030324943661,
          1.2964765511021108,
          4.2285571784935,
          3.194654430091686,
          13.427826235468002,
          5.999073026593896,
          1.6748879286693872,
          8.934417799555398,
          6.957318033439544,
          28.753343735671788,
          1.8397785916819096,
          6.379773070344132,
          10.738802237353202,
          1.3565906034427653,
          1.8937212194624344,
          3.597101281995515,
          9.27507411763616,
          3.555982668126003,
          3.922251208280161,
          3.689829331135338,
          0.6772246936428608,
          0.5763817709392012,
          2.000224876747524,
          2.9439332563231604,
          1.854718301510542,
          34.99825257243124,
          0.0908278479226668,
          9.420880555093444,
          3.50006240581305,
          6.115301660127407,
          7.519331194658497,
          0.0815661988114856,
          0.0868925392884338,
          0.0149286902190372,
          0.1901148592044324,
          1.0326817651347806,
          6.288257740822943,
          3.007648414675599,
          3.985414706738639,
          4.372682104972365,
          1.582018455197286,
          0.0483718225436465,
          0.0806895792223288,
          34.94268497146364,
          27.5830295187912,
          7.83782180705253,
          2.8126769674486387,
          0.0109635760576166,
          0,
          0.0019416487829448,
          0.0001000000011686,
          0.0016970562745824,
          0.0016643316982461,
          0.0015264337519312,
          0.0006708203931451,
          0.0011313708500566,
          0.0004242640696504,
          0.0020615528131529,
          15.649855985040944,
          0,
          0.0011401754253364,
          0.0008485281377936,
          0.6330573946513626,
          2.0399211452553168,
          0.0012727922059368,
          0.0001000000011686,
          0.0001414213558802,
          9.999999974752428e-05,
          0.0021840329657596,
          1.3565243257192878,
          46.525519353230415,
          10.848905704596133,
          34.99824239928569,
          0.20764115608566,
          0.1446156526723983,
          0.0022203603310477,
          0.0925324354019281,
          0.0003605551270302,
          0.0001414213563826,
          0,
          2.8430373305878858,
          0.0115108644326158,
          0.0010049875616957,
          5.9990367704242304,
          0.0036796738978202,
          0.0013453624048492,
          0.0016278820595156,
          0.0007071067823153,
          9.999999974752428e-05,
          0.0020518284532287,
          0.0001414213568851,
          0.0418094716411747,
          0.0009433981139871,
          0.0009307135785964,
          0.0055154328928955,
          2.8906683110560683,
          0.0003605551278184,
          0.0006082762528958,
          1.4762997712703785,
          1.893891492005905,
          0.0013453624048492,
          0.0012727922064393,
          0.0015811388296423,
          0.0043863424403838,
          0.923028502474946,
          0.0016643316982461,
          0.0007211102548487,
          0.3543738359496203,
          0.0006403124236802,
          7.811919226220751,
          0.1361073179895347,
          0.0034465412291803,
          0.0868109183970353,
          0.001400000000018,
          0.0012727922054344,
          0.0023600847438221,
          0.0019209372703748,
          0.0012369316890429,
          0.0015811388296423,
          0.0002236067975031,
          0.0005000000003008,
          0.0053740115375177,
          0.0008062257750857,
          0.0035383612032159,
          0,
          0.1966081869542608,
          0.0022627417001132,
          0.0427724973748464,
          0.0012041594573763,
          0.0017117242767747,
          0.0007071067815114,
          44.11743321314309,
          3.5558668418988413,
          0.0016643316974349,
          0.0019798989868454,
          13.427828186805414,
          0.0005656854245258,
          0.0007810249676202,
          10.149491469465993,
          13.173900548375848,
          12.263969746839877,
          0.8314833053453241,
          3.569318847173059,
          8.17408593399903,
          26.438663986800503,
          3.9004839946961134,
          5.033890665149992,
          7.219936803994953,
          0.3438661747690836,
          8.187823295702888,
          0.817919489193449,
          2.0715652035895484,
          8.242606925657068,
          1.1034914326753724,
          29.32857455830978,
          3.156975730327135,
          5.055435852307087,
          4.10206157961616,
          4.261913612511918,
          0.032179656723981,
          5.3751494286275125,
          6.945816229195312,
          3.849536032109845,
          0.8024150042633349,
          3.572034059097267,
          9.444654269311815,
          1.679168703554633,
          3.149388784449477,
          9.069110018114406,
          10.105912236793342,
          4.025913345891223,
          0.4797252065068322,
          1.4078831461064616,
          2.024041590309912,
          9.905136513522963,
          18.89468406470161,
          2.5497639362706206,
          9.175272753449844,
          10.607706318279863,
          7.206069641881547,
          7.887457660416573,
          10.482577100508529,
          28.02875011643044,
          1.0487388247857443,
          5.077446021518226,
          1.2257776775786198,
          8.333561935360482,
          8.110777168298293,
          2.031336514525504,
          0.9573524947405664,
          0.1050908654448172,
          0.360646139565335,
          0.5175305078118899,
          0.0038183766178106,
          0.01277810627655,
          0.0027892651360575,
          1.8353987801687035,
          4.04044595949878,
          1.9119154893187784,
          0.5183063861958704,
          0.0107786826651296,
          0.5197548350705522,
          0.0677747755164657,
          0.8181909479712548,
          0.1203195134131345,
          1.4676296064770584,
          0.4157235653665345,
          0.3156012710738706,
          1.7753509094632105,
          1.9129530668143984,
          2.731064505760481,
          2.955635301661116,
          1.629648530101058,
          0.4663278268653592,
          2.8134691430760266,
          2.874226564141364,
          31.02780147904816,
          26.438663986800503,
          0.3543738359496203,
          0.4156288565924249,
          4.261913612511918,
          0.1040800197105551,
          14.513992854371857,
          1.4138045738258902,
          0.7887965042215213,
          0.2586992596457853,
          0.2403413691541976,
          1.9129198919374493,
          12.263969746839877,
          0.3441269450375301,
          0.0559890214184863,
          8.242606925657068,
          0.458200008766731,
          2.813576646785368,
          0.3157012253829173,
          13.724629888699884,
          0.0691416661647103,
          1.854574219086752,
          6.379773070344132,
          0.0139032370321628,
          7.219936803994953,
          0.2770246286029669,
          0.014205632685331,
          0.0845092221709309,
          1.467569085281178,
          1.8397785916819096,
          0.4664188005653182,
          0.0141226768000315,
          2.874178055799517,
          0.032179656723981,
          4.061024682223325,
          1.572150001239199,
          0.4999847240566442,
          0.0427724973748464,
          0.1491331166793932,
          13.427828186805414,
          0.1054432998345619,
          0.0234691487595653,
          0.0226922724562698,
          8.008527108295247,
          10.149491469465993,
          2.7311155522866204,
          1.6295544058574691,
          2.5159487420632924,
          0.0282453536000631,
          3.5780196562341486,
          0.01164560002685,
          1.3565243257192878,
          1.7189001862780977,
          2.955603804530166,
          1.7754408608930463,
          10.519870407053334,
          0.8314833053453241,
          5.960425369274628,
          0.6330573946513626,
          15.649855985040944,
          5.9990367704242304,
          2.340472993129312,
          13.173900548375848,
          3.569318847173059,
          8.238428925836743,
          4.538476295014545,
          22.813593338999244,
          0.1096400293832702,
          12.672840256635997,
          0.0561221473653694,
          34.998242416436895,
          0.3441269450375301,
          10.519870407053334,
          0.1054432998345619,
          0.0427724973748464,
          0.3713970787735151,
          0.7270292876984092,
          1.8397785916819096,
          1.3565243257192878,
          6.379773070344132,
          0.1233965425676346,
          0.584517075511455,
          0.1115119748095072,
          13.814221614963188,
          13.397810754551356,
          7.988720583868258,
          0.1040800197105551,
          13.22380036648989,
          1.4762997712703785,
          5.9990367704242304,
          0.0616175184425186,
          7.219936803994953,
          8.242606925657068,
          4.261913612511918,
          0.4664188005653182,
          2.813576646785368,
          1.7754408608930463,
          0.4156288565924249,
          0.3157012253829173,
          2.874178055799517,
          1.9129198919374493,
          1.467569085281178,
          0.8314833053453241,
          0.0691416661647103,
          0.3543738359496203,
          49.332337962688186,
          3.569318847173059,
          8.238428925836743,
          26.438663986800503,
          0.1054432998345619,
          0.084059461120136,
          0.0427724973748464,
          15.649855986833538,
          0.1090794085664199,
          2.989097735395956,
          0.1040800197105551,
          10.149491469465993,
          5.999036976537095,
          0.0616393567925829,
          4.153309852590397,
          8.242678782267674,
          4.262047530111017,
          0.0691416661647103,
          0.3543738359496203,
          13.173900548375848,
          26.438663986800503,
          0.033018353513224,
          0.4199755965787981,
          0.0044181444071064,
          0.1137784346887967,
          0.0295732082936809,
          0.0037818164719326,
          46.57684526568272,
          14.3516597148084,
          2.961238314210025,
          28.823582599389265,
          28.822747133051823,
          16.45590864233331,
          32.81792243817603,
          44.170338813087554,
          116.4823694563182,
          18.99796793001557,
          85.93237085908694,
          28.85422306660755,
          0.2530640285862743,
          0.0660587213045643,
          0.7382173041137854,
          0.2299535501517514,
          0.0980306283984644,
          0.4030109179657539,
          45.64995176238919,
          0.0610924372652763,
          0.0264406266271867,
          0.0213198292996188,
          0.1521025304975395,
          0.0169941166286728,
          0.2490404497400112,
          0.2157487729293924,
          0.1770647900848022,
          0.0899052825885487,
          1.0448004066887906,
          0.0842377743056334,
          0.2750376454336787,
          1.1204684902120854,
          0.0047265209187604,
          2.6863331126729384,
          3.177619779756903,
          0.3388843550521364,
          0.3863203017985413,
          0.2441801197836722,
          0.1431003120347877,
          0.0956153230397639,
          0.1761195915113952,
          0.0597606398569017,
          0.1129733070222231,
          0.1640849580728924,
          0.2437952896840732,
          2.341055820156189,
          0.1609910130059176,
          0.2694059310696617,
          0.1540471213696145,
          3.712865806278773,
          0.3113005145969698,
          1.204735704112971,
          0.0609338165549241,
          0.2199032453791588,
          0.5701533543720962,
          0.2660786861656604,
          0.1132947791858544,
          0.2441766226613361,
          2.272204437066294,
          0.0603549251763696,
          0.0737353024974782,
          0.7766453800710197,
          1.4631154763839451,
          1.2678619099449515,
          1.1208182638684,
          0.3936525935552778,
          0.0747453260480805,
          0.4899369706092526,
          0.261949457596213,
          0.0908322753343086,
          0.2520707760726408,
          0.0445933850409542,
          0.3406507270233558,
          0.0601774239085063,
          0.2950241792863441,
          0.0702022580385448,
          0.1862688649364557,
          0.0221505417864723,
          0.0722130085859707,
          0.0302861844563408,
          0.6908872870058974,
          0.0924011079828912,
          0.1026737962661264,
          0.1007263110535205,
          0.1768429006287703,
          0.3142261378412899,
          0.1920328644093174,
          0.0687319425349038,
          0.10869674502471,
          0.3790408555031982,
          0.0343347162328903,
          1.096186719866695,
          0.104423814912617,
          0.1001041398436915,
          1.0883355370722965,
          0.5145980327156291,
          0.1460201259641273,
          0.0309622350616444,
          0.6200262370794742,
          0.5746122121470564,
          0.9341028484792916,
          0.0269408611595242,
          0.2953510376063187,
          0.0848842017593866,
          0.2746105677406346,
          0.1956109063345793,
          0.3559486705916539,
          0.1929620881064808,
          0.2733418282928215,
          0.5398227204500711,
          0.3439551848312941,
          0.8842264730729738,
          0.0511329639270277,
          0.2631702267881979,
          0.7163773491886447,
          0.072476823880509,
          0.0411442584083909,
          0.0296863605042883,
          0.0315412428415796,
          0.5120764258383,
          0.3584344892049263,
          1.2676623470242183,
          0.1779615969807558,
          0.3433430186794501,
          5.3751494286275125,
          26.438663986800503,
          0.1054432998345619,
          0.0427724973748464,
          15.649855985040944,
          0.1040800197105551,
          10.149491469465993,
          5.999036976537095,
          0.3543738359496203,
          13.173900548375848,
          3.570305439337626,
          148.78793762563274
         ]
        }
       ],
       "layout": {
        "legend": {
         "tracegroupgap": 0
        },
        "margin": {
         "t": 60
        },
        "template": {
         "data": {
          "bar": [
           {
            "error_x": {
             "color": "#2a3f5f"
            },
            "error_y": {
             "color": "#2a3f5f"
            },
            "marker": {
             "line": {
              "color": "#E5ECF6",
              "width": 0.5
             },
             "pattern": {
              "fillmode": "overlay",
              "size": 10,
              "solidity": 0.2
             }
            },
            "type": "bar"
           }
          ],
          "barpolar": [
           {
            "marker": {
             "line": {
              "color": "#E5ECF6",
              "width": 0.5
             },
             "pattern": {
              "fillmode": "overlay",
              "size": 10,
              "solidity": 0.2
             }
            },
            "type": "barpolar"
           }
          ],
          "carpet": [
           {
            "aaxis": {
             "endlinecolor": "#2a3f5f",
             "gridcolor": "white",
             "linecolor": "white",
             "minorgridcolor": "white",
             "startlinecolor": "#2a3f5f"
            },
            "baxis": {
             "endlinecolor": "#2a3f5f",
             "gridcolor": "white",
             "linecolor": "white",
             "minorgridcolor": "white",
             "startlinecolor": "#2a3f5f"
            },
            "type": "carpet"
           }
          ],
          "choropleth": [
           {
            "colorbar": {
             "outlinewidth": 0,
             "ticks": ""
            },
            "type": "choropleth"
           }
          ],
          "contour": [
           {
            "colorbar": {
             "outlinewidth": 0,
             "ticks": ""
            },
            "colorscale": [
             [
              0,
              "#0d0887"
             ],
             [
              0.1111111111111111,
              "#46039f"
             ],
             [
              0.2222222222222222,
              "#7201a8"
             ],
             [
              0.3333333333333333,
              "#9c179e"
             ],
             [
              0.4444444444444444,
              "#bd3786"
             ],
             [
              0.5555555555555556,
              "#d8576b"
             ],
             [
              0.6666666666666666,
              "#ed7953"
             ],
             [
              0.7777777777777778,
              "#fb9f3a"
             ],
             [
              0.8888888888888888,
              "#fdca26"
             ],
             [
              1,
              "#f0f921"
             ]
            ],
            "type": "contour"
           }
          ],
          "contourcarpet": [
           {
            "colorbar": {
             "outlinewidth": 0,
             "ticks": ""
            },
            "type": "contourcarpet"
           }
          ],
          "heatmap": [
           {
            "colorbar": {
             "outlinewidth": 0,
             "ticks": ""
            },
            "colorscale": [
             [
              0,
              "#0d0887"
             ],
             [
              0.1111111111111111,
              "#46039f"
             ],
             [
              0.2222222222222222,
              "#7201a8"
             ],
             [
              0.3333333333333333,
              "#9c179e"
             ],
             [
              0.4444444444444444,
              "#bd3786"
             ],
             [
              0.5555555555555556,
              "#d8576b"
             ],
             [
              0.6666666666666666,
              "#ed7953"
             ],
             [
              0.7777777777777778,
              "#fb9f3a"
             ],
             [
              0.8888888888888888,
              "#fdca26"
             ],
             [
              1,
              "#f0f921"
             ]
            ],
            "type": "heatmap"
           }
          ],
          "heatmapgl": [
           {
            "colorbar": {
             "outlinewidth": 0,
             "ticks": ""
            },
            "colorscale": [
             [
              0,
              "#0d0887"
             ],
             [
              0.1111111111111111,
              "#46039f"
             ],
             [
              0.2222222222222222,
              "#7201a8"
             ],
             [
              0.3333333333333333,
              "#9c179e"
             ],
             [
              0.4444444444444444,
              "#bd3786"
             ],
             [
              0.5555555555555556,
              "#d8576b"
             ],
             [
              0.6666666666666666,
              "#ed7953"
             ],
             [
              0.7777777777777778,
              "#fb9f3a"
             ],
             [
              0.8888888888888888,
              "#fdca26"
             ],
             [
              1,
              "#f0f921"
             ]
            ],
            "type": "heatmapgl"
           }
          ],
          "histogram": [
           {
            "marker": {
             "pattern": {
              "fillmode": "overlay",
              "size": 10,
              "solidity": 0.2
             }
            },
            "type": "histogram"
           }
          ],
          "histogram2d": [
           {
            "colorbar": {
             "outlinewidth": 0,
             "ticks": ""
            },
            "colorscale": [
             [
              0,
              "#0d0887"
             ],
             [
              0.1111111111111111,
              "#46039f"
             ],
             [
              0.2222222222222222,
              "#7201a8"
             ],
             [
              0.3333333333333333,
              "#9c179e"
             ],
             [
              0.4444444444444444,
              "#bd3786"
             ],
             [
              0.5555555555555556,
              "#d8576b"
             ],
             [
              0.6666666666666666,
              "#ed7953"
             ],
             [
              0.7777777777777778,
              "#fb9f3a"
             ],
             [
              0.8888888888888888,
              "#fdca26"
             ],
             [
              1,
              "#f0f921"
             ]
            ],
            "type": "histogram2d"
           }
          ],
          "histogram2dcontour": [
           {
            "colorbar": {
             "outlinewidth": 0,
             "ticks": ""
            },
            "colorscale": [
             [
              0,
              "#0d0887"
             ],
             [
              0.1111111111111111,
              "#46039f"
             ],
             [
              0.2222222222222222,
              "#7201a8"
             ],
             [
              0.3333333333333333,
              "#9c179e"
             ],
             [
              0.4444444444444444,
              "#bd3786"
             ],
             [
              0.5555555555555556,
              "#d8576b"
             ],
             [
              0.6666666666666666,
              "#ed7953"
             ],
             [
              0.7777777777777778,
              "#fb9f3a"
             ],
             [
              0.8888888888888888,
              "#fdca26"
             ],
             [
              1,
              "#f0f921"
             ]
            ],
            "type": "histogram2dcontour"
           }
          ],
          "mesh3d": [
           {
            "colorbar": {
             "outlinewidth": 0,
             "ticks": ""
            },
            "type": "mesh3d"
           }
          ],
          "parcoords": [
           {
            "line": {
             "colorbar": {
              "outlinewidth": 0,
              "ticks": ""
             }
            },
            "type": "parcoords"
           }
          ],
          "pie": [
           {
            "automargin": true,
            "type": "pie"
           }
          ],
          "scatter": [
           {
            "fillpattern": {
             "fillmode": "overlay",
             "size": 10,
             "solidity": 0.2
            },
            "type": "scatter"
           }
          ],
          "scatter3d": [
           {
            "line": {
             "colorbar": {
              "outlinewidth": 0,
              "ticks": ""
             }
            },
            "marker": {
             "colorbar": {
              "outlinewidth": 0,
              "ticks": ""
             }
            },
            "type": "scatter3d"
           }
          ],
          "scattercarpet": [
           {
            "marker": {
             "colorbar": {
              "outlinewidth": 0,
              "ticks": ""
             }
            },
            "type": "scattercarpet"
           }
          ],
          "scattergeo": [
           {
            "marker": {
             "colorbar": {
              "outlinewidth": 0,
              "ticks": ""
             }
            },
            "type": "scattergeo"
           }
          ],
          "scattergl": [
           {
            "marker": {
             "colorbar": {
              "outlinewidth": 0,
              "ticks": ""
             }
            },
            "type": "scattergl"
           }
          ],
          "scattermapbox": [
           {
            "marker": {
             "colorbar": {
              "outlinewidth": 0,
              "ticks": ""
             }
            },
            "type": "scattermapbox"
           }
          ],
          "scatterpolar": [
           {
            "marker": {
             "colorbar": {
              "outlinewidth": 0,
              "ticks": ""
             }
            },
            "type": "scatterpolar"
           }
          ],
          "scatterpolargl": [
           {
            "marker": {
             "colorbar": {
              "outlinewidth": 0,
              "ticks": ""
             }
            },
            "type": "scatterpolargl"
           }
          ],
          "scatterternary": [
           {
            "marker": {
             "colorbar": {
              "outlinewidth": 0,
              "ticks": ""
             }
            },
            "type": "scatterternary"
           }
          ],
          "surface": [
           {
            "colorbar": {
             "outlinewidth": 0,
             "ticks": ""
            },
            "colorscale": [
             [
              0,
              "#0d0887"
             ],
             [
              0.1111111111111111,
              "#46039f"
             ],
             [
              0.2222222222222222,
              "#7201a8"
             ],
             [
              0.3333333333333333,
              "#9c179e"
             ],
             [
              0.4444444444444444,
              "#bd3786"
             ],
             [
              0.5555555555555556,
              "#d8576b"
             ],
             [
              0.6666666666666666,
              "#ed7953"
             ],
             [
              0.7777777777777778,
              "#fb9f3a"
             ],
             [
              0.8888888888888888,
              "#fdca26"
             ],
             [
              1,
              "#f0f921"
             ]
            ],
            "type": "surface"
           }
          ],
          "table": [
           {
            "cells": {
             "fill": {
              "color": "#EBF0F8"
             },
             "line": {
              "color": "white"
             }
            },
            "header": {
             "fill": {
              "color": "#C8D4E3"
             },
             "line": {
              "color": "white"
             }
            },
            "type": "table"
           }
          ]
         },
         "layout": {
          "annotationdefaults": {
           "arrowcolor": "#2a3f5f",
           "arrowhead": 0,
           "arrowwidth": 1
          },
          "autotypenumbers": "strict",
          "coloraxis": {
           "colorbar": {
            "outlinewidth": 0,
            "ticks": ""
           }
          },
          "colorscale": {
           "diverging": [
            [
             0,
             "#8e0152"
            ],
            [
             0.1,
             "#c51b7d"
            ],
            [
             0.2,
             "#de77ae"
            ],
            [
             0.3,
             "#f1b6da"
            ],
            [
             0.4,
             "#fde0ef"
            ],
            [
             0.5,
             "#f7f7f7"
            ],
            [
             0.6,
             "#e6f5d0"
            ],
            [
             0.7,
             "#b8e186"
            ],
            [
             0.8,
             "#7fbc41"
            ],
            [
             0.9,
             "#4d9221"
            ],
            [
             1,
             "#276419"
            ]
           ],
           "sequential": [
            [
             0,
             "#0d0887"
            ],
            [
             0.1111111111111111,
             "#46039f"
            ],
            [
             0.2222222222222222,
             "#7201a8"
            ],
            [
             0.3333333333333333,
             "#9c179e"
            ],
            [
             0.4444444444444444,
             "#bd3786"
            ],
            [
             0.5555555555555556,
             "#d8576b"
            ],
            [
             0.6666666666666666,
             "#ed7953"
            ],
            [
             0.7777777777777778,
             "#fb9f3a"
            ],
            [
             0.8888888888888888,
             "#fdca26"
            ],
            [
             1,
             "#f0f921"
            ]
           ],
           "sequentialminus": [
            [
             0,
             "#0d0887"
            ],
            [
             0.1111111111111111,
             "#46039f"
            ],
            [
             0.2222222222222222,
             "#7201a8"
            ],
            [
             0.3333333333333333,
             "#9c179e"
            ],
            [
             0.4444444444444444,
             "#bd3786"
            ],
            [
             0.5555555555555556,
             "#d8576b"
            ],
            [
             0.6666666666666666,
             "#ed7953"
            ],
            [
             0.7777777777777778,
             "#fb9f3a"
            ],
            [
             0.8888888888888888,
             "#fdca26"
            ],
            [
             1,
             "#f0f921"
            ]
           ]
          },
          "colorway": [
           "#636efa",
           "#EF553B",
           "#00cc96",
           "#ab63fa",
           "#FFA15A",
           "#19d3f3",
           "#FF6692",
           "#B6E880",
           "#FF97FF",
           "#FECB52"
          ],
          "font": {
           "color": "#2a3f5f"
          },
          "geo": {
           "bgcolor": "white",
           "lakecolor": "white",
           "landcolor": "#E5ECF6",
           "showlakes": true,
           "showland": true,
           "subunitcolor": "white"
          },
          "hoverlabel": {
           "align": "left"
          },
          "hovermode": "closest",
          "mapbox": {
           "style": "light"
          },
          "paper_bgcolor": "white",
          "plot_bgcolor": "#E5ECF6",
          "polar": {
           "angularaxis": {
            "gridcolor": "white",
            "linecolor": "white",
            "ticks": ""
           },
           "bgcolor": "#E5ECF6",
           "radialaxis": {
            "gridcolor": "white",
            "linecolor": "white",
            "ticks": ""
           }
          },
          "scene": {
           "xaxis": {
            "backgroundcolor": "#E5ECF6",
            "gridcolor": "white",
            "gridwidth": 2,
            "linecolor": "white",
            "showbackground": true,
            "ticks": "",
            "zerolinecolor": "white"
           },
           "yaxis": {
            "backgroundcolor": "#E5ECF6",
            "gridcolor": "white",
            "gridwidth": 2,
            "linecolor": "white",
            "showbackground": true,
            "ticks": "",
            "zerolinecolor": "white"
           },
           "zaxis": {
            "backgroundcolor": "#E5ECF6",
            "gridcolor": "white",
            "gridwidth": 2,
            "linecolor": "white",
            "showbackground": true,
            "ticks": "",
            "zerolinecolor": "white"
           }
          },
          "shapedefaults": {
           "line": {
            "color": "#2a3f5f"
           }
          },
          "ternary": {
           "aaxis": {
            "gridcolor": "white",
            "linecolor": "white",
            "ticks": ""
           },
           "baxis": {
            "gridcolor": "white",
            "linecolor": "white",
            "ticks": ""
           },
           "bgcolor": "#E5ECF6",
           "caxis": {
            "gridcolor": "white",
            "linecolor": "white",
            "ticks": ""
           }
          },
          "title": {
           "x": 0.05
          },
          "xaxis": {
           "automargin": true,
           "gridcolor": "white",
           "linecolor": "white",
           "ticks": "",
           "title": {
            "standoff": 15
           },
           "zerolinecolor": "white",
           "zerolinewidth": 2
          },
          "yaxis": {
           "automargin": true,
           "gridcolor": "white",
           "linecolor": "white",
           "ticks": "",
           "title": {
            "standoff": 15
           },
           "zerolinecolor": "white",
           "zerolinewidth": 2
          }
         }
        },
        "title": {
         "text": "Porcentaje de longitud por tipo de ductos"
        }
       }
      },
      "text/html": [
       "<div>                            <div id=\"7fd53a76-bb93-48e6-a0d9-97902a81322c\" class=\"plotly-graph-div\" style=\"height:525px; width:100%;\"></div>            <script type=\"text/javascript\">                require([\"plotly\"], function(Plotly) {                    window.PLOTLYENV=window.PLOTLYENV || {};                                    if (document.getElementById(\"7fd53a76-bb93-48e6-a0d9-97902a81322c\")) {                    Plotly.newPlot(                        \"7fd53a76-bb93-48e6-a0d9-97902a81322c\",                        [{\"domain\":{\"x\":[0.0,1.0],\"y\":[0.0,1.0]},\"hovertemplate\":\"tipo=%{label}<br>longitud=%{value}<extra></extra>\",\"labels\":[\"GASODUCTO\",\"GASODUCTO\",\"GASODUCTO\",\"GASODUCTO\",\"GASODUCTO\",\"GASODUCTO\",\"GASODUCTO\",\"GASODUCTO\",\"GASODUCTO\",\"GASODUCTO\",\"GASODUCTO\",\"OLEODUCTO\",\"OLEODUCTO\",\"GASODUCTO\",\"GASODUCTO\",\"GASODUCTO\",\"GASODUCTO\",\"GASODUCTO\",\"GASODUCTO\",\"GASODUCTO\",\"GASODUCTO\",\"GASODUCTO\",\"GASODUCTO\",\"GASODUCTO\",\"GASODUCTO\",\"GASODUCTO\",\"OLEODUCTO\",\"GASODUCTO\",\"GASODUCTO\",\"GASODUCTO\",\"GASODUCTO\",\"GASODUCTO\",\"GASODUCTO\",\"GASODUCTO\",\"GASODUCTO\",\"GASODUCTO\",\"GASODUCTO\",\"GASODUCTO\",\"GASODUCTO\",\"OLEODUCTO\",\"OLEODUCTO\",\"OLEODUCTO\",\"OLEODUCTO\",\"OLEODUCTO\",\"OLEODUCTO\",\"OLEODUCTO\",\"OLEODUCTO\",\"OLEODUCTO\",\"OLEODUCTO\",\"OLEODUCTO\",\"OLEODUCTO\",\"OLEODUCTO\",\"OLEODUCTO\",\"OLEODUCTO\",\"OLEODUCTO\",\"OLEODUCTO\",\"OLEODUCTO\",\"OLEODUCTO\",\"OLEODUCTO\",\"OLEODUCTO\",\"OLEODUCTO\",\"OLEODUCTO\",\"OLEODUCTO\",\"OLEODUCTO\",\"OLEODUCTO\",\"OLEODUCTO\",\"OLEODUCTO\",\"OLEODUCTO\",\"GASODUCTO\",\"GASODUCTO\",\"GASODUCTO\",\"GASODUCTO\",\"GASODUCTO\",\"GASODUCTO\",\"GASODUCTO\",\"GASODUCTO\",\"GASODUCTO\",\"GASODUCTO\",\"GASODUCTO\",\"GASODUCTO\",\"GASODUCTO\",\"GASODUCTO\",\"GASODUCTO\",\"GASODUCTO\",\"GASODUCTO\",\"GASODUCTO\",\"GASODUCTO\",\"GASODUCTO\",\"GASODUCTO\",\"GASODUCTO\",\"GASODUCTO\",\"GASODUCTO\",\"GASODUCTO\",\"GASODUCTO\",\"GASODUCTO\",\"GASODUCTO\",\"GASODUCTO\",\"GASODUCTO\",\"GASODUCTO\",\"GASODUCTO\",\"GASODUCTO\",\"GASODUCTO\",\"GASODUCTO\",\"GASODUCTO\",\"GASODUCTO\",\"GASODUCTO\",\"GASODUCTO\",\"GASODUCTO\",\"GASODUCTO\",\"GASODUCTO\",\"GASODUCTO\",\"GASODUCTO\",\"GASODUCTO\",\"GASODUCTO\",\"GASODUCTO\",\"GASODUCTO\",\"GASODUCTO\",\"GASODUCTO\",\"GASODUCTO\",\"GASODUCTO\",\"GASODUCTO\",\"GASODUCTO\",\"GASODUCTO\",\"GASODUCTO\",\"GASODUCTO\",\"GASODUCTO\",\"GASODUCTO\",\"GASODUCTO\",\"ACUEDUCTO\",\"ACUEDUCTO\",\"ACUEDUCTO\",\"ACUEDUCTO\",\"ACUEDUCTO\",\"ACUEDUCTO\",\"ACUEDUCTO\",\"GASODUCTO\",\"GASODUCTO\",\"GASODUCTO\",\"GASODUCTO\",\"GASODUCTO\",\"GASODUCTO\",\"GASODUCTO\",\"GASODUCTO\",\"GASODUCTO\",\"GASODUCTO\",\"GASODUCTO\",\"GASODUCTO\",\"GASODUCTO\",\"GASODUCTO\",\"GASODUCTO\",\"GASODUCTO\",\"GASODUCTO\",\"GASODUCTO\",\"GASODUCTO\",\"GASODUCTO\",\"GASODUCTO\",\"GASODUCTO\",\"GASODUCTO\",\"GASODUCTO\",\"GASODUCTO\",\"GASODUCTO\",\"GASODUCTO\",\"GASODUCTO\",\"GASODUCTO\",\"GASODUCTO\",\"GASODUCTO\",\"ACUEDUCTO\",\"ACUEDUCTO\",\"ACUEDUCTO\",\"ACUEDUCTO\",\"GASODUCTO\",\"GASODUCTO\",\"GASODUCTO\",\"GASODUCTO\",\"GASODUCTO\",\"GASODUCTO\",\"GASODUCTO\",\"GASODUCTO\",\"GASODUCTO\",\"ACUEDUCTO\",\"ACUEDUCTO\",\"GASODUCTO\",\"GASODUCTO\",\"GASODUCTO\",\"GASODUCTO\",\"GASODUCTO\",\"GASODUCTO\",\"GASODUCTO\",\"GASODUCTO\",\"GASODUCTO\",\"GASODUCTO\",\"GASODUCTO\",\"OLEODUCTO\",\"OLEODUCTO\",\"OLEODUCTO\",\"OLEODUCTO\",\"OLEODUCTO\",\"OLEODUCTO\",\"OLEODUCTO\",\"OLEODUCTO\",\"OLEODUCTO\",\"OLEODUCTO\",\"OLEODUCTO\",\"OLEODUCTO\",\"OLEODUCTO\",\"OLEODUCTO\",\"OLEODUCTO\",\"OLEODUCTO\",\"OLEODUCTO\",\"OLEODUCTO\",\"OLEODUCTO\",\"OLEODUCTO\",\"OLEODUCTO\",\"OLEODUCTO\",\"OLEODUCTO\",\"OLEODUCTO\",\"OLEODUCTO\",\"OLEODUCTO\",\"OLEODUCTO\",\"OLEODUCTO\",\"OLEODUCTO\",\"OLEODUCTO\",\"OLEODUCTO\",\"OLEODUCTO\",\"OLEODUCTO\",\"OLEODUCTO\",\"GASODUCTO\",\"OLEODUCTO\",\"OLEODUCTO\",\"OLEODUCTO\",\"OLEODUCTO\",\"OLEODUCTO\",\"OLEODUCTO\",\"OLEODUCTO\",\"OLEODUCTO\",\"OLEODUCTO\",\"OLEODUCTO\",\"OLEODUCTO\",\"OLEODUCTO\",\"GASODUCTO\",\"GASODUCTO\",\"GASODUCTO\",\"OLEODUCTO\",\"OLEODUCTO\",\"OLEODUCTO\",\"OLEODUCTO\",\"OLEODUCTO\",\"OLEODUCTO\",\"OLEODUCTO\",\"OLEODUCTO\",\"OLEODUCTO\",\"OLEODUCTO\",\"OLEODUCTO\",\"ACUEDUCTO\",\"OLEODUCTO\",\"OLEODUCTO\",\"ACUEDUCTO\",\"ACUEDUCTO\",\"ACUEDUCTO\",\"ACUEDUCTO\",\"ACUEDUCTO\",\"ACUEDUCTO\",\"ACUEDUCTO\",\"ACUEDUCTO\",\"ACUEDUCTO\",\"ACUEDUCTO\",\"ACUEDUCTO\",\"ACUEDUCTO\",\"ACUEDUCTO\",\"GASODUCTO\",\"GASODUCTO\",\"GASODUCTO\",\"GASODUCTO\",\"GASODUCTO\",\"GASODUCTO\",\"GASODUCTO\",\"GASODUCTO\",\"GASODUCTO\",\"GASODUCTO\",\"GASODUCTO\",\"GASODUCTO\",\"GASODUCTO\",\"GASODUCTO\",\"GASODUCTO\",\"GASODUCTO\",\"GASODUCTO\",\"GASODUCTO\",\"GASODUCTO\",\"GASODUCTO\",\"GASODUCTO\",\"GASODUCTO\",\"GASODUCTO\",\"GASODUCTO\",\"GASODUCTO\",\"GASODUCTO\",\"GASODUCTO\",\"GASODUCTO\",\"GASODUCTO\",\"GASODUCTO\",\"GASODUCTO\",\"GASODUCTO\",\"GASODUCTO\",\"GASODUCTO\",\"GASODUCTO\",\"GASODUCTO\",\"GASODUCTO\",\"GASODUCTO\",\"GASODUCTO\",\"GASODUCTO\",\"GASODUCTO\",\"GASODUCTO\",\"GASODUCTO\",\"GASODUCTO\",\"GASODUCTO\",\"GASODUCTO\",\"GASODUCTO\",\"GASODUCTO\",\"GASODUCTO\",\"GASODUCTO\",\"GASODUCTO\",\"GASODUCTO\",\"GASODUCTO\",\"GASODUCTO\",\"GASODUCTO\",\"GASODUCTO\",\"GASODUCTO\",\"GASODUCTO\",\"GASODUCTO\",\"GASODUCTO\",\"GASODUCTO\",\"GASODUCTO\",\"GASODUCTO\",\"GASODUCTO\",\"GASODUCTO\",\"GASODUCTO\",\"GASODUCTO\",\"GASODUCTO\",\"GASODUCTO\",\"GASODUCTO\",\"GASODUCTO\",\"GASODUCTO\",\"GASODUCTO\",\"GASODUCTO\",\"GASODUCTO\",\"GASODUCTO\",\"GASODUCTO\",\"GASODUCTO\",\"GASODUCTO\",\"GASODUCTO\",\"GASODUCTO\",\"GASODUCTO\",\"GASODUCTO\",\"GASODUCTO\",\"GASODUCTO\",\"GASODUCTO\",\"GASODUCTO\",\"GASODUCTO\",\"GASODUCTO\",\"GASODUCTO\",\"GASODUCTO\",\"GASODUCTO\",\"GASODUCTO\",\"GASODUCTO\",\"GASODUCTO\",\"GASODUCTO\",\"GASODUCTO\",\"GASODUCTO\",\"GASODUCTO\",\"GASODUCTO\",\"GASODUCTO\",\"GASODUCTO\",\"GASODUCTO\",\"GASODUCTO\",\"GASODUCTO\",\"GASODUCTO\",\"GASODUCTO\",\"GASODUCTO\",\"GASODUCTO\",\"GASODUCTO\",\"GASODUCTO\",\"GASODUCTO\",\"GASODUCTO\",\"GASODUCTO\",\"GASODUCTO\",\"GASODUCTO\",\"GASODUCTO\",\"GASODUCTO\",\"GASODUCTO\",\"GASODUCTO\",\"GASODUCTO\",\"GASODUCTO\",\"GASODUCTO\",\"GASODUCTO\",\"GASODUCTO\",\"GASODUCTO\",\"GASODUCTO\",\"GASODUCTO\",\"GASODUCTO\",\"GASODUCTO\",\"GASODUCTO\",\"GASODUCTO\",\"GASODUCTO\",\"GASODUCTO\",\"GASODUCTO\",\"GASODUCTO\",\"GASODUCTO\",\"GASODUCTO\",\"GASODUCTO\",\"GASODUCTO\",\"GASODUCTO\",\"GASODUCTO\",\"GASODUCTO\",\"GASODUCTO\",\"GASODUCTO\",\"GASODUCTO\",\"GASODUCTO\",\"GASODUCTO\",\"GASODUCTO\",\"GASODUCTO\",\"GASODUCTO\",\"GASODUCTO\",\"GASODUCTO\",\"GASODUCTO\",\"GASODUCTO\",\"GASODUCTO\",\"GASODUCTO\",\"GASODUCTO\",\"GASODUCTO\",\"GASODUCTO\",\"GASODUCTO\",\"GASODUCTO\",\"GASODUCTO\",\"GASODUCTO\",\"GASODUCTO\",\"GASODUCTO\",\"GASODUCTO\",\"GASODUCTO\",\"GASODUCTO\",\"GASODUCTO\",\"GASODUCTO\",\"GASODUCTO\",\"GASODUCTO\",\"GASODUCTO\",\"GASODUCTO\",\"GASODUCTO\",\"GASODUCTO\",\"GASODUCTO\",\"GASODUCTO\",\"GASODUCTO\",\"GASODUCTO\",\"GASODUCTO\",\"GASODUCTO\",\"GASODUCTO\",\"GASODUCTO\",\"GASODUCTO\",\"GASODUCTO\",\"GASODUCTO\",\"GASODUCTO\",\"GASODUCTO\",\"GASODUCTO\",\"GASODUCTO\",\"GASODUCTO\",\"GASODUCTO\",\"GASODUCTO\",\"GASODUCTO\",\"GASODUCTO\",\"GASODUCTO\",\"GASODUCTO\",\"GASODUCTO\",\"GASODUCTO\",\"GASODUCTO\",\"GASODUCTO\",\"GASODUCTO\",\"GASODUCTO\",\"GASODUCTO\",\"GASODUCTO\",\"GASODUCTO\",\"GASODUCTO\",\"GASODUCTO\",\"GASODUCTO\",\"GASODUCTO\",\"GASODUCTO\",\"GASODUCTO\",\"GASODUCTO\",\"GASODUCTO\",\"GASODUCTO\",\"GASODUCTO\",\"GASODUCTO\",\"GASODUCTO\",\"GASODUCTO\",\"GASODUCTO\",\"GASODUCTO\",\"GASODUCTO\",\"GASODUCTO\",\"ACUEDUCTO\",\"GASODUCTO\",\"GASODUCTO\",\"ACUEDUCTO\",\"ACUEDUCTO\",\"ACUEDUCTO\",\"GASODUCTO\",\"GASODUCTO\",\"GASODUCTO\",\"GASODUCTO\",\"GASODUCTO\",\"GASODUCTO\",\"GASODUCTO\",\"GASODUCTO\",\"GASODUCTO\",\"GASODUCTO\",\"GASODUCTO\",\"GASODUCTO\",\"GASODUCTO\",\"GASODUCTO\",\"GASODUCTO\",\"ACUEDUCTO\",\"OLEODUCTO\",\"OLEODUCTO\",\"OLEODUCTO\",\"OLEODUCTO\",\"OLEODUCTO\",\"OLEODUCTO\",\"OLEODUCTO\",\"OLEODUCTO\",\"OLEODUCTO\",\"OLEODUCTO\",\"OLEODUCTO\",\"OLEODUCTO\",\"OLEODUCTO\",\"OLEODUCTO\",\"OLEODUCTO\",\"OLEODUCTO\",\"OLEODUCTO\",\"OLEODUCTO\",\"OLEODUCTO\",\"OLEODUCTO\",\"OLEODUCTO\",\"OLEODUCTO\",\"OLEODUCTO\",\"OLEODUCTO\",\"OLEODUCTO\",\"OLEODUCTO\",\"OLEODUCTO\",\"OLEODUCTO\",\"OLEODUCTO\",\"GASODUCTO\",\"GASODUCTO\",\"GASODUCTO\",\"GASODUCTO\",\"GASODUCTO\",\"GASODUCTO\",\"GASODUCTO\",\"GASODUCTO\",\"GASODUCTO\",\"GASODUCTO\",\"GASODUCTO\",\"GASODUCTO\",\"GASODUCTO\",\"GASODUCTO\",\"GASODUCTO\",\"GASODUCTO\",\"GASODUCTO\",\"GASODUCTO\",\"GASODUCTO\",\"GASODUCTO\",\"GASODUCTO\",\"GASODUCTO\",\"GASODUCTO\",\"GASODUCTO\",\"GASODUCTO\",\"GASODUCTO\",\"GASODUCTO\",\"ACUEDUCTO\",\"GASODUCTO\",\"GASODUCTO\",\"GASODUCTO\",\"GASODUCTO\",\"GASODUCTO\",\"GASODUCTO\",\"GASODUCTO\",\"GASODUCTO\",\"GASODUCTO\",\"GASODUCTO\",\"GASODUCTO\",\"GASODUCTO\",\"GASODUCTO\",\"GASODUCTO\",\"GASODUCTO\",\"GASODUCTO\",\"GASODUCTO\",\"GASODUCTO\",\"GASODUCTO\",\"GASODUCTO\",\"GASODUCTO\",\"GASODUCTO\",\"GASODUCTO\",\"GASODUCTO\",\"GASODUCTO\",\"GASODUCTO\",\"GASODUCTO\",\"GASODUCTO\",\"GASODUCTO\",\"GASODUCTO\",\"GASODUCTO\",\"GASODUCTO\",\"GASODUCTO\",\"GASODUCTO\",\"GASODUCTO\",\"GASODUCTO\",\"GASODUCTO\",\"GASODUCTO\",\"GASODUCTO\",\"GASODUCTO\",\"GASODUCTO\",\"GASODUCTO\",\"GASODUCTO\",\"GASODUCTO\",\"GASODUCTO\",\"GASODUCTO\",\"GASODUCTO\",\"GASODUCTO\",\"GASODUCTO\",\"GASODUCTO\",\"GASODUCTO\",\"GASODUCTO\",\"GASODUCTO\",\"GASODUCTO\",\"GASODUCTO\",\"GASODUCTO\",\"GASODUCTO\",\"GASODUCTO\",\"GASODUCTO\",\"ACUEDUCTO\",\"ACUEDUCTO\",\"ACUEDUCTO\",\"ACUEDUCTO\",\"GASODUCTO\",\"GASODUCTO\",\"GASODUCTO\",\"GASODUCTO\",\"GASODUCTO\",\"GASODUCTO\",\"GASODUCTO\",\"GASODUCTO\",\"GASODUCTO\",\"GASODUCTO\",\"GASODUCTO\",\"GASODUCTO\",\"GASODUCTO\",\"GASODUCTO\",\"GASODUCTO\",\"GASODUCTO\",\"GASODUCTO\",\"GASODUCTO\",\"GASODUCTO\",\"GASODUCTO\",\"GASODUCTO\",\"GASODUCTO\",\"GASODUCTO\",\"GASODUCTO\",\"GASODUCTO\",\"GASODUCTO\",\"GASODUCTO\",\"GASODUCTO\",\"GASODUCTO\",\"GASODUCTO\",\"GASODUCTO\",\"GASODUCTO\",\"GASODUCTO\",\"GASODUCTO\",\"GASODUCTO\",\"GASODUCTO\",\"GASODUCTO\",\"GASODUCTO\",\"GASODUCTO\",\"GASODUCTO\",\"GASODUCTO\",\"ACUEDUCTO\",\"ACUEDUCTO\",\"ACUEDUCTO\",\"GASODUCTO\",\"GASODUCTO\",\"GASODUCTO\",\"GASODUCTO\",\"GASODUCTO\",\"GASODUCTO\",\"GASODUCTO\",\"GASODUCTO\",\"GASODUCTO\",\"GASODUCTO\",\"GASODUCTO\",\"GASODUCTO\",\"GASODUCTO\",\"GASODUCTO\",\"GASODUCTO\",\"ACUEDUCTO\",\"ACUEDUCTO\",\"GASODUCTO\",\"GASODUCTO\",\"GASODUCTO\",\"GASODUCTO\",\"GASODUCTO\",\"GASODUCTO\",\"GASODUCTO\",\"GASODUCTO\",\"GASODUCTO\",\"GASODUCTO\",\"GASODUCTO\",\"OLEODUCTO\",\"GASODUCTO\",\"GASODUCTO\",\"GASODUCTO\",\"OLEODUCTO\",\"POLIDUCTO\",\"GASODUCTO\",\"GASODUCTO\",\"GASODUCTO\",\"GASODUCTO\",\"GASODUCTO\",\"GASODUCTO\",\"GASODUCTO\",\"GASODUCTO\",\"GASODUCTO\",\"GASODUCTO\",\"GASODUCTO\",\"GASODUCTO\",\"GASODUCTO\",\"GASODUCTO\",\"GASODUCTO\",\"GASODUCTO\",\"GASODUCTO\",\"GASODUCTO\",\"GASODUCTO\",\"GASODUCTO\",\"GASODUCTO\",\"GASODUCTO\",\"GASODUCTO\",\"GASODUCTO\",\"GASODUCTO\",\"GASODUCTO\",\"GASODUCTO\",\"GASODUCTO\",\"GASODUCTO\",\"GASODUCTO\",\"OLEODUCTO\",\"GASODUCTO\",\"GASODUCTO\",\"GASODUCTO\",\"GASODUCTO\",\"GASODUCTO\",\"GASODUCTO\",\"GASODUCTO\",\"GASODUCTO\",\"GASODUCTO\",\"GASODUCTO\",\"GASODUCTO\",\"GASODUCTO\",\"GASODUCTO\",\"GASODUCTO\",\"GASODUCTO\",\"GASODUCTO\",\"GASODUCTO\",\"GASODUCTO\",\"GASODUCTO\",\"GASODUCTO\",\"GASODUCTO\",\"GASODUCTO\",\"GASODUCTO\",\"GASODUCTO\",\"GASODUCTO\",\"GASODUCTO\",\"GASODUCTO\",\"GASODUCTO\",\"GASODUCTO\",\"GASODUCTO\",\"GASODUCTO\",\"GASODUCTO\",\"GASODUCTO\",\"GASODUCTO\",\"GASODUCTO\",\"GASODUCTO\",\"GASODUCTO\",\"GASODUCTO\",\"GASODUCTO\",\"GASODUCTO\",\"GASODUCTO\",\"GASODUCTO\",\"GASODUCTO\",\"GASODUCTO\",\"GASODUCTO\",\"GASODUCTO\",\"GASODUCTO\",\"GASODUCTO\",\"GASODUCTO\",\"GASODUCTO\",\"GASODUCTO\",\"GASODUCTO\",\"GASODUCTO\",\"GASODUCTO\",\"GASODUCTO\",\"GASODUCTO\",\"GASODUCTO\",\"GASODUCTO\",\"GASODUCTO\",\"GASODUCTO\",\"GASODUCTO\",\"GASODUCTO\",\"GASODUCTO\",\"GASODUCTO\",\"GASODUCTO\",\"GASODUCTO\",\"GASODUCTO\",\"GASODUCTO\",\"GASODUCTO\",\"GASODUCTO\",\"GASODUCTO\",\"GASODUCTO\",\"GASODUCTO\",\"GASODUCTO\",\"GASODUCTO\",\"GASODUCTO\",\"GASODUCTO\",\"GASODUCTO\",\"GASODUCTO\",\"GASODUCTO\",\"OLEODUCTO\",\"OLEODUCTO\",\"ACUEDUCTO\",\"ACUEDUCTO\",\"GASODUCTO\",\"GASODUCTO\",\"GASODUCTO\",\"GASODUCTO\",\"GASODUCTO\",\"GASODUCTO\",\"GASODUCTO\",\"ACUEDUCTO\",\"ACUEDUCTO\",\"OLEODUCTO\"],\"legendgroup\":\"\",\"name\":\"\",\"showlegend\":true,\"values\":[23.37989329987204,17.256944897161908,2.955635301661116,1.629648530101058,12.264041057355843,0.085900607374049,10.44022221639727,0.5328111860691467,2.96067257392658,3.74709733527213,0.2953236360334582,6.612484120964182,0.0615442929928378,4.911736484099336,6.120823513248668,0.0484532764631724,57.08150273019829,5.309298141157794,4.903075276122869,28.0353196118633,2.2256462049283097,26.686812118296988,6.346285761969309,3.897907132950703,5.0653741553961655,5.078290561500203,1.6603801552650816,1.032837876268139,17.653802513836546,25.126403833942017,14.51398641102862,9.275132678298489,4.3796006538358,0.3366241075583502,0.9890040997830648,17.344450058594695,1.7032829275228492,13.724691059080676,3.2682882123234114,8.099315982142526,10.113947378104614,8.296149053913073,18.88387584187469,6.945816229195312,3.572034059097267,1.0487388247857443,9.905137485213354,2.5497639362706206,1.679168703554633,5.077446021518226,0.8024150042633349,21.41665023615978,7.887457660416573,9.175272753449844,1.4078831461064616,3.849536032109845,9.444654269311815,2.024041590309912,0.9573524947405664,4.025913345891223,2.031336514525504,10.482577100508529,3.149388784449477,0.4797252065068322,1.2257776775786198,7.206069641881547,10.607706318279863,9.069110018114406,0.0903231974632919,1.8631034529443264,0.3280430593080126,0.01277810627655,4.028878337920286,0.0281625638039968,0.0028160255681723,0.5197548350705522,0.0802168311513948,0.5183063861958704,1.8326303924286529,0.5175305078118899,4.891509920442352,32.61656618812809,0.0107786826651296,24.09706384728156,4.04044595949878,1.8353987801687035,0.0038183766178106,0.0027892651360575,0.360646139565335,0.01277810627655,1.9119154893187784,0.1050908654448172,0.1204548501009777,0.0676782414141159,0.8181909619654537,32.74017851428442,23.97385130142264,0.0141226768000315,0.0559890214184863,0.01164560002685,0.1491331166793932,5.960426056179455,0.0139032370321628,3.5780196562341486,0.2770252248212199,1.572150001239199,0.0845092221709309,0.0282453536000631,0.0226922724562698,5.301826322436069,0.1040800197105551,4.061024679951104,1.854574219086752,10.71177273563519,2.5159487418420805,1.7189001862780977,0.2770246286029669,0.4999847240566442,0.0528000104621782,1.4138037375341816,3.63002954393596,5.531171950826465,4.801375085090855,4.86183249207871,7.457279209134058,11.026735393191226,14.508958739475784,6.172039433888754,9.489324859309104,5.794855257231466,2.4485184043878223,9.321643491250516,6.18103293725436,2.1400816756542795,2.827197550267567,12.264041057355843,0.4581740706816751,1.3408934346181158,7.81186173386106,1.3097366427034178,0.3465550732904041,2.8430373305878858,0.6332742386618825,0.2547826818241728,0.3446778117406039,0.9106759689475222,0.32736604524999,3.007220537220641,3.692887653744047,2.112809124731167,0.7514947679705732,1.0967297330788228,0.0079309520234785,1.359603632393395,13.427826235468002,0.0231175258190797,4.231674049664297,0.1372447866102324,3.3847888563127606,2.7682206404439835,1.3565906034427653,13.835443477691015,10.84929786981833,1.4762997712703785,2.3425629774366263,0.4330268892180799,24.970442236838927,0.4488161966383729,0.0381561306368564,2.348627440803125,7.202342456412601,8.242596769537272,4.261940619168898,0.0321829917794994,14.417485927634038,1.232542681848054,1.2764669897112864,0.1920772977932896,8.098497392652796,3.569173193740592,2.340508759638306,1.7753509094632105,0.3156012710738706,1.4676296064770584,1.9129530668143984,2.731064505760481,2.955635301661116,1.629648530101058,2.8134691430760266,0.4663278268653592,0.4157235653665345,2.874226564141364,0.2899144230977502,0.0106550457535691,0.4348462754510043,0.5505043717783363,0.0020099751248763,0.9026218566356492,8.943811548148865,0.0007211102552428,0.8145880169396732,0.000635917360031,0.348582108730283,0.0119885697893264,0.0056603886787259,0.2902349239735532,0.0057035076924667,0.1779399123514263,0.000360555126636,0.0004472135956419,0.0673404845173176,0.0044011362163797,0.0003605551272272,0.2490094113901666,0.0017033270048098,0.0004472135950063,0.0011440306516396,0.3502487954973722,0.2065089198137354,0.0003605551272272,0.0003605551272272,0.0012165525057916,0.0011045361003452,0.0022024984388568,0.0014328973781221,0.0013342650088624,5.072270598547915,0.0012727922064393,0.0989247236781101,0.6884540528203702,0.1738829683106157,0.002686598146014,0.0736205144088761,0.691663313318909,2.0351833613075083,0.0015652475837933,0.005162363800345,0.0022840329655071,0.003496048807088,8.242596769537272,1.2526268579378468,51.26831141886501,0.0097557468968849,0.0053851648072604,0.7460770006875852,0.0039560080892922,0.0091105565604967,0.0050695167418594,0.1984274573616744,0.1141805156154106,0.0049193495507899,0.0019849433235909,0.1038344923056396,1.0121985534524989,0.0967405295500614,0.2412747696665768,16.710277575502964,0.047644677446662,0.5464371116251697,0.1672763282720523,2.353371342420912,13.173837170126925,2.7554683772335142,0.2079036850783944,4.518880735423512,2.159921141687317,4.182327073597506,4.237774813455789,0.068653404867379,6.80497391304408,6.362694581808517,0.6569860380923345,0.0327783985042992,1.8030889925472848,3.5589262391169907,0.3863203017985413,10.14962999472489,0.1190131404793269,0.0293124546902644,0.037664970463018,2.4799307325612934,6.12772272528276,1.780728726275914,9.278467589182744,9.970878368487853,4.014824073880422,0.3168827187662734,0.9890040997830648,0.0842377743056334,0.8209995271039504,0.0377922772596645,0.249947067478806,0.359088225205958,0.1447100145256681,2.6984627256715794,7.487007294173919,0.3948652979521841,0.1304987416727643,1.3088486528967973,0.0005242640688955,9.071768093991952,3.906144818358519,0.028358161340242,2.842963263217988,0.6129410936593838,1.6710241235302803,3.0124809582675827,5.13410252472617,0.5541853214917266,2.890535363842609,0.0854199631814393,1.4851198190688883,0.1361073179890998,3.144113369800763,0.9230711145956724,15.64978328148993,0.0004123105628994,0.2824683260256598,0.2187701178846108,0.0305665162840773,0.0098005101905553,2.781843595210275,0.0047265209187604,5.514273077292856,0.0417264354801273,46.52552374612659,0.3598684801723912,2.039907035081199,0.0161335055092832,3.2941975671093062,3.5579581766981607,3.157760727846122,44.11746272203717,5.631639630588609,1.0445217831523812,14.723266867620136,0.0022803508502989,1.0610411479739268,1.7306451549276372,6.752716226225291,10.84929786981833,3.73262654776222,3.2280355553153783,0.3392906609101291,0.2077733948624064,4.90796257771563,1.4760591254718898,0.384584140488575,13.83545183665741,0.3544737849241529,0.3628942598642525,2.537413848887348,7.81186173386106,7.1441693194748845,2.3479793013744974,2.825030324943661,1.2964765511021108,4.2285571784935,3.194654430091686,13.427826235468002,5.999073026593896,1.6748879286693872,8.934417799555398,6.957318033439544,28.753343735671788,1.8397785916819096,6.379773070344132,10.738802237353202,1.3565906034427653,1.8937212194624344,3.597101281995515,9.27507411763616,3.555982668126003,3.922251208280161,3.689829331135338,0.6772246936428608,0.5763817709392012,2.000224876747524,2.9439332563231604,1.854718301510542,34.99825257243124,0.0908278479226668,9.420880555093444,3.50006240581305,6.115301660127407,7.519331194658497,0.0815661988114856,0.0868925392884338,0.0149286902190372,0.1901148592044324,1.0326817651347806,6.288257740822943,3.007648414675599,3.985414706738639,4.372682104972365,1.582018455197286,0.0483718225436465,0.0806895792223288,34.94268497146364,27.5830295187912,7.83782180705253,2.8126769674486387,0.0109635760576166,0.0,0.0019416487829448,0.0001000000011686,0.0016970562745824,0.0016643316982461,0.0015264337519312,0.0006708203931451,0.0011313708500566,0.0004242640696504,0.0020615528131529,15.649855985040944,0.0,0.0011401754253364,0.0008485281377936,0.6330573946513626,2.0399211452553168,0.0012727922059368,0.0001000000011686,0.0001414213558802,9.999999974752428e-05,0.0021840329657596,1.3565243257192878,46.525519353230415,10.848905704596133,34.99824239928569,0.20764115608566,0.1446156526723983,0.0022203603310477,0.0925324354019281,0.0003605551270302,0.0001414213563826,0.0,2.8430373305878858,0.0115108644326158,0.0010049875616957,5.9990367704242304,0.0036796738978202,0.0013453624048492,0.0016278820595156,0.0007071067823153,9.999999974752428e-05,0.0020518284532287,0.0001414213568851,0.0418094716411747,0.0009433981139871,0.0009307135785964,0.0055154328928955,2.8906683110560683,0.0003605551278184,0.0006082762528958,1.4762997712703785,1.893891492005905,0.0013453624048492,0.0012727922064393,0.0015811388296423,0.0043863424403838,0.923028502474946,0.0016643316982461,0.0007211102548487,0.3543738359496203,0.0006403124236802,7.811919226220751,0.1361073179895347,0.0034465412291803,0.0868109183970353,0.001400000000018,0.0012727922054344,0.0023600847438221,0.0019209372703748,0.0012369316890429,0.0015811388296423,0.0002236067975031,0.0005000000003008,0.0053740115375177,0.0008062257750857,0.0035383612032159,0.0,0.1966081869542608,0.0022627417001132,0.0427724973748464,0.0012041594573763,0.0017117242767747,0.0007071067815114,44.11743321314309,3.5558668418988413,0.0016643316974349,0.0019798989868454,13.427828186805414,0.0005656854245258,0.0007810249676202,10.149491469465993,13.173900548375848,12.263969746839877,0.8314833053453241,3.569318847173059,8.17408593399903,26.438663986800503,3.9004839946961134,5.033890665149992,7.219936803994953,0.3438661747690836,8.187823295702888,0.817919489193449,2.0715652035895484,8.242606925657068,1.1034914326753724,29.32857455830978,3.156975730327135,5.055435852307087,4.10206157961616,4.261913612511918,0.032179656723981,5.3751494286275125,6.945816229195312,3.849536032109845,0.8024150042633349,3.572034059097267,9.444654269311815,1.679168703554633,3.149388784449477,9.069110018114406,10.105912236793342,4.025913345891223,0.4797252065068322,1.4078831461064616,2.024041590309912,9.905136513522963,18.89468406470161,2.5497639362706206,9.175272753449844,10.607706318279863,7.206069641881547,7.887457660416573,10.482577100508529,28.02875011643044,1.0487388247857443,5.077446021518226,1.2257776775786198,8.333561935360482,8.110777168298293,2.031336514525504,0.9573524947405664,0.1050908654448172,0.360646139565335,0.5175305078118899,0.0038183766178106,0.01277810627655,0.0027892651360575,1.8353987801687035,4.04044595949878,1.9119154893187784,0.5183063861958704,0.0107786826651296,0.5197548350705522,0.0677747755164657,0.8181909479712548,0.1203195134131345,1.4676296064770584,0.4157235653665345,0.3156012710738706,1.7753509094632105,1.9129530668143984,2.731064505760481,2.955635301661116,1.629648530101058,0.4663278268653592,2.8134691430760266,2.874226564141364,31.02780147904816,26.438663986800503,0.3543738359496203,0.4156288565924249,4.261913612511918,0.1040800197105551,14.513992854371857,1.4138045738258902,0.7887965042215213,0.2586992596457853,0.2403413691541976,1.9129198919374493,12.263969746839877,0.3441269450375301,0.0559890214184863,8.242606925657068,0.458200008766731,2.813576646785368,0.3157012253829173,13.724629888699884,0.0691416661647103,1.854574219086752,6.379773070344132,0.0139032370321628,7.219936803994953,0.2770246286029669,0.014205632685331,0.0845092221709309,1.467569085281178,1.8397785916819096,0.4664188005653182,0.0141226768000315,2.874178055799517,0.032179656723981,4.061024682223325,1.572150001239199,0.4999847240566442,0.0427724973748464,0.1491331166793932,13.427828186805414,0.1054432998345619,0.0234691487595653,0.0226922724562698,8.008527108295247,10.149491469465993,2.7311155522866204,1.6295544058574691,2.5159487420632924,0.0282453536000631,3.5780196562341486,0.01164560002685,1.3565243257192878,1.7189001862780977,2.955603804530166,1.7754408608930463,10.519870407053334,0.8314833053453241,5.960425369274628,0.6330573946513626,15.649855985040944,5.9990367704242304,2.340472993129312,13.173900548375848,3.569318847173059,8.238428925836743,4.538476295014545,22.813593338999244,0.1096400293832702,12.672840256635997,0.0561221473653694,34.998242416436895,0.3441269450375301,10.519870407053334,0.1054432998345619,0.0427724973748464,0.3713970787735151,0.7270292876984092,1.8397785916819096,1.3565243257192878,6.379773070344132,0.1233965425676346,0.584517075511455,0.1115119748095072,13.814221614963188,13.397810754551356,7.988720583868258,0.1040800197105551,13.22380036648989,1.4762997712703785,5.9990367704242304,0.0616175184425186,7.219936803994953,8.242606925657068,4.261913612511918,0.4664188005653182,2.813576646785368,1.7754408608930463,0.4156288565924249,0.3157012253829173,2.874178055799517,1.9129198919374493,1.467569085281178,0.8314833053453241,0.0691416661647103,0.3543738359496203,49.332337962688186,3.569318847173059,8.238428925836743,26.438663986800503,0.1054432998345619,0.084059461120136,0.0427724973748464,15.649855986833538,0.1090794085664199,2.989097735395956,0.1040800197105551,10.149491469465993,5.999036976537095,0.0616393567925829,4.153309852590397,8.242678782267674,4.262047530111017,0.0691416661647103,0.3543738359496203,13.173900548375848,26.438663986800503,0.033018353513224,0.4199755965787981,0.0044181444071064,0.1137784346887967,0.0295732082936809,0.0037818164719326,46.57684526568272,14.3516597148084,2.961238314210025,28.823582599389265,28.822747133051823,16.45590864233331,32.81792243817603,44.170338813087554,116.4823694563182,18.99796793001557,85.93237085908694,28.85422306660755,0.2530640285862743,0.0660587213045643,0.7382173041137854,0.2299535501517514,0.0980306283984644,0.4030109179657539,45.64995176238919,0.0610924372652763,0.0264406266271867,0.0213198292996188,0.1521025304975395,0.0169941166286728,0.2490404497400112,0.2157487729293924,0.1770647900848022,0.0899052825885487,1.0448004066887906,0.0842377743056334,0.2750376454336787,1.1204684902120854,0.0047265209187604,2.6863331126729384,3.177619779756903,0.3388843550521364,0.3863203017985413,0.2441801197836722,0.1431003120347877,0.0956153230397639,0.1761195915113952,0.0597606398569017,0.1129733070222231,0.1640849580728924,0.2437952896840732,2.341055820156189,0.1609910130059176,0.2694059310696617,0.1540471213696145,3.712865806278773,0.3113005145969698,1.204735704112971,0.0609338165549241,0.2199032453791588,0.5701533543720962,0.2660786861656604,0.1132947791858544,0.2441766226613361,2.272204437066294,0.0603549251763696,0.0737353024974782,0.7766453800710197,1.4631154763839451,1.2678619099449515,1.1208182638684,0.3936525935552778,0.0747453260480805,0.4899369706092526,0.261949457596213,0.0908322753343086,0.2520707760726408,0.0445933850409542,0.3406507270233558,0.0601774239085063,0.2950241792863441,0.0702022580385448,0.1862688649364557,0.0221505417864723,0.0722130085859707,0.0302861844563408,0.6908872870058974,0.0924011079828912,0.1026737962661264,0.1007263110535205,0.1768429006287703,0.3142261378412899,0.1920328644093174,0.0687319425349038,0.10869674502471,0.3790408555031982,0.0343347162328903,1.096186719866695,0.104423814912617,0.1001041398436915,1.0883355370722965,0.5145980327156291,0.1460201259641273,0.0309622350616444,0.6200262370794742,0.5746122121470564,0.9341028484792916,0.0269408611595242,0.2953510376063187,0.0848842017593866,0.2746105677406346,0.1956109063345793,0.3559486705916539,0.1929620881064808,0.2733418282928215,0.5398227204500711,0.3439551848312941,0.8842264730729738,0.0511329639270277,0.2631702267881979,0.7163773491886447,0.072476823880509,0.0411442584083909,0.0296863605042883,0.0315412428415796,0.5120764258383,0.3584344892049263,1.2676623470242183,0.1779615969807558,0.3433430186794501,5.3751494286275125,26.438663986800503,0.1054432998345619,0.0427724973748464,15.649855985040944,0.1040800197105551,10.149491469465993,5.999036976537095,0.3543738359496203,13.173900548375848,3.570305439337626,148.78793762563274],\"type\":\"pie\"}],                        {\"template\":{\"data\":{\"histogram2dcontour\":[{\"type\":\"histogram2dcontour\",\"colorbar\":{\"outlinewidth\":0,\"ticks\":\"\"},\"colorscale\":[[0.0,\"#0d0887\"],[0.1111111111111111,\"#46039f\"],[0.2222222222222222,\"#7201a8\"],[0.3333333333333333,\"#9c179e\"],[0.4444444444444444,\"#bd3786\"],[0.5555555555555556,\"#d8576b\"],[0.6666666666666666,\"#ed7953\"],[0.7777777777777778,\"#fb9f3a\"],[0.8888888888888888,\"#fdca26\"],[1.0,\"#f0f921\"]]}],\"choropleth\":[{\"type\":\"choropleth\",\"colorbar\":{\"outlinewidth\":0,\"ticks\":\"\"}}],\"histogram2d\":[{\"type\":\"histogram2d\",\"colorbar\":{\"outlinewidth\":0,\"ticks\":\"\"},\"colorscale\":[[0.0,\"#0d0887\"],[0.1111111111111111,\"#46039f\"],[0.2222222222222222,\"#7201a8\"],[0.3333333333333333,\"#9c179e\"],[0.4444444444444444,\"#bd3786\"],[0.5555555555555556,\"#d8576b\"],[0.6666666666666666,\"#ed7953\"],[0.7777777777777778,\"#fb9f3a\"],[0.8888888888888888,\"#fdca26\"],[1.0,\"#f0f921\"]]}],\"heatmap\":[{\"type\":\"heatmap\",\"colorbar\":{\"outlinewidth\":0,\"ticks\":\"\"},\"colorscale\":[[0.0,\"#0d0887\"],[0.1111111111111111,\"#46039f\"],[0.2222222222222222,\"#7201a8\"],[0.3333333333333333,\"#9c179e\"],[0.4444444444444444,\"#bd3786\"],[0.5555555555555556,\"#d8576b\"],[0.6666666666666666,\"#ed7953\"],[0.7777777777777778,\"#fb9f3a\"],[0.8888888888888888,\"#fdca26\"],[1.0,\"#f0f921\"]]}],\"heatmapgl\":[{\"type\":\"heatmapgl\",\"colorbar\":{\"outlinewidth\":0,\"ticks\":\"\"},\"colorscale\":[[0.0,\"#0d0887\"],[0.1111111111111111,\"#46039f\"],[0.2222222222222222,\"#7201a8\"],[0.3333333333333333,\"#9c179e\"],[0.4444444444444444,\"#bd3786\"],[0.5555555555555556,\"#d8576b\"],[0.6666666666666666,\"#ed7953\"],[0.7777777777777778,\"#fb9f3a\"],[0.8888888888888888,\"#fdca26\"],[1.0,\"#f0f921\"]]}],\"contourcarpet\":[{\"type\":\"contourcarpet\",\"colorbar\":{\"outlinewidth\":0,\"ticks\":\"\"}}],\"contour\":[{\"type\":\"contour\",\"colorbar\":{\"outlinewidth\":0,\"ticks\":\"\"},\"colorscale\":[[0.0,\"#0d0887\"],[0.1111111111111111,\"#46039f\"],[0.2222222222222222,\"#7201a8\"],[0.3333333333333333,\"#9c179e\"],[0.4444444444444444,\"#bd3786\"],[0.5555555555555556,\"#d8576b\"],[0.6666666666666666,\"#ed7953\"],[0.7777777777777778,\"#fb9f3a\"],[0.8888888888888888,\"#fdca26\"],[1.0,\"#f0f921\"]]}],\"surface\":[{\"type\":\"surface\",\"colorbar\":{\"outlinewidth\":0,\"ticks\":\"\"},\"colorscale\":[[0.0,\"#0d0887\"],[0.1111111111111111,\"#46039f\"],[0.2222222222222222,\"#7201a8\"],[0.3333333333333333,\"#9c179e\"],[0.4444444444444444,\"#bd3786\"],[0.5555555555555556,\"#d8576b\"],[0.6666666666666666,\"#ed7953\"],[0.7777777777777778,\"#fb9f3a\"],[0.8888888888888888,\"#fdca26\"],[1.0,\"#f0f921\"]]}],\"mesh3d\":[{\"type\":\"mesh3d\",\"colorbar\":{\"outlinewidth\":0,\"ticks\":\"\"}}],\"scatter\":[{\"fillpattern\":{\"fillmode\":\"overlay\",\"size\":10,\"solidity\":0.2},\"type\":\"scatter\"}],\"parcoords\":[{\"type\":\"parcoords\",\"line\":{\"colorbar\":{\"outlinewidth\":0,\"ticks\":\"\"}}}],\"scatterpolargl\":[{\"type\":\"scatterpolargl\",\"marker\":{\"colorbar\":{\"outlinewidth\":0,\"ticks\":\"\"}}}],\"bar\":[{\"error_x\":{\"color\":\"#2a3f5f\"},\"error_y\":{\"color\":\"#2a3f5f\"},\"marker\":{\"line\":{\"color\":\"#E5ECF6\",\"width\":0.5},\"pattern\":{\"fillmode\":\"overlay\",\"size\":10,\"solidity\":0.2}},\"type\":\"bar\"}],\"scattergeo\":[{\"type\":\"scattergeo\",\"marker\":{\"colorbar\":{\"outlinewidth\":0,\"ticks\":\"\"}}}],\"scatterpolar\":[{\"type\":\"scatterpolar\",\"marker\":{\"colorbar\":{\"outlinewidth\":0,\"ticks\":\"\"}}}],\"histogram\":[{\"marker\":{\"pattern\":{\"fillmode\":\"overlay\",\"size\":10,\"solidity\":0.2}},\"type\":\"histogram\"}],\"scattergl\":[{\"type\":\"scattergl\",\"marker\":{\"colorbar\":{\"outlinewidth\":0,\"ticks\":\"\"}}}],\"scatter3d\":[{\"type\":\"scatter3d\",\"line\":{\"colorbar\":{\"outlinewidth\":0,\"ticks\":\"\"}},\"marker\":{\"colorbar\":{\"outlinewidth\":0,\"ticks\":\"\"}}}],\"scattermapbox\":[{\"type\":\"scattermapbox\",\"marker\":{\"colorbar\":{\"outlinewidth\":0,\"ticks\":\"\"}}}],\"scatterternary\":[{\"type\":\"scatterternary\",\"marker\":{\"colorbar\":{\"outlinewidth\":0,\"ticks\":\"\"}}}],\"scattercarpet\":[{\"type\":\"scattercarpet\",\"marker\":{\"colorbar\":{\"outlinewidth\":0,\"ticks\":\"\"}}}],\"carpet\":[{\"aaxis\":{\"endlinecolor\":\"#2a3f5f\",\"gridcolor\":\"white\",\"linecolor\":\"white\",\"minorgridcolor\":\"white\",\"startlinecolor\":\"#2a3f5f\"},\"baxis\":{\"endlinecolor\":\"#2a3f5f\",\"gridcolor\":\"white\",\"linecolor\":\"white\",\"minorgridcolor\":\"white\",\"startlinecolor\":\"#2a3f5f\"},\"type\":\"carpet\"}],\"table\":[{\"cells\":{\"fill\":{\"color\":\"#EBF0F8\"},\"line\":{\"color\":\"white\"}},\"header\":{\"fill\":{\"color\":\"#C8D4E3\"},\"line\":{\"color\":\"white\"}},\"type\":\"table\"}],\"barpolar\":[{\"marker\":{\"line\":{\"color\":\"#E5ECF6\",\"width\":0.5},\"pattern\":{\"fillmode\":\"overlay\",\"size\":10,\"solidity\":0.2}},\"type\":\"barpolar\"}],\"pie\":[{\"automargin\":true,\"type\":\"pie\"}]},\"layout\":{\"autotypenumbers\":\"strict\",\"colorway\":[\"#636efa\",\"#EF553B\",\"#00cc96\",\"#ab63fa\",\"#FFA15A\",\"#19d3f3\",\"#FF6692\",\"#B6E880\",\"#FF97FF\",\"#FECB52\"],\"font\":{\"color\":\"#2a3f5f\"},\"hovermode\":\"closest\",\"hoverlabel\":{\"align\":\"left\"},\"paper_bgcolor\":\"white\",\"plot_bgcolor\":\"#E5ECF6\",\"polar\":{\"bgcolor\":\"#E5ECF6\",\"angularaxis\":{\"gridcolor\":\"white\",\"linecolor\":\"white\",\"ticks\":\"\"},\"radialaxis\":{\"gridcolor\":\"white\",\"linecolor\":\"white\",\"ticks\":\"\"}},\"ternary\":{\"bgcolor\":\"#E5ECF6\",\"aaxis\":{\"gridcolor\":\"white\",\"linecolor\":\"white\",\"ticks\":\"\"},\"baxis\":{\"gridcolor\":\"white\",\"linecolor\":\"white\",\"ticks\":\"\"},\"caxis\":{\"gridcolor\":\"white\",\"linecolor\":\"white\",\"ticks\":\"\"}},\"coloraxis\":{\"colorbar\":{\"outlinewidth\":0,\"ticks\":\"\"}},\"colorscale\":{\"sequential\":[[0.0,\"#0d0887\"],[0.1111111111111111,\"#46039f\"],[0.2222222222222222,\"#7201a8\"],[0.3333333333333333,\"#9c179e\"],[0.4444444444444444,\"#bd3786\"],[0.5555555555555556,\"#d8576b\"],[0.6666666666666666,\"#ed7953\"],[0.7777777777777778,\"#fb9f3a\"],[0.8888888888888888,\"#fdca26\"],[1.0,\"#f0f921\"]],\"sequentialminus\":[[0.0,\"#0d0887\"],[0.1111111111111111,\"#46039f\"],[0.2222222222222222,\"#7201a8\"],[0.3333333333333333,\"#9c179e\"],[0.4444444444444444,\"#bd3786\"],[0.5555555555555556,\"#d8576b\"],[0.6666666666666666,\"#ed7953\"],[0.7777777777777778,\"#fb9f3a\"],[0.8888888888888888,\"#fdca26\"],[1.0,\"#f0f921\"]],\"diverging\":[[0,\"#8e0152\"],[0.1,\"#c51b7d\"],[0.2,\"#de77ae\"],[0.3,\"#f1b6da\"],[0.4,\"#fde0ef\"],[0.5,\"#f7f7f7\"],[0.6,\"#e6f5d0\"],[0.7,\"#b8e186\"],[0.8,\"#7fbc41\"],[0.9,\"#4d9221\"],[1,\"#276419\"]]},\"xaxis\":{\"gridcolor\":\"white\",\"linecolor\":\"white\",\"ticks\":\"\",\"title\":{\"standoff\":15},\"zerolinecolor\":\"white\",\"automargin\":true,\"zerolinewidth\":2},\"yaxis\":{\"gridcolor\":\"white\",\"linecolor\":\"white\",\"ticks\":\"\",\"title\":{\"standoff\":15},\"zerolinecolor\":\"white\",\"automargin\":true,\"zerolinewidth\":2},\"scene\":{\"xaxis\":{\"backgroundcolor\":\"#E5ECF6\",\"gridcolor\":\"white\",\"linecolor\":\"white\",\"showbackground\":true,\"ticks\":\"\",\"zerolinecolor\":\"white\",\"gridwidth\":2},\"yaxis\":{\"backgroundcolor\":\"#E5ECF6\",\"gridcolor\":\"white\",\"linecolor\":\"white\",\"showbackground\":true,\"ticks\":\"\",\"zerolinecolor\":\"white\",\"gridwidth\":2},\"zaxis\":{\"backgroundcolor\":\"#E5ECF6\",\"gridcolor\":\"white\",\"linecolor\":\"white\",\"showbackground\":true,\"ticks\":\"\",\"zerolinecolor\":\"white\",\"gridwidth\":2}},\"shapedefaults\":{\"line\":{\"color\":\"#2a3f5f\"}},\"annotationdefaults\":{\"arrowcolor\":\"#2a3f5f\",\"arrowhead\":0,\"arrowwidth\":1},\"geo\":{\"bgcolor\":\"white\",\"landcolor\":\"#E5ECF6\",\"subunitcolor\":\"white\",\"showland\":true,\"showlakes\":true,\"lakecolor\":\"white\"},\"title\":{\"x\":0.05},\"mapbox\":{\"style\":\"light\"}}},\"legend\":{\"tracegroupgap\":0},\"margin\":{\"t\":60},\"title\":{\"text\":\"Porcentaje de longitud por tipo de ductos\"}},                        {\"responsive\": true}                    ).then(function(){\n",
       "                            \n",
       "var gd = document.getElementById('7fd53a76-bb93-48e6-a0d9-97902a81322c');\n",
       "var x = new MutationObserver(function (mutations, observer) {{\n",
       "        var display = window.getComputedStyle(gd).display;\n",
       "        if (!display || display === 'none') {{\n",
       "            console.log([gd, 'removed!']);\n",
       "            Plotly.purge(gd);\n",
       "            observer.disconnect();\n",
       "        }}\n",
       "}});\n",
       "\n",
       "// Listen for the removal of the full notebook cells\n",
       "var notebookContainer = gd.closest('#notebook-container');\n",
       "if (notebookContainer) {{\n",
       "    x.observe(notebookContainer, {childList: true});\n",
       "}}\n",
       "\n",
       "// Listen for the clearing of the current output cell\n",
       "var outputEl = gd.closest('.output');\n",
       "if (outputEl) {{\n",
       "    x.observe(outputEl, {childList: true});\n",
       "}}\n",
       "\n",
       "                        })                };                });            </script>        </div>"
      ]
     },
     "metadata": {},
     "output_type": "display_data"
    }
   ],
   "source": [
    "fig = px.pie(df_hidro_trocal,names=\"tipo\",values=\"longitud\") \n",
    "\n",
    "\n",
    "fig.update_layout(\n",
    "    title='Porcentaje de longitud por tipo de ductos',\n",
    "    \n",
    ")\n",
    "fig.write_html(\"Porcentaje de longitud total por tipo de ducto.html\")\n",
    "fig"
   ]
  },
  {
   "cell_type": "code",
   "execution_count": 30,
   "id": "92a85f0e",
   "metadata": {},
   "outputs": [
    {
     "data": {
      "application/vnd.plotly.v1+json": {
       "config": {
        "plotlyServerURL": "https://plot.ly"
       },
       "data": [
        {
         "domain": {
          "x": [
           0,
           1
          ],
          "y": [
           0,
           1
          ]
         },
         "hovertemplate": "material=%{label}<br>longitud=%{value}<extra></extra>",
         "labels": [
          "ACERO",
          "ACERO",
          "ACERO",
          "ACERO",
          "ACERO",
          "ACERO",
          "ACERO",
          "ACERO",
          "ACERO",
          "ACERO",
          "ACERO",
          "ACERO",
          "ACERO",
          "ACERO",
          "ACERO",
          "ACERO",
          "ACERO",
          "ACERO",
          "ACERO",
          "ACERO",
          "ACERO",
          "ACERO",
          "ACERO",
          "ACERO",
          "ACERO",
          "ACERO",
          "ACERO",
          "ACERO",
          "ACERO",
          "ACERO",
          "ACERO",
          "ACERO",
          "ACERO",
          "ACERO",
          "ACERO",
          "ACERO",
          "ACERO",
          "ACERO",
          "ACERO",
          "ACERO",
          "ACERO",
          "ACERO",
          "ACERO",
          "ACERO",
          "ACERO",
          "ACERO",
          "ACERO",
          "ACERO",
          "ACERO",
          "ACERO",
          "ACERO",
          "ACERO",
          "ACERO",
          "ACERO",
          "ACERO",
          "ACERO",
          "ACERO",
          "ACERO",
          "ACERO",
          "ACERO",
          "ACERO",
          "ACERO",
          "ACERO",
          "ACERO",
          "ACERO",
          "ACERO",
          "ACERO",
          "ACERO",
          "ACERO",
          "ACERO",
          "ACERO",
          "ACERO",
          "ACERO",
          "ACERO",
          "ACERO",
          "ACERO",
          "ACERO",
          "ACERO",
          "ACERO",
          "ACERO",
          "ACERO",
          "ACERO",
          "ACERO",
          "ACERO",
          "ACERO",
          "ACERO",
          "ACERO",
          "ACERO",
          "ACERO",
          "ACERO",
          "ACERO",
          "ACERO",
          "ACERO",
          "ACERO",
          "ACERO",
          "ACERO",
          "ACERO",
          "ACERO",
          "ACERO",
          "ACERO",
          "ACERO",
          "ACERO",
          "ACERO",
          "ACERO",
          "ACERO",
          "ACERO",
          "ACERO",
          "ACERO",
          "ACERO",
          "ACERO",
          "ACERO",
          "ACERO",
          "ACERO",
          "ACERO",
          "ACERO",
          "ACERO",
          "ACERO",
          "ACERO",
          "ACERO",
          "ACERO",
          "ACERO",
          "ACERO",
          "ACERO",
          "ACERO",
          "ACERO",
          "ACERO",
          "ACERO",
          "ACERO",
          "ACERO",
          "ACERO",
          "ACERO",
          "ACERO",
          "ACERO",
          "ACERO",
          "ACERO",
          "ACERO",
          "ACERO",
          "ACERO",
          "ACERO",
          "ACERO",
          "ACERO",
          "ACERO",
          "ACERO",
          "ACERO",
          "ACERO",
          "ACERO",
          "ACERO",
          "ACERO",
          "ACERO",
          "ERFV",
          "ACERO",
          "ACERO",
          "ACERO",
          "ACERO",
          "ACERO",
          "ACERO",
          "ACERO",
          "ACERO",
          "ACERO",
          "ACERO",
          "ACERO",
          "ACERO",
          "ACERO",
          "ACERO",
          "ACERO",
          "ACERO",
          "ACERO",
          "ACERO",
          "ACERO",
          "ACERO",
          "ACERO",
          "ACERO",
          "ACERO",
          "ACERO",
          "ACERO",
          "ACERO",
          "ACERO",
          "ACERO",
          "ACERO",
          "ACERO",
          "ACERO",
          "ACERO",
          "ACERO",
          "ACERO",
          "ACERO",
          "ACERO",
          "ACERO",
          "ACERO",
          "ACERO",
          "ACERO",
          "ACERO",
          "ACERO",
          "ACERO",
          "ACERO",
          "ACERO",
          "ACERO",
          "ACERO",
          "ACERO",
          "ACERO",
          "ACERO",
          "ACERO",
          "ACERO",
          "ACERO",
          "ACERO",
          "ACERO",
          "ACERO",
          "ACERO",
          "ACERO",
          "ACERO",
          "ACERO",
          "ACERO",
          "ACERO",
          "ACERO",
          "ACERO",
          "ACERO",
          "ACERO",
          "ACERO",
          "ACERO",
          "ACERO",
          "ACERO",
          "ACERO",
          "ACERO",
          "ACERO",
          "ACERO",
          "ACERO",
          "ACERO",
          "ACERO",
          "ACERO",
          "ACERO",
          "ACERO",
          "ACERO",
          "ACERO",
          "ACERO",
          "ACERO",
          "ACERO",
          "ACERO",
          "ACERO",
          "ACERO",
          "ACERO",
          "ACERO",
          "ACERO",
          "ACERO",
          "ACERO",
          "ACERO",
          "ACERO",
          "ACERO",
          "ACERO",
          "ACERO",
          "ACERO",
          "ACERO",
          "ACERO",
          "ACERO",
          "ACERO",
          "ACERO",
          "ACERO",
          "ACERO",
          "ACERO",
          "ACERO",
          "ACERO",
          "ACERO",
          "ACERO",
          "ACERO",
          "ACERO",
          "ACERO",
          "ACERO",
          "ACERO",
          "ACERO",
          "ACERO",
          "ACERO",
          "ACERO",
          "ACERO",
          "ACERO",
          "ACERO",
          "ACERO",
          "ACERO",
          "ACERO",
          "ACERO",
          "ACERO",
          "ACERO",
          "ACERO",
          "ACERO",
          "ACERO",
          "ACERO",
          "ACERO",
          "ACERO",
          "ACERO",
          "ACERO",
          "ACERO",
          "ACERO",
          "ACERO",
          "ACERO",
          "ACERO",
          "ACERO",
          "ACERO",
          "ACERO",
          "ACERO",
          "ACERO",
          "ACERO",
          "ACERO",
          "ACERO",
          "ACERO",
          "ACERO",
          "ACERO",
          "ACERO",
          "ACERO",
          "ACERO",
          "ACERO",
          "ACERO",
          "ACERO",
          "ACERO",
          "ACERO",
          "ACERO",
          "ACERO",
          "ACERO",
          "ACERO",
          "ACERO",
          "ACERO",
          "ACERO",
          "ACERO",
          "ACERO",
          "ACERO",
          "ACERO",
          "ACERO",
          "ACERO",
          "ACERO",
          "ACERO",
          "ACERO",
          "ACERO",
          "ACERO",
          "ACERO",
          "ACERO",
          "ACERO",
          "ACERO",
          "ACERO",
          "ACERO",
          "ACERO",
          "ACERO",
          "ACERO",
          "ACERO",
          "ACERO",
          "ACERO",
          "ACERO",
          "ACERO",
          "ACERO",
          "ACERO",
          "ACERO",
          "ACERO",
          "ACERO",
          "ACERO",
          "ACERO",
          "ACERO",
          "ACERO",
          "ACERO",
          "ACERO",
          "ACERO",
          "ACERO",
          "ACERO",
          "ACERO",
          "ACERO",
          "PEAD",
          "ACERO",
          "ACERO",
          "ACERO",
          "ACERO",
          "ACERO",
          "ACERO",
          "ACERO",
          "ACERO",
          "ACERO",
          "ACERO",
          "ACERO",
          "ACERO",
          "ACERO",
          "ACERO",
          "ACERO",
          "ACERO",
          "ACERO",
          "ACERO",
          "ACERO",
          "ACERO",
          "ACERO",
          "ACERO",
          "ACERO",
          "ACERO",
          "ACERO",
          "ACERO",
          "ACERO",
          "ACERO",
          "ACERO",
          "ACERO",
          "ACERO",
          "ACERO",
          "ACERO",
          "ACERO",
          "ACERO",
          "ACERO",
          "ACERO",
          "ACERO",
          "ACERO",
          "ACERO",
          "ACERO",
          "ACERO",
          "ACERO",
          "ACERO",
          "ACERO",
          "ACERO",
          "ACERO",
          "ACERO",
          "ACERO",
          "ACERO",
          "ACERO",
          "ACERO",
          "ACERO",
          "ACERO",
          "ACERO",
          "ACERO",
          "ACERO",
          "ACERO",
          "ACERO",
          "ACERO",
          "ACERO",
          "ACERO",
          "ACERO",
          "ACERO",
          "ACERO",
          "ACERO",
          "ACERO",
          "ACERO",
          "ACERO",
          "ACERO",
          "ACERO",
          "ACERO",
          "ACERO",
          "ACERO",
          "ACERO",
          "ACERO",
          "ACERO",
          "ACERO",
          "ACERO",
          "ACERO",
          "ACERO",
          "ACERO",
          "ACERO",
          "ACERO",
          "ACERO",
          "ACERO",
          "ACERO",
          "ACERO",
          "ACERO",
          "ACERO",
          "ACERO",
          "ACERO",
          "ACERO",
          "ACERO",
          "ACERO",
          "ACERO",
          "ACERO",
          "ACERO",
          "ACERO",
          "ACERO",
          "ACERO",
          "ACERO",
          "ACERO",
          "ACERO",
          "ACERO",
          "ACERO",
          "ACERO",
          "ACERO",
          "ACERO",
          "ACERO",
          "ACERO",
          "ACERO",
          "ACERO",
          "ACERO",
          "ACERO",
          "ACERO",
          "ACERO",
          "ACERO",
          "ACERO",
          "ACERO",
          "ACERO",
          "ACERO",
          "ACERO",
          "ACERO",
          "ACERO",
          "ACERO",
          "ACERO",
          "ACERO",
          "ACERO",
          "ACERO",
          "ACERO",
          "ACERO",
          "ACERO",
          "ACERO",
          "ACERO",
          "ACERO",
          "ACERO",
          "ACERO",
          "ACERO",
          "ACERO",
          "ACERO",
          "ACERO",
          "ACERO",
          "ACERO",
          "ACERO",
          "ACERO",
          "ACERO",
          "ACERO",
          "ACERO",
          "ACERO",
          "ACERO",
          "ACERO",
          "ACERO",
          "ACERO",
          "ACERO",
          "ACERO",
          "ACERO",
          "ACERO",
          "PEAD",
          "PEAD",
          "PEAD",
          "PEAD",
          "PEAD",
          "PEAD",
          "ACERO",
          "PEAD",
          "PEAD",
          "PEAD",
          "PEAD",
          "PEAD",
          "PEAD",
          "PEAD",
          "PEAD",
          "PEAD",
          "ACERO",
          "ACERO",
          "ACERO",
          "ACERO",
          "PEAD",
          "PEAD",
          "PEAD",
          "PEAD",
          "PEAD",
          "PEAD",
          "PEAD",
          "PEAD",
          "PEAD",
          "PEAD",
          "PEAD",
          "PEAD",
          "PEAD",
          "PEAD",
          "PEAD",
          "PEAD",
          "PEAD",
          "PEAD",
          "PEAD",
          "PEAD",
          "PEAD",
          "PEAD",
          "PEAD",
          "PEAD",
          "PEAD",
          "PEAD",
          "PEAD",
          "PEAD",
          "PEAD",
          "PEAD",
          "PEAD",
          "PEAD",
          "PEAD",
          "PEAD",
          "PEAD",
          "PEAD",
          "PEAD",
          "PEAD",
          "PEAD",
          "PEAD",
          "PEAD",
          "PEAD",
          "PEAD",
          "PEAD",
          "PEAD",
          "PEAD",
          "PEAD",
          "PEAD",
          "PEAD",
          "PEAD",
          "PEAD",
          "PEAD",
          "PEAD",
          "PEAD",
          "PEAD",
          "PEAD",
          "PEAD",
          "PEAD",
          "PEAD",
          "PEAD",
          "PEAD",
          "PEAD",
          "PEAD",
          "PEAD",
          "PEAD",
          "PEAD",
          "PEAD",
          "PEAD",
          "PEAD",
          "PEAD",
          "PEAD",
          "PEAD",
          "PEAD",
          "PEAD",
          "PEAD",
          "PEAD",
          "PEAD",
          "PEAD",
          "PEAD",
          "PEAD",
          "PEAD",
          "PEAD",
          "PEAD",
          "PEAD",
          "PEAD",
          "PEAD",
          "PEAD",
          "PEAD",
          "ACERO",
          "ACERO",
          "ACERO",
          "ACERO",
          "ACERO",
          "ACERO",
          "ACERO",
          "ACERO"
         ],
         "legendgroup": "",
         "name": "",
         "showlegend": true,
         "type": "pie",
         "values": [
          12.264041057355843,
          0.085900607374049,
          10.44022221639727,
          0.5328111860691467,
          2.96067257392658,
          3.74709733527213,
          0.2953236360334582,
          6.612484120964182,
          0.0615442929928378,
          4.911736484099336,
          6.120823513248668,
          0.0484532764631724,
          57.08150273019829,
          5.309298141157794,
          4.903075276122869,
          28.0353196118633,
          2.2256462049283097,
          26.686812118296988,
          6.346285761969309,
          3.897907132950703,
          5.0653741553961655,
          5.078290561500203,
          1.6603801552650816,
          14.51398641102862,
          0.9890040997830648,
          13.724691059080676,
          8.099315982142526,
          10.113947378104614,
          8.296149053913073,
          18.88387584187469,
          6.945816229195312,
          3.572034059097267,
          1.0487388247857443,
          9.905137485213354,
          2.5497639362706206,
          1.679168703554633,
          5.077446021518226,
          0.8024150042633349,
          21.41665023615978,
          7.887457660416573,
          9.175272753449844,
          1.4078831461064616,
          3.849536032109845,
          9.444654269311815,
          2.024041590309912,
          0.9573524947405664,
          4.025913345891223,
          2.031336514525504,
          10.482577100508529,
          3.149388784449477,
          0.4797252065068322,
          1.2257776775786198,
          7.206069641881547,
          10.607706318279863,
          9.069110018114406,
          0.0903231974632919,
          1.8631034529443264,
          0.3280430593080126,
          0.01277810627655,
          4.028878337920286,
          0.0281625638039968,
          0.0028160255681723,
          0.5197548350705522,
          0.0802168311513948,
          0.5183063861958704,
          1.8326303924286529,
          0.5175305078118899,
          4.891509920442352,
          32.61656618812809,
          0.0107786826651296,
          24.09706384728156,
          4.04044595949878,
          1.8353987801687035,
          0.0038183766178106,
          0.0027892651360575,
          0.360646139565335,
          0.01277810627655,
          1.9119154893187784,
          0.1050908654448172,
          0.1204548501009777,
          0.0676782414141159,
          0.8181909619654537,
          32.74017851428442,
          23.97385130142264,
          0.0141226768000315,
          0.0559890214184863,
          0.01164560002685,
          0.1491331166793932,
          5.960426056179455,
          0.0139032370321628,
          3.5780196562341486,
          0.2770252248212199,
          1.572150001239199,
          0.0845092221709309,
          0.0282453536000631,
          0.0226922724562698,
          5.301826322436069,
          0.1040800197105551,
          4.061024679951104,
          1.854574219086752,
          10.71177273563519,
          2.5159487418420805,
          1.7189001862780977,
          0.2770246286029669,
          0.4999847240566442,
          0.0528000104621782,
          1.4138037375341816,
          3.63002954393596,
          5.531171950826465,
          4.801375085090855,
          4.86183249207871,
          7.457279209134058,
          11.026735393191226,
          14.508958739475784,
          6.172039433888754,
          9.489324859309104,
          5.794855257231466,
          2.4485184043878223,
          9.321643491250516,
          6.18103293725436,
          2.1400816756542795,
          2.827197550267567,
          12.264041057355843,
          0.4581740706816751,
          1.3408934346181158,
          7.81186173386106,
          0.3465550732904041,
          2.8430373305878858,
          0.6332742386618825,
          0.2547826818241728,
          0.3446778117406039,
          0.9106759689475222,
          0.32736604524999,
          3.007220537220641,
          3.692887653744047,
          0.7514947679705732,
          1.0967297330788228,
          0.0079309520234785,
          1.359603632393395,
          13.427826235468002,
          4.231674049664297,
          2.7682206404439835,
          1.3565906034427653,
          13.835443477691015,
          10.84929786981833,
          1.4762997712703785,
          0.4330268892180799,
          24.970442236838927,
          0.4488161966383729,
          2.348627440803125,
          7.202342456412601,
          8.242596769537272,
          4.261940619168898,
          0.0321829917794994,
          14.417485927634038,
          1.232542681848054,
          1.2764669897112864,
          0.1920772977932896,
          8.098497392652796,
          3.569173193740592,
          8.943811548148865,
          0.0007211102552428,
          0.0056603886787259,
          5.072270598547915,
          0.0012727922064393,
          0.0989247236781101,
          2.0351833613075083,
          8.242596769537272,
          1.2526268579378468,
          51.26831141886501,
          0.0019849433235909,
          0.2412747696665768,
          2.353371342420912,
          4.518880735423512,
          2.159921141687317,
          6.80497391304408,
          6.362694581808517,
          0.6569860380923345,
          0.0327783985042992,
          0.037664970463018,
          2.4799307325612934,
          6.12772272528276,
          1.780728726275914,
          9.278467589182744,
          9.970878368487853,
          4.014824073880422,
          0.3168827187662734,
          0.9890040997830648,
          0.8209995271039504,
          0.1447100145256681,
          2.6984627256715794,
          7.487007294173919,
          0.1304987416727643,
          1.3088486528967973,
          9.071768093991952,
          3.906144818358519,
          0.028358161340242,
          2.842963263217988,
          0.6129410936593838,
          5.13410252472617,
          0.5541853214917266,
          2.890535363842609,
          0.1361073179890998,
          3.144113369800763,
          0.2824683260256598,
          0.2187701178846108,
          2.781843595210275,
          5.514273077292856,
          0.0417264354801273,
          0.3598684801723912,
          3.2941975671093062,
          3.5579581766981607,
          5.631639630588609,
          1.0445217831523812,
          14.723266867620136,
          1.7306451549276372,
          6.752716226225291,
          10.84929786981833,
          3.73262654776222,
          0.3392906609101291,
          0.2077733948624064,
          4.90796257771563,
          1.4760591254718898,
          13.83545183665741,
          0.3544737849241529,
          2.537413848887348,
          7.81186173386106,
          2.825030324943661,
          1.2964765511021108,
          4.2285571784935,
          3.194654430091686,
          13.427826235468002,
          5.999073026593896,
          1.8397785916819096,
          6.379773070344132,
          1.3565906034427653,
          1.8937212194624344,
          3.597101281995515,
          3.555982668126003,
          3.922251208280161,
          3.689829331135338,
          0.5763817709392012,
          2.000224876747524,
          0.0908278479226668,
          3.50006240581305,
          6.115301660127407,
          7.519331194658497,
          0.0868925392884338,
          0.0149286902190372,
          6.288257740822943,
          3.007648414675599,
          3.985414706738639,
          4.372682104972365,
          1.582018455197286,
          0.0806895792223288,
          34.94268497146364,
          27.5830295187912,
          7.83782180705253,
          2.8126769674486387,
          0.0109635760576166,
          0,
          0.0019416487829448,
          0.0001000000011686,
          0.0016970562745824,
          0.0016643316982461,
          0.0015264337519312,
          0.0006708203931451,
          0.0011313708500566,
          0.0004242640696504,
          0.0020615528131529,
          0,
          0.0011401754253364,
          0.0008485281377936,
          0.6330573946513626,
          0.0012727922059368,
          0.0001000000011686,
          0.0001414213558802,
          9.999999974752428e-05,
          0.0021840329657596,
          1.3565243257192878,
          10.848905704596133,
          0.20764115608566,
          0.1446156526723983,
          0.0022203603310477,
          0.0925324354019281,
          0.0003605551270302,
          0.0001414213563826,
          0,
          2.8430373305878858,
          0.0115108644326158,
          0.0010049875616957,
          5.9990367704242304,
          0.0036796738978202,
          0.0013453624048492,
          0.0016278820595156,
          0.0007071067823153,
          9.999999974752428e-05,
          0.0020518284532287,
          0.0001414213568851,
          0.0418094716411747,
          0.0009433981139871,
          0.0009307135785964,
          0.0055154328928955,
          2.8906683110560683,
          0.0003605551278184,
          0.0006082762528958,
          1.4762997712703785,
          1.893891492005905,
          0.0013453624048492,
          0.0012727922064393,
          0.0015811388296423,
          0.0043863424403838,
          0.0016643316982461,
          0.0007211102548487,
          0.3543738359496203,
          0.0006403124236802,
          7.811919226220751,
          0.1361073179895347,
          0.0034465412291803,
          0.0868109183970353,
          0.001400000000018,
          0.0012727922054344,
          0.0023600847438221,
          0.0019209372703748,
          0.0012369316890429,
          0.0015811388296423,
          0.0002236067975031,
          0.0005000000003008,
          0.0053740115375177,
          0.0008062257750857,
          0.0035383612032159,
          0,
          0.0022627417001132,
          0.0427724973748464,
          0.0012041594573763,
          0.0017117242767747,
          0.0007071067815114,
          3.5558668418988413,
          0.0016643316974349,
          0.0019798989868454,
          13.427828186805414,
          0.0005656854245258,
          0.0007810249676202,
          12.263969746839877,
          0.8314833053453241,
          3.569318847173059,
          8.17408593399903,
          26.438663986800503,
          5.033890665149992,
          7.219936803994953,
          0.3438661747690836,
          0.817919489193449,
          8.242606925657068,
          1.1034914326753724,
          29.32857455830978,
          3.156975730327135,
          5.055435852307087,
          4.261913612511918,
          0.032179656723981,
          5.3751494286275125,
          6.945816229195312,
          3.849536032109845,
          0.8024150042633349,
          3.572034059097267,
          9.444654269311815,
          1.679168703554633,
          3.149388784449477,
          9.069110018114406,
          10.105912236793342,
          4.025913345891223,
          0.4797252065068322,
          1.4078831461064616,
          2.024041590309912,
          9.905136513522963,
          18.89468406470161,
          2.5497639362706206,
          9.175272753449844,
          10.607706318279863,
          7.206069641881547,
          7.887457660416573,
          10.482577100508529,
          28.02875011643044,
          1.0487388247857443,
          5.077446021518226,
          1.2257776775786198,
          8.333561935360482,
          8.110777168298293,
          2.031336514525504,
          0.9573524947405664,
          0.1050908654448172,
          0.360646139565335,
          0.5175305078118899,
          0.0038183766178106,
          0.01277810627655,
          0.0027892651360575,
          1.8353987801687035,
          4.04044595949878,
          1.9119154893187784,
          0.5183063861958704,
          0.0107786826651296,
          0.5197548350705522,
          0.0677747755164657,
          0.8181909479712548,
          0.1203195134131345,
          26.438663986800503,
          0.3543738359496203,
          4.261913612511918,
          0.1040800197105551,
          14.513992854371857,
          1.4138045738258902,
          0.7887965042215213,
          0.2586992596457853,
          0.2403413691541976,
          12.263969746839877,
          0.3441269450375301,
          0.0559890214184863,
          8.242606925657068,
          0.458200008766731,
          13.724629888699884,
          0.0691416661647103,
          1.854574219086752,
          6.379773070344132,
          0.0139032370321628,
          7.219936803994953,
          0.2770246286029669,
          0.014205632685331,
          0.0845092221709309,
          1.8397785916819096,
          0.0141226768000315,
          0.032179656723981,
          4.061024682223325,
          1.572150001239199,
          0.4999847240566442,
          0.0427724973748464,
          0.1491331166793932,
          13.427828186805414,
          0.1054432998345619,
          0.0234691487595653,
          0.0226922724562698,
          8.008527108295247,
          2.5159487420632924,
          0.0282453536000631,
          3.5780196562341486,
          0.01164560002685,
          1.3565243257192878,
          1.7189001862780977,
          10.519870407053334,
          0.8314833053453241,
          5.960425369274628,
          0.6330573946513626,
          5.9990367704242304,
          3.569318847173059,
          8.238428925836743,
          4.538476295014545,
          22.813593338999244,
          0.1096400293832702,
          12.672840256635997,
          0.0561221473653694,
          0.3441269450375301,
          10.519870407053334,
          0.1054432998345619,
          0.0427724973748464,
          0.3713970787735151,
          0.7270292876984092,
          1.8397785916819096,
          1.3565243257192878,
          6.379773070344132,
          0.1233965425676346,
          0.584517075511455,
          0.1115119748095072,
          13.814221614963188,
          13.397810754551356,
          7.988720583868258,
          0.1040800197105551,
          13.22380036648989,
          1.4762997712703785,
          5.9990367704242304,
          0.0616175184425186,
          7.219936803994953,
          8.242606925657068,
          4.261913612511918,
          0.8314833053453241,
          0.0691416661647103,
          0.3543738359496203,
          49.332337962688186,
          3.569318847173059,
          8.238428925836743,
          26.438663986800503,
          0.1054432998345619,
          0.0427724973748464,
          2.989097735395956,
          0.1040800197105551,
          5.999036976537095,
          0.0616393567925829,
          4.153309852590397,
          8.242678782267674,
          4.262047530111017,
          0.0691416661647103,
          0.3543738359496203,
          26.438663986800503,
          0.033018353513224,
          0.4199755965787981,
          0.0044181444071064,
          0.1137784346887967,
          0.0295732082936809,
          0.0037818164719326,
          46.57684526568272,
          14.3516597148084,
          2.961238314210025,
          28.823582599389265,
          28.822747133051823,
          16.45590864233331,
          32.81792243817603,
          44.170338813087554,
          116.4823694563182,
          18.99796793001557,
          85.93237085908694,
          28.85422306660755,
          0.2530640285862743,
          0.0660587213045643,
          0.7382173041137854,
          0.2299535501517514,
          0.0980306283984644,
          0.4030109179657539,
          45.64995176238919,
          0.0610924372652763,
          0.0264406266271867,
          0.0213198292996188,
          0.1521025304975395,
          0.0169941166286728,
          0.2157487729293924,
          0.1770647900848022,
          0.0899052825885487,
          1.0448004066887906,
          1.1204684902120854,
          2.6863331126729384,
          3.177619779756903,
          0.3388843550521364,
          0.2441801197836722,
          0.1431003120347877,
          0.0956153230397639,
          0.1761195915113952,
          0.0597606398569017,
          0.1129733070222231,
          0.1640849580728924,
          0.2437952896840732,
          2.341055820156189,
          0.1609910130059176,
          0.2694059310696617,
          0.1540471213696145,
          3.712865806278773,
          0.3113005145969698,
          1.204735704112971,
          0.0609338165549241,
          0.2199032453791588,
          0.5701533543720962,
          0.2660786861656604,
          0.1132947791858544,
          0.2441766226613361,
          2.272204437066294,
          0.0603549251763696,
          0.0737353024974782,
          0.7766453800710197,
          1.4631154763839451,
          1.2678619099449515,
          1.1208182638684,
          0.3936525935552778,
          0.0747453260480805,
          0.4899369706092526,
          0.261949457596213,
          0.0908322753343086,
          0.2520707760726408,
          0.0445933850409542,
          0.3406507270233558,
          0.0601774239085063,
          0.2950241792863441,
          0.0702022580385448,
          0.1862688649364557,
          0.0221505417864723,
          0.0722130085859707,
          0.0302861844563408,
          0.6908872870058974,
          0.0924011079828912,
          0.1026737962661264,
          0.1007263110535205,
          0.1768429006287703,
          0.3142261378412899,
          0.1920328644093174,
          0.0687319425349038,
          0.10869674502471,
          0.3790408555031982,
          0.0343347162328903,
          1.096186719866695,
          0.104423814912617,
          0.1001041398436915,
          1.0883355370722965,
          0.5145980327156291,
          0.1460201259641273,
          0.0309622350616444,
          0.6200262370794742,
          0.5746122121470564,
          0.9341028484792916,
          0.0269408611595242,
          0.2953510376063187,
          0.0848842017593866,
          0.2746105677406346,
          0.1956109063345793,
          0.3559486705916539,
          0.1929620881064808,
          0.2733418282928215,
          0.5398227204500711,
          0.3439551848312941,
          0.8842264730729738,
          0.0511329639270277,
          0.2631702267881979,
          0.7163773491886447,
          0.072476823880509,
          0.0411442584083909,
          0.0296863605042883,
          0.0315412428415796,
          0.5120764258383,
          0.3584344892049263,
          1.2676623470242183,
          0.1779615969807558,
          0.3433430186794501,
          5.3751494286275125,
          26.438663986800503,
          0.1054432998345619,
          0.0427724973748464,
          0.1040800197105551,
          5.999036976537095,
          0.3543738359496203,
          3.570305439337626,
          148.78793762563274
         ]
        }
       ],
       "layout": {
        "legend": {
         "tracegroupgap": 0
        },
        "margin": {
         "t": 60
        },
        "template": {
         "data": {
          "bar": [
           {
            "error_x": {
             "color": "#2a3f5f"
            },
            "error_y": {
             "color": "#2a3f5f"
            },
            "marker": {
             "line": {
              "color": "#E5ECF6",
              "width": 0.5
             },
             "pattern": {
              "fillmode": "overlay",
              "size": 10,
              "solidity": 0.2
             }
            },
            "type": "bar"
           }
          ],
          "barpolar": [
           {
            "marker": {
             "line": {
              "color": "#E5ECF6",
              "width": 0.5
             },
             "pattern": {
              "fillmode": "overlay",
              "size": 10,
              "solidity": 0.2
             }
            },
            "type": "barpolar"
           }
          ],
          "carpet": [
           {
            "aaxis": {
             "endlinecolor": "#2a3f5f",
             "gridcolor": "white",
             "linecolor": "white",
             "minorgridcolor": "white",
             "startlinecolor": "#2a3f5f"
            },
            "baxis": {
             "endlinecolor": "#2a3f5f",
             "gridcolor": "white",
             "linecolor": "white",
             "minorgridcolor": "white",
             "startlinecolor": "#2a3f5f"
            },
            "type": "carpet"
           }
          ],
          "choropleth": [
           {
            "colorbar": {
             "outlinewidth": 0,
             "ticks": ""
            },
            "type": "choropleth"
           }
          ],
          "contour": [
           {
            "colorbar": {
             "outlinewidth": 0,
             "ticks": ""
            },
            "colorscale": [
             [
              0,
              "#0d0887"
             ],
             [
              0.1111111111111111,
              "#46039f"
             ],
             [
              0.2222222222222222,
              "#7201a8"
             ],
             [
              0.3333333333333333,
              "#9c179e"
             ],
             [
              0.4444444444444444,
              "#bd3786"
             ],
             [
              0.5555555555555556,
              "#d8576b"
             ],
             [
              0.6666666666666666,
              "#ed7953"
             ],
             [
              0.7777777777777778,
              "#fb9f3a"
             ],
             [
              0.8888888888888888,
              "#fdca26"
             ],
             [
              1,
              "#f0f921"
             ]
            ],
            "type": "contour"
           }
          ],
          "contourcarpet": [
           {
            "colorbar": {
             "outlinewidth": 0,
             "ticks": ""
            },
            "type": "contourcarpet"
           }
          ],
          "heatmap": [
           {
            "colorbar": {
             "outlinewidth": 0,
             "ticks": ""
            },
            "colorscale": [
             [
              0,
              "#0d0887"
             ],
             [
              0.1111111111111111,
              "#46039f"
             ],
             [
              0.2222222222222222,
              "#7201a8"
             ],
             [
              0.3333333333333333,
              "#9c179e"
             ],
             [
              0.4444444444444444,
              "#bd3786"
             ],
             [
              0.5555555555555556,
              "#d8576b"
             ],
             [
              0.6666666666666666,
              "#ed7953"
             ],
             [
              0.7777777777777778,
              "#fb9f3a"
             ],
             [
              0.8888888888888888,
              "#fdca26"
             ],
             [
              1,
              "#f0f921"
             ]
            ],
            "type": "heatmap"
           }
          ],
          "heatmapgl": [
           {
            "colorbar": {
             "outlinewidth": 0,
             "ticks": ""
            },
            "colorscale": [
             [
              0,
              "#0d0887"
             ],
             [
              0.1111111111111111,
              "#46039f"
             ],
             [
              0.2222222222222222,
              "#7201a8"
             ],
             [
              0.3333333333333333,
              "#9c179e"
             ],
             [
              0.4444444444444444,
              "#bd3786"
             ],
             [
              0.5555555555555556,
              "#d8576b"
             ],
             [
              0.6666666666666666,
              "#ed7953"
             ],
             [
              0.7777777777777778,
              "#fb9f3a"
             ],
             [
              0.8888888888888888,
              "#fdca26"
             ],
             [
              1,
              "#f0f921"
             ]
            ],
            "type": "heatmapgl"
           }
          ],
          "histogram": [
           {
            "marker": {
             "pattern": {
              "fillmode": "overlay",
              "size": 10,
              "solidity": 0.2
             }
            },
            "type": "histogram"
           }
          ],
          "histogram2d": [
           {
            "colorbar": {
             "outlinewidth": 0,
             "ticks": ""
            },
            "colorscale": [
             [
              0,
              "#0d0887"
             ],
             [
              0.1111111111111111,
              "#46039f"
             ],
             [
              0.2222222222222222,
              "#7201a8"
             ],
             [
              0.3333333333333333,
              "#9c179e"
             ],
             [
              0.4444444444444444,
              "#bd3786"
             ],
             [
              0.5555555555555556,
              "#d8576b"
             ],
             [
              0.6666666666666666,
              "#ed7953"
             ],
             [
              0.7777777777777778,
              "#fb9f3a"
             ],
             [
              0.8888888888888888,
              "#fdca26"
             ],
             [
              1,
              "#f0f921"
             ]
            ],
            "type": "histogram2d"
           }
          ],
          "histogram2dcontour": [
           {
            "colorbar": {
             "outlinewidth": 0,
             "ticks": ""
            },
            "colorscale": [
             [
              0,
              "#0d0887"
             ],
             [
              0.1111111111111111,
              "#46039f"
             ],
             [
              0.2222222222222222,
              "#7201a8"
             ],
             [
              0.3333333333333333,
              "#9c179e"
             ],
             [
              0.4444444444444444,
              "#bd3786"
             ],
             [
              0.5555555555555556,
              "#d8576b"
             ],
             [
              0.6666666666666666,
              "#ed7953"
             ],
             [
              0.7777777777777778,
              "#fb9f3a"
             ],
             [
              0.8888888888888888,
              "#fdca26"
             ],
             [
              1,
              "#f0f921"
             ]
            ],
            "type": "histogram2dcontour"
           }
          ],
          "mesh3d": [
           {
            "colorbar": {
             "outlinewidth": 0,
             "ticks": ""
            },
            "type": "mesh3d"
           }
          ],
          "parcoords": [
           {
            "line": {
             "colorbar": {
              "outlinewidth": 0,
              "ticks": ""
             }
            },
            "type": "parcoords"
           }
          ],
          "pie": [
           {
            "automargin": true,
            "type": "pie"
           }
          ],
          "scatter": [
           {
            "fillpattern": {
             "fillmode": "overlay",
             "size": 10,
             "solidity": 0.2
            },
            "type": "scatter"
           }
          ],
          "scatter3d": [
           {
            "line": {
             "colorbar": {
              "outlinewidth": 0,
              "ticks": ""
             }
            },
            "marker": {
             "colorbar": {
              "outlinewidth": 0,
              "ticks": ""
             }
            },
            "type": "scatter3d"
           }
          ],
          "scattercarpet": [
           {
            "marker": {
             "colorbar": {
              "outlinewidth": 0,
              "ticks": ""
             }
            },
            "type": "scattercarpet"
           }
          ],
          "scattergeo": [
           {
            "marker": {
             "colorbar": {
              "outlinewidth": 0,
              "ticks": ""
             }
            },
            "type": "scattergeo"
           }
          ],
          "scattergl": [
           {
            "marker": {
             "colorbar": {
              "outlinewidth": 0,
              "ticks": ""
             }
            },
            "type": "scattergl"
           }
          ],
          "scattermapbox": [
           {
            "marker": {
             "colorbar": {
              "outlinewidth": 0,
              "ticks": ""
             }
            },
            "type": "scattermapbox"
           }
          ],
          "scatterpolar": [
           {
            "marker": {
             "colorbar": {
              "outlinewidth": 0,
              "ticks": ""
             }
            },
            "type": "scatterpolar"
           }
          ],
          "scatterpolargl": [
           {
            "marker": {
             "colorbar": {
              "outlinewidth": 0,
              "ticks": ""
             }
            },
            "type": "scatterpolargl"
           }
          ],
          "scatterternary": [
           {
            "marker": {
             "colorbar": {
              "outlinewidth": 0,
              "ticks": ""
             }
            },
            "type": "scatterternary"
           }
          ],
          "surface": [
           {
            "colorbar": {
             "outlinewidth": 0,
             "ticks": ""
            },
            "colorscale": [
             [
              0,
              "#0d0887"
             ],
             [
              0.1111111111111111,
              "#46039f"
             ],
             [
              0.2222222222222222,
              "#7201a8"
             ],
             [
              0.3333333333333333,
              "#9c179e"
             ],
             [
              0.4444444444444444,
              "#bd3786"
             ],
             [
              0.5555555555555556,
              "#d8576b"
             ],
             [
              0.6666666666666666,
              "#ed7953"
             ],
             [
              0.7777777777777778,
              "#fb9f3a"
             ],
             [
              0.8888888888888888,
              "#fdca26"
             ],
             [
              1,
              "#f0f921"
             ]
            ],
            "type": "surface"
           }
          ],
          "table": [
           {
            "cells": {
             "fill": {
              "color": "#EBF0F8"
             },
             "line": {
              "color": "white"
             }
            },
            "header": {
             "fill": {
              "color": "#C8D4E3"
             },
             "line": {
              "color": "white"
             }
            },
            "type": "table"
           }
          ]
         },
         "layout": {
          "annotationdefaults": {
           "arrowcolor": "#2a3f5f",
           "arrowhead": 0,
           "arrowwidth": 1
          },
          "autotypenumbers": "strict",
          "coloraxis": {
           "colorbar": {
            "outlinewidth": 0,
            "ticks": ""
           }
          },
          "colorscale": {
           "diverging": [
            [
             0,
             "#8e0152"
            ],
            [
             0.1,
             "#c51b7d"
            ],
            [
             0.2,
             "#de77ae"
            ],
            [
             0.3,
             "#f1b6da"
            ],
            [
             0.4,
             "#fde0ef"
            ],
            [
             0.5,
             "#f7f7f7"
            ],
            [
             0.6,
             "#e6f5d0"
            ],
            [
             0.7,
             "#b8e186"
            ],
            [
             0.8,
             "#7fbc41"
            ],
            [
             0.9,
             "#4d9221"
            ],
            [
             1,
             "#276419"
            ]
           ],
           "sequential": [
            [
             0,
             "#0d0887"
            ],
            [
             0.1111111111111111,
             "#46039f"
            ],
            [
             0.2222222222222222,
             "#7201a8"
            ],
            [
             0.3333333333333333,
             "#9c179e"
            ],
            [
             0.4444444444444444,
             "#bd3786"
            ],
            [
             0.5555555555555556,
             "#d8576b"
            ],
            [
             0.6666666666666666,
             "#ed7953"
            ],
            [
             0.7777777777777778,
             "#fb9f3a"
            ],
            [
             0.8888888888888888,
             "#fdca26"
            ],
            [
             1,
             "#f0f921"
            ]
           ],
           "sequentialminus": [
            [
             0,
             "#0d0887"
            ],
            [
             0.1111111111111111,
             "#46039f"
            ],
            [
             0.2222222222222222,
             "#7201a8"
            ],
            [
             0.3333333333333333,
             "#9c179e"
            ],
            [
             0.4444444444444444,
             "#bd3786"
            ],
            [
             0.5555555555555556,
             "#d8576b"
            ],
            [
             0.6666666666666666,
             "#ed7953"
            ],
            [
             0.7777777777777778,
             "#fb9f3a"
            ],
            [
             0.8888888888888888,
             "#fdca26"
            ],
            [
             1,
             "#f0f921"
            ]
           ]
          },
          "colorway": [
           "#636efa",
           "#EF553B",
           "#00cc96",
           "#ab63fa",
           "#FFA15A",
           "#19d3f3",
           "#FF6692",
           "#B6E880",
           "#FF97FF",
           "#FECB52"
          ],
          "font": {
           "color": "#2a3f5f"
          },
          "geo": {
           "bgcolor": "white",
           "lakecolor": "white",
           "landcolor": "#E5ECF6",
           "showlakes": true,
           "showland": true,
           "subunitcolor": "white"
          },
          "hoverlabel": {
           "align": "left"
          },
          "hovermode": "closest",
          "mapbox": {
           "style": "light"
          },
          "paper_bgcolor": "white",
          "plot_bgcolor": "#E5ECF6",
          "polar": {
           "angularaxis": {
            "gridcolor": "white",
            "linecolor": "white",
            "ticks": ""
           },
           "bgcolor": "#E5ECF6",
           "radialaxis": {
            "gridcolor": "white",
            "linecolor": "white",
            "ticks": ""
           }
          },
          "scene": {
           "xaxis": {
            "backgroundcolor": "#E5ECF6",
            "gridcolor": "white",
            "gridwidth": 2,
            "linecolor": "white",
            "showbackground": true,
            "ticks": "",
            "zerolinecolor": "white"
           },
           "yaxis": {
            "backgroundcolor": "#E5ECF6",
            "gridcolor": "white",
            "gridwidth": 2,
            "linecolor": "white",
            "showbackground": true,
            "ticks": "",
            "zerolinecolor": "white"
           },
           "zaxis": {
            "backgroundcolor": "#E5ECF6",
            "gridcolor": "white",
            "gridwidth": 2,
            "linecolor": "white",
            "showbackground": true,
            "ticks": "",
            "zerolinecolor": "white"
           }
          },
          "shapedefaults": {
           "line": {
            "color": "#2a3f5f"
           }
          },
          "ternary": {
           "aaxis": {
            "gridcolor": "white",
            "linecolor": "white",
            "ticks": ""
           },
           "baxis": {
            "gridcolor": "white",
            "linecolor": "white",
            "ticks": ""
           },
           "bgcolor": "#E5ECF6",
           "caxis": {
            "gridcolor": "white",
            "linecolor": "white",
            "ticks": ""
           }
          },
          "title": {
           "x": 0.05
          },
          "xaxis": {
           "automargin": true,
           "gridcolor": "white",
           "linecolor": "white",
           "ticks": "",
           "title": {
            "standoff": 15
           },
           "zerolinecolor": "white",
           "zerolinewidth": 2
          },
          "yaxis": {
           "automargin": true,
           "gridcolor": "white",
           "linecolor": "white",
           "ticks": "",
           "title": {
            "standoff": 15
           },
           "zerolinecolor": "white",
           "zerolinewidth": 2
          }
         }
        },
        "title": {
         "text": "Porcentaje de longitud por material"
        }
       }
      },
      "text/html": [
       "<div>                            <div id=\"4673f720-ab64-4686-8f9a-eec15f402075\" class=\"plotly-graph-div\" style=\"height:525px; width:100%;\"></div>            <script type=\"text/javascript\">                require([\"plotly\"], function(Plotly) {                    window.PLOTLYENV=window.PLOTLYENV || {};                                    if (document.getElementById(\"4673f720-ab64-4686-8f9a-eec15f402075\")) {                    Plotly.newPlot(                        \"4673f720-ab64-4686-8f9a-eec15f402075\",                        [{\"domain\":{\"x\":[0.0,1.0],\"y\":[0.0,1.0]},\"hovertemplate\":\"material=%{label}<br>longitud=%{value}<extra></extra>\",\"labels\":[\"ACERO\",\"ACERO\",\"ACERO\",\"ACERO\",\"ACERO\",\"ACERO\",\"ACERO\",\"ACERO\",\"ACERO\",\"ACERO\",\"ACERO\",\"ACERO\",\"ACERO\",\"ACERO\",\"ACERO\",\"ACERO\",\"ACERO\",\"ACERO\",\"ACERO\",\"ACERO\",\"ACERO\",\"ACERO\",\"ACERO\",\"ACERO\",\"ACERO\",\"ACERO\",\"ACERO\",\"ACERO\",\"ACERO\",\"ACERO\",\"ACERO\",\"ACERO\",\"ACERO\",\"ACERO\",\"ACERO\",\"ACERO\",\"ACERO\",\"ACERO\",\"ACERO\",\"ACERO\",\"ACERO\",\"ACERO\",\"ACERO\",\"ACERO\",\"ACERO\",\"ACERO\",\"ACERO\",\"ACERO\",\"ACERO\",\"ACERO\",\"ACERO\",\"ACERO\",\"ACERO\",\"ACERO\",\"ACERO\",\"ACERO\",\"ACERO\",\"ACERO\",\"ACERO\",\"ACERO\",\"ACERO\",\"ACERO\",\"ACERO\",\"ACERO\",\"ACERO\",\"ACERO\",\"ACERO\",\"ACERO\",\"ACERO\",\"ACERO\",\"ACERO\",\"ACERO\",\"ACERO\",\"ACERO\",\"ACERO\",\"ACERO\",\"ACERO\",\"ACERO\",\"ACERO\",\"ACERO\",\"ACERO\",\"ACERO\",\"ACERO\",\"ACERO\",\"ACERO\",\"ACERO\",\"ACERO\",\"ACERO\",\"ACERO\",\"ACERO\",\"ACERO\",\"ACERO\",\"ACERO\",\"ACERO\",\"ACERO\",\"ACERO\",\"ACERO\",\"ACERO\",\"ACERO\",\"ACERO\",\"ACERO\",\"ACERO\",\"ACERO\",\"ACERO\",\"ACERO\",\"ACERO\",\"ACERO\",\"ACERO\",\"ACERO\",\"ACERO\",\"ACERO\",\"ACERO\",\"ACERO\",\"ACERO\",\"ACERO\",\"ACERO\",\"ACERO\",\"ACERO\",\"ACERO\",\"ACERO\",\"ACERO\",\"ACERO\",\"ACERO\",\"ACERO\",\"ACERO\",\"ACERO\",\"ACERO\",\"ACERO\",\"ACERO\",\"ACERO\",\"ACERO\",\"ACERO\",\"ACERO\",\"ACERO\",\"ACERO\",\"ACERO\",\"ACERO\",\"ACERO\",\"ACERO\",\"ACERO\",\"ACERO\",\"ACERO\",\"ACERO\",\"ACERO\",\"ACERO\",\"ACERO\",\"ACERO\",\"ACERO\",\"ACERO\",\"ERFV\",\"ACERO\",\"ACERO\",\"ACERO\",\"ACERO\",\"ACERO\",\"ACERO\",\"ACERO\",\"ACERO\",\"ACERO\",\"ACERO\",\"ACERO\",\"ACERO\",\"ACERO\",\"ACERO\",\"ACERO\",\"ACERO\",\"ACERO\",\"ACERO\",\"ACERO\",\"ACERO\",\"ACERO\",\"ACERO\",\"ACERO\",\"ACERO\",\"ACERO\",\"ACERO\",\"ACERO\",\"ACERO\",\"ACERO\",\"ACERO\",\"ACERO\",\"ACERO\",\"ACERO\",\"ACERO\",\"ACERO\",\"ACERO\",\"ACERO\",\"ACERO\",\"ACERO\",\"ACERO\",\"ACERO\",\"ACERO\",\"ACERO\",\"ACERO\",\"ACERO\",\"ACERO\",\"ACERO\",\"ACERO\",\"ACERO\",\"ACERO\",\"ACERO\",\"ACERO\",\"ACERO\",\"ACERO\",\"ACERO\",\"ACERO\",\"ACERO\",\"ACERO\",\"ACERO\",\"ACERO\",\"ACERO\",\"ACERO\",\"ACERO\",\"ACERO\",\"ACERO\",\"ACERO\",\"ACERO\",\"ACERO\",\"ACERO\",\"ACERO\",\"ACERO\",\"ACERO\",\"ACERO\",\"ACERO\",\"ACERO\",\"ACERO\",\"ACERO\",\"ACERO\",\"ACERO\",\"ACERO\",\"ACERO\",\"ACERO\",\"ACERO\",\"ACERO\",\"ACERO\",\"ACERO\",\"ACERO\",\"ACERO\",\"ACERO\",\"ACERO\",\"ACERO\",\"ACERO\",\"ACERO\",\"ACERO\",\"ACERO\",\"ACERO\",\"ACERO\",\"ACERO\",\"ACERO\",\"ACERO\",\"ACERO\",\"ACERO\",\"ACERO\",\"ACERO\",\"ACERO\",\"ACERO\",\"ACERO\",\"ACERO\",\"ACERO\",\"ACERO\",\"ACERO\",\"ACERO\",\"ACERO\",\"ACERO\",\"ACERO\",\"ACERO\",\"ACERO\",\"ACERO\",\"ACERO\",\"ACERO\",\"ACERO\",\"ACERO\",\"ACERO\",\"ACERO\",\"ACERO\",\"ACERO\",\"ACERO\",\"ACERO\",\"ACERO\",\"ACERO\",\"ACERO\",\"ACERO\",\"ACERO\",\"ACERO\",\"ACERO\",\"ACERO\",\"ACERO\",\"ACERO\",\"ACERO\",\"ACERO\",\"ACERO\",\"ACERO\",\"ACERO\",\"ACERO\",\"ACERO\",\"ACERO\",\"ACERO\",\"ACERO\",\"ACERO\",\"ACERO\",\"ACERO\",\"ACERO\",\"ACERO\",\"ACERO\",\"ACERO\",\"ACERO\",\"ACERO\",\"ACERO\",\"ACERO\",\"ACERO\",\"ACERO\",\"ACERO\",\"ACERO\",\"ACERO\",\"ACERO\",\"ACERO\",\"ACERO\",\"ACERO\",\"ACERO\",\"ACERO\",\"ACERO\",\"ACERO\",\"ACERO\",\"ACERO\",\"ACERO\",\"ACERO\",\"ACERO\",\"ACERO\",\"ACERO\",\"ACERO\",\"ACERO\",\"ACERO\",\"ACERO\",\"ACERO\",\"ACERO\",\"ACERO\",\"ACERO\",\"ACERO\",\"ACERO\",\"ACERO\",\"ACERO\",\"ACERO\",\"ACERO\",\"ACERO\",\"ACERO\",\"ACERO\",\"ACERO\",\"ACERO\",\"ACERO\",\"ACERO\",\"ACERO\",\"ACERO\",\"ACERO\",\"ACERO\",\"ACERO\",\"ACERO\",\"ACERO\",\"ACERO\",\"ACERO\",\"PEAD\",\"ACERO\",\"ACERO\",\"ACERO\",\"ACERO\",\"ACERO\",\"ACERO\",\"ACERO\",\"ACERO\",\"ACERO\",\"ACERO\",\"ACERO\",\"ACERO\",\"ACERO\",\"ACERO\",\"ACERO\",\"ACERO\",\"ACERO\",\"ACERO\",\"ACERO\",\"ACERO\",\"ACERO\",\"ACERO\",\"ACERO\",\"ACERO\",\"ACERO\",\"ACERO\",\"ACERO\",\"ACERO\",\"ACERO\",\"ACERO\",\"ACERO\",\"ACERO\",\"ACERO\",\"ACERO\",\"ACERO\",\"ACERO\",\"ACERO\",\"ACERO\",\"ACERO\",\"ACERO\",\"ACERO\",\"ACERO\",\"ACERO\",\"ACERO\",\"ACERO\",\"ACERO\",\"ACERO\",\"ACERO\",\"ACERO\",\"ACERO\",\"ACERO\",\"ACERO\",\"ACERO\",\"ACERO\",\"ACERO\",\"ACERO\",\"ACERO\",\"ACERO\",\"ACERO\",\"ACERO\",\"ACERO\",\"ACERO\",\"ACERO\",\"ACERO\",\"ACERO\",\"ACERO\",\"ACERO\",\"ACERO\",\"ACERO\",\"ACERO\",\"ACERO\",\"ACERO\",\"ACERO\",\"ACERO\",\"ACERO\",\"ACERO\",\"ACERO\",\"ACERO\",\"ACERO\",\"ACERO\",\"ACERO\",\"ACERO\",\"ACERO\",\"ACERO\",\"ACERO\",\"ACERO\",\"ACERO\",\"ACERO\",\"ACERO\",\"ACERO\",\"ACERO\",\"ACERO\",\"ACERO\",\"ACERO\",\"ACERO\",\"ACERO\",\"ACERO\",\"ACERO\",\"ACERO\",\"ACERO\",\"ACERO\",\"ACERO\",\"ACERO\",\"ACERO\",\"ACERO\",\"ACERO\",\"ACERO\",\"ACERO\",\"ACERO\",\"ACERO\",\"ACERO\",\"ACERO\",\"ACERO\",\"ACERO\",\"ACERO\",\"ACERO\",\"ACERO\",\"ACERO\",\"ACERO\",\"ACERO\",\"ACERO\",\"ACERO\",\"ACERO\",\"ACERO\",\"ACERO\",\"ACERO\",\"ACERO\",\"ACERO\",\"ACERO\",\"ACERO\",\"ACERO\",\"ACERO\",\"ACERO\",\"ACERO\",\"ACERO\",\"ACERO\",\"ACERO\",\"ACERO\",\"ACERO\",\"ACERO\",\"ACERO\",\"ACERO\",\"ACERO\",\"ACERO\",\"ACERO\",\"ACERO\",\"ACERO\",\"ACERO\",\"ACERO\",\"ACERO\",\"ACERO\",\"ACERO\",\"ACERO\",\"ACERO\",\"ACERO\",\"ACERO\",\"ACERO\",\"ACERO\",\"PEAD\",\"PEAD\",\"PEAD\",\"PEAD\",\"PEAD\",\"PEAD\",\"ACERO\",\"PEAD\",\"PEAD\",\"PEAD\",\"PEAD\",\"PEAD\",\"PEAD\",\"PEAD\",\"PEAD\",\"PEAD\",\"ACERO\",\"ACERO\",\"ACERO\",\"ACERO\",\"PEAD\",\"PEAD\",\"PEAD\",\"PEAD\",\"PEAD\",\"PEAD\",\"PEAD\",\"PEAD\",\"PEAD\",\"PEAD\",\"PEAD\",\"PEAD\",\"PEAD\",\"PEAD\",\"PEAD\",\"PEAD\",\"PEAD\",\"PEAD\",\"PEAD\",\"PEAD\",\"PEAD\",\"PEAD\",\"PEAD\",\"PEAD\",\"PEAD\",\"PEAD\",\"PEAD\",\"PEAD\",\"PEAD\",\"PEAD\",\"PEAD\",\"PEAD\",\"PEAD\",\"PEAD\",\"PEAD\",\"PEAD\",\"PEAD\",\"PEAD\",\"PEAD\",\"PEAD\",\"PEAD\",\"PEAD\",\"PEAD\",\"PEAD\",\"PEAD\",\"PEAD\",\"PEAD\",\"PEAD\",\"PEAD\",\"PEAD\",\"PEAD\",\"PEAD\",\"PEAD\",\"PEAD\",\"PEAD\",\"PEAD\",\"PEAD\",\"PEAD\",\"PEAD\",\"PEAD\",\"PEAD\",\"PEAD\",\"PEAD\",\"PEAD\",\"PEAD\",\"PEAD\",\"PEAD\",\"PEAD\",\"PEAD\",\"PEAD\",\"PEAD\",\"PEAD\",\"PEAD\",\"PEAD\",\"PEAD\",\"PEAD\",\"PEAD\",\"PEAD\",\"PEAD\",\"PEAD\",\"PEAD\",\"PEAD\",\"PEAD\",\"PEAD\",\"PEAD\",\"PEAD\",\"PEAD\",\"PEAD\",\"ACERO\",\"ACERO\",\"ACERO\",\"ACERO\",\"ACERO\",\"ACERO\",\"ACERO\",\"ACERO\"],\"legendgroup\":\"\",\"name\":\"\",\"showlegend\":true,\"values\":[12.264041057355843,0.085900607374049,10.44022221639727,0.5328111860691467,2.96067257392658,3.74709733527213,0.2953236360334582,6.612484120964182,0.0615442929928378,4.911736484099336,6.120823513248668,0.0484532764631724,57.08150273019829,5.309298141157794,4.903075276122869,28.0353196118633,2.2256462049283097,26.686812118296988,6.346285761969309,3.897907132950703,5.0653741553961655,5.078290561500203,1.6603801552650816,14.51398641102862,0.9890040997830648,13.724691059080676,8.099315982142526,10.113947378104614,8.296149053913073,18.88387584187469,6.945816229195312,3.572034059097267,1.0487388247857443,9.905137485213354,2.5497639362706206,1.679168703554633,5.077446021518226,0.8024150042633349,21.41665023615978,7.887457660416573,9.175272753449844,1.4078831461064616,3.849536032109845,9.444654269311815,2.024041590309912,0.9573524947405664,4.025913345891223,2.031336514525504,10.482577100508529,3.149388784449477,0.4797252065068322,1.2257776775786198,7.206069641881547,10.607706318279863,9.069110018114406,0.0903231974632919,1.8631034529443264,0.3280430593080126,0.01277810627655,4.028878337920286,0.0281625638039968,0.0028160255681723,0.5197548350705522,0.0802168311513948,0.5183063861958704,1.8326303924286529,0.5175305078118899,4.891509920442352,32.61656618812809,0.0107786826651296,24.09706384728156,4.04044595949878,1.8353987801687035,0.0038183766178106,0.0027892651360575,0.360646139565335,0.01277810627655,1.9119154893187784,0.1050908654448172,0.1204548501009777,0.0676782414141159,0.8181909619654537,32.74017851428442,23.97385130142264,0.0141226768000315,0.0559890214184863,0.01164560002685,0.1491331166793932,5.960426056179455,0.0139032370321628,3.5780196562341486,0.2770252248212199,1.572150001239199,0.0845092221709309,0.0282453536000631,0.0226922724562698,5.301826322436069,0.1040800197105551,4.061024679951104,1.854574219086752,10.71177273563519,2.5159487418420805,1.7189001862780977,0.2770246286029669,0.4999847240566442,0.0528000104621782,1.4138037375341816,3.63002954393596,5.531171950826465,4.801375085090855,4.86183249207871,7.457279209134058,11.026735393191226,14.508958739475784,6.172039433888754,9.489324859309104,5.794855257231466,2.4485184043878223,9.321643491250516,6.18103293725436,2.1400816756542795,2.827197550267567,12.264041057355843,0.4581740706816751,1.3408934346181158,7.81186173386106,0.3465550732904041,2.8430373305878858,0.6332742386618825,0.2547826818241728,0.3446778117406039,0.9106759689475222,0.32736604524999,3.007220537220641,3.692887653744047,0.7514947679705732,1.0967297330788228,0.0079309520234785,1.359603632393395,13.427826235468002,4.231674049664297,2.7682206404439835,1.3565906034427653,13.835443477691015,10.84929786981833,1.4762997712703785,0.4330268892180799,24.970442236838927,0.4488161966383729,2.348627440803125,7.202342456412601,8.242596769537272,4.261940619168898,0.0321829917794994,14.417485927634038,1.232542681848054,1.2764669897112864,0.1920772977932896,8.098497392652796,3.569173193740592,8.943811548148865,0.0007211102552428,0.0056603886787259,5.072270598547915,0.0012727922064393,0.0989247236781101,2.0351833613075083,8.242596769537272,1.2526268579378468,51.26831141886501,0.0019849433235909,0.2412747696665768,2.353371342420912,4.518880735423512,2.159921141687317,6.80497391304408,6.362694581808517,0.6569860380923345,0.0327783985042992,0.037664970463018,2.4799307325612934,6.12772272528276,1.780728726275914,9.278467589182744,9.970878368487853,4.014824073880422,0.3168827187662734,0.9890040997830648,0.8209995271039504,0.1447100145256681,2.6984627256715794,7.487007294173919,0.1304987416727643,1.3088486528967973,9.071768093991952,3.906144818358519,0.028358161340242,2.842963263217988,0.6129410936593838,5.13410252472617,0.5541853214917266,2.890535363842609,0.1361073179890998,3.144113369800763,0.2824683260256598,0.2187701178846108,2.781843595210275,5.514273077292856,0.0417264354801273,0.3598684801723912,3.2941975671093062,3.5579581766981607,5.631639630588609,1.0445217831523812,14.723266867620136,1.7306451549276372,6.752716226225291,10.84929786981833,3.73262654776222,0.3392906609101291,0.2077733948624064,4.90796257771563,1.4760591254718898,13.83545183665741,0.3544737849241529,2.537413848887348,7.81186173386106,2.825030324943661,1.2964765511021108,4.2285571784935,3.194654430091686,13.427826235468002,5.999073026593896,1.8397785916819096,6.379773070344132,1.3565906034427653,1.8937212194624344,3.597101281995515,3.555982668126003,3.922251208280161,3.689829331135338,0.5763817709392012,2.000224876747524,0.0908278479226668,3.50006240581305,6.115301660127407,7.519331194658497,0.0868925392884338,0.0149286902190372,6.288257740822943,3.007648414675599,3.985414706738639,4.372682104972365,1.582018455197286,0.0806895792223288,34.94268497146364,27.5830295187912,7.83782180705253,2.8126769674486387,0.0109635760576166,0.0,0.0019416487829448,0.0001000000011686,0.0016970562745824,0.0016643316982461,0.0015264337519312,0.0006708203931451,0.0011313708500566,0.0004242640696504,0.0020615528131529,0.0,0.0011401754253364,0.0008485281377936,0.6330573946513626,0.0012727922059368,0.0001000000011686,0.0001414213558802,9.999999974752428e-05,0.0021840329657596,1.3565243257192878,10.848905704596133,0.20764115608566,0.1446156526723983,0.0022203603310477,0.0925324354019281,0.0003605551270302,0.0001414213563826,0.0,2.8430373305878858,0.0115108644326158,0.0010049875616957,5.9990367704242304,0.0036796738978202,0.0013453624048492,0.0016278820595156,0.0007071067823153,9.999999974752428e-05,0.0020518284532287,0.0001414213568851,0.0418094716411747,0.0009433981139871,0.0009307135785964,0.0055154328928955,2.8906683110560683,0.0003605551278184,0.0006082762528958,1.4762997712703785,1.893891492005905,0.0013453624048492,0.0012727922064393,0.0015811388296423,0.0043863424403838,0.0016643316982461,0.0007211102548487,0.3543738359496203,0.0006403124236802,7.811919226220751,0.1361073179895347,0.0034465412291803,0.0868109183970353,0.001400000000018,0.0012727922054344,0.0023600847438221,0.0019209372703748,0.0012369316890429,0.0015811388296423,0.0002236067975031,0.0005000000003008,0.0053740115375177,0.0008062257750857,0.0035383612032159,0.0,0.0022627417001132,0.0427724973748464,0.0012041594573763,0.0017117242767747,0.0007071067815114,3.5558668418988413,0.0016643316974349,0.0019798989868454,13.427828186805414,0.0005656854245258,0.0007810249676202,12.263969746839877,0.8314833053453241,3.569318847173059,8.17408593399903,26.438663986800503,5.033890665149992,7.219936803994953,0.3438661747690836,0.817919489193449,8.242606925657068,1.1034914326753724,29.32857455830978,3.156975730327135,5.055435852307087,4.261913612511918,0.032179656723981,5.3751494286275125,6.945816229195312,3.849536032109845,0.8024150042633349,3.572034059097267,9.444654269311815,1.679168703554633,3.149388784449477,9.069110018114406,10.105912236793342,4.025913345891223,0.4797252065068322,1.4078831461064616,2.024041590309912,9.905136513522963,18.89468406470161,2.5497639362706206,9.175272753449844,10.607706318279863,7.206069641881547,7.887457660416573,10.482577100508529,28.02875011643044,1.0487388247857443,5.077446021518226,1.2257776775786198,8.333561935360482,8.110777168298293,2.031336514525504,0.9573524947405664,0.1050908654448172,0.360646139565335,0.5175305078118899,0.0038183766178106,0.01277810627655,0.0027892651360575,1.8353987801687035,4.04044595949878,1.9119154893187784,0.5183063861958704,0.0107786826651296,0.5197548350705522,0.0677747755164657,0.8181909479712548,0.1203195134131345,26.438663986800503,0.3543738359496203,4.261913612511918,0.1040800197105551,14.513992854371857,1.4138045738258902,0.7887965042215213,0.2586992596457853,0.2403413691541976,12.263969746839877,0.3441269450375301,0.0559890214184863,8.242606925657068,0.458200008766731,13.724629888699884,0.0691416661647103,1.854574219086752,6.379773070344132,0.0139032370321628,7.219936803994953,0.2770246286029669,0.014205632685331,0.0845092221709309,1.8397785916819096,0.0141226768000315,0.032179656723981,4.061024682223325,1.572150001239199,0.4999847240566442,0.0427724973748464,0.1491331166793932,13.427828186805414,0.1054432998345619,0.0234691487595653,0.0226922724562698,8.008527108295247,2.5159487420632924,0.0282453536000631,3.5780196562341486,0.01164560002685,1.3565243257192878,1.7189001862780977,10.519870407053334,0.8314833053453241,5.960425369274628,0.6330573946513626,5.9990367704242304,3.569318847173059,8.238428925836743,4.538476295014545,22.813593338999244,0.1096400293832702,12.672840256635997,0.0561221473653694,0.3441269450375301,10.519870407053334,0.1054432998345619,0.0427724973748464,0.3713970787735151,0.7270292876984092,1.8397785916819096,1.3565243257192878,6.379773070344132,0.1233965425676346,0.584517075511455,0.1115119748095072,13.814221614963188,13.397810754551356,7.988720583868258,0.1040800197105551,13.22380036648989,1.4762997712703785,5.9990367704242304,0.0616175184425186,7.219936803994953,8.242606925657068,4.261913612511918,0.8314833053453241,0.0691416661647103,0.3543738359496203,49.332337962688186,3.569318847173059,8.238428925836743,26.438663986800503,0.1054432998345619,0.0427724973748464,2.989097735395956,0.1040800197105551,5.999036976537095,0.0616393567925829,4.153309852590397,8.242678782267674,4.262047530111017,0.0691416661647103,0.3543738359496203,26.438663986800503,0.033018353513224,0.4199755965787981,0.0044181444071064,0.1137784346887967,0.0295732082936809,0.0037818164719326,46.57684526568272,14.3516597148084,2.961238314210025,28.823582599389265,28.822747133051823,16.45590864233331,32.81792243817603,44.170338813087554,116.4823694563182,18.99796793001557,85.93237085908694,28.85422306660755,0.2530640285862743,0.0660587213045643,0.7382173041137854,0.2299535501517514,0.0980306283984644,0.4030109179657539,45.64995176238919,0.0610924372652763,0.0264406266271867,0.0213198292996188,0.1521025304975395,0.0169941166286728,0.2157487729293924,0.1770647900848022,0.0899052825885487,1.0448004066887906,1.1204684902120854,2.6863331126729384,3.177619779756903,0.3388843550521364,0.2441801197836722,0.1431003120347877,0.0956153230397639,0.1761195915113952,0.0597606398569017,0.1129733070222231,0.1640849580728924,0.2437952896840732,2.341055820156189,0.1609910130059176,0.2694059310696617,0.1540471213696145,3.712865806278773,0.3113005145969698,1.204735704112971,0.0609338165549241,0.2199032453791588,0.5701533543720962,0.2660786861656604,0.1132947791858544,0.2441766226613361,2.272204437066294,0.0603549251763696,0.0737353024974782,0.7766453800710197,1.4631154763839451,1.2678619099449515,1.1208182638684,0.3936525935552778,0.0747453260480805,0.4899369706092526,0.261949457596213,0.0908322753343086,0.2520707760726408,0.0445933850409542,0.3406507270233558,0.0601774239085063,0.2950241792863441,0.0702022580385448,0.1862688649364557,0.0221505417864723,0.0722130085859707,0.0302861844563408,0.6908872870058974,0.0924011079828912,0.1026737962661264,0.1007263110535205,0.1768429006287703,0.3142261378412899,0.1920328644093174,0.0687319425349038,0.10869674502471,0.3790408555031982,0.0343347162328903,1.096186719866695,0.104423814912617,0.1001041398436915,1.0883355370722965,0.5145980327156291,0.1460201259641273,0.0309622350616444,0.6200262370794742,0.5746122121470564,0.9341028484792916,0.0269408611595242,0.2953510376063187,0.0848842017593866,0.2746105677406346,0.1956109063345793,0.3559486705916539,0.1929620881064808,0.2733418282928215,0.5398227204500711,0.3439551848312941,0.8842264730729738,0.0511329639270277,0.2631702267881979,0.7163773491886447,0.072476823880509,0.0411442584083909,0.0296863605042883,0.0315412428415796,0.5120764258383,0.3584344892049263,1.2676623470242183,0.1779615969807558,0.3433430186794501,5.3751494286275125,26.438663986800503,0.1054432998345619,0.0427724973748464,0.1040800197105551,5.999036976537095,0.3543738359496203,3.570305439337626,148.78793762563274],\"type\":\"pie\"}],                        {\"template\":{\"data\":{\"histogram2dcontour\":[{\"type\":\"histogram2dcontour\",\"colorbar\":{\"outlinewidth\":0,\"ticks\":\"\"},\"colorscale\":[[0.0,\"#0d0887\"],[0.1111111111111111,\"#46039f\"],[0.2222222222222222,\"#7201a8\"],[0.3333333333333333,\"#9c179e\"],[0.4444444444444444,\"#bd3786\"],[0.5555555555555556,\"#d8576b\"],[0.6666666666666666,\"#ed7953\"],[0.7777777777777778,\"#fb9f3a\"],[0.8888888888888888,\"#fdca26\"],[1.0,\"#f0f921\"]]}],\"choropleth\":[{\"type\":\"choropleth\",\"colorbar\":{\"outlinewidth\":0,\"ticks\":\"\"}}],\"histogram2d\":[{\"type\":\"histogram2d\",\"colorbar\":{\"outlinewidth\":0,\"ticks\":\"\"},\"colorscale\":[[0.0,\"#0d0887\"],[0.1111111111111111,\"#46039f\"],[0.2222222222222222,\"#7201a8\"],[0.3333333333333333,\"#9c179e\"],[0.4444444444444444,\"#bd3786\"],[0.5555555555555556,\"#d8576b\"],[0.6666666666666666,\"#ed7953\"],[0.7777777777777778,\"#fb9f3a\"],[0.8888888888888888,\"#fdca26\"],[1.0,\"#f0f921\"]]}],\"heatmap\":[{\"type\":\"heatmap\",\"colorbar\":{\"outlinewidth\":0,\"ticks\":\"\"},\"colorscale\":[[0.0,\"#0d0887\"],[0.1111111111111111,\"#46039f\"],[0.2222222222222222,\"#7201a8\"],[0.3333333333333333,\"#9c179e\"],[0.4444444444444444,\"#bd3786\"],[0.5555555555555556,\"#d8576b\"],[0.6666666666666666,\"#ed7953\"],[0.7777777777777778,\"#fb9f3a\"],[0.8888888888888888,\"#fdca26\"],[1.0,\"#f0f921\"]]}],\"heatmapgl\":[{\"type\":\"heatmapgl\",\"colorbar\":{\"outlinewidth\":0,\"ticks\":\"\"},\"colorscale\":[[0.0,\"#0d0887\"],[0.1111111111111111,\"#46039f\"],[0.2222222222222222,\"#7201a8\"],[0.3333333333333333,\"#9c179e\"],[0.4444444444444444,\"#bd3786\"],[0.5555555555555556,\"#d8576b\"],[0.6666666666666666,\"#ed7953\"],[0.7777777777777778,\"#fb9f3a\"],[0.8888888888888888,\"#fdca26\"],[1.0,\"#f0f921\"]]}],\"contourcarpet\":[{\"type\":\"contourcarpet\",\"colorbar\":{\"outlinewidth\":0,\"ticks\":\"\"}}],\"contour\":[{\"type\":\"contour\",\"colorbar\":{\"outlinewidth\":0,\"ticks\":\"\"},\"colorscale\":[[0.0,\"#0d0887\"],[0.1111111111111111,\"#46039f\"],[0.2222222222222222,\"#7201a8\"],[0.3333333333333333,\"#9c179e\"],[0.4444444444444444,\"#bd3786\"],[0.5555555555555556,\"#d8576b\"],[0.6666666666666666,\"#ed7953\"],[0.7777777777777778,\"#fb9f3a\"],[0.8888888888888888,\"#fdca26\"],[1.0,\"#f0f921\"]]}],\"surface\":[{\"type\":\"surface\",\"colorbar\":{\"outlinewidth\":0,\"ticks\":\"\"},\"colorscale\":[[0.0,\"#0d0887\"],[0.1111111111111111,\"#46039f\"],[0.2222222222222222,\"#7201a8\"],[0.3333333333333333,\"#9c179e\"],[0.4444444444444444,\"#bd3786\"],[0.5555555555555556,\"#d8576b\"],[0.6666666666666666,\"#ed7953\"],[0.7777777777777778,\"#fb9f3a\"],[0.8888888888888888,\"#fdca26\"],[1.0,\"#f0f921\"]]}],\"mesh3d\":[{\"type\":\"mesh3d\",\"colorbar\":{\"outlinewidth\":0,\"ticks\":\"\"}}],\"scatter\":[{\"fillpattern\":{\"fillmode\":\"overlay\",\"size\":10,\"solidity\":0.2},\"type\":\"scatter\"}],\"parcoords\":[{\"type\":\"parcoords\",\"line\":{\"colorbar\":{\"outlinewidth\":0,\"ticks\":\"\"}}}],\"scatterpolargl\":[{\"type\":\"scatterpolargl\",\"marker\":{\"colorbar\":{\"outlinewidth\":0,\"ticks\":\"\"}}}],\"bar\":[{\"error_x\":{\"color\":\"#2a3f5f\"},\"error_y\":{\"color\":\"#2a3f5f\"},\"marker\":{\"line\":{\"color\":\"#E5ECF6\",\"width\":0.5},\"pattern\":{\"fillmode\":\"overlay\",\"size\":10,\"solidity\":0.2}},\"type\":\"bar\"}],\"scattergeo\":[{\"type\":\"scattergeo\",\"marker\":{\"colorbar\":{\"outlinewidth\":0,\"ticks\":\"\"}}}],\"scatterpolar\":[{\"type\":\"scatterpolar\",\"marker\":{\"colorbar\":{\"outlinewidth\":0,\"ticks\":\"\"}}}],\"histogram\":[{\"marker\":{\"pattern\":{\"fillmode\":\"overlay\",\"size\":10,\"solidity\":0.2}},\"type\":\"histogram\"}],\"scattergl\":[{\"type\":\"scattergl\",\"marker\":{\"colorbar\":{\"outlinewidth\":0,\"ticks\":\"\"}}}],\"scatter3d\":[{\"type\":\"scatter3d\",\"line\":{\"colorbar\":{\"outlinewidth\":0,\"ticks\":\"\"}},\"marker\":{\"colorbar\":{\"outlinewidth\":0,\"ticks\":\"\"}}}],\"scattermapbox\":[{\"type\":\"scattermapbox\",\"marker\":{\"colorbar\":{\"outlinewidth\":0,\"ticks\":\"\"}}}],\"scatterternary\":[{\"type\":\"scatterternary\",\"marker\":{\"colorbar\":{\"outlinewidth\":0,\"ticks\":\"\"}}}],\"scattercarpet\":[{\"type\":\"scattercarpet\",\"marker\":{\"colorbar\":{\"outlinewidth\":0,\"ticks\":\"\"}}}],\"carpet\":[{\"aaxis\":{\"endlinecolor\":\"#2a3f5f\",\"gridcolor\":\"white\",\"linecolor\":\"white\",\"minorgridcolor\":\"white\",\"startlinecolor\":\"#2a3f5f\"},\"baxis\":{\"endlinecolor\":\"#2a3f5f\",\"gridcolor\":\"white\",\"linecolor\":\"white\",\"minorgridcolor\":\"white\",\"startlinecolor\":\"#2a3f5f\"},\"type\":\"carpet\"}],\"table\":[{\"cells\":{\"fill\":{\"color\":\"#EBF0F8\"},\"line\":{\"color\":\"white\"}},\"header\":{\"fill\":{\"color\":\"#C8D4E3\"},\"line\":{\"color\":\"white\"}},\"type\":\"table\"}],\"barpolar\":[{\"marker\":{\"line\":{\"color\":\"#E5ECF6\",\"width\":0.5},\"pattern\":{\"fillmode\":\"overlay\",\"size\":10,\"solidity\":0.2}},\"type\":\"barpolar\"}],\"pie\":[{\"automargin\":true,\"type\":\"pie\"}]},\"layout\":{\"autotypenumbers\":\"strict\",\"colorway\":[\"#636efa\",\"#EF553B\",\"#00cc96\",\"#ab63fa\",\"#FFA15A\",\"#19d3f3\",\"#FF6692\",\"#B6E880\",\"#FF97FF\",\"#FECB52\"],\"font\":{\"color\":\"#2a3f5f\"},\"hovermode\":\"closest\",\"hoverlabel\":{\"align\":\"left\"},\"paper_bgcolor\":\"white\",\"plot_bgcolor\":\"#E5ECF6\",\"polar\":{\"bgcolor\":\"#E5ECF6\",\"angularaxis\":{\"gridcolor\":\"white\",\"linecolor\":\"white\",\"ticks\":\"\"},\"radialaxis\":{\"gridcolor\":\"white\",\"linecolor\":\"white\",\"ticks\":\"\"}},\"ternary\":{\"bgcolor\":\"#E5ECF6\",\"aaxis\":{\"gridcolor\":\"white\",\"linecolor\":\"white\",\"ticks\":\"\"},\"baxis\":{\"gridcolor\":\"white\",\"linecolor\":\"white\",\"ticks\":\"\"},\"caxis\":{\"gridcolor\":\"white\",\"linecolor\":\"white\",\"ticks\":\"\"}},\"coloraxis\":{\"colorbar\":{\"outlinewidth\":0,\"ticks\":\"\"}},\"colorscale\":{\"sequential\":[[0.0,\"#0d0887\"],[0.1111111111111111,\"#46039f\"],[0.2222222222222222,\"#7201a8\"],[0.3333333333333333,\"#9c179e\"],[0.4444444444444444,\"#bd3786\"],[0.5555555555555556,\"#d8576b\"],[0.6666666666666666,\"#ed7953\"],[0.7777777777777778,\"#fb9f3a\"],[0.8888888888888888,\"#fdca26\"],[1.0,\"#f0f921\"]],\"sequentialminus\":[[0.0,\"#0d0887\"],[0.1111111111111111,\"#46039f\"],[0.2222222222222222,\"#7201a8\"],[0.3333333333333333,\"#9c179e\"],[0.4444444444444444,\"#bd3786\"],[0.5555555555555556,\"#d8576b\"],[0.6666666666666666,\"#ed7953\"],[0.7777777777777778,\"#fb9f3a\"],[0.8888888888888888,\"#fdca26\"],[1.0,\"#f0f921\"]],\"diverging\":[[0,\"#8e0152\"],[0.1,\"#c51b7d\"],[0.2,\"#de77ae\"],[0.3,\"#f1b6da\"],[0.4,\"#fde0ef\"],[0.5,\"#f7f7f7\"],[0.6,\"#e6f5d0\"],[0.7,\"#b8e186\"],[0.8,\"#7fbc41\"],[0.9,\"#4d9221\"],[1,\"#276419\"]]},\"xaxis\":{\"gridcolor\":\"white\",\"linecolor\":\"white\",\"ticks\":\"\",\"title\":{\"standoff\":15},\"zerolinecolor\":\"white\",\"automargin\":true,\"zerolinewidth\":2},\"yaxis\":{\"gridcolor\":\"white\",\"linecolor\":\"white\",\"ticks\":\"\",\"title\":{\"standoff\":15},\"zerolinecolor\":\"white\",\"automargin\":true,\"zerolinewidth\":2},\"scene\":{\"xaxis\":{\"backgroundcolor\":\"#E5ECF6\",\"gridcolor\":\"white\",\"linecolor\":\"white\",\"showbackground\":true,\"ticks\":\"\",\"zerolinecolor\":\"white\",\"gridwidth\":2},\"yaxis\":{\"backgroundcolor\":\"#E5ECF6\",\"gridcolor\":\"white\",\"linecolor\":\"white\",\"showbackground\":true,\"ticks\":\"\",\"zerolinecolor\":\"white\",\"gridwidth\":2},\"zaxis\":{\"backgroundcolor\":\"#E5ECF6\",\"gridcolor\":\"white\",\"linecolor\":\"white\",\"showbackground\":true,\"ticks\":\"\",\"zerolinecolor\":\"white\",\"gridwidth\":2}},\"shapedefaults\":{\"line\":{\"color\":\"#2a3f5f\"}},\"annotationdefaults\":{\"arrowcolor\":\"#2a3f5f\",\"arrowhead\":0,\"arrowwidth\":1},\"geo\":{\"bgcolor\":\"white\",\"landcolor\":\"#E5ECF6\",\"subunitcolor\":\"white\",\"showland\":true,\"showlakes\":true,\"lakecolor\":\"white\"},\"title\":{\"x\":0.05},\"mapbox\":{\"style\":\"light\"}}},\"legend\":{\"tracegroupgap\":0},\"margin\":{\"t\":60},\"title\":{\"text\":\"Porcentaje de longitud por material\"}},                        {\"responsive\": true}                    ).then(function(){\n",
       "                            \n",
       "var gd = document.getElementById('4673f720-ab64-4686-8f9a-eec15f402075');\n",
       "var x = new MutationObserver(function (mutations, observer) {{\n",
       "        var display = window.getComputedStyle(gd).display;\n",
       "        if (!display || display === 'none') {{\n",
       "            console.log([gd, 'removed!']);\n",
       "            Plotly.purge(gd);\n",
       "            observer.disconnect();\n",
       "        }}\n",
       "}});\n",
       "\n",
       "// Listen for the removal of the full notebook cells\n",
       "var notebookContainer = gd.closest('#notebook-container');\n",
       "if (notebookContainer) {{\n",
       "    x.observe(notebookContainer, {childList: true});\n",
       "}}\n",
       "\n",
       "// Listen for the clearing of the current output cell\n",
       "var outputEl = gd.closest('.output');\n",
       "if (outputEl) {{\n",
       "    x.observe(outputEl, {childList: true});\n",
       "}}\n",
       "\n",
       "                        })                };                });            </script>        </div>"
      ]
     },
     "metadata": {},
     "output_type": "display_data"
    }
   ],
   "source": [
    "fig = px.pie(df_hidro_trocal[df_hidro_trocal[\"material\"] != \"SIN DATO\"],names=\"material\",values=\"longitud\")\n",
    "\n",
    "fig.update_layout(\n",
    "    title='Porcentaje de longitud por material',\n",
    ")\n",
    "\n",
    "fig.write_html(\"Porcentaje de longitud por tipo de material.html\")\n",
    "fig"
   ]
  },
  {
   "cell_type": "code",
   "execution_count": 31,
   "id": "4912a7a6",
   "metadata": {},
   "outputs": [
    {
     "data": {
      "application/vnd.plotly.v1+json": {
       "config": {
        "plotlyServerURL": "https://plot.ly"
       },
       "data": [
        {
         "domain": {
          "x": [
           0,
           1
          ],
          "y": [
           0,
           1
          ]
         },
         "hovertemplate": "revestim=%{label}<br>longitud=%{value}<extra></extra>",
         "labels": [
          "EPOXI",
          "SIN REVESTIMIENTO",
          "OTROS",
          "OTROS",
          "OTROS",
          "OTROS",
          "OTROS",
          "OTROS",
          "OTROS",
          "OTROS",
          "OTROS",
          "OTROS",
          "OTROS",
          "OTROS",
          "OTROS",
          "OTROS",
          "OTROS",
          "ASFALTICO",
          "TRICAPA",
          "TRICAPA",
          "TRICAPA",
          "POLIKEN Y SATURADO",
          "SIN REVESTIMIENTO",
          "POLIETILENO",
          "POLIETILENO",
          "POLIKEN Y SATURADO",
          "POLIKEN Y SATURADO",
          "POLIKEN Y SATURADO",
          "POLIETILENO",
          "POLIETILENO",
          "POLIETILENO",
          "POLIETILENO",
          "POLIETILENO",
          "POLIETILENO",
          "POLIETILENO",
          "POLIETILENO",
          "POLIKEN Y SATURADO",
          "POLIETILENO",
          "POLIETILENO",
          "POLIETILENO",
          "POLIKEN Y SATURADO",
          "POLIKEN Y SATURADO",
          "POLIETILENO",
          "POLIETILENO",
          "EPOXI",
          "TRICAPA",
          "TRICAPA",
          "TRICAPA",
          "TRICAPA",
          "TRICAPA",
          "TRICAPA",
          "TRICAPA",
          "TRICAPA",
          "BICAPA",
          "TRICAPA",
          "BICAPA",
          "BICAPA",
          "BICAPA",
          "BICAPA",
          "TRICAPA",
          "TRICAPA",
          "BICAPA",
          "TRICAPA",
          "TRICAPA",
          "TRICAPA",
          "BICAPA",
          "BICAPA",
          "TRICAPA",
          "TRICAPA",
          "TRICAPA",
          "TRICAPA",
          "TRICAPA",
          "ASFALTICO",
          "TRICAPA",
          "PLASTICO",
          "ASFALTICO",
          "ASFALTICO",
          "ASFALTICO",
          "OTROS",
          "OTROS",
          "BICAPA",
          "TRICAPA",
          "TRICAPA",
          "TRICAPA",
          "TRICAPA",
          "BICAPA",
          "TRICAPA",
          "TRICAPA",
          "TRICAPA",
          "ASFALTICO",
          "BICAPA",
          "BICAPA",
          "BICAPA",
          "BICAPA",
          "BICAPA",
          "TRICAPA",
          "TRICAPA",
          "TRICAPA",
          "TRICAPA",
          "TRICAPA",
          "BICAPA",
          "BICAPA",
          "BICAPA",
          "BICAPA",
          "BICAPA",
          "TRICAPA",
          "TRICAPA",
          "BICAPA",
          "BICAPA",
          "ASFALTICO",
          "BICAPA",
          "BICAPA",
          "TRICAPA",
          "TRICAPA",
          "TRICAPA",
          "BICAPA",
          "BICAPA",
          "BICAPA",
          "TRICAPA",
          "TRICAPA",
          "TRICAPA",
          "TRICAPA",
          "TRICAPA",
          "BICAPA",
          "TRICAPA",
          "BICAPA",
          "TRICAPA",
          "TRICAPA",
          "BICAPA",
          "BICAPA",
          "TRICAPA",
          "BICAPA",
          "TRICAPA",
          "TRICAPA",
          "BICAPA",
          "BICAPA",
          "BICAPA",
          "BICAPA",
          "BICAPA",
          "BICAPA",
          "TRICAPA",
          "TRICAPA",
          "BICAPA",
          "TRICAPA",
          "TRICAPA",
          "BICAPA",
          "BICAPA",
          "BICAPA",
          "TRICAPA",
          "TRICAPA",
          "TRICAPA",
          "TRICAPA",
          "TRICAPA",
          "TRICAPA",
          "TRICAPA",
          "OTROS",
          "BICAPA",
          "BICAPA",
          "BICAPA",
          "BICAPA",
          "BICAPA",
          "BICAPA",
          "BICAPA",
          "BICAPA",
          "BICAPA",
          "BICAPA",
          "BICAPA",
          "BICAPA",
          "BICAPA",
          "BICAPA",
          "BICAPA",
          "BICAPA",
          "BICAPA",
          "BICAPA",
          "BICAPA",
          "BICAPA",
          "TRICAPA",
          "BICAPA",
          "BICAPA",
          "BICAPA",
          "BICAPA",
          "BICAPA",
          "BICAPA",
          "BICAPA",
          "BICAPA",
          "BICAPA",
          "BICAPA",
          "BICAPA",
          "BICAPA",
          "BICAPA",
          "BICAPA",
          "BICAPA",
          "BICAPA",
          "BICAPA",
          "BICAPA",
          "BICAPA",
          "BICAPA",
          "BICAPA",
          "BICAPA",
          "BICAPA",
          "BICAPA",
          "BICAPA",
          "TRICAPA",
          "BICAPA",
          "BICAPA",
          "BICAPA",
          "BICAPA",
          "BICAPA",
          "BICAPA",
          "BICAPA",
          "BICAPA",
          "BICAPA",
          "TRICAPA",
          "BICAPA",
          "BICAPA",
          "BICAPA",
          "BICAPA",
          "BICAPA",
          "BICAPA",
          "BICAPA",
          "BICAPA",
          "BICAPA",
          "BICAPA",
          "BICAPA",
          "BICAPA",
          "BICAPA",
          "BICAPA",
          "BICAPA",
          "BICAPA",
          "BICAPA",
          "BICAPA",
          "BICAPA",
          "BICAPA",
          "BICAPA",
          "BICAPA",
          "BICAPA",
          "TRICAPA",
          "BICAPA",
          "BICAPA",
          "SIN REVESTIMIENTO",
          "ASFALTICO",
          "TRICAPA",
          "TRICAPA",
          "TRICAPA",
          "ASFALTICO",
          "ASFALTICO",
          "TRICAPA",
          "ASFALTICO",
          "TRICAPA",
          "SIN REVESTIMIENTO",
          "SIN REVESTIMIENTO",
          "POLIKEN Y SATURADO",
          "POLIETILENO",
          "POLIKEN Y SATURADO",
          "POLIETILENO",
          "POLIETILENO",
          "POLIKEN Y SATURADO",
          "POLIETILENO",
          "POLIETILENO",
          "POLIKEN Y SATURADO",
          "POLIETILENO",
          "POLIETILENO",
          "POLIETILENO",
          "POLIETILENO",
          "TRICAPA",
          "TRICAPA",
          "EPOXI",
          "BICAPA",
          "ASFALTICO",
          "TRICAPA",
          "TRICAPA",
          "TRICAPA",
          "TRICAPA",
          "BICAPA",
          "BICAPA",
          "TRICAPA",
          "BICAPA",
          "TRICAPA",
          "BICAPA",
          "TRICAPA",
          "TRICAPA",
          "BICAPA",
          "TRICAPA",
          "BICAPA",
          "TRICAPA",
          "BICAPA",
          "SIN REVESTIMIENTO",
          "TRICAPA",
          "TRICAPA",
          "TRICAPA",
          "TRICAPA",
          "TRICAPA",
          "BICAPA",
          "BICAPA",
          "BICAPA",
          "BICAPA",
          "BICAPA",
          "TRICAPA",
          "TRICAPA",
          "TRICAPA",
          "BICAPA",
          "TRICAPA",
          "BICAPA",
          "TRICAPA",
          "TRICAPA",
          "TRICAPA",
          "ASFALTICO",
          "BICAPA",
          "BICAPA",
          "SIN REVESTIMIENTO",
          "BICAPA",
          "BICAPA",
          "TRICAPA",
          "BICAPA",
          "TRICAPA",
          "TRICAPA",
          "TRICAPA",
          "ASFALTICO",
          "BICAPA",
          "BICAPA",
          "OTROS",
          "OTROS",
          "OTROS",
          "OTROS",
          "OTROS",
          "OTROS",
          "OTROS",
          "OTROS",
          "OTROS",
          "OTROS",
          "OTROS",
          "OTROS",
          "OTROS",
          "EPOXI",
          "OTROS",
          "OTROS",
          "OTROS",
          "OTROS",
          "SIN REVESTIMIENTO",
          "BICAPA",
          "BICAPA",
          "BICAPA",
          "BICAPA"
         ],
         "legendgroup": "",
         "name": "",
         "showlegend": true,
         "type": "pie",
         "values": [
          0.085900607374049,
          10.44022221639727,
          0.5328111860691467,
          2.96067257392658,
          3.74709733527213,
          0.2953236360334582,
          6.612484120964182,
          0.0615442929928378,
          4.911736484099336,
          6.120823513248668,
          0.0484532764631724,
          57.08150273019829,
          5.309298141157794,
          4.903075276122869,
          28.0353196118633,
          2.2256462049283097,
          26.686812118296988,
          5.078290561500203,
          14.51398641102862,
          0.9890040997830648,
          13.724691059080676,
          8.296149053913073,
          9.905137485213354,
          0.0903231974632919,
          1.8631034529443264,
          0.3280430593080126,
          0.01277810627655,
          4.028878337920286,
          0.0281625638039968,
          0.0028160255681723,
          0.5197548350705522,
          0.0802168311513948,
          0.5183063861958704,
          1.8326303924286529,
          0.5175305078118899,
          0.0107786826651296,
          4.04044595949878,
          1.8353987801687035,
          0.0038183766178106,
          0.0027892651360575,
          0.360646139565335,
          0.01277810627655,
          1.9119154893187784,
          0.1050908654448172,
          0.1204548501009777,
          0.0676782414141159,
          0.8181909619654537,
          0.1491331166793932,
          3.63002954393596,
          5.531171950826465,
          4.801375085090855,
          4.86183249207871,
          7.457279209134058,
          1.3408934346181158,
          7.81186173386106,
          0.3465550732904041,
          2.8430373305878858,
          0.2547826818241728,
          0.9106759689475222,
          0.32736604524999,
          3.007220537220641,
          3.692887653744047,
          1.359603632393395,
          13.427826235468002,
          4.231674049664297,
          2.7682206404439835,
          1.3565906034427653,
          13.835443477691015,
          10.84929786981833,
          1.4762997712703785,
          7.202342456412601,
          8.242596769537272,
          4.261940619168898,
          0.0321829917794994,
          14.417485927634038,
          1.2764669897112864,
          0.1920772977932896,
          8.098497392652796,
          8.943811548148865,
          0.0007211102552428,
          5.072270598547915,
          0.0012727922064393,
          0.0989247236781101,
          8.242596769537272,
          1.2526268579378468,
          51.26831141886501,
          2.353371342420912,
          2.159921141687317,
          6.80497391304408,
          6.362694581808517,
          0.6569860380923345,
          0.0327783985042992,
          0.1190131404793269,
          0.037664970463018,
          2.4799307325612934,
          6.12772272528276,
          1.780728726275914,
          9.278467589182744,
          9.970878368487853,
          0.9890040997830648,
          0.8209995271039504,
          0.249947067478806,
          0.1447100145256681,
          0.1304987416727643,
          1.3088486528967973,
          9.071768093991952,
          3.906144818358519,
          0.028358161340242,
          2.842963263217988,
          5.13410252472617,
          2.890535363842609,
          0.1361073179890998,
          3.144113369800763,
          0.2824683260256598,
          0.2187701178846108,
          0.0417264354801273,
          3.2941975671093062,
          3.5579581766981607,
          5.631639630588609,
          1.0445217831523812,
          14.723266867620136,
          6.752716226225291,
          10.84929786981833,
          3.73262654776222,
          0.3392906609101291,
          0.2077733948624064,
          1.4760591254718898,
          13.83545183665741,
          0.3544737849241529,
          2.537413848887348,
          7.81186173386106,
          2.825030324943661,
          3.194654430091686,
          13.427826235468002,
          5.999073026593896,
          1.8397785916819096,
          6.379773070344132,
          1.3565906034427653,
          1.8937212194624344,
          3.555982668126003,
          0.5763817709392012,
          2.000224876747524,
          0.0908278479226668,
          3.50006240581305,
          6.115301660127407,
          7.519331194658497,
          0.0868925392884338,
          0.0149286902190372,
          0.1901148592044324,
          6.288257740822943,
          3.007648414675599,
          4.372682104972365,
          1.582018455197286,
          34.94268497146364,
          27.5830295187912,
          2.8126769674486387,
          0.0109635760576166,
          0,
          0.0019416487829448,
          0.0001000000011686,
          0.0016970562745824,
          0.0016643316982461,
          0.0015264337519312,
          0.0006708203931451,
          0.0011313708500566,
          0.0004242640696504,
          0.0020615528131529,
          0,
          0.0011401754253364,
          0.0008485281377936,
          0.0012727922059368,
          0.0001000000011686,
          0.0001414213558802,
          9.999999974752428e-05,
          0.0021840329657596,
          1.3565243257192878,
          10.848905704596133,
          0.20764115608566,
          0.1446156526723983,
          0.0022203603310477,
          0.0925324354019281,
          0.0003605551270302,
          0.0001414213563826,
          0,
          2.8430373305878858,
          0.0115108644326158,
          0.0010049875616957,
          5.9990367704242304,
          0.0036796738978202,
          0.0013453624048492,
          0.0016278820595156,
          0.0007071067823153,
          9.999999974752428e-05,
          0.0020518284532287,
          0.0001414213568851,
          0.0418094716411747,
          0.0009433981139871,
          0.0009307135785964,
          0.0055154328928955,
          2.8906683110560683,
          0.0003605551278184,
          0.0006082762528958,
          1.4762997712703785,
          1.893891492005905,
          0.0013453624048492,
          0.0012727922064393,
          0.0015811388296423,
          0.0043863424403838,
          0.0016643316982461,
          0.0007211102548487,
          0.3543738359496203,
          0.0006403124236802,
          7.811919226220751,
          0.1361073179895347,
          0.0034465412291803,
          0.0868109183970353,
          0.001400000000018,
          0.0012727922054344,
          0.0023600847438221,
          0.0019209372703748,
          0.0012369316890429,
          0.0015811388296423,
          0.0002236067975031,
          0.0005000000003008,
          0.0053740115375177,
          0.0008062257750857,
          0.0035383612032159,
          0,
          0.0022627417001132,
          0.0427724973748464,
          0.0012041594573763,
          0.0017117242767747,
          0.0007071067815114,
          3.5558668418988413,
          0.0016643316974349,
          0.0019798989868454,
          13.427828186805414,
          0.0005656854245258,
          0.0007810249676202,
          8.17408593399903,
          5.033890665149992,
          7.219936803994953,
          0.3438661747690836,
          8.242606925657068,
          1.1034914326753724,
          3.156975730327135,
          5.055435852307087,
          4.261913612511918,
          0.032179656723981,
          5.3751494286275125,
          9.905136513522963,
          8.333561935360482,
          0.1050908654448172,
          0.360646139565335,
          0.5175305078118899,
          0.0038183766178106,
          0.01277810627655,
          0.0027892651360575,
          1.8353987801687035,
          4.04044595949878,
          1.9119154893187784,
          0.5183063861958704,
          0.0107786826651296,
          0.5197548350705522,
          0.0677747755164657,
          0.8181909479712548,
          0.1203195134131345,
          0.3543738359496203,
          4.261913612511918,
          14.513992854371857,
          0.3441269450375301,
          8.242606925657068,
          13.724629888699884,
          0.0691416661647103,
          6.379773070344132,
          7.219936803994953,
          1.8397785916819096,
          0.032179656723981,
          0.0427724973748464,
          0.1491331166793932,
          13.427828186805414,
          0.1054432998345619,
          8.008527108295247,
          1.3565243257192878,
          10.519870407053334,
          5.9990367704242304,
          8.238428925836743,
          4.538476295014545,
          22.813593338999244,
          0.1096400293832702,
          0.3441269450375301,
          10.519870407053334,
          0.1054432998345619,
          0.0427724973748464,
          1.8397785916819096,
          1.3565243257192878,
          6.379773070344132,
          13.814221614963188,
          13.397810754551356,
          7.988720583868258,
          13.22380036648989,
          1.4762997712703785,
          5.9990367704242304,
          0.0616175184425186,
          7.219936803994953,
          8.242606925657068,
          4.261913612511918,
          0.0691416661647103,
          0.3543738359496203,
          8.238428925836743,
          0.1054432998345619,
          0.0427724973748464,
          2.989097735395956,
          5.999036976537095,
          0.0616393567925829,
          4.153309852590397,
          8.242678782267674,
          4.262047530111017,
          0.0691416661647103,
          0.3543738359496203,
          0.033018353513224,
          0.4199755965787981,
          0.0044181444071064,
          0.1137784346887967,
          0.0295732082936809,
          0.0037818164719326,
          46.57684526568272,
          14.3516597148084,
          2.961238314210025,
          28.823582599389265,
          28.822747133051823,
          16.45590864233331,
          32.81792243817603,
          44.170338813087554,
          116.4823694563182,
          18.99796793001557,
          85.93237085908694,
          28.85422306660755,
          5.3751494286275125,
          0.1054432998345619,
          0.0427724973748464,
          5.999036976537095,
          0.3543738359496203
         ]
        }
       ],
       "layout": {
        "legend": {
         "tracegroupgap": 0
        },
        "margin": {
         "t": 60
        },
        "template": {
         "data": {
          "bar": [
           {
            "error_x": {
             "color": "#2a3f5f"
            },
            "error_y": {
             "color": "#2a3f5f"
            },
            "marker": {
             "line": {
              "color": "#E5ECF6",
              "width": 0.5
             },
             "pattern": {
              "fillmode": "overlay",
              "size": 10,
              "solidity": 0.2
             }
            },
            "type": "bar"
           }
          ],
          "barpolar": [
           {
            "marker": {
             "line": {
              "color": "#E5ECF6",
              "width": 0.5
             },
             "pattern": {
              "fillmode": "overlay",
              "size": 10,
              "solidity": 0.2
             }
            },
            "type": "barpolar"
           }
          ],
          "carpet": [
           {
            "aaxis": {
             "endlinecolor": "#2a3f5f",
             "gridcolor": "white",
             "linecolor": "white",
             "minorgridcolor": "white",
             "startlinecolor": "#2a3f5f"
            },
            "baxis": {
             "endlinecolor": "#2a3f5f",
             "gridcolor": "white",
             "linecolor": "white",
             "minorgridcolor": "white",
             "startlinecolor": "#2a3f5f"
            },
            "type": "carpet"
           }
          ],
          "choropleth": [
           {
            "colorbar": {
             "outlinewidth": 0,
             "ticks": ""
            },
            "type": "choropleth"
           }
          ],
          "contour": [
           {
            "colorbar": {
             "outlinewidth": 0,
             "ticks": ""
            },
            "colorscale": [
             [
              0,
              "#0d0887"
             ],
             [
              0.1111111111111111,
              "#46039f"
             ],
             [
              0.2222222222222222,
              "#7201a8"
             ],
             [
              0.3333333333333333,
              "#9c179e"
             ],
             [
              0.4444444444444444,
              "#bd3786"
             ],
             [
              0.5555555555555556,
              "#d8576b"
             ],
             [
              0.6666666666666666,
              "#ed7953"
             ],
             [
              0.7777777777777778,
              "#fb9f3a"
             ],
             [
              0.8888888888888888,
              "#fdca26"
             ],
             [
              1,
              "#f0f921"
             ]
            ],
            "type": "contour"
           }
          ],
          "contourcarpet": [
           {
            "colorbar": {
             "outlinewidth": 0,
             "ticks": ""
            },
            "type": "contourcarpet"
           }
          ],
          "heatmap": [
           {
            "colorbar": {
             "outlinewidth": 0,
             "ticks": ""
            },
            "colorscale": [
             [
              0,
              "#0d0887"
             ],
             [
              0.1111111111111111,
              "#46039f"
             ],
             [
              0.2222222222222222,
              "#7201a8"
             ],
             [
              0.3333333333333333,
              "#9c179e"
             ],
             [
              0.4444444444444444,
              "#bd3786"
             ],
             [
              0.5555555555555556,
              "#d8576b"
             ],
             [
              0.6666666666666666,
              "#ed7953"
             ],
             [
              0.7777777777777778,
              "#fb9f3a"
             ],
             [
              0.8888888888888888,
              "#fdca26"
             ],
             [
              1,
              "#f0f921"
             ]
            ],
            "type": "heatmap"
           }
          ],
          "heatmapgl": [
           {
            "colorbar": {
             "outlinewidth": 0,
             "ticks": ""
            },
            "colorscale": [
             [
              0,
              "#0d0887"
             ],
             [
              0.1111111111111111,
              "#46039f"
             ],
             [
              0.2222222222222222,
              "#7201a8"
             ],
             [
              0.3333333333333333,
              "#9c179e"
             ],
             [
              0.4444444444444444,
              "#bd3786"
             ],
             [
              0.5555555555555556,
              "#d8576b"
             ],
             [
              0.6666666666666666,
              "#ed7953"
             ],
             [
              0.7777777777777778,
              "#fb9f3a"
             ],
             [
              0.8888888888888888,
              "#fdca26"
             ],
             [
              1,
              "#f0f921"
             ]
            ],
            "type": "heatmapgl"
           }
          ],
          "histogram": [
           {
            "marker": {
             "pattern": {
              "fillmode": "overlay",
              "size": 10,
              "solidity": 0.2
             }
            },
            "type": "histogram"
           }
          ],
          "histogram2d": [
           {
            "colorbar": {
             "outlinewidth": 0,
             "ticks": ""
            },
            "colorscale": [
             [
              0,
              "#0d0887"
             ],
             [
              0.1111111111111111,
              "#46039f"
             ],
             [
              0.2222222222222222,
              "#7201a8"
             ],
             [
              0.3333333333333333,
              "#9c179e"
             ],
             [
              0.4444444444444444,
              "#bd3786"
             ],
             [
              0.5555555555555556,
              "#d8576b"
             ],
             [
              0.6666666666666666,
              "#ed7953"
             ],
             [
              0.7777777777777778,
              "#fb9f3a"
             ],
             [
              0.8888888888888888,
              "#fdca26"
             ],
             [
              1,
              "#f0f921"
             ]
            ],
            "type": "histogram2d"
           }
          ],
          "histogram2dcontour": [
           {
            "colorbar": {
             "outlinewidth": 0,
             "ticks": ""
            },
            "colorscale": [
             [
              0,
              "#0d0887"
             ],
             [
              0.1111111111111111,
              "#46039f"
             ],
             [
              0.2222222222222222,
              "#7201a8"
             ],
             [
              0.3333333333333333,
              "#9c179e"
             ],
             [
              0.4444444444444444,
              "#bd3786"
             ],
             [
              0.5555555555555556,
              "#d8576b"
             ],
             [
              0.6666666666666666,
              "#ed7953"
             ],
             [
              0.7777777777777778,
              "#fb9f3a"
             ],
             [
              0.8888888888888888,
              "#fdca26"
             ],
             [
              1,
              "#f0f921"
             ]
            ],
            "type": "histogram2dcontour"
           }
          ],
          "mesh3d": [
           {
            "colorbar": {
             "outlinewidth": 0,
             "ticks": ""
            },
            "type": "mesh3d"
           }
          ],
          "parcoords": [
           {
            "line": {
             "colorbar": {
              "outlinewidth": 0,
              "ticks": ""
             }
            },
            "type": "parcoords"
           }
          ],
          "pie": [
           {
            "automargin": true,
            "type": "pie"
           }
          ],
          "scatter": [
           {
            "fillpattern": {
             "fillmode": "overlay",
             "size": 10,
             "solidity": 0.2
            },
            "type": "scatter"
           }
          ],
          "scatter3d": [
           {
            "line": {
             "colorbar": {
              "outlinewidth": 0,
              "ticks": ""
             }
            },
            "marker": {
             "colorbar": {
              "outlinewidth": 0,
              "ticks": ""
             }
            },
            "type": "scatter3d"
           }
          ],
          "scattercarpet": [
           {
            "marker": {
             "colorbar": {
              "outlinewidth": 0,
              "ticks": ""
             }
            },
            "type": "scattercarpet"
           }
          ],
          "scattergeo": [
           {
            "marker": {
             "colorbar": {
              "outlinewidth": 0,
              "ticks": ""
             }
            },
            "type": "scattergeo"
           }
          ],
          "scattergl": [
           {
            "marker": {
             "colorbar": {
              "outlinewidth": 0,
              "ticks": ""
             }
            },
            "type": "scattergl"
           }
          ],
          "scattermapbox": [
           {
            "marker": {
             "colorbar": {
              "outlinewidth": 0,
              "ticks": ""
             }
            },
            "type": "scattermapbox"
           }
          ],
          "scatterpolar": [
           {
            "marker": {
             "colorbar": {
              "outlinewidth": 0,
              "ticks": ""
             }
            },
            "type": "scatterpolar"
           }
          ],
          "scatterpolargl": [
           {
            "marker": {
             "colorbar": {
              "outlinewidth": 0,
              "ticks": ""
             }
            },
            "type": "scatterpolargl"
           }
          ],
          "scatterternary": [
           {
            "marker": {
             "colorbar": {
              "outlinewidth": 0,
              "ticks": ""
             }
            },
            "type": "scatterternary"
           }
          ],
          "surface": [
           {
            "colorbar": {
             "outlinewidth": 0,
             "ticks": ""
            },
            "colorscale": [
             [
              0,
              "#0d0887"
             ],
             [
              0.1111111111111111,
              "#46039f"
             ],
             [
              0.2222222222222222,
              "#7201a8"
             ],
             [
              0.3333333333333333,
              "#9c179e"
             ],
             [
              0.4444444444444444,
              "#bd3786"
             ],
             [
              0.5555555555555556,
              "#d8576b"
             ],
             [
              0.6666666666666666,
              "#ed7953"
             ],
             [
              0.7777777777777778,
              "#fb9f3a"
             ],
             [
              0.8888888888888888,
              "#fdca26"
             ],
             [
              1,
              "#f0f921"
             ]
            ],
            "type": "surface"
           }
          ],
          "table": [
           {
            "cells": {
             "fill": {
              "color": "#EBF0F8"
             },
             "line": {
              "color": "white"
             }
            },
            "header": {
             "fill": {
              "color": "#C8D4E3"
             },
             "line": {
              "color": "white"
             }
            },
            "type": "table"
           }
          ]
         },
         "layout": {
          "annotationdefaults": {
           "arrowcolor": "#2a3f5f",
           "arrowhead": 0,
           "arrowwidth": 1
          },
          "autotypenumbers": "strict",
          "coloraxis": {
           "colorbar": {
            "outlinewidth": 0,
            "ticks": ""
           }
          },
          "colorscale": {
           "diverging": [
            [
             0,
             "#8e0152"
            ],
            [
             0.1,
             "#c51b7d"
            ],
            [
             0.2,
             "#de77ae"
            ],
            [
             0.3,
             "#f1b6da"
            ],
            [
             0.4,
             "#fde0ef"
            ],
            [
             0.5,
             "#f7f7f7"
            ],
            [
             0.6,
             "#e6f5d0"
            ],
            [
             0.7,
             "#b8e186"
            ],
            [
             0.8,
             "#7fbc41"
            ],
            [
             0.9,
             "#4d9221"
            ],
            [
             1,
             "#276419"
            ]
           ],
           "sequential": [
            [
             0,
             "#0d0887"
            ],
            [
             0.1111111111111111,
             "#46039f"
            ],
            [
             0.2222222222222222,
             "#7201a8"
            ],
            [
             0.3333333333333333,
             "#9c179e"
            ],
            [
             0.4444444444444444,
             "#bd3786"
            ],
            [
             0.5555555555555556,
             "#d8576b"
            ],
            [
             0.6666666666666666,
             "#ed7953"
            ],
            [
             0.7777777777777778,
             "#fb9f3a"
            ],
            [
             0.8888888888888888,
             "#fdca26"
            ],
            [
             1,
             "#f0f921"
            ]
           ],
           "sequentialminus": [
            [
             0,
             "#0d0887"
            ],
            [
             0.1111111111111111,
             "#46039f"
            ],
            [
             0.2222222222222222,
             "#7201a8"
            ],
            [
             0.3333333333333333,
             "#9c179e"
            ],
            [
             0.4444444444444444,
             "#bd3786"
            ],
            [
             0.5555555555555556,
             "#d8576b"
            ],
            [
             0.6666666666666666,
             "#ed7953"
            ],
            [
             0.7777777777777778,
             "#fb9f3a"
            ],
            [
             0.8888888888888888,
             "#fdca26"
            ],
            [
             1,
             "#f0f921"
            ]
           ]
          },
          "colorway": [
           "#636efa",
           "#EF553B",
           "#00cc96",
           "#ab63fa",
           "#FFA15A",
           "#19d3f3",
           "#FF6692",
           "#B6E880",
           "#FF97FF",
           "#FECB52"
          ],
          "font": {
           "color": "#2a3f5f"
          },
          "geo": {
           "bgcolor": "white",
           "lakecolor": "white",
           "landcolor": "#E5ECF6",
           "showlakes": true,
           "showland": true,
           "subunitcolor": "white"
          },
          "hoverlabel": {
           "align": "left"
          },
          "hovermode": "closest",
          "mapbox": {
           "style": "light"
          },
          "paper_bgcolor": "white",
          "plot_bgcolor": "#E5ECF6",
          "polar": {
           "angularaxis": {
            "gridcolor": "white",
            "linecolor": "white",
            "ticks": ""
           },
           "bgcolor": "#E5ECF6",
           "radialaxis": {
            "gridcolor": "white",
            "linecolor": "white",
            "ticks": ""
           }
          },
          "scene": {
           "xaxis": {
            "backgroundcolor": "#E5ECF6",
            "gridcolor": "white",
            "gridwidth": 2,
            "linecolor": "white",
            "showbackground": true,
            "ticks": "",
            "zerolinecolor": "white"
           },
           "yaxis": {
            "backgroundcolor": "#E5ECF6",
            "gridcolor": "white",
            "gridwidth": 2,
            "linecolor": "white",
            "showbackground": true,
            "ticks": "",
            "zerolinecolor": "white"
           },
           "zaxis": {
            "backgroundcolor": "#E5ECF6",
            "gridcolor": "white",
            "gridwidth": 2,
            "linecolor": "white",
            "showbackground": true,
            "ticks": "",
            "zerolinecolor": "white"
           }
          },
          "shapedefaults": {
           "line": {
            "color": "#2a3f5f"
           }
          },
          "ternary": {
           "aaxis": {
            "gridcolor": "white",
            "linecolor": "white",
            "ticks": ""
           },
           "baxis": {
            "gridcolor": "white",
            "linecolor": "white",
            "ticks": ""
           },
           "bgcolor": "#E5ECF6",
           "caxis": {
            "gridcolor": "white",
            "linecolor": "white",
            "ticks": ""
           }
          },
          "title": {
           "x": 0.05
          },
          "xaxis": {
           "automargin": true,
           "gridcolor": "white",
           "linecolor": "white",
           "ticks": "",
           "title": {
            "standoff": 15
           },
           "zerolinecolor": "white",
           "zerolinewidth": 2
          },
          "yaxis": {
           "automargin": true,
           "gridcolor": "white",
           "linecolor": "white",
           "ticks": "",
           "title": {
            "standoff": 15
           },
           "zerolinecolor": "white",
           "zerolinewidth": 2
          }
         }
        },
        "title": {
         "text": "Porcentaje de longitud por revestimientos"
        }
       }
      },
      "text/html": [
       "<div>                            <div id=\"768d3e6b-dede-42d7-b3b7-9a04fd60f8c5\" class=\"plotly-graph-div\" style=\"height:525px; width:100%;\"></div>            <script type=\"text/javascript\">                require([\"plotly\"], function(Plotly) {                    window.PLOTLYENV=window.PLOTLYENV || {};                                    if (document.getElementById(\"768d3e6b-dede-42d7-b3b7-9a04fd60f8c5\")) {                    Plotly.newPlot(                        \"768d3e6b-dede-42d7-b3b7-9a04fd60f8c5\",                        [{\"domain\":{\"x\":[0.0,1.0],\"y\":[0.0,1.0]},\"hovertemplate\":\"revestim=%{label}<br>longitud=%{value}<extra></extra>\",\"labels\":[\"EPOXI\",\"SIN REVESTIMIENTO\",\"OTROS\",\"OTROS\",\"OTROS\",\"OTROS\",\"OTROS\",\"OTROS\",\"OTROS\",\"OTROS\",\"OTROS\",\"OTROS\",\"OTROS\",\"OTROS\",\"OTROS\",\"OTROS\",\"OTROS\",\"ASFALTICO\",\"TRICAPA\",\"TRICAPA\",\"TRICAPA\",\"POLIKEN Y SATURADO\",\"SIN REVESTIMIENTO\",\"POLIETILENO\",\"POLIETILENO\",\"POLIKEN Y SATURADO\",\"POLIKEN Y SATURADO\",\"POLIKEN Y SATURADO\",\"POLIETILENO\",\"POLIETILENO\",\"POLIETILENO\",\"POLIETILENO\",\"POLIETILENO\",\"POLIETILENO\",\"POLIETILENO\",\"POLIETILENO\",\"POLIKEN Y SATURADO\",\"POLIETILENO\",\"POLIETILENO\",\"POLIETILENO\",\"POLIKEN Y SATURADO\",\"POLIKEN Y SATURADO\",\"POLIETILENO\",\"POLIETILENO\",\"EPOXI\",\"TRICAPA\",\"TRICAPA\",\"TRICAPA\",\"TRICAPA\",\"TRICAPA\",\"TRICAPA\",\"TRICAPA\",\"TRICAPA\",\"BICAPA\",\"TRICAPA\",\"BICAPA\",\"BICAPA\",\"BICAPA\",\"BICAPA\",\"TRICAPA\",\"TRICAPA\",\"BICAPA\",\"TRICAPA\",\"TRICAPA\",\"TRICAPA\",\"BICAPA\",\"BICAPA\",\"TRICAPA\",\"TRICAPA\",\"TRICAPA\",\"TRICAPA\",\"TRICAPA\",\"ASFALTICO\",\"TRICAPA\",\"PLASTICO\",\"ASFALTICO\",\"ASFALTICO\",\"ASFALTICO\",\"OTROS\",\"OTROS\",\"BICAPA\",\"TRICAPA\",\"TRICAPA\",\"TRICAPA\",\"TRICAPA\",\"BICAPA\",\"TRICAPA\",\"TRICAPA\",\"TRICAPA\",\"ASFALTICO\",\"BICAPA\",\"BICAPA\",\"BICAPA\",\"BICAPA\",\"BICAPA\",\"TRICAPA\",\"TRICAPA\",\"TRICAPA\",\"TRICAPA\",\"TRICAPA\",\"BICAPA\",\"BICAPA\",\"BICAPA\",\"BICAPA\",\"BICAPA\",\"TRICAPA\",\"TRICAPA\",\"BICAPA\",\"BICAPA\",\"ASFALTICO\",\"BICAPA\",\"BICAPA\",\"TRICAPA\",\"TRICAPA\",\"TRICAPA\",\"BICAPA\",\"BICAPA\",\"BICAPA\",\"TRICAPA\",\"TRICAPA\",\"TRICAPA\",\"TRICAPA\",\"TRICAPA\",\"BICAPA\",\"TRICAPA\",\"BICAPA\",\"TRICAPA\",\"TRICAPA\",\"BICAPA\",\"BICAPA\",\"TRICAPA\",\"BICAPA\",\"TRICAPA\",\"TRICAPA\",\"BICAPA\",\"BICAPA\",\"BICAPA\",\"BICAPA\",\"BICAPA\",\"BICAPA\",\"TRICAPA\",\"TRICAPA\",\"BICAPA\",\"TRICAPA\",\"TRICAPA\",\"BICAPA\",\"BICAPA\",\"BICAPA\",\"TRICAPA\",\"TRICAPA\",\"TRICAPA\",\"TRICAPA\",\"TRICAPA\",\"TRICAPA\",\"TRICAPA\",\"OTROS\",\"BICAPA\",\"BICAPA\",\"BICAPA\",\"BICAPA\",\"BICAPA\",\"BICAPA\",\"BICAPA\",\"BICAPA\",\"BICAPA\",\"BICAPA\",\"BICAPA\",\"BICAPA\",\"BICAPA\",\"BICAPA\",\"BICAPA\",\"BICAPA\",\"BICAPA\",\"BICAPA\",\"BICAPA\",\"BICAPA\",\"TRICAPA\",\"BICAPA\",\"BICAPA\",\"BICAPA\",\"BICAPA\",\"BICAPA\",\"BICAPA\",\"BICAPA\",\"BICAPA\",\"BICAPA\",\"BICAPA\",\"BICAPA\",\"BICAPA\",\"BICAPA\",\"BICAPA\",\"BICAPA\",\"BICAPA\",\"BICAPA\",\"BICAPA\",\"BICAPA\",\"BICAPA\",\"BICAPA\",\"BICAPA\",\"BICAPA\",\"BICAPA\",\"BICAPA\",\"TRICAPA\",\"BICAPA\",\"BICAPA\",\"BICAPA\",\"BICAPA\",\"BICAPA\",\"BICAPA\",\"BICAPA\",\"BICAPA\",\"BICAPA\",\"TRICAPA\",\"BICAPA\",\"BICAPA\",\"BICAPA\",\"BICAPA\",\"BICAPA\",\"BICAPA\",\"BICAPA\",\"BICAPA\",\"BICAPA\",\"BICAPA\",\"BICAPA\",\"BICAPA\",\"BICAPA\",\"BICAPA\",\"BICAPA\",\"BICAPA\",\"BICAPA\",\"BICAPA\",\"BICAPA\",\"BICAPA\",\"BICAPA\",\"BICAPA\",\"BICAPA\",\"TRICAPA\",\"BICAPA\",\"BICAPA\",\"SIN REVESTIMIENTO\",\"ASFALTICO\",\"TRICAPA\",\"TRICAPA\",\"TRICAPA\",\"ASFALTICO\",\"ASFALTICO\",\"TRICAPA\",\"ASFALTICO\",\"TRICAPA\",\"SIN REVESTIMIENTO\",\"SIN REVESTIMIENTO\",\"POLIKEN Y SATURADO\",\"POLIETILENO\",\"POLIKEN Y SATURADO\",\"POLIETILENO\",\"POLIETILENO\",\"POLIKEN Y SATURADO\",\"POLIETILENO\",\"POLIETILENO\",\"POLIKEN Y SATURADO\",\"POLIETILENO\",\"POLIETILENO\",\"POLIETILENO\",\"POLIETILENO\",\"TRICAPA\",\"TRICAPA\",\"EPOXI\",\"BICAPA\",\"ASFALTICO\",\"TRICAPA\",\"TRICAPA\",\"TRICAPA\",\"TRICAPA\",\"BICAPA\",\"BICAPA\",\"TRICAPA\",\"BICAPA\",\"TRICAPA\",\"BICAPA\",\"TRICAPA\",\"TRICAPA\",\"BICAPA\",\"TRICAPA\",\"BICAPA\",\"TRICAPA\",\"BICAPA\",\"SIN REVESTIMIENTO\",\"TRICAPA\",\"TRICAPA\",\"TRICAPA\",\"TRICAPA\",\"TRICAPA\",\"BICAPA\",\"BICAPA\",\"BICAPA\",\"BICAPA\",\"BICAPA\",\"TRICAPA\",\"TRICAPA\",\"TRICAPA\",\"BICAPA\",\"TRICAPA\",\"BICAPA\",\"TRICAPA\",\"TRICAPA\",\"TRICAPA\",\"ASFALTICO\",\"BICAPA\",\"BICAPA\",\"SIN REVESTIMIENTO\",\"BICAPA\",\"BICAPA\",\"TRICAPA\",\"BICAPA\",\"TRICAPA\",\"TRICAPA\",\"TRICAPA\",\"ASFALTICO\",\"BICAPA\",\"BICAPA\",\"OTROS\",\"OTROS\",\"OTROS\",\"OTROS\",\"OTROS\",\"OTROS\",\"OTROS\",\"OTROS\",\"OTROS\",\"OTROS\",\"OTROS\",\"OTROS\",\"OTROS\",\"EPOXI\",\"OTROS\",\"OTROS\",\"OTROS\",\"OTROS\",\"SIN REVESTIMIENTO\",\"BICAPA\",\"BICAPA\",\"BICAPA\",\"BICAPA\"],\"legendgroup\":\"\",\"name\":\"\",\"showlegend\":true,\"values\":[0.085900607374049,10.44022221639727,0.5328111860691467,2.96067257392658,3.74709733527213,0.2953236360334582,6.612484120964182,0.0615442929928378,4.911736484099336,6.120823513248668,0.0484532764631724,57.08150273019829,5.309298141157794,4.903075276122869,28.0353196118633,2.2256462049283097,26.686812118296988,5.078290561500203,14.51398641102862,0.9890040997830648,13.724691059080676,8.296149053913073,9.905137485213354,0.0903231974632919,1.8631034529443264,0.3280430593080126,0.01277810627655,4.028878337920286,0.0281625638039968,0.0028160255681723,0.5197548350705522,0.0802168311513948,0.5183063861958704,1.8326303924286529,0.5175305078118899,0.0107786826651296,4.04044595949878,1.8353987801687035,0.0038183766178106,0.0027892651360575,0.360646139565335,0.01277810627655,1.9119154893187784,0.1050908654448172,0.1204548501009777,0.0676782414141159,0.8181909619654537,0.1491331166793932,3.63002954393596,5.531171950826465,4.801375085090855,4.86183249207871,7.457279209134058,1.3408934346181158,7.81186173386106,0.3465550732904041,2.8430373305878858,0.2547826818241728,0.9106759689475222,0.32736604524999,3.007220537220641,3.692887653744047,1.359603632393395,13.427826235468002,4.231674049664297,2.7682206404439835,1.3565906034427653,13.835443477691015,10.84929786981833,1.4762997712703785,7.202342456412601,8.242596769537272,4.261940619168898,0.0321829917794994,14.417485927634038,1.2764669897112864,0.1920772977932896,8.098497392652796,8.943811548148865,0.0007211102552428,5.072270598547915,0.0012727922064393,0.0989247236781101,8.242596769537272,1.2526268579378468,51.26831141886501,2.353371342420912,2.159921141687317,6.80497391304408,6.362694581808517,0.6569860380923345,0.0327783985042992,0.1190131404793269,0.037664970463018,2.4799307325612934,6.12772272528276,1.780728726275914,9.278467589182744,9.970878368487853,0.9890040997830648,0.8209995271039504,0.249947067478806,0.1447100145256681,0.1304987416727643,1.3088486528967973,9.071768093991952,3.906144818358519,0.028358161340242,2.842963263217988,5.13410252472617,2.890535363842609,0.1361073179890998,3.144113369800763,0.2824683260256598,0.2187701178846108,0.0417264354801273,3.2941975671093062,3.5579581766981607,5.631639630588609,1.0445217831523812,14.723266867620136,6.752716226225291,10.84929786981833,3.73262654776222,0.3392906609101291,0.2077733948624064,1.4760591254718898,13.83545183665741,0.3544737849241529,2.537413848887348,7.81186173386106,2.825030324943661,3.194654430091686,13.427826235468002,5.999073026593896,1.8397785916819096,6.379773070344132,1.3565906034427653,1.8937212194624344,3.555982668126003,0.5763817709392012,2.000224876747524,0.0908278479226668,3.50006240581305,6.115301660127407,7.519331194658497,0.0868925392884338,0.0149286902190372,0.1901148592044324,6.288257740822943,3.007648414675599,4.372682104972365,1.582018455197286,34.94268497146364,27.5830295187912,2.8126769674486387,0.0109635760576166,0.0,0.0019416487829448,0.0001000000011686,0.0016970562745824,0.0016643316982461,0.0015264337519312,0.0006708203931451,0.0011313708500566,0.0004242640696504,0.0020615528131529,0.0,0.0011401754253364,0.0008485281377936,0.0012727922059368,0.0001000000011686,0.0001414213558802,9.999999974752428e-05,0.0021840329657596,1.3565243257192878,10.848905704596133,0.20764115608566,0.1446156526723983,0.0022203603310477,0.0925324354019281,0.0003605551270302,0.0001414213563826,0.0,2.8430373305878858,0.0115108644326158,0.0010049875616957,5.9990367704242304,0.0036796738978202,0.0013453624048492,0.0016278820595156,0.0007071067823153,9.999999974752428e-05,0.0020518284532287,0.0001414213568851,0.0418094716411747,0.0009433981139871,0.0009307135785964,0.0055154328928955,2.8906683110560683,0.0003605551278184,0.0006082762528958,1.4762997712703785,1.893891492005905,0.0013453624048492,0.0012727922064393,0.0015811388296423,0.0043863424403838,0.0016643316982461,0.0007211102548487,0.3543738359496203,0.0006403124236802,7.811919226220751,0.1361073179895347,0.0034465412291803,0.0868109183970353,0.001400000000018,0.0012727922054344,0.0023600847438221,0.0019209372703748,0.0012369316890429,0.0015811388296423,0.0002236067975031,0.0005000000003008,0.0053740115375177,0.0008062257750857,0.0035383612032159,0.0,0.0022627417001132,0.0427724973748464,0.0012041594573763,0.0017117242767747,0.0007071067815114,3.5558668418988413,0.0016643316974349,0.0019798989868454,13.427828186805414,0.0005656854245258,0.0007810249676202,8.17408593399903,5.033890665149992,7.219936803994953,0.3438661747690836,8.242606925657068,1.1034914326753724,3.156975730327135,5.055435852307087,4.261913612511918,0.032179656723981,5.3751494286275125,9.905136513522963,8.333561935360482,0.1050908654448172,0.360646139565335,0.5175305078118899,0.0038183766178106,0.01277810627655,0.0027892651360575,1.8353987801687035,4.04044595949878,1.9119154893187784,0.5183063861958704,0.0107786826651296,0.5197548350705522,0.0677747755164657,0.8181909479712548,0.1203195134131345,0.3543738359496203,4.261913612511918,14.513992854371857,0.3441269450375301,8.242606925657068,13.724629888699884,0.0691416661647103,6.379773070344132,7.219936803994953,1.8397785916819096,0.032179656723981,0.0427724973748464,0.1491331166793932,13.427828186805414,0.1054432998345619,8.008527108295247,1.3565243257192878,10.519870407053334,5.9990367704242304,8.238428925836743,4.538476295014545,22.813593338999244,0.1096400293832702,0.3441269450375301,10.519870407053334,0.1054432998345619,0.0427724973748464,1.8397785916819096,1.3565243257192878,6.379773070344132,13.814221614963188,13.397810754551356,7.988720583868258,13.22380036648989,1.4762997712703785,5.9990367704242304,0.0616175184425186,7.219936803994953,8.242606925657068,4.261913612511918,0.0691416661647103,0.3543738359496203,8.238428925836743,0.1054432998345619,0.0427724973748464,2.989097735395956,5.999036976537095,0.0616393567925829,4.153309852590397,8.242678782267674,4.262047530111017,0.0691416661647103,0.3543738359496203,0.033018353513224,0.4199755965787981,0.0044181444071064,0.1137784346887967,0.0295732082936809,0.0037818164719326,46.57684526568272,14.3516597148084,2.961238314210025,28.823582599389265,28.822747133051823,16.45590864233331,32.81792243817603,44.170338813087554,116.4823694563182,18.99796793001557,85.93237085908694,28.85422306660755,5.3751494286275125,0.1054432998345619,0.0427724973748464,5.999036976537095,0.3543738359496203],\"type\":\"pie\"}],                        {\"template\":{\"data\":{\"histogram2dcontour\":[{\"type\":\"histogram2dcontour\",\"colorbar\":{\"outlinewidth\":0,\"ticks\":\"\"},\"colorscale\":[[0.0,\"#0d0887\"],[0.1111111111111111,\"#46039f\"],[0.2222222222222222,\"#7201a8\"],[0.3333333333333333,\"#9c179e\"],[0.4444444444444444,\"#bd3786\"],[0.5555555555555556,\"#d8576b\"],[0.6666666666666666,\"#ed7953\"],[0.7777777777777778,\"#fb9f3a\"],[0.8888888888888888,\"#fdca26\"],[1.0,\"#f0f921\"]]}],\"choropleth\":[{\"type\":\"choropleth\",\"colorbar\":{\"outlinewidth\":0,\"ticks\":\"\"}}],\"histogram2d\":[{\"type\":\"histogram2d\",\"colorbar\":{\"outlinewidth\":0,\"ticks\":\"\"},\"colorscale\":[[0.0,\"#0d0887\"],[0.1111111111111111,\"#46039f\"],[0.2222222222222222,\"#7201a8\"],[0.3333333333333333,\"#9c179e\"],[0.4444444444444444,\"#bd3786\"],[0.5555555555555556,\"#d8576b\"],[0.6666666666666666,\"#ed7953\"],[0.7777777777777778,\"#fb9f3a\"],[0.8888888888888888,\"#fdca26\"],[1.0,\"#f0f921\"]]}],\"heatmap\":[{\"type\":\"heatmap\",\"colorbar\":{\"outlinewidth\":0,\"ticks\":\"\"},\"colorscale\":[[0.0,\"#0d0887\"],[0.1111111111111111,\"#46039f\"],[0.2222222222222222,\"#7201a8\"],[0.3333333333333333,\"#9c179e\"],[0.4444444444444444,\"#bd3786\"],[0.5555555555555556,\"#d8576b\"],[0.6666666666666666,\"#ed7953\"],[0.7777777777777778,\"#fb9f3a\"],[0.8888888888888888,\"#fdca26\"],[1.0,\"#f0f921\"]]}],\"heatmapgl\":[{\"type\":\"heatmapgl\",\"colorbar\":{\"outlinewidth\":0,\"ticks\":\"\"},\"colorscale\":[[0.0,\"#0d0887\"],[0.1111111111111111,\"#46039f\"],[0.2222222222222222,\"#7201a8\"],[0.3333333333333333,\"#9c179e\"],[0.4444444444444444,\"#bd3786\"],[0.5555555555555556,\"#d8576b\"],[0.6666666666666666,\"#ed7953\"],[0.7777777777777778,\"#fb9f3a\"],[0.8888888888888888,\"#fdca26\"],[1.0,\"#f0f921\"]]}],\"contourcarpet\":[{\"type\":\"contourcarpet\",\"colorbar\":{\"outlinewidth\":0,\"ticks\":\"\"}}],\"contour\":[{\"type\":\"contour\",\"colorbar\":{\"outlinewidth\":0,\"ticks\":\"\"},\"colorscale\":[[0.0,\"#0d0887\"],[0.1111111111111111,\"#46039f\"],[0.2222222222222222,\"#7201a8\"],[0.3333333333333333,\"#9c179e\"],[0.4444444444444444,\"#bd3786\"],[0.5555555555555556,\"#d8576b\"],[0.6666666666666666,\"#ed7953\"],[0.7777777777777778,\"#fb9f3a\"],[0.8888888888888888,\"#fdca26\"],[1.0,\"#f0f921\"]]}],\"surface\":[{\"type\":\"surface\",\"colorbar\":{\"outlinewidth\":0,\"ticks\":\"\"},\"colorscale\":[[0.0,\"#0d0887\"],[0.1111111111111111,\"#46039f\"],[0.2222222222222222,\"#7201a8\"],[0.3333333333333333,\"#9c179e\"],[0.4444444444444444,\"#bd3786\"],[0.5555555555555556,\"#d8576b\"],[0.6666666666666666,\"#ed7953\"],[0.7777777777777778,\"#fb9f3a\"],[0.8888888888888888,\"#fdca26\"],[1.0,\"#f0f921\"]]}],\"mesh3d\":[{\"type\":\"mesh3d\",\"colorbar\":{\"outlinewidth\":0,\"ticks\":\"\"}}],\"scatter\":[{\"fillpattern\":{\"fillmode\":\"overlay\",\"size\":10,\"solidity\":0.2},\"type\":\"scatter\"}],\"parcoords\":[{\"type\":\"parcoords\",\"line\":{\"colorbar\":{\"outlinewidth\":0,\"ticks\":\"\"}}}],\"scatterpolargl\":[{\"type\":\"scatterpolargl\",\"marker\":{\"colorbar\":{\"outlinewidth\":0,\"ticks\":\"\"}}}],\"bar\":[{\"error_x\":{\"color\":\"#2a3f5f\"},\"error_y\":{\"color\":\"#2a3f5f\"},\"marker\":{\"line\":{\"color\":\"#E5ECF6\",\"width\":0.5},\"pattern\":{\"fillmode\":\"overlay\",\"size\":10,\"solidity\":0.2}},\"type\":\"bar\"}],\"scattergeo\":[{\"type\":\"scattergeo\",\"marker\":{\"colorbar\":{\"outlinewidth\":0,\"ticks\":\"\"}}}],\"scatterpolar\":[{\"type\":\"scatterpolar\",\"marker\":{\"colorbar\":{\"outlinewidth\":0,\"ticks\":\"\"}}}],\"histogram\":[{\"marker\":{\"pattern\":{\"fillmode\":\"overlay\",\"size\":10,\"solidity\":0.2}},\"type\":\"histogram\"}],\"scattergl\":[{\"type\":\"scattergl\",\"marker\":{\"colorbar\":{\"outlinewidth\":0,\"ticks\":\"\"}}}],\"scatter3d\":[{\"type\":\"scatter3d\",\"line\":{\"colorbar\":{\"outlinewidth\":0,\"ticks\":\"\"}},\"marker\":{\"colorbar\":{\"outlinewidth\":0,\"ticks\":\"\"}}}],\"scattermapbox\":[{\"type\":\"scattermapbox\",\"marker\":{\"colorbar\":{\"outlinewidth\":0,\"ticks\":\"\"}}}],\"scatterternary\":[{\"type\":\"scatterternary\",\"marker\":{\"colorbar\":{\"outlinewidth\":0,\"ticks\":\"\"}}}],\"scattercarpet\":[{\"type\":\"scattercarpet\",\"marker\":{\"colorbar\":{\"outlinewidth\":0,\"ticks\":\"\"}}}],\"carpet\":[{\"aaxis\":{\"endlinecolor\":\"#2a3f5f\",\"gridcolor\":\"white\",\"linecolor\":\"white\",\"minorgridcolor\":\"white\",\"startlinecolor\":\"#2a3f5f\"},\"baxis\":{\"endlinecolor\":\"#2a3f5f\",\"gridcolor\":\"white\",\"linecolor\":\"white\",\"minorgridcolor\":\"white\",\"startlinecolor\":\"#2a3f5f\"},\"type\":\"carpet\"}],\"table\":[{\"cells\":{\"fill\":{\"color\":\"#EBF0F8\"},\"line\":{\"color\":\"white\"}},\"header\":{\"fill\":{\"color\":\"#C8D4E3\"},\"line\":{\"color\":\"white\"}},\"type\":\"table\"}],\"barpolar\":[{\"marker\":{\"line\":{\"color\":\"#E5ECF6\",\"width\":0.5},\"pattern\":{\"fillmode\":\"overlay\",\"size\":10,\"solidity\":0.2}},\"type\":\"barpolar\"}],\"pie\":[{\"automargin\":true,\"type\":\"pie\"}]},\"layout\":{\"autotypenumbers\":\"strict\",\"colorway\":[\"#636efa\",\"#EF553B\",\"#00cc96\",\"#ab63fa\",\"#FFA15A\",\"#19d3f3\",\"#FF6692\",\"#B6E880\",\"#FF97FF\",\"#FECB52\"],\"font\":{\"color\":\"#2a3f5f\"},\"hovermode\":\"closest\",\"hoverlabel\":{\"align\":\"left\"},\"paper_bgcolor\":\"white\",\"plot_bgcolor\":\"#E5ECF6\",\"polar\":{\"bgcolor\":\"#E5ECF6\",\"angularaxis\":{\"gridcolor\":\"white\",\"linecolor\":\"white\",\"ticks\":\"\"},\"radialaxis\":{\"gridcolor\":\"white\",\"linecolor\":\"white\",\"ticks\":\"\"}},\"ternary\":{\"bgcolor\":\"#E5ECF6\",\"aaxis\":{\"gridcolor\":\"white\",\"linecolor\":\"white\",\"ticks\":\"\"},\"baxis\":{\"gridcolor\":\"white\",\"linecolor\":\"white\",\"ticks\":\"\"},\"caxis\":{\"gridcolor\":\"white\",\"linecolor\":\"white\",\"ticks\":\"\"}},\"coloraxis\":{\"colorbar\":{\"outlinewidth\":0,\"ticks\":\"\"}},\"colorscale\":{\"sequential\":[[0.0,\"#0d0887\"],[0.1111111111111111,\"#46039f\"],[0.2222222222222222,\"#7201a8\"],[0.3333333333333333,\"#9c179e\"],[0.4444444444444444,\"#bd3786\"],[0.5555555555555556,\"#d8576b\"],[0.6666666666666666,\"#ed7953\"],[0.7777777777777778,\"#fb9f3a\"],[0.8888888888888888,\"#fdca26\"],[1.0,\"#f0f921\"]],\"sequentialminus\":[[0.0,\"#0d0887\"],[0.1111111111111111,\"#46039f\"],[0.2222222222222222,\"#7201a8\"],[0.3333333333333333,\"#9c179e\"],[0.4444444444444444,\"#bd3786\"],[0.5555555555555556,\"#d8576b\"],[0.6666666666666666,\"#ed7953\"],[0.7777777777777778,\"#fb9f3a\"],[0.8888888888888888,\"#fdca26\"],[1.0,\"#f0f921\"]],\"diverging\":[[0,\"#8e0152\"],[0.1,\"#c51b7d\"],[0.2,\"#de77ae\"],[0.3,\"#f1b6da\"],[0.4,\"#fde0ef\"],[0.5,\"#f7f7f7\"],[0.6,\"#e6f5d0\"],[0.7,\"#b8e186\"],[0.8,\"#7fbc41\"],[0.9,\"#4d9221\"],[1,\"#276419\"]]},\"xaxis\":{\"gridcolor\":\"white\",\"linecolor\":\"white\",\"ticks\":\"\",\"title\":{\"standoff\":15},\"zerolinecolor\":\"white\",\"automargin\":true,\"zerolinewidth\":2},\"yaxis\":{\"gridcolor\":\"white\",\"linecolor\":\"white\",\"ticks\":\"\",\"title\":{\"standoff\":15},\"zerolinecolor\":\"white\",\"automargin\":true,\"zerolinewidth\":2},\"scene\":{\"xaxis\":{\"backgroundcolor\":\"#E5ECF6\",\"gridcolor\":\"white\",\"linecolor\":\"white\",\"showbackground\":true,\"ticks\":\"\",\"zerolinecolor\":\"white\",\"gridwidth\":2},\"yaxis\":{\"backgroundcolor\":\"#E5ECF6\",\"gridcolor\":\"white\",\"linecolor\":\"white\",\"showbackground\":true,\"ticks\":\"\",\"zerolinecolor\":\"white\",\"gridwidth\":2},\"zaxis\":{\"backgroundcolor\":\"#E5ECF6\",\"gridcolor\":\"white\",\"linecolor\":\"white\",\"showbackground\":true,\"ticks\":\"\",\"zerolinecolor\":\"white\",\"gridwidth\":2}},\"shapedefaults\":{\"line\":{\"color\":\"#2a3f5f\"}},\"annotationdefaults\":{\"arrowcolor\":\"#2a3f5f\",\"arrowhead\":0,\"arrowwidth\":1},\"geo\":{\"bgcolor\":\"white\",\"landcolor\":\"#E5ECF6\",\"subunitcolor\":\"white\",\"showland\":true,\"showlakes\":true,\"lakecolor\":\"white\"},\"title\":{\"x\":0.05},\"mapbox\":{\"style\":\"light\"}}},\"legend\":{\"tracegroupgap\":0},\"margin\":{\"t\":60},\"title\":{\"text\":\"Porcentaje de longitud por revestimientos\"}},                        {\"responsive\": true}                    ).then(function(){\n",
       "                            \n",
       "var gd = document.getElementById('768d3e6b-dede-42d7-b3b7-9a04fd60f8c5');\n",
       "var x = new MutationObserver(function (mutations, observer) {{\n",
       "        var display = window.getComputedStyle(gd).display;\n",
       "        if (!display || display === 'none') {{\n",
       "            console.log([gd, 'removed!']);\n",
       "            Plotly.purge(gd);\n",
       "            observer.disconnect();\n",
       "        }}\n",
       "}});\n",
       "\n",
       "// Listen for the removal of the full notebook cells\n",
       "var notebookContainer = gd.closest('#notebook-container');\n",
       "if (notebookContainer) {{\n",
       "    x.observe(notebookContainer, {childList: true});\n",
       "}}\n",
       "\n",
       "// Listen for the clearing of the current output cell\n",
       "var outputEl = gd.closest('.output');\n",
       "if (outputEl) {{\n",
       "    x.observe(outputEl, {childList: true});\n",
       "}}\n",
       "\n",
       "                        })                };                });            </script>        </div>"
      ]
     },
     "metadata": {},
     "output_type": "display_data"
    }
   ],
   "source": [
    "fig = px.pie(df_hidro_trocal[df_hidro_trocal[\"revestim\"] != \"SIN DATOS\"],names=\"revestim\",values=\"longitud\")\n",
    "\n",
    "\n",
    "fig.update_layout(\n",
    "    title='Porcentaje de longitud por revestimientos',\n",
    ")\n",
    "\n",
    "fig.write_html(\"Porcentaje de longitud por tipo de recubrimiento.html\")\n",
    "fig"
   ]
  },
  {
   "cell_type": "code",
   "execution_count": 33,
   "id": "2dcc9b98",
   "metadata": {},
   "outputs": [
    {
     "data": {
      "application/vnd.plotly.v1+json": {
       "config": {
        "plotlyServerURL": "https://plot.ly"
       },
       "data": [
        {
         "branchvalues": "total",
         "domain": {
          "x": [
           0,
           1
          ],
          "y": [
           0,
           1
          ]
         },
         "hovertemplate": "labels=%{label}<br>longitud=%{value}<br>parent=%{parent}<br>id=%{id}<extra></extra>",
         "ids": [
          "AEREO/ACUEDUCTO",
          "ENTERRADO/ACUEDUCTO",
          "AEREO/GASODUCTO",
          "ENTERRADO/GASODUCTO",
          "AEREO/OLEODUCTO",
          "ENTERRADO/OLEODUCTO",
          "AEREO/POLIDUCTO",
          "AEREO",
          "ENTERRADO"
         ],
         "labels": [
          "ACUEDUCTO",
          "ACUEDUCTO",
          "GASODUCTO",
          "GASODUCTO",
          "OLEODUCTO",
          "OLEODUCTO",
          "POLIDUCTO",
          "AEREO",
          "ENTERRADO"
         ],
         "name": "",
         "parents": [
          "AEREO",
          "ENTERRADO",
          "AEREO",
          "ENTERRADO",
          "AEREO",
          "ENTERRADO",
          "AEREO",
          "",
          ""
         ],
         "type": "sunburst",
         "values": [
          266.5896820858893,
          94.37956778237215,
          1555.7779133244637,
          1169.7092444506268,
          210.49296365441955,
          371.1559065690426,
          85.93237085908694,
          2118.7929299238594,
          1635.2447188020415
         ]
        }
       ],
       "layout": {
        "legend": {
         "tracegroupgap": 0
        },
        "margin": {
         "t": 60
        },
        "template": {
         "data": {
          "bar": [
           {
            "error_x": {
             "color": "#2a3f5f"
            },
            "error_y": {
             "color": "#2a3f5f"
            },
            "marker": {
             "line": {
              "color": "#E5ECF6",
              "width": 0.5
             },
             "pattern": {
              "fillmode": "overlay",
              "size": 10,
              "solidity": 0.2
             }
            },
            "type": "bar"
           }
          ],
          "barpolar": [
           {
            "marker": {
             "line": {
              "color": "#E5ECF6",
              "width": 0.5
             },
             "pattern": {
              "fillmode": "overlay",
              "size": 10,
              "solidity": 0.2
             }
            },
            "type": "barpolar"
           }
          ],
          "carpet": [
           {
            "aaxis": {
             "endlinecolor": "#2a3f5f",
             "gridcolor": "white",
             "linecolor": "white",
             "minorgridcolor": "white",
             "startlinecolor": "#2a3f5f"
            },
            "baxis": {
             "endlinecolor": "#2a3f5f",
             "gridcolor": "white",
             "linecolor": "white",
             "minorgridcolor": "white",
             "startlinecolor": "#2a3f5f"
            },
            "type": "carpet"
           }
          ],
          "choropleth": [
           {
            "colorbar": {
             "outlinewidth": 0,
             "ticks": ""
            },
            "type": "choropleth"
           }
          ],
          "contour": [
           {
            "colorbar": {
             "outlinewidth": 0,
             "ticks": ""
            },
            "colorscale": [
             [
              0,
              "#0d0887"
             ],
             [
              0.1111111111111111,
              "#46039f"
             ],
             [
              0.2222222222222222,
              "#7201a8"
             ],
             [
              0.3333333333333333,
              "#9c179e"
             ],
             [
              0.4444444444444444,
              "#bd3786"
             ],
             [
              0.5555555555555556,
              "#d8576b"
             ],
             [
              0.6666666666666666,
              "#ed7953"
             ],
             [
              0.7777777777777778,
              "#fb9f3a"
             ],
             [
              0.8888888888888888,
              "#fdca26"
             ],
             [
              1,
              "#f0f921"
             ]
            ],
            "type": "contour"
           }
          ],
          "contourcarpet": [
           {
            "colorbar": {
             "outlinewidth": 0,
             "ticks": ""
            },
            "type": "contourcarpet"
           }
          ],
          "heatmap": [
           {
            "colorbar": {
             "outlinewidth": 0,
             "ticks": ""
            },
            "colorscale": [
             [
              0,
              "#0d0887"
             ],
             [
              0.1111111111111111,
              "#46039f"
             ],
             [
              0.2222222222222222,
              "#7201a8"
             ],
             [
              0.3333333333333333,
              "#9c179e"
             ],
             [
              0.4444444444444444,
              "#bd3786"
             ],
             [
              0.5555555555555556,
              "#d8576b"
             ],
             [
              0.6666666666666666,
              "#ed7953"
             ],
             [
              0.7777777777777778,
              "#fb9f3a"
             ],
             [
              0.8888888888888888,
              "#fdca26"
             ],
             [
              1,
              "#f0f921"
             ]
            ],
            "type": "heatmap"
           }
          ],
          "heatmapgl": [
           {
            "colorbar": {
             "outlinewidth": 0,
             "ticks": ""
            },
            "colorscale": [
             [
              0,
              "#0d0887"
             ],
             [
              0.1111111111111111,
              "#46039f"
             ],
             [
              0.2222222222222222,
              "#7201a8"
             ],
             [
              0.3333333333333333,
              "#9c179e"
             ],
             [
              0.4444444444444444,
              "#bd3786"
             ],
             [
              0.5555555555555556,
              "#d8576b"
             ],
             [
              0.6666666666666666,
              "#ed7953"
             ],
             [
              0.7777777777777778,
              "#fb9f3a"
             ],
             [
              0.8888888888888888,
              "#fdca26"
             ],
             [
              1,
              "#f0f921"
             ]
            ],
            "type": "heatmapgl"
           }
          ],
          "histogram": [
           {
            "marker": {
             "pattern": {
              "fillmode": "overlay",
              "size": 10,
              "solidity": 0.2
             }
            },
            "type": "histogram"
           }
          ],
          "histogram2d": [
           {
            "colorbar": {
             "outlinewidth": 0,
             "ticks": ""
            },
            "colorscale": [
             [
              0,
              "#0d0887"
             ],
             [
              0.1111111111111111,
              "#46039f"
             ],
             [
              0.2222222222222222,
              "#7201a8"
             ],
             [
              0.3333333333333333,
              "#9c179e"
             ],
             [
              0.4444444444444444,
              "#bd3786"
             ],
             [
              0.5555555555555556,
              "#d8576b"
             ],
             [
              0.6666666666666666,
              "#ed7953"
             ],
             [
              0.7777777777777778,
              "#fb9f3a"
             ],
             [
              0.8888888888888888,
              "#fdca26"
             ],
             [
              1,
              "#f0f921"
             ]
            ],
            "type": "histogram2d"
           }
          ],
          "histogram2dcontour": [
           {
            "colorbar": {
             "outlinewidth": 0,
             "ticks": ""
            },
            "colorscale": [
             [
              0,
              "#0d0887"
             ],
             [
              0.1111111111111111,
              "#46039f"
             ],
             [
              0.2222222222222222,
              "#7201a8"
             ],
             [
              0.3333333333333333,
              "#9c179e"
             ],
             [
              0.4444444444444444,
              "#bd3786"
             ],
             [
              0.5555555555555556,
              "#d8576b"
             ],
             [
              0.6666666666666666,
              "#ed7953"
             ],
             [
              0.7777777777777778,
              "#fb9f3a"
             ],
             [
              0.8888888888888888,
              "#fdca26"
             ],
             [
              1,
              "#f0f921"
             ]
            ],
            "type": "histogram2dcontour"
           }
          ],
          "mesh3d": [
           {
            "colorbar": {
             "outlinewidth": 0,
             "ticks": ""
            },
            "type": "mesh3d"
           }
          ],
          "parcoords": [
           {
            "line": {
             "colorbar": {
              "outlinewidth": 0,
              "ticks": ""
             }
            },
            "type": "parcoords"
           }
          ],
          "pie": [
           {
            "automargin": true,
            "type": "pie"
           }
          ],
          "scatter": [
           {
            "fillpattern": {
             "fillmode": "overlay",
             "size": 10,
             "solidity": 0.2
            },
            "type": "scatter"
           }
          ],
          "scatter3d": [
           {
            "line": {
             "colorbar": {
              "outlinewidth": 0,
              "ticks": ""
             }
            },
            "marker": {
             "colorbar": {
              "outlinewidth": 0,
              "ticks": ""
             }
            },
            "type": "scatter3d"
           }
          ],
          "scattercarpet": [
           {
            "marker": {
             "colorbar": {
              "outlinewidth": 0,
              "ticks": ""
             }
            },
            "type": "scattercarpet"
           }
          ],
          "scattergeo": [
           {
            "marker": {
             "colorbar": {
              "outlinewidth": 0,
              "ticks": ""
             }
            },
            "type": "scattergeo"
           }
          ],
          "scattergl": [
           {
            "marker": {
             "colorbar": {
              "outlinewidth": 0,
              "ticks": ""
             }
            },
            "type": "scattergl"
           }
          ],
          "scattermapbox": [
           {
            "marker": {
             "colorbar": {
              "outlinewidth": 0,
              "ticks": ""
             }
            },
            "type": "scattermapbox"
           }
          ],
          "scatterpolar": [
           {
            "marker": {
             "colorbar": {
              "outlinewidth": 0,
              "ticks": ""
             }
            },
            "type": "scatterpolar"
           }
          ],
          "scatterpolargl": [
           {
            "marker": {
             "colorbar": {
              "outlinewidth": 0,
              "ticks": ""
             }
            },
            "type": "scatterpolargl"
           }
          ],
          "scatterternary": [
           {
            "marker": {
             "colorbar": {
              "outlinewidth": 0,
              "ticks": ""
             }
            },
            "type": "scatterternary"
           }
          ],
          "surface": [
           {
            "colorbar": {
             "outlinewidth": 0,
             "ticks": ""
            },
            "colorscale": [
             [
              0,
              "#0d0887"
             ],
             [
              0.1111111111111111,
              "#46039f"
             ],
             [
              0.2222222222222222,
              "#7201a8"
             ],
             [
              0.3333333333333333,
              "#9c179e"
             ],
             [
              0.4444444444444444,
              "#bd3786"
             ],
             [
              0.5555555555555556,
              "#d8576b"
             ],
             [
              0.6666666666666666,
              "#ed7953"
             ],
             [
              0.7777777777777778,
              "#fb9f3a"
             ],
             [
              0.8888888888888888,
              "#fdca26"
             ],
             [
              1,
              "#f0f921"
             ]
            ],
            "type": "surface"
           }
          ],
          "table": [
           {
            "cells": {
             "fill": {
              "color": "#EBF0F8"
             },
             "line": {
              "color": "white"
             }
            },
            "header": {
             "fill": {
              "color": "#C8D4E3"
             },
             "line": {
              "color": "white"
             }
            },
            "type": "table"
           }
          ]
         },
         "layout": {
          "annotationdefaults": {
           "arrowcolor": "#2a3f5f",
           "arrowhead": 0,
           "arrowwidth": 1
          },
          "autotypenumbers": "strict",
          "coloraxis": {
           "colorbar": {
            "outlinewidth": 0,
            "ticks": ""
           }
          },
          "colorscale": {
           "diverging": [
            [
             0,
             "#8e0152"
            ],
            [
             0.1,
             "#c51b7d"
            ],
            [
             0.2,
             "#de77ae"
            ],
            [
             0.3,
             "#f1b6da"
            ],
            [
             0.4,
             "#fde0ef"
            ],
            [
             0.5,
             "#f7f7f7"
            ],
            [
             0.6,
             "#e6f5d0"
            ],
            [
             0.7,
             "#b8e186"
            ],
            [
             0.8,
             "#7fbc41"
            ],
            [
             0.9,
             "#4d9221"
            ],
            [
             1,
             "#276419"
            ]
           ],
           "sequential": [
            [
             0,
             "#0d0887"
            ],
            [
             0.1111111111111111,
             "#46039f"
            ],
            [
             0.2222222222222222,
             "#7201a8"
            ],
            [
             0.3333333333333333,
             "#9c179e"
            ],
            [
             0.4444444444444444,
             "#bd3786"
            ],
            [
             0.5555555555555556,
             "#d8576b"
            ],
            [
             0.6666666666666666,
             "#ed7953"
            ],
            [
             0.7777777777777778,
             "#fb9f3a"
            ],
            [
             0.8888888888888888,
             "#fdca26"
            ],
            [
             1,
             "#f0f921"
            ]
           ],
           "sequentialminus": [
            [
             0,
             "#0d0887"
            ],
            [
             0.1111111111111111,
             "#46039f"
            ],
            [
             0.2222222222222222,
             "#7201a8"
            ],
            [
             0.3333333333333333,
             "#9c179e"
            ],
            [
             0.4444444444444444,
             "#bd3786"
            ],
            [
             0.5555555555555556,
             "#d8576b"
            ],
            [
             0.6666666666666666,
             "#ed7953"
            ],
            [
             0.7777777777777778,
             "#fb9f3a"
            ],
            [
             0.8888888888888888,
             "#fdca26"
            ],
            [
             1,
             "#f0f921"
            ]
           ]
          },
          "colorway": [
           "#636efa",
           "#EF553B",
           "#00cc96",
           "#ab63fa",
           "#FFA15A",
           "#19d3f3",
           "#FF6692",
           "#B6E880",
           "#FF97FF",
           "#FECB52"
          ],
          "font": {
           "color": "#2a3f5f"
          },
          "geo": {
           "bgcolor": "white",
           "lakecolor": "white",
           "landcolor": "#E5ECF6",
           "showlakes": true,
           "showland": true,
           "subunitcolor": "white"
          },
          "hoverlabel": {
           "align": "left"
          },
          "hovermode": "closest",
          "mapbox": {
           "style": "light"
          },
          "paper_bgcolor": "white",
          "plot_bgcolor": "#E5ECF6",
          "polar": {
           "angularaxis": {
            "gridcolor": "white",
            "linecolor": "white",
            "ticks": ""
           },
           "bgcolor": "#E5ECF6",
           "radialaxis": {
            "gridcolor": "white",
            "linecolor": "white",
            "ticks": ""
           }
          },
          "scene": {
           "xaxis": {
            "backgroundcolor": "#E5ECF6",
            "gridcolor": "white",
            "gridwidth": 2,
            "linecolor": "white",
            "showbackground": true,
            "ticks": "",
            "zerolinecolor": "white"
           },
           "yaxis": {
            "backgroundcolor": "#E5ECF6",
            "gridcolor": "white",
            "gridwidth": 2,
            "linecolor": "white",
            "showbackground": true,
            "ticks": "",
            "zerolinecolor": "white"
           },
           "zaxis": {
            "backgroundcolor": "#E5ECF6",
            "gridcolor": "white",
            "gridwidth": 2,
            "linecolor": "white",
            "showbackground": true,
            "ticks": "",
            "zerolinecolor": "white"
           }
          },
          "shapedefaults": {
           "line": {
            "color": "#2a3f5f"
           }
          },
          "ternary": {
           "aaxis": {
            "gridcolor": "white",
            "linecolor": "white",
            "ticks": ""
           },
           "baxis": {
            "gridcolor": "white",
            "linecolor": "white",
            "ticks": ""
           },
           "bgcolor": "#E5ECF6",
           "caxis": {
            "gridcolor": "white",
            "linecolor": "white",
            "ticks": ""
           }
          },
          "title": {
           "x": 0.05
          },
          "xaxis": {
           "automargin": true,
           "gridcolor": "white",
           "linecolor": "white",
           "ticks": "",
           "title": {
            "standoff": 15
           },
           "zerolinecolor": "white",
           "zerolinewidth": 2
          },
          "yaxis": {
           "automargin": true,
           "gridcolor": "white",
           "linecolor": "white",
           "ticks": "",
           "title": {
            "standoff": 15
           },
           "zerolinecolor": "white",
           "zerolinewidth": 2
          }
         }
        },
        "title": {
         "text": "Porcentaje de longitud por tipo de ducto y por tipo de tramo"
        }
       }
      },
      "text/html": [
       "<div>                            <div id=\"499949f4-4e2d-4242-b2ca-56c2bc7fcd56\" class=\"plotly-graph-div\" style=\"height:525px; width:100%;\"></div>            <script type=\"text/javascript\">                require([\"plotly\"], function(Plotly) {                    window.PLOTLYENV=window.PLOTLYENV || {};                                    if (document.getElementById(\"499949f4-4e2d-4242-b2ca-56c2bc7fcd56\")) {                    Plotly.newPlot(                        \"499949f4-4e2d-4242-b2ca-56c2bc7fcd56\",                        [{\"branchvalues\":\"total\",\"domain\":{\"x\":[0.0,1.0],\"y\":[0.0,1.0]},\"hovertemplate\":\"labels=%{label}<br>longitud=%{value}<br>parent=%{parent}<br>id=%{id}<extra></extra>\",\"ids\":[\"AEREO/ACUEDUCTO\",\"ENTERRADO/ACUEDUCTO\",\"AEREO/GASODUCTO\",\"ENTERRADO/GASODUCTO\",\"AEREO/OLEODUCTO\",\"ENTERRADO/OLEODUCTO\",\"AEREO/POLIDUCTO\",\"AEREO\",\"ENTERRADO\"],\"labels\":[\"ACUEDUCTO\",\"ACUEDUCTO\",\"GASODUCTO\",\"GASODUCTO\",\"OLEODUCTO\",\"OLEODUCTO\",\"POLIDUCTO\",\"AEREO\",\"ENTERRADO\"],\"name\":\"\",\"parents\":[\"AEREO\",\"ENTERRADO\",\"AEREO\",\"ENTERRADO\",\"AEREO\",\"ENTERRADO\",\"AEREO\",\"\",\"\"],\"values\":[266.5896820858893,94.37956778237215,1555.7779133244637,1169.7092444506268,210.49296365441955,371.1559065690426,85.93237085908694,2118.7929299238594,1635.2447188020415],\"type\":\"sunburst\"}],                        {\"template\":{\"data\":{\"histogram2dcontour\":[{\"type\":\"histogram2dcontour\",\"colorbar\":{\"outlinewidth\":0,\"ticks\":\"\"},\"colorscale\":[[0.0,\"#0d0887\"],[0.1111111111111111,\"#46039f\"],[0.2222222222222222,\"#7201a8\"],[0.3333333333333333,\"#9c179e\"],[0.4444444444444444,\"#bd3786\"],[0.5555555555555556,\"#d8576b\"],[0.6666666666666666,\"#ed7953\"],[0.7777777777777778,\"#fb9f3a\"],[0.8888888888888888,\"#fdca26\"],[1.0,\"#f0f921\"]]}],\"choropleth\":[{\"type\":\"choropleth\",\"colorbar\":{\"outlinewidth\":0,\"ticks\":\"\"}}],\"histogram2d\":[{\"type\":\"histogram2d\",\"colorbar\":{\"outlinewidth\":0,\"ticks\":\"\"},\"colorscale\":[[0.0,\"#0d0887\"],[0.1111111111111111,\"#46039f\"],[0.2222222222222222,\"#7201a8\"],[0.3333333333333333,\"#9c179e\"],[0.4444444444444444,\"#bd3786\"],[0.5555555555555556,\"#d8576b\"],[0.6666666666666666,\"#ed7953\"],[0.7777777777777778,\"#fb9f3a\"],[0.8888888888888888,\"#fdca26\"],[1.0,\"#f0f921\"]]}],\"heatmap\":[{\"type\":\"heatmap\",\"colorbar\":{\"outlinewidth\":0,\"ticks\":\"\"},\"colorscale\":[[0.0,\"#0d0887\"],[0.1111111111111111,\"#46039f\"],[0.2222222222222222,\"#7201a8\"],[0.3333333333333333,\"#9c179e\"],[0.4444444444444444,\"#bd3786\"],[0.5555555555555556,\"#d8576b\"],[0.6666666666666666,\"#ed7953\"],[0.7777777777777778,\"#fb9f3a\"],[0.8888888888888888,\"#fdca26\"],[1.0,\"#f0f921\"]]}],\"heatmapgl\":[{\"type\":\"heatmapgl\",\"colorbar\":{\"outlinewidth\":0,\"ticks\":\"\"},\"colorscale\":[[0.0,\"#0d0887\"],[0.1111111111111111,\"#46039f\"],[0.2222222222222222,\"#7201a8\"],[0.3333333333333333,\"#9c179e\"],[0.4444444444444444,\"#bd3786\"],[0.5555555555555556,\"#d8576b\"],[0.6666666666666666,\"#ed7953\"],[0.7777777777777778,\"#fb9f3a\"],[0.8888888888888888,\"#fdca26\"],[1.0,\"#f0f921\"]]}],\"contourcarpet\":[{\"type\":\"contourcarpet\",\"colorbar\":{\"outlinewidth\":0,\"ticks\":\"\"}}],\"contour\":[{\"type\":\"contour\",\"colorbar\":{\"outlinewidth\":0,\"ticks\":\"\"},\"colorscale\":[[0.0,\"#0d0887\"],[0.1111111111111111,\"#46039f\"],[0.2222222222222222,\"#7201a8\"],[0.3333333333333333,\"#9c179e\"],[0.4444444444444444,\"#bd3786\"],[0.5555555555555556,\"#d8576b\"],[0.6666666666666666,\"#ed7953\"],[0.7777777777777778,\"#fb9f3a\"],[0.8888888888888888,\"#fdca26\"],[1.0,\"#f0f921\"]]}],\"surface\":[{\"type\":\"surface\",\"colorbar\":{\"outlinewidth\":0,\"ticks\":\"\"},\"colorscale\":[[0.0,\"#0d0887\"],[0.1111111111111111,\"#46039f\"],[0.2222222222222222,\"#7201a8\"],[0.3333333333333333,\"#9c179e\"],[0.4444444444444444,\"#bd3786\"],[0.5555555555555556,\"#d8576b\"],[0.6666666666666666,\"#ed7953\"],[0.7777777777777778,\"#fb9f3a\"],[0.8888888888888888,\"#fdca26\"],[1.0,\"#f0f921\"]]}],\"mesh3d\":[{\"type\":\"mesh3d\",\"colorbar\":{\"outlinewidth\":0,\"ticks\":\"\"}}],\"scatter\":[{\"fillpattern\":{\"fillmode\":\"overlay\",\"size\":10,\"solidity\":0.2},\"type\":\"scatter\"}],\"parcoords\":[{\"type\":\"parcoords\",\"line\":{\"colorbar\":{\"outlinewidth\":0,\"ticks\":\"\"}}}],\"scatterpolargl\":[{\"type\":\"scatterpolargl\",\"marker\":{\"colorbar\":{\"outlinewidth\":0,\"ticks\":\"\"}}}],\"bar\":[{\"error_x\":{\"color\":\"#2a3f5f\"},\"error_y\":{\"color\":\"#2a3f5f\"},\"marker\":{\"line\":{\"color\":\"#E5ECF6\",\"width\":0.5},\"pattern\":{\"fillmode\":\"overlay\",\"size\":10,\"solidity\":0.2}},\"type\":\"bar\"}],\"scattergeo\":[{\"type\":\"scattergeo\",\"marker\":{\"colorbar\":{\"outlinewidth\":0,\"ticks\":\"\"}}}],\"scatterpolar\":[{\"type\":\"scatterpolar\",\"marker\":{\"colorbar\":{\"outlinewidth\":0,\"ticks\":\"\"}}}],\"histogram\":[{\"marker\":{\"pattern\":{\"fillmode\":\"overlay\",\"size\":10,\"solidity\":0.2}},\"type\":\"histogram\"}],\"scattergl\":[{\"type\":\"scattergl\",\"marker\":{\"colorbar\":{\"outlinewidth\":0,\"ticks\":\"\"}}}],\"scatter3d\":[{\"type\":\"scatter3d\",\"line\":{\"colorbar\":{\"outlinewidth\":0,\"ticks\":\"\"}},\"marker\":{\"colorbar\":{\"outlinewidth\":0,\"ticks\":\"\"}}}],\"scattermapbox\":[{\"type\":\"scattermapbox\",\"marker\":{\"colorbar\":{\"outlinewidth\":0,\"ticks\":\"\"}}}],\"scatterternary\":[{\"type\":\"scatterternary\",\"marker\":{\"colorbar\":{\"outlinewidth\":0,\"ticks\":\"\"}}}],\"scattercarpet\":[{\"type\":\"scattercarpet\",\"marker\":{\"colorbar\":{\"outlinewidth\":0,\"ticks\":\"\"}}}],\"carpet\":[{\"aaxis\":{\"endlinecolor\":\"#2a3f5f\",\"gridcolor\":\"white\",\"linecolor\":\"white\",\"minorgridcolor\":\"white\",\"startlinecolor\":\"#2a3f5f\"},\"baxis\":{\"endlinecolor\":\"#2a3f5f\",\"gridcolor\":\"white\",\"linecolor\":\"white\",\"minorgridcolor\":\"white\",\"startlinecolor\":\"#2a3f5f\"},\"type\":\"carpet\"}],\"table\":[{\"cells\":{\"fill\":{\"color\":\"#EBF0F8\"},\"line\":{\"color\":\"white\"}},\"header\":{\"fill\":{\"color\":\"#C8D4E3\"},\"line\":{\"color\":\"white\"}},\"type\":\"table\"}],\"barpolar\":[{\"marker\":{\"line\":{\"color\":\"#E5ECF6\",\"width\":0.5},\"pattern\":{\"fillmode\":\"overlay\",\"size\":10,\"solidity\":0.2}},\"type\":\"barpolar\"}],\"pie\":[{\"automargin\":true,\"type\":\"pie\"}]},\"layout\":{\"autotypenumbers\":\"strict\",\"colorway\":[\"#636efa\",\"#EF553B\",\"#00cc96\",\"#ab63fa\",\"#FFA15A\",\"#19d3f3\",\"#FF6692\",\"#B6E880\",\"#FF97FF\",\"#FECB52\"],\"font\":{\"color\":\"#2a3f5f\"},\"hovermode\":\"closest\",\"hoverlabel\":{\"align\":\"left\"},\"paper_bgcolor\":\"white\",\"plot_bgcolor\":\"#E5ECF6\",\"polar\":{\"bgcolor\":\"#E5ECF6\",\"angularaxis\":{\"gridcolor\":\"white\",\"linecolor\":\"white\",\"ticks\":\"\"},\"radialaxis\":{\"gridcolor\":\"white\",\"linecolor\":\"white\",\"ticks\":\"\"}},\"ternary\":{\"bgcolor\":\"#E5ECF6\",\"aaxis\":{\"gridcolor\":\"white\",\"linecolor\":\"white\",\"ticks\":\"\"},\"baxis\":{\"gridcolor\":\"white\",\"linecolor\":\"white\",\"ticks\":\"\"},\"caxis\":{\"gridcolor\":\"white\",\"linecolor\":\"white\",\"ticks\":\"\"}},\"coloraxis\":{\"colorbar\":{\"outlinewidth\":0,\"ticks\":\"\"}},\"colorscale\":{\"sequential\":[[0.0,\"#0d0887\"],[0.1111111111111111,\"#46039f\"],[0.2222222222222222,\"#7201a8\"],[0.3333333333333333,\"#9c179e\"],[0.4444444444444444,\"#bd3786\"],[0.5555555555555556,\"#d8576b\"],[0.6666666666666666,\"#ed7953\"],[0.7777777777777778,\"#fb9f3a\"],[0.8888888888888888,\"#fdca26\"],[1.0,\"#f0f921\"]],\"sequentialminus\":[[0.0,\"#0d0887\"],[0.1111111111111111,\"#46039f\"],[0.2222222222222222,\"#7201a8\"],[0.3333333333333333,\"#9c179e\"],[0.4444444444444444,\"#bd3786\"],[0.5555555555555556,\"#d8576b\"],[0.6666666666666666,\"#ed7953\"],[0.7777777777777778,\"#fb9f3a\"],[0.8888888888888888,\"#fdca26\"],[1.0,\"#f0f921\"]],\"diverging\":[[0,\"#8e0152\"],[0.1,\"#c51b7d\"],[0.2,\"#de77ae\"],[0.3,\"#f1b6da\"],[0.4,\"#fde0ef\"],[0.5,\"#f7f7f7\"],[0.6,\"#e6f5d0\"],[0.7,\"#b8e186\"],[0.8,\"#7fbc41\"],[0.9,\"#4d9221\"],[1,\"#276419\"]]},\"xaxis\":{\"gridcolor\":\"white\",\"linecolor\":\"white\",\"ticks\":\"\",\"title\":{\"standoff\":15},\"zerolinecolor\":\"white\",\"automargin\":true,\"zerolinewidth\":2},\"yaxis\":{\"gridcolor\":\"white\",\"linecolor\":\"white\",\"ticks\":\"\",\"title\":{\"standoff\":15},\"zerolinecolor\":\"white\",\"automargin\":true,\"zerolinewidth\":2},\"scene\":{\"xaxis\":{\"backgroundcolor\":\"#E5ECF6\",\"gridcolor\":\"white\",\"linecolor\":\"white\",\"showbackground\":true,\"ticks\":\"\",\"zerolinecolor\":\"white\",\"gridwidth\":2},\"yaxis\":{\"backgroundcolor\":\"#E5ECF6\",\"gridcolor\":\"white\",\"linecolor\":\"white\",\"showbackground\":true,\"ticks\":\"\",\"zerolinecolor\":\"white\",\"gridwidth\":2},\"zaxis\":{\"backgroundcolor\":\"#E5ECF6\",\"gridcolor\":\"white\",\"linecolor\":\"white\",\"showbackground\":true,\"ticks\":\"\",\"zerolinecolor\":\"white\",\"gridwidth\":2}},\"shapedefaults\":{\"line\":{\"color\":\"#2a3f5f\"}},\"annotationdefaults\":{\"arrowcolor\":\"#2a3f5f\",\"arrowhead\":0,\"arrowwidth\":1},\"geo\":{\"bgcolor\":\"white\",\"landcolor\":\"#E5ECF6\",\"subunitcolor\":\"white\",\"showland\":true,\"showlakes\":true,\"lakecolor\":\"white\"},\"title\":{\"x\":0.05},\"mapbox\":{\"style\":\"light\"}}},\"legend\":{\"tracegroupgap\":0},\"margin\":{\"t\":60},\"title\":{\"text\":\"Porcentaje de longitud por tipo de ducto y por tipo de tramo\"}},                        {\"responsive\": true}                    ).then(function(){\n",
       "                            \n",
       "var gd = document.getElementById('499949f4-4e2d-4242-b2ca-56c2bc7fcd56');\n",
       "var x = new MutationObserver(function (mutations, observer) {{\n",
       "        var display = window.getComputedStyle(gd).display;\n",
       "        if (!display || display === 'none') {{\n",
       "            console.log([gd, 'removed!']);\n",
       "            Plotly.purge(gd);\n",
       "            observer.disconnect();\n",
       "        }}\n",
       "}});\n",
       "\n",
       "// Listen for the removal of the full notebook cells\n",
       "var notebookContainer = gd.closest('#notebook-container');\n",
       "if (notebookContainer) {{\n",
       "    x.observe(notebookContainer, {childList: true});\n",
       "}}\n",
       "\n",
       "// Listen for the clearing of the current output cell\n",
       "var outputEl = gd.closest('.output');\n",
       "if (outputEl) {{\n",
       "    x.observe(outputEl, {childList: true});\n",
       "}}\n",
       "\n",
       "                        })                };                });            </script>        </div>"
      ]
     },
     "metadata": {},
     "output_type": "display_data"
    }
   ],
   "source": [
    "fig = px.sunburst(df_hidro_trocal, path=['tipo_tramo', 'tipo'], values='longitud')\n",
    "\n",
    "\n",
    "fig.update_layout(\n",
    "    title='Porcentaje de longitud por tipo de ducto y por tipo de tramo',\n",
    ")\n",
    "fig.write_html(\"Proporción en longitud por tipo de ducto y tipo de tramo.html\")\n",
    "\n",
    "fig"
   ]
  },
  {
   "cell_type": "code",
   "execution_count": 32,
   "id": "72ac2fd0",
   "metadata": {
    "scrolled": true
   },
   "outputs": [
    {
     "data": {
      "application/vnd.plotly.v1+json": {
       "config": {
        "plotlyServerURL": "https://plot.ly"
       },
       "data": [
        {
         "alignmentgroup": "True",
         "hovertemplate": "tipo_tramo=AEREO<br>Porcentaje de longitud=%{text}<br>empresa_informante=%{y}<extra></extra>",
         "legendgroup": "AEREO",
         "marker": {
          "color": "#636efa",
          "pattern": {
           "shape": ""
          }
         },
         "name": "AEREO",
         "offsetgroup": "AEREO",
         "orientation": "h",
         "showlegend": true,
         "text": [
          100,
          100,
          100,
          50.09456738299863,
          28.089678670386604,
          39.61023551267171,
          51.12736413284398,
          67.83048332278344
         ],
         "textposition": "inside",
         "texttemplate": "%{text:.1f}%",
         "type": "bar",
         "x": [
          100,
          100,
          100,
          50.09456738299863,
          28.089678670386604,
          39.61023551267171,
          51.12736413284398,
          67.83048332278344
         ],
         "xaxis": "x",
         "y": [
          "CHEVRON ARGENTINA S.R.L.",
          "OILSTONE ENERGIA S.A.",
          "PETROLEOS SUDAMERICANOS S.A.",
          "PLUSPETROL ENERGY S.A.",
          "PLUSPETROL S.A.",
          "TECPETROL S.A.",
          "TOTAL AUSTRAL S.A.",
          "YPF S.A."
         ],
         "yaxis": "y"
        },
        {
         "alignmentgroup": "True",
         "hovertemplate": "tipo_tramo=ENTERRADO<br>Porcentaje de longitud=%{text}<br>empresa_informante=%{y}<extra></extra>",
         "legendgroup": "ENTERRADO",
         "marker": {
          "color": "#EF553B",
          "pattern": {
           "shape": ""
          }
         },
         "name": "ENTERRADO",
         "offsetgroup": "ENTERRADO",
         "orientation": "h",
         "showlegend": true,
         "text": [
          100,
          100,
          49.905432617001374,
          71.9103213296134,
          60.38976448732829,
          48.87263586715603,
          100,
          32.16951667721655
         ],
         "textposition": "inside",
         "texttemplate": "%{text:.1f}%",
         "type": "bar",
         "x": [
          100,
          100,
          49.905432617001374,
          71.9103213296134,
          60.38976448732829,
          48.87263586715603,
          100,
          32.16951667721655
         ],
         "xaxis": "x",
         "y": [
          "PAN AMERICAN ENERGY (SUCURSAL ARGENTINA) LLC",
          "PETROBRAS ARGENTINA S.A.",
          "PLUSPETROL ENERGY S.A.",
          "PLUSPETROL S.A.",
          "TECPETROL S.A.",
          "TOTAL AUSTRAL S.A.",
          "VISTA OIL & GAS ARGENTINA SAU",
          "YPF S.A."
         ],
         "yaxis": "y"
        }
       ],
       "layout": {
        "barmode": "stack",
        "height": 600,
        "legend": {
         "title": {
          "text": "tipo_tramo"
         },
         "tracegroupgap": 0
        },
        "margin": {
         "t": 60
        },
        "template": {
         "data": {
          "bar": [
           {
            "error_x": {
             "color": "#2a3f5f"
            },
            "error_y": {
             "color": "#2a3f5f"
            },
            "marker": {
             "line": {
              "color": "#E5ECF6",
              "width": 0.5
             },
             "pattern": {
              "fillmode": "overlay",
              "size": 10,
              "solidity": 0.2
             }
            },
            "type": "bar"
           }
          ],
          "barpolar": [
           {
            "marker": {
             "line": {
              "color": "#E5ECF6",
              "width": 0.5
             },
             "pattern": {
              "fillmode": "overlay",
              "size": 10,
              "solidity": 0.2
             }
            },
            "type": "barpolar"
           }
          ],
          "carpet": [
           {
            "aaxis": {
             "endlinecolor": "#2a3f5f",
             "gridcolor": "white",
             "linecolor": "white",
             "minorgridcolor": "white",
             "startlinecolor": "#2a3f5f"
            },
            "baxis": {
             "endlinecolor": "#2a3f5f",
             "gridcolor": "white",
             "linecolor": "white",
             "minorgridcolor": "white",
             "startlinecolor": "#2a3f5f"
            },
            "type": "carpet"
           }
          ],
          "choropleth": [
           {
            "colorbar": {
             "outlinewidth": 0,
             "ticks": ""
            },
            "type": "choropleth"
           }
          ],
          "contour": [
           {
            "colorbar": {
             "outlinewidth": 0,
             "ticks": ""
            },
            "colorscale": [
             [
              0,
              "#0d0887"
             ],
             [
              0.1111111111111111,
              "#46039f"
             ],
             [
              0.2222222222222222,
              "#7201a8"
             ],
             [
              0.3333333333333333,
              "#9c179e"
             ],
             [
              0.4444444444444444,
              "#bd3786"
             ],
             [
              0.5555555555555556,
              "#d8576b"
             ],
             [
              0.6666666666666666,
              "#ed7953"
             ],
             [
              0.7777777777777778,
              "#fb9f3a"
             ],
             [
              0.8888888888888888,
              "#fdca26"
             ],
             [
              1,
              "#f0f921"
             ]
            ],
            "type": "contour"
           }
          ],
          "contourcarpet": [
           {
            "colorbar": {
             "outlinewidth": 0,
             "ticks": ""
            },
            "type": "contourcarpet"
           }
          ],
          "heatmap": [
           {
            "colorbar": {
             "outlinewidth": 0,
             "ticks": ""
            },
            "colorscale": [
             [
              0,
              "#0d0887"
             ],
             [
              0.1111111111111111,
              "#46039f"
             ],
             [
              0.2222222222222222,
              "#7201a8"
             ],
             [
              0.3333333333333333,
              "#9c179e"
             ],
             [
              0.4444444444444444,
              "#bd3786"
             ],
             [
              0.5555555555555556,
              "#d8576b"
             ],
             [
              0.6666666666666666,
              "#ed7953"
             ],
             [
              0.7777777777777778,
              "#fb9f3a"
             ],
             [
              0.8888888888888888,
              "#fdca26"
             ],
             [
              1,
              "#f0f921"
             ]
            ],
            "type": "heatmap"
           }
          ],
          "heatmapgl": [
           {
            "colorbar": {
             "outlinewidth": 0,
             "ticks": ""
            },
            "colorscale": [
             [
              0,
              "#0d0887"
             ],
             [
              0.1111111111111111,
              "#46039f"
             ],
             [
              0.2222222222222222,
              "#7201a8"
             ],
             [
              0.3333333333333333,
              "#9c179e"
             ],
             [
              0.4444444444444444,
              "#bd3786"
             ],
             [
              0.5555555555555556,
              "#d8576b"
             ],
             [
              0.6666666666666666,
              "#ed7953"
             ],
             [
              0.7777777777777778,
              "#fb9f3a"
             ],
             [
              0.8888888888888888,
              "#fdca26"
             ],
             [
              1,
              "#f0f921"
             ]
            ],
            "type": "heatmapgl"
           }
          ],
          "histogram": [
           {
            "marker": {
             "pattern": {
              "fillmode": "overlay",
              "size": 10,
              "solidity": 0.2
             }
            },
            "type": "histogram"
           }
          ],
          "histogram2d": [
           {
            "colorbar": {
             "outlinewidth": 0,
             "ticks": ""
            },
            "colorscale": [
             [
              0,
              "#0d0887"
             ],
             [
              0.1111111111111111,
              "#46039f"
             ],
             [
              0.2222222222222222,
              "#7201a8"
             ],
             [
              0.3333333333333333,
              "#9c179e"
             ],
             [
              0.4444444444444444,
              "#bd3786"
             ],
             [
              0.5555555555555556,
              "#d8576b"
             ],
             [
              0.6666666666666666,
              "#ed7953"
             ],
             [
              0.7777777777777778,
              "#fb9f3a"
             ],
             [
              0.8888888888888888,
              "#fdca26"
             ],
             [
              1,
              "#f0f921"
             ]
            ],
            "type": "histogram2d"
           }
          ],
          "histogram2dcontour": [
           {
            "colorbar": {
             "outlinewidth": 0,
             "ticks": ""
            },
            "colorscale": [
             [
              0,
              "#0d0887"
             ],
             [
              0.1111111111111111,
              "#46039f"
             ],
             [
              0.2222222222222222,
              "#7201a8"
             ],
             [
              0.3333333333333333,
              "#9c179e"
             ],
             [
              0.4444444444444444,
              "#bd3786"
             ],
             [
              0.5555555555555556,
              "#d8576b"
             ],
             [
              0.6666666666666666,
              "#ed7953"
             ],
             [
              0.7777777777777778,
              "#fb9f3a"
             ],
             [
              0.8888888888888888,
              "#fdca26"
             ],
             [
              1,
              "#f0f921"
             ]
            ],
            "type": "histogram2dcontour"
           }
          ],
          "mesh3d": [
           {
            "colorbar": {
             "outlinewidth": 0,
             "ticks": ""
            },
            "type": "mesh3d"
           }
          ],
          "parcoords": [
           {
            "line": {
             "colorbar": {
              "outlinewidth": 0,
              "ticks": ""
             }
            },
            "type": "parcoords"
           }
          ],
          "pie": [
           {
            "automargin": true,
            "type": "pie"
           }
          ],
          "scatter": [
           {
            "fillpattern": {
             "fillmode": "overlay",
             "size": 10,
             "solidity": 0.2
            },
            "type": "scatter"
           }
          ],
          "scatter3d": [
           {
            "line": {
             "colorbar": {
              "outlinewidth": 0,
              "ticks": ""
             }
            },
            "marker": {
             "colorbar": {
              "outlinewidth": 0,
              "ticks": ""
             }
            },
            "type": "scatter3d"
           }
          ],
          "scattercarpet": [
           {
            "marker": {
             "colorbar": {
              "outlinewidth": 0,
              "ticks": ""
             }
            },
            "type": "scattercarpet"
           }
          ],
          "scattergeo": [
           {
            "marker": {
             "colorbar": {
              "outlinewidth": 0,
              "ticks": ""
             }
            },
            "type": "scattergeo"
           }
          ],
          "scattergl": [
           {
            "marker": {
             "colorbar": {
              "outlinewidth": 0,
              "ticks": ""
             }
            },
            "type": "scattergl"
           }
          ],
          "scattermapbox": [
           {
            "marker": {
             "colorbar": {
              "outlinewidth": 0,
              "ticks": ""
             }
            },
            "type": "scattermapbox"
           }
          ],
          "scatterpolar": [
           {
            "marker": {
             "colorbar": {
              "outlinewidth": 0,
              "ticks": ""
             }
            },
            "type": "scatterpolar"
           }
          ],
          "scatterpolargl": [
           {
            "marker": {
             "colorbar": {
              "outlinewidth": 0,
              "ticks": ""
             }
            },
            "type": "scatterpolargl"
           }
          ],
          "scatterternary": [
           {
            "marker": {
             "colorbar": {
              "outlinewidth": 0,
              "ticks": ""
             }
            },
            "type": "scatterternary"
           }
          ],
          "surface": [
           {
            "colorbar": {
             "outlinewidth": 0,
             "ticks": ""
            },
            "colorscale": [
             [
              0,
              "#0d0887"
             ],
             [
              0.1111111111111111,
              "#46039f"
             ],
             [
              0.2222222222222222,
              "#7201a8"
             ],
             [
              0.3333333333333333,
              "#9c179e"
             ],
             [
              0.4444444444444444,
              "#bd3786"
             ],
             [
              0.5555555555555556,
              "#d8576b"
             ],
             [
              0.6666666666666666,
              "#ed7953"
             ],
             [
              0.7777777777777778,
              "#fb9f3a"
             ],
             [
              0.8888888888888888,
              "#fdca26"
             ],
             [
              1,
              "#f0f921"
             ]
            ],
            "type": "surface"
           }
          ],
          "table": [
           {
            "cells": {
             "fill": {
              "color": "#EBF0F8"
             },
             "line": {
              "color": "white"
             }
            },
            "header": {
             "fill": {
              "color": "#C8D4E3"
             },
             "line": {
              "color": "white"
             }
            },
            "type": "table"
           }
          ]
         },
         "layout": {
          "annotationdefaults": {
           "arrowcolor": "#2a3f5f",
           "arrowhead": 0,
           "arrowwidth": 1
          },
          "autotypenumbers": "strict",
          "coloraxis": {
           "colorbar": {
            "outlinewidth": 0,
            "ticks": ""
           }
          },
          "colorscale": {
           "diverging": [
            [
             0,
             "#8e0152"
            ],
            [
             0.1,
             "#c51b7d"
            ],
            [
             0.2,
             "#de77ae"
            ],
            [
             0.3,
             "#f1b6da"
            ],
            [
             0.4,
             "#fde0ef"
            ],
            [
             0.5,
             "#f7f7f7"
            ],
            [
             0.6,
             "#e6f5d0"
            ],
            [
             0.7,
             "#b8e186"
            ],
            [
             0.8,
             "#7fbc41"
            ],
            [
             0.9,
             "#4d9221"
            ],
            [
             1,
             "#276419"
            ]
           ],
           "sequential": [
            [
             0,
             "#0d0887"
            ],
            [
             0.1111111111111111,
             "#46039f"
            ],
            [
             0.2222222222222222,
             "#7201a8"
            ],
            [
             0.3333333333333333,
             "#9c179e"
            ],
            [
             0.4444444444444444,
             "#bd3786"
            ],
            [
             0.5555555555555556,
             "#d8576b"
            ],
            [
             0.6666666666666666,
             "#ed7953"
            ],
            [
             0.7777777777777778,
             "#fb9f3a"
            ],
            [
             0.8888888888888888,
             "#fdca26"
            ],
            [
             1,
             "#f0f921"
            ]
           ],
           "sequentialminus": [
            [
             0,
             "#0d0887"
            ],
            [
             0.1111111111111111,
             "#46039f"
            ],
            [
             0.2222222222222222,
             "#7201a8"
            ],
            [
             0.3333333333333333,
             "#9c179e"
            ],
            [
             0.4444444444444444,
             "#bd3786"
            ],
            [
             0.5555555555555556,
             "#d8576b"
            ],
            [
             0.6666666666666666,
             "#ed7953"
            ],
            [
             0.7777777777777778,
             "#fb9f3a"
            ],
            [
             0.8888888888888888,
             "#fdca26"
            ],
            [
             1,
             "#f0f921"
            ]
           ]
          },
          "colorway": [
           "#636efa",
           "#EF553B",
           "#00cc96",
           "#ab63fa",
           "#FFA15A",
           "#19d3f3",
           "#FF6692",
           "#B6E880",
           "#FF97FF",
           "#FECB52"
          ],
          "font": {
           "color": "#2a3f5f"
          },
          "geo": {
           "bgcolor": "white",
           "lakecolor": "white",
           "landcolor": "#E5ECF6",
           "showlakes": true,
           "showland": true,
           "subunitcolor": "white"
          },
          "hoverlabel": {
           "align": "left"
          },
          "hovermode": "closest",
          "mapbox": {
           "style": "light"
          },
          "paper_bgcolor": "white",
          "plot_bgcolor": "#E5ECF6",
          "polar": {
           "angularaxis": {
            "gridcolor": "white",
            "linecolor": "white",
            "ticks": ""
           },
           "bgcolor": "#E5ECF6",
           "radialaxis": {
            "gridcolor": "white",
            "linecolor": "white",
            "ticks": ""
           }
          },
          "scene": {
           "xaxis": {
            "backgroundcolor": "#E5ECF6",
            "gridcolor": "white",
            "gridwidth": 2,
            "linecolor": "white",
            "showbackground": true,
            "ticks": "",
            "zerolinecolor": "white"
           },
           "yaxis": {
            "backgroundcolor": "#E5ECF6",
            "gridcolor": "white",
            "gridwidth": 2,
            "linecolor": "white",
            "showbackground": true,
            "ticks": "",
            "zerolinecolor": "white"
           },
           "zaxis": {
            "backgroundcolor": "#E5ECF6",
            "gridcolor": "white",
            "gridwidth": 2,
            "linecolor": "white",
            "showbackground": true,
            "ticks": "",
            "zerolinecolor": "white"
           }
          },
          "shapedefaults": {
           "line": {
            "color": "#2a3f5f"
           }
          },
          "ternary": {
           "aaxis": {
            "gridcolor": "white",
            "linecolor": "white",
            "ticks": ""
           },
           "baxis": {
            "gridcolor": "white",
            "linecolor": "white",
            "ticks": ""
           },
           "bgcolor": "#E5ECF6",
           "caxis": {
            "gridcolor": "white",
            "linecolor": "white",
            "ticks": ""
           }
          },
          "title": {
           "x": 0.05
          },
          "xaxis": {
           "automargin": true,
           "gridcolor": "white",
           "linecolor": "white",
           "ticks": "",
           "title": {
            "standoff": 15
           },
           "zerolinecolor": "white",
           "zerolinewidth": 2
          },
          "yaxis": {
           "automargin": true,
           "gridcolor": "white",
           "linecolor": "white",
           "ticks": "",
           "title": {
            "standoff": 15
           },
           "zerolinecolor": "white",
           "zerolinewidth": 2
          }
         }
        },
        "title": {
         "text": "Proporción de longitud por tipo de ducto y empresa informante"
        },
        "xaxis": {
         "anchor": "y",
         "domain": [
          0,
          1
         ],
         "ticksuffix": "%",
         "title": {
          "text": "Porcentaje"
         }
        },
        "yaxis": {
         "anchor": "x",
         "domain": [
          0,
          1
         ],
         "title": {
          "text": "Empresa informante"
         }
        }
       }
      },
      "text/html": [
       "<div>                            <div id=\"626c41a3-3040-4244-8f95-58b978c23eb0\" class=\"plotly-graph-div\" style=\"height:600px; width:100%;\"></div>            <script type=\"text/javascript\">                require([\"plotly\"], function(Plotly) {                    window.PLOTLYENV=window.PLOTLYENV || {};                                    if (document.getElementById(\"626c41a3-3040-4244-8f95-58b978c23eb0\")) {                    Plotly.newPlot(                        \"626c41a3-3040-4244-8f95-58b978c23eb0\",                        [{\"alignmentgroup\":\"True\",\"hovertemplate\":\"tipo_tramo=AEREO<br>Porcentaje de longitud=%{text}<br>empresa_informante=%{y}<extra></extra>\",\"legendgroup\":\"AEREO\",\"marker\":{\"color\":\"#636efa\",\"pattern\":{\"shape\":\"\"}},\"name\":\"AEREO\",\"offsetgroup\":\"AEREO\",\"orientation\":\"h\",\"showlegend\":true,\"text\":[100.0,100.0,100.0,50.09456738299863,28.089678670386604,39.61023551267171,51.12736413284398,67.83048332278344],\"textposition\":\"inside\",\"x\":[100.0,100.0,100.0,50.09456738299863,28.089678670386604,39.61023551267171,51.12736413284398,67.83048332278344],\"xaxis\":\"x\",\"y\":[\"CHEVRON ARGENTINA S.R.L.\",\"OILSTONE ENERGIA S.A.\",\"PETROLEOS SUDAMERICANOS S.A.\",\"PLUSPETROL ENERGY S.A.\",\"PLUSPETROL S.A.\",\"TECPETROL S.A.\",\"TOTAL AUSTRAL S.A.\",\"YPF S.A.\"],\"yaxis\":\"y\",\"type\":\"bar\",\"texttemplate\":\"%{text:.1f}%\"},{\"alignmentgroup\":\"True\",\"hovertemplate\":\"tipo_tramo=ENTERRADO<br>Porcentaje de longitud=%{text}<br>empresa_informante=%{y}<extra></extra>\",\"legendgroup\":\"ENTERRADO\",\"marker\":{\"color\":\"#EF553B\",\"pattern\":{\"shape\":\"\"}},\"name\":\"ENTERRADO\",\"offsetgroup\":\"ENTERRADO\",\"orientation\":\"h\",\"showlegend\":true,\"text\":[100.0,100.0,49.905432617001374,71.9103213296134,60.38976448732829,48.87263586715603,100.0,32.16951667721655],\"textposition\":\"inside\",\"x\":[100.0,100.0,49.905432617001374,71.9103213296134,60.38976448732829,48.87263586715603,100.0,32.16951667721655],\"xaxis\":\"x\",\"y\":[\"PAN AMERICAN ENERGY (SUCURSAL ARGENTINA) LLC\",\"PETROBRAS ARGENTINA S.A.\",\"PLUSPETROL ENERGY S.A.\",\"PLUSPETROL S.A.\",\"TECPETROL S.A.\",\"TOTAL AUSTRAL S.A.\",\"VISTA OIL & GAS ARGENTINA SAU\",\"YPF S.A.\"],\"yaxis\":\"y\",\"type\":\"bar\",\"texttemplate\":\"%{text:.1f}%\"}],                        {\"template\":{\"data\":{\"histogram2dcontour\":[{\"type\":\"histogram2dcontour\",\"colorbar\":{\"outlinewidth\":0,\"ticks\":\"\"},\"colorscale\":[[0.0,\"#0d0887\"],[0.1111111111111111,\"#46039f\"],[0.2222222222222222,\"#7201a8\"],[0.3333333333333333,\"#9c179e\"],[0.4444444444444444,\"#bd3786\"],[0.5555555555555556,\"#d8576b\"],[0.6666666666666666,\"#ed7953\"],[0.7777777777777778,\"#fb9f3a\"],[0.8888888888888888,\"#fdca26\"],[1.0,\"#f0f921\"]]}],\"choropleth\":[{\"type\":\"choropleth\",\"colorbar\":{\"outlinewidth\":0,\"ticks\":\"\"}}],\"histogram2d\":[{\"type\":\"histogram2d\",\"colorbar\":{\"outlinewidth\":0,\"ticks\":\"\"},\"colorscale\":[[0.0,\"#0d0887\"],[0.1111111111111111,\"#46039f\"],[0.2222222222222222,\"#7201a8\"],[0.3333333333333333,\"#9c179e\"],[0.4444444444444444,\"#bd3786\"],[0.5555555555555556,\"#d8576b\"],[0.6666666666666666,\"#ed7953\"],[0.7777777777777778,\"#fb9f3a\"],[0.8888888888888888,\"#fdca26\"],[1.0,\"#f0f921\"]]}],\"heatmap\":[{\"type\":\"heatmap\",\"colorbar\":{\"outlinewidth\":0,\"ticks\":\"\"},\"colorscale\":[[0.0,\"#0d0887\"],[0.1111111111111111,\"#46039f\"],[0.2222222222222222,\"#7201a8\"],[0.3333333333333333,\"#9c179e\"],[0.4444444444444444,\"#bd3786\"],[0.5555555555555556,\"#d8576b\"],[0.6666666666666666,\"#ed7953\"],[0.7777777777777778,\"#fb9f3a\"],[0.8888888888888888,\"#fdca26\"],[1.0,\"#f0f921\"]]}],\"heatmapgl\":[{\"type\":\"heatmapgl\",\"colorbar\":{\"outlinewidth\":0,\"ticks\":\"\"},\"colorscale\":[[0.0,\"#0d0887\"],[0.1111111111111111,\"#46039f\"],[0.2222222222222222,\"#7201a8\"],[0.3333333333333333,\"#9c179e\"],[0.4444444444444444,\"#bd3786\"],[0.5555555555555556,\"#d8576b\"],[0.6666666666666666,\"#ed7953\"],[0.7777777777777778,\"#fb9f3a\"],[0.8888888888888888,\"#fdca26\"],[1.0,\"#f0f921\"]]}],\"contourcarpet\":[{\"type\":\"contourcarpet\",\"colorbar\":{\"outlinewidth\":0,\"ticks\":\"\"}}],\"contour\":[{\"type\":\"contour\",\"colorbar\":{\"outlinewidth\":0,\"ticks\":\"\"},\"colorscale\":[[0.0,\"#0d0887\"],[0.1111111111111111,\"#46039f\"],[0.2222222222222222,\"#7201a8\"],[0.3333333333333333,\"#9c179e\"],[0.4444444444444444,\"#bd3786\"],[0.5555555555555556,\"#d8576b\"],[0.6666666666666666,\"#ed7953\"],[0.7777777777777778,\"#fb9f3a\"],[0.8888888888888888,\"#fdca26\"],[1.0,\"#f0f921\"]]}],\"surface\":[{\"type\":\"surface\",\"colorbar\":{\"outlinewidth\":0,\"ticks\":\"\"},\"colorscale\":[[0.0,\"#0d0887\"],[0.1111111111111111,\"#46039f\"],[0.2222222222222222,\"#7201a8\"],[0.3333333333333333,\"#9c179e\"],[0.4444444444444444,\"#bd3786\"],[0.5555555555555556,\"#d8576b\"],[0.6666666666666666,\"#ed7953\"],[0.7777777777777778,\"#fb9f3a\"],[0.8888888888888888,\"#fdca26\"],[1.0,\"#f0f921\"]]}],\"mesh3d\":[{\"type\":\"mesh3d\",\"colorbar\":{\"outlinewidth\":0,\"ticks\":\"\"}}],\"scatter\":[{\"fillpattern\":{\"fillmode\":\"overlay\",\"size\":10,\"solidity\":0.2},\"type\":\"scatter\"}],\"parcoords\":[{\"type\":\"parcoords\",\"line\":{\"colorbar\":{\"outlinewidth\":0,\"ticks\":\"\"}}}],\"scatterpolargl\":[{\"type\":\"scatterpolargl\",\"marker\":{\"colorbar\":{\"outlinewidth\":0,\"ticks\":\"\"}}}],\"bar\":[{\"error_x\":{\"color\":\"#2a3f5f\"},\"error_y\":{\"color\":\"#2a3f5f\"},\"marker\":{\"line\":{\"color\":\"#E5ECF6\",\"width\":0.5},\"pattern\":{\"fillmode\":\"overlay\",\"size\":10,\"solidity\":0.2}},\"type\":\"bar\"}],\"scattergeo\":[{\"type\":\"scattergeo\",\"marker\":{\"colorbar\":{\"outlinewidth\":0,\"ticks\":\"\"}}}],\"scatterpolar\":[{\"type\":\"scatterpolar\",\"marker\":{\"colorbar\":{\"outlinewidth\":0,\"ticks\":\"\"}}}],\"histogram\":[{\"marker\":{\"pattern\":{\"fillmode\":\"overlay\",\"size\":10,\"solidity\":0.2}},\"type\":\"histogram\"}],\"scattergl\":[{\"type\":\"scattergl\",\"marker\":{\"colorbar\":{\"outlinewidth\":0,\"ticks\":\"\"}}}],\"scatter3d\":[{\"type\":\"scatter3d\",\"line\":{\"colorbar\":{\"outlinewidth\":0,\"ticks\":\"\"}},\"marker\":{\"colorbar\":{\"outlinewidth\":0,\"ticks\":\"\"}}}],\"scattermapbox\":[{\"type\":\"scattermapbox\",\"marker\":{\"colorbar\":{\"outlinewidth\":0,\"ticks\":\"\"}}}],\"scatterternary\":[{\"type\":\"scatterternary\",\"marker\":{\"colorbar\":{\"outlinewidth\":0,\"ticks\":\"\"}}}],\"scattercarpet\":[{\"type\":\"scattercarpet\",\"marker\":{\"colorbar\":{\"outlinewidth\":0,\"ticks\":\"\"}}}],\"carpet\":[{\"aaxis\":{\"endlinecolor\":\"#2a3f5f\",\"gridcolor\":\"white\",\"linecolor\":\"white\",\"minorgridcolor\":\"white\",\"startlinecolor\":\"#2a3f5f\"},\"baxis\":{\"endlinecolor\":\"#2a3f5f\",\"gridcolor\":\"white\",\"linecolor\":\"white\",\"minorgridcolor\":\"white\",\"startlinecolor\":\"#2a3f5f\"},\"type\":\"carpet\"}],\"table\":[{\"cells\":{\"fill\":{\"color\":\"#EBF0F8\"},\"line\":{\"color\":\"white\"}},\"header\":{\"fill\":{\"color\":\"#C8D4E3\"},\"line\":{\"color\":\"white\"}},\"type\":\"table\"}],\"barpolar\":[{\"marker\":{\"line\":{\"color\":\"#E5ECF6\",\"width\":0.5},\"pattern\":{\"fillmode\":\"overlay\",\"size\":10,\"solidity\":0.2}},\"type\":\"barpolar\"}],\"pie\":[{\"automargin\":true,\"type\":\"pie\"}]},\"layout\":{\"autotypenumbers\":\"strict\",\"colorway\":[\"#636efa\",\"#EF553B\",\"#00cc96\",\"#ab63fa\",\"#FFA15A\",\"#19d3f3\",\"#FF6692\",\"#B6E880\",\"#FF97FF\",\"#FECB52\"],\"font\":{\"color\":\"#2a3f5f\"},\"hovermode\":\"closest\",\"hoverlabel\":{\"align\":\"left\"},\"paper_bgcolor\":\"white\",\"plot_bgcolor\":\"#E5ECF6\",\"polar\":{\"bgcolor\":\"#E5ECF6\",\"angularaxis\":{\"gridcolor\":\"white\",\"linecolor\":\"white\",\"ticks\":\"\"},\"radialaxis\":{\"gridcolor\":\"white\",\"linecolor\":\"white\",\"ticks\":\"\"}},\"ternary\":{\"bgcolor\":\"#E5ECF6\",\"aaxis\":{\"gridcolor\":\"white\",\"linecolor\":\"white\",\"ticks\":\"\"},\"baxis\":{\"gridcolor\":\"white\",\"linecolor\":\"white\",\"ticks\":\"\"},\"caxis\":{\"gridcolor\":\"white\",\"linecolor\":\"white\",\"ticks\":\"\"}},\"coloraxis\":{\"colorbar\":{\"outlinewidth\":0,\"ticks\":\"\"}},\"colorscale\":{\"sequential\":[[0.0,\"#0d0887\"],[0.1111111111111111,\"#46039f\"],[0.2222222222222222,\"#7201a8\"],[0.3333333333333333,\"#9c179e\"],[0.4444444444444444,\"#bd3786\"],[0.5555555555555556,\"#d8576b\"],[0.6666666666666666,\"#ed7953\"],[0.7777777777777778,\"#fb9f3a\"],[0.8888888888888888,\"#fdca26\"],[1.0,\"#f0f921\"]],\"sequentialminus\":[[0.0,\"#0d0887\"],[0.1111111111111111,\"#46039f\"],[0.2222222222222222,\"#7201a8\"],[0.3333333333333333,\"#9c179e\"],[0.4444444444444444,\"#bd3786\"],[0.5555555555555556,\"#d8576b\"],[0.6666666666666666,\"#ed7953\"],[0.7777777777777778,\"#fb9f3a\"],[0.8888888888888888,\"#fdca26\"],[1.0,\"#f0f921\"]],\"diverging\":[[0,\"#8e0152\"],[0.1,\"#c51b7d\"],[0.2,\"#de77ae\"],[0.3,\"#f1b6da\"],[0.4,\"#fde0ef\"],[0.5,\"#f7f7f7\"],[0.6,\"#e6f5d0\"],[0.7,\"#b8e186\"],[0.8,\"#7fbc41\"],[0.9,\"#4d9221\"],[1,\"#276419\"]]},\"xaxis\":{\"gridcolor\":\"white\",\"linecolor\":\"white\",\"ticks\":\"\",\"title\":{\"standoff\":15},\"zerolinecolor\":\"white\",\"automargin\":true,\"zerolinewidth\":2},\"yaxis\":{\"gridcolor\":\"white\",\"linecolor\":\"white\",\"ticks\":\"\",\"title\":{\"standoff\":15},\"zerolinecolor\":\"white\",\"automargin\":true,\"zerolinewidth\":2},\"scene\":{\"xaxis\":{\"backgroundcolor\":\"#E5ECF6\",\"gridcolor\":\"white\",\"linecolor\":\"white\",\"showbackground\":true,\"ticks\":\"\",\"zerolinecolor\":\"white\",\"gridwidth\":2},\"yaxis\":{\"backgroundcolor\":\"#E5ECF6\",\"gridcolor\":\"white\",\"linecolor\":\"white\",\"showbackground\":true,\"ticks\":\"\",\"zerolinecolor\":\"white\",\"gridwidth\":2},\"zaxis\":{\"backgroundcolor\":\"#E5ECF6\",\"gridcolor\":\"white\",\"linecolor\":\"white\",\"showbackground\":true,\"ticks\":\"\",\"zerolinecolor\":\"white\",\"gridwidth\":2}},\"shapedefaults\":{\"line\":{\"color\":\"#2a3f5f\"}},\"annotationdefaults\":{\"arrowcolor\":\"#2a3f5f\",\"arrowhead\":0,\"arrowwidth\":1},\"geo\":{\"bgcolor\":\"white\",\"landcolor\":\"#E5ECF6\",\"subunitcolor\":\"white\",\"showland\":true,\"showlakes\":true,\"lakecolor\":\"white\"},\"title\":{\"x\":0.05},\"mapbox\":{\"style\":\"light\"}}},\"xaxis\":{\"anchor\":\"y\",\"domain\":[0.0,1.0],\"title\":{\"text\":\"Porcentaje\"},\"ticksuffix\":\"%\"},\"yaxis\":{\"anchor\":\"x\",\"domain\":[0.0,1.0],\"title\":{\"text\":\"Empresa informante\"}},\"legend\":{\"title\":{\"text\":\"tipo_tramo\"},\"tracegroupgap\":0},\"margin\":{\"t\":60},\"barmode\":\"stack\",\"title\":{\"text\":\"Proporci\\u00f3n de longitud por tipo de ducto y empresa informante\"},\"height\":600},                        {\"responsive\": true}                    ).then(function(){\n",
       "                            \n",
       "var gd = document.getElementById('626c41a3-3040-4244-8f95-58b978c23eb0');\n",
       "var x = new MutationObserver(function (mutations, observer) {{\n",
       "        var display = window.getComputedStyle(gd).display;\n",
       "        if (!display || display === 'none') {{\n",
       "            console.log([gd, 'removed!']);\n",
       "            Plotly.purge(gd);\n",
       "            observer.disconnect();\n",
       "        }}\n",
       "}});\n",
       "\n",
       "// Listen for the removal of the full notebook cells\n",
       "var notebookContainer = gd.closest('#notebook-container');\n",
       "if (notebookContainer) {{\n",
       "    x.observe(notebookContainer, {childList: true});\n",
       "}}\n",
       "\n",
       "// Listen for the clearing of the current output cell\n",
       "var outputEl = gd.closest('.output');\n",
       "if (outputEl) {{\n",
       "    x.observe(outputEl, {childList: true});\n",
       "}}\n",
       "\n",
       "                        })                };                });            </script>        </div>"
      ]
     },
     "metadata": {},
     "output_type": "display_data"
    }
   ],
   "source": [
    "df_grouped = df_hidro_trocal.groupby(['empresa_informante', 'tipo_tramo']).sum().reset_index()\n",
    "df_grouped = df_grouped.drop(columns=[\"du\",\"trdu\",\"tipo\",\"prof\",\"material\",\"revestim\",\"diametro\",\"geojson\",\"troncal\"])\n",
    "df_grouped['longitud_total'] = df_grouped.groupby('empresa_informante')['longitud'].transform('sum')\n",
    "df_grouped['longitud_pct'] = df_grouped['longitud'] / df_grouped['longitud_total'] * 100\n",
    "\n",
    "fig = px.bar(df_grouped, y=\"empresa_informante\", x=\"longitud_pct\", color=\"tipo_tramo\", orientation=\"h\",\n",
    "             labels={'longitud_pct':'Porcentaje de longitud'}, text='longitud_pct')\n",
    "\n",
    "fig.update_traces(texttemplate='%{text:.1f}%', textposition='inside')\n",
    "fig.update_layout(\n",
    "    barmode='stack',\n",
    "    xaxis=dict(title='Porcentaje', ticksuffix='%'),\n",
    "    title='Proporción de longitud por tipo de ducto y empresa informante',\n",
    "    height=600,\n",
    "    yaxis=dict(title='Empresa informante')\n",
    ")\n",
    "\n",
    "fig.write_html(\"Proporción en longitud por tipo de tramo y empresa informante.html\")\n",
    "fig.show()"
   ]
  },
  {
   "cell_type": "code",
   "execution_count": 18,
   "id": "f15961ac",
   "metadata": {},
   "outputs": [],
   "source": [
    "df_hidro_troncal = df_hidro[df_hidro[\"diametro\"] >= 20]\n",
    "df_hidro_troncal['deciles'] = pd.qcut(df_hidro_troncal['longitud'], q=10, labels=False)"
   ]
  },
  {
   "cell_type": "code",
   "execution_count": 19,
   "id": "5df1ea6b",
   "metadata": {},
   "outputs": [],
   "source": [
    "df_grouped_2 = df_hidro_troncal.groupby(['empresa_informante',\"deciles\",\"tipo_tramo\"]).sum().reset_index()\n",
    "df_grouped_2 = df_grouped_2.drop(columns=[\"du\",\"trdu\",\"tipo\",\"prof\",\"material\",\"revestim\",\"diametro\",\"geojson\",\"troncal\"])"
   ]
  },
  {
   "cell_type": "code",
   "execution_count": 34,
   "id": "7ae6b629",
   "metadata": {
    "scrolled": true
   },
   "outputs": [
    {
     "data": {
      "application/vnd.plotly.v1+json": {
       "config": {
        "plotlyServerURL": "https://plot.ly"
       },
       "data": [
        {
         "link": {
          "source": [
           0,
           1,
           1,
           1,
           1,
           1,
           1,
           1,
           1,
           2,
           2,
           2,
           2,
           2,
           2,
           2,
           2,
           2,
           2,
           3,
           3,
           3,
           4,
           4,
           4,
           4,
           4,
           4,
           4,
           5,
           5,
           6,
           6,
           6,
           6,
           7,
           7,
           7,
           7,
           7,
           7,
           7,
           7,
           7,
           7,
           7,
           8,
           8,
           8,
           9,
           10,
           10,
           10,
           10,
           10,
           10,
           10,
           10,
           10,
           10,
           10,
           10,
           10,
           10,
           10,
           10,
           10,
           10,
           10,
           10,
           21,
           21,
           21,
           21,
           21,
           21,
           21,
           21,
           21,
           22,
           22,
           22,
           22,
           22,
           22,
           22,
           22,
           22,
           22,
           22,
           22,
           22,
           21,
           21,
           21,
           21,
           21,
           21,
           21,
           21,
           22,
           21,
           22,
           21,
           22,
           21,
           22,
           21,
           21,
           21,
           22,
           21,
           22,
           21,
           21,
           22,
           22,
           21,
           22,
           22,
           21,
           22,
           21,
           22,
           21,
           22,
           21,
           22,
           21,
           22,
           21,
           22,
           21,
           22,
           21,
           22,
           21,
           22,
           21,
           22
          ],
          "target": [
           21,
           21,
           21,
           21,
           21,
           21,
           21,
           21,
           21,
           22,
           22,
           22,
           22,
           22,
           22,
           22,
           22,
           22,
           22,
           22,
           22,
           22,
           21,
           21,
           21,
           21,
           21,
           21,
           21,
           21,
           22,
           21,
           22,
           21,
           22,
           21,
           22,
           21,
           21,
           21,
           22,
           21,
           22,
           21,
           21,
           22,
           22,
           21,
           22,
           22,
           21,
           22,
           21,
           22,
           21,
           22,
           21,
           22,
           21,
           22,
           21,
           22,
           21,
           22,
           21,
           22,
           21,
           22,
           21,
           22,
           11,
           12,
           11,
           13,
           14,
           15,
           16,
           17,
           18,
           19,
           12,
           11,
           13,
           14,
           15,
           16,
           17,
           20,
           18,
           15,
           17,
           20,
           11,
           13,
           14,
           15,
           16,
           17,
           20,
           18,
           18,
           11,
           11,
           17,
           18,
           12,
           12,
           11,
           14,
           16,
           16,
           17,
           17,
           20,
           18,
           18,
           16,
           18,
           18,
           17,
           19,
           19,
           12,
           12,
           11,
           11,
           13,
           13,
           14,
           14,
           15,
           15,
           16,
           16,
           17,
           17,
           20,
           20,
           18,
           18
          ],
          "value": [
           0.085900607374049,
           0.3611208789663237,
           2.3735153883315845,
           8.870371704894985,
           9.903987575283551,
           11.608087703653645,
           10.477213149652325,
           3.712865806278773,
           45.64995176238919,
           0.0083945558402873,
           0.0956910011995272,
           0.8665891693322851,
           0.3280430593080126,
           8.033138068764337,
           18.14126964629811,
           25.19599608269291,
           45.15962917415097,
           214.50726573566442,
           110.03755359816577,
           1.6603801552650816,
           14.04157184984707,
           6.346285761969309,
           0.0615442929928378,
           0.6109249071073288,
           1.4148625783010402,
           4.872629046041327,
           16.248021155379966,
           3.74709733527213,
           6.612484120964182,
           32.74017851428442,
           32.61656618812809,
           0.0806895792223288,
           0.0561221473653694,
           4.891509920442352,
           12.672840256635997,
           0.0707915226859439,
           0.0484532764631724,
           0.1137784346887967,
           0.4199755965787981,
           2.8126769674486387,
           2.2256462049283097,
           4.538476295014545,
           21.24493341462867,
           18.2780440234498,
           62.52571449025484,
           111.80363446035858,
           2.961238314210025,
           237.86861688775403,
           224.41731903080336,
           10.750298857255025,
           0.07972570331373614,
           0.008078329574873599,
           0.4476583097148218,
           0.706136771708479,
           2.252811750711492,
           1.6724409526058488,
           8.796250077760002,
           3.7852331092285874,
           16.441500690239824,
           9.313830711687416,
           47.45467492930007,
           34.41536011625929,
           93.19574708519959,
           61.119404513113494,
           70.3466037147131,
           198.35174192199887,
           264.91870545678626,
           212.92996939517045,
           1123.908221961413,
           249.7236629714196,
           0.085900607374049,
           0.3611208789663237,
           2.3735153883315845,
           8.870371704894985,
           9.903987575283551,
           11.608087703653645,
           10.477213149652325,
           3.712865806278773,
           45.64995176238919,
           0.0083945558402873,
           0.0956910011995272,
           0.8665891693322851,
           0.3280430593080126,
           8.033138068764337,
           18.14126964629811,
           25.19599608269291,
           45.15962917415097,
           214.50726573566442,
           110.03755359816577,
           1.6603801552650816,
           14.04157184984707,
           6.346285761969309,
           0.0615442929928378,
           0.6109249071073288,
           1.4148625783010402,
           4.872629046041327,
           16.248021155379966,
           3.74709733527213,
           6.612484120964182,
           32.74017851428442,
           32.61656618812809,
           0.0806895792223288,
           0.0561221473653694,
           4.891509920442352,
           12.672840256635997,
           0.0707915226859439,
           0.0484532764631724,
           0.1137784346887967,
           0.4199755965787981,
           2.8126769674486387,
           2.2256462049283097,
           4.538476295014545,
           21.24493341462867,
           18.2780440234498,
           62.52571449025484,
           111.80363446035858,
           2.961238314210025,
           237.86861688775403,
           224.41731903080336,
           10.750298857255025,
           0.07972570331373614,
           0.008078329574873599,
           0.4476583097148218,
           0.706136771708479,
           2.252811750711492,
           1.6724409526058488,
           8.796250077760002,
           3.7852331092285874,
           16.441500690239824,
           9.313830711687416,
           47.45467492930007,
           34.41536011625929,
           93.19574708519959,
           61.119404513113494,
           70.3466037147131,
           198.35174192199887,
           264.91870545678626,
           212.92996939517045,
           1123.908221961413,
           249.7236629714196
          ]
         },
         "node": {
          "label": [
           "CHEVRON ARGENTINA S.R.L.",
           "OILSTONE ENERGIA S.A.",
           "PAN AMERICAN ENERGY (SUCURSAL ARGENTINA) LLC",
           "PETROBRAS ARGENTINA S.A.",
           "PETROLEOS SUDAMERICANOS S.A.",
           "PLUSPETROL ENERGY S.A.",
           "PLUSPETROL S.A.",
           "TECPETROL S.A.",
           "TOTAL AUSTRAL S.A.",
           "VISTA OIL & GAS ARGENTINA SAU",
           "YPF S.A.",
           2,
           1,
           3,
           4,
           5,
           6,
           7,
           9,
           0,
           8,
           "AEREO",
           "ENTERRADO"
          ]
         },
         "type": "sankey"
        }
       ],
       "layout": {
        "template": {
         "data": {
          "bar": [
           {
            "error_x": {
             "color": "#2a3f5f"
            },
            "error_y": {
             "color": "#2a3f5f"
            },
            "marker": {
             "line": {
              "color": "#E5ECF6",
              "width": 0.5
             },
             "pattern": {
              "fillmode": "overlay",
              "size": 10,
              "solidity": 0.2
             }
            },
            "type": "bar"
           }
          ],
          "barpolar": [
           {
            "marker": {
             "line": {
              "color": "#E5ECF6",
              "width": 0.5
             },
             "pattern": {
              "fillmode": "overlay",
              "size": 10,
              "solidity": 0.2
             }
            },
            "type": "barpolar"
           }
          ],
          "carpet": [
           {
            "aaxis": {
             "endlinecolor": "#2a3f5f",
             "gridcolor": "white",
             "linecolor": "white",
             "minorgridcolor": "white",
             "startlinecolor": "#2a3f5f"
            },
            "baxis": {
             "endlinecolor": "#2a3f5f",
             "gridcolor": "white",
             "linecolor": "white",
             "minorgridcolor": "white",
             "startlinecolor": "#2a3f5f"
            },
            "type": "carpet"
           }
          ],
          "choropleth": [
           {
            "colorbar": {
             "outlinewidth": 0,
             "ticks": ""
            },
            "type": "choropleth"
           }
          ],
          "contour": [
           {
            "colorbar": {
             "outlinewidth": 0,
             "ticks": ""
            },
            "colorscale": [
             [
              0,
              "#0d0887"
             ],
             [
              0.1111111111111111,
              "#46039f"
             ],
             [
              0.2222222222222222,
              "#7201a8"
             ],
             [
              0.3333333333333333,
              "#9c179e"
             ],
             [
              0.4444444444444444,
              "#bd3786"
             ],
             [
              0.5555555555555556,
              "#d8576b"
             ],
             [
              0.6666666666666666,
              "#ed7953"
             ],
             [
              0.7777777777777778,
              "#fb9f3a"
             ],
             [
              0.8888888888888888,
              "#fdca26"
             ],
             [
              1,
              "#f0f921"
             ]
            ],
            "type": "contour"
           }
          ],
          "contourcarpet": [
           {
            "colorbar": {
             "outlinewidth": 0,
             "ticks": ""
            },
            "type": "contourcarpet"
           }
          ],
          "heatmap": [
           {
            "colorbar": {
             "outlinewidth": 0,
             "ticks": ""
            },
            "colorscale": [
             [
              0,
              "#0d0887"
             ],
             [
              0.1111111111111111,
              "#46039f"
             ],
             [
              0.2222222222222222,
              "#7201a8"
             ],
             [
              0.3333333333333333,
              "#9c179e"
             ],
             [
              0.4444444444444444,
              "#bd3786"
             ],
             [
              0.5555555555555556,
              "#d8576b"
             ],
             [
              0.6666666666666666,
              "#ed7953"
             ],
             [
              0.7777777777777778,
              "#fb9f3a"
             ],
             [
              0.8888888888888888,
              "#fdca26"
             ],
             [
              1,
              "#f0f921"
             ]
            ],
            "type": "heatmap"
           }
          ],
          "heatmapgl": [
           {
            "colorbar": {
             "outlinewidth": 0,
             "ticks": ""
            },
            "colorscale": [
             [
              0,
              "#0d0887"
             ],
             [
              0.1111111111111111,
              "#46039f"
             ],
             [
              0.2222222222222222,
              "#7201a8"
             ],
             [
              0.3333333333333333,
              "#9c179e"
             ],
             [
              0.4444444444444444,
              "#bd3786"
             ],
             [
              0.5555555555555556,
              "#d8576b"
             ],
             [
              0.6666666666666666,
              "#ed7953"
             ],
             [
              0.7777777777777778,
              "#fb9f3a"
             ],
             [
              0.8888888888888888,
              "#fdca26"
             ],
             [
              1,
              "#f0f921"
             ]
            ],
            "type": "heatmapgl"
           }
          ],
          "histogram": [
           {
            "marker": {
             "pattern": {
              "fillmode": "overlay",
              "size": 10,
              "solidity": 0.2
             }
            },
            "type": "histogram"
           }
          ],
          "histogram2d": [
           {
            "colorbar": {
             "outlinewidth": 0,
             "ticks": ""
            },
            "colorscale": [
             [
              0,
              "#0d0887"
             ],
             [
              0.1111111111111111,
              "#46039f"
             ],
             [
              0.2222222222222222,
              "#7201a8"
             ],
             [
              0.3333333333333333,
              "#9c179e"
             ],
             [
              0.4444444444444444,
              "#bd3786"
             ],
             [
              0.5555555555555556,
              "#d8576b"
             ],
             [
              0.6666666666666666,
              "#ed7953"
             ],
             [
              0.7777777777777778,
              "#fb9f3a"
             ],
             [
              0.8888888888888888,
              "#fdca26"
             ],
             [
              1,
              "#f0f921"
             ]
            ],
            "type": "histogram2d"
           }
          ],
          "histogram2dcontour": [
           {
            "colorbar": {
             "outlinewidth": 0,
             "ticks": ""
            },
            "colorscale": [
             [
              0,
              "#0d0887"
             ],
             [
              0.1111111111111111,
              "#46039f"
             ],
             [
              0.2222222222222222,
              "#7201a8"
             ],
             [
              0.3333333333333333,
              "#9c179e"
             ],
             [
              0.4444444444444444,
              "#bd3786"
             ],
             [
              0.5555555555555556,
              "#d8576b"
             ],
             [
              0.6666666666666666,
              "#ed7953"
             ],
             [
              0.7777777777777778,
              "#fb9f3a"
             ],
             [
              0.8888888888888888,
              "#fdca26"
             ],
             [
              1,
              "#f0f921"
             ]
            ],
            "type": "histogram2dcontour"
           }
          ],
          "mesh3d": [
           {
            "colorbar": {
             "outlinewidth": 0,
             "ticks": ""
            },
            "type": "mesh3d"
           }
          ],
          "parcoords": [
           {
            "line": {
             "colorbar": {
              "outlinewidth": 0,
              "ticks": ""
             }
            },
            "type": "parcoords"
           }
          ],
          "pie": [
           {
            "automargin": true,
            "type": "pie"
           }
          ],
          "scatter": [
           {
            "fillpattern": {
             "fillmode": "overlay",
             "size": 10,
             "solidity": 0.2
            },
            "type": "scatter"
           }
          ],
          "scatter3d": [
           {
            "line": {
             "colorbar": {
              "outlinewidth": 0,
              "ticks": ""
             }
            },
            "marker": {
             "colorbar": {
              "outlinewidth": 0,
              "ticks": ""
             }
            },
            "type": "scatter3d"
           }
          ],
          "scattercarpet": [
           {
            "marker": {
             "colorbar": {
              "outlinewidth": 0,
              "ticks": ""
             }
            },
            "type": "scattercarpet"
           }
          ],
          "scattergeo": [
           {
            "marker": {
             "colorbar": {
              "outlinewidth": 0,
              "ticks": ""
             }
            },
            "type": "scattergeo"
           }
          ],
          "scattergl": [
           {
            "marker": {
             "colorbar": {
              "outlinewidth": 0,
              "ticks": ""
             }
            },
            "type": "scattergl"
           }
          ],
          "scattermapbox": [
           {
            "marker": {
             "colorbar": {
              "outlinewidth": 0,
              "ticks": ""
             }
            },
            "type": "scattermapbox"
           }
          ],
          "scatterpolar": [
           {
            "marker": {
             "colorbar": {
              "outlinewidth": 0,
              "ticks": ""
             }
            },
            "type": "scatterpolar"
           }
          ],
          "scatterpolargl": [
           {
            "marker": {
             "colorbar": {
              "outlinewidth": 0,
              "ticks": ""
             }
            },
            "type": "scatterpolargl"
           }
          ],
          "scatterternary": [
           {
            "marker": {
             "colorbar": {
              "outlinewidth": 0,
              "ticks": ""
             }
            },
            "type": "scatterternary"
           }
          ],
          "surface": [
           {
            "colorbar": {
             "outlinewidth": 0,
             "ticks": ""
            },
            "colorscale": [
             [
              0,
              "#0d0887"
             ],
             [
              0.1111111111111111,
              "#46039f"
             ],
             [
              0.2222222222222222,
              "#7201a8"
             ],
             [
              0.3333333333333333,
              "#9c179e"
             ],
             [
              0.4444444444444444,
              "#bd3786"
             ],
             [
              0.5555555555555556,
              "#d8576b"
             ],
             [
              0.6666666666666666,
              "#ed7953"
             ],
             [
              0.7777777777777778,
              "#fb9f3a"
             ],
             [
              0.8888888888888888,
              "#fdca26"
             ],
             [
              1,
              "#f0f921"
             ]
            ],
            "type": "surface"
           }
          ],
          "table": [
           {
            "cells": {
             "fill": {
              "color": "#EBF0F8"
             },
             "line": {
              "color": "white"
             }
            },
            "header": {
             "fill": {
              "color": "#C8D4E3"
             },
             "line": {
              "color": "white"
             }
            },
            "type": "table"
           }
          ]
         },
         "layout": {
          "annotationdefaults": {
           "arrowcolor": "#2a3f5f",
           "arrowhead": 0,
           "arrowwidth": 1
          },
          "autotypenumbers": "strict",
          "coloraxis": {
           "colorbar": {
            "outlinewidth": 0,
            "ticks": ""
           }
          },
          "colorscale": {
           "diverging": [
            [
             0,
             "#8e0152"
            ],
            [
             0.1,
             "#c51b7d"
            ],
            [
             0.2,
             "#de77ae"
            ],
            [
             0.3,
             "#f1b6da"
            ],
            [
             0.4,
             "#fde0ef"
            ],
            [
             0.5,
             "#f7f7f7"
            ],
            [
             0.6,
             "#e6f5d0"
            ],
            [
             0.7,
             "#b8e186"
            ],
            [
             0.8,
             "#7fbc41"
            ],
            [
             0.9,
             "#4d9221"
            ],
            [
             1,
             "#276419"
            ]
           ],
           "sequential": [
            [
             0,
             "#0d0887"
            ],
            [
             0.1111111111111111,
             "#46039f"
            ],
            [
             0.2222222222222222,
             "#7201a8"
            ],
            [
             0.3333333333333333,
             "#9c179e"
            ],
            [
             0.4444444444444444,
             "#bd3786"
            ],
            [
             0.5555555555555556,
             "#d8576b"
            ],
            [
             0.6666666666666666,
             "#ed7953"
            ],
            [
             0.7777777777777778,
             "#fb9f3a"
            ],
            [
             0.8888888888888888,
             "#fdca26"
            ],
            [
             1,
             "#f0f921"
            ]
           ],
           "sequentialminus": [
            [
             0,
             "#0d0887"
            ],
            [
             0.1111111111111111,
             "#46039f"
            ],
            [
             0.2222222222222222,
             "#7201a8"
            ],
            [
             0.3333333333333333,
             "#9c179e"
            ],
            [
             0.4444444444444444,
             "#bd3786"
            ],
            [
             0.5555555555555556,
             "#d8576b"
            ],
            [
             0.6666666666666666,
             "#ed7953"
            ],
            [
             0.7777777777777778,
             "#fb9f3a"
            ],
            [
             0.8888888888888888,
             "#fdca26"
            ],
            [
             1,
             "#f0f921"
            ]
           ]
          },
          "colorway": [
           "#636efa",
           "#EF553B",
           "#00cc96",
           "#ab63fa",
           "#FFA15A",
           "#19d3f3",
           "#FF6692",
           "#B6E880",
           "#FF97FF",
           "#FECB52"
          ],
          "font": {
           "color": "#2a3f5f"
          },
          "geo": {
           "bgcolor": "white",
           "lakecolor": "white",
           "landcolor": "#E5ECF6",
           "showlakes": true,
           "showland": true,
           "subunitcolor": "white"
          },
          "hoverlabel": {
           "align": "left"
          },
          "hovermode": "closest",
          "mapbox": {
           "style": "light"
          },
          "paper_bgcolor": "white",
          "plot_bgcolor": "#E5ECF6",
          "polar": {
           "angularaxis": {
            "gridcolor": "white",
            "linecolor": "white",
            "ticks": ""
           },
           "bgcolor": "#E5ECF6",
           "radialaxis": {
            "gridcolor": "white",
            "linecolor": "white",
            "ticks": ""
           }
          },
          "scene": {
           "xaxis": {
            "backgroundcolor": "#E5ECF6",
            "gridcolor": "white",
            "gridwidth": 2,
            "linecolor": "white",
            "showbackground": true,
            "ticks": "",
            "zerolinecolor": "white"
           },
           "yaxis": {
            "backgroundcolor": "#E5ECF6",
            "gridcolor": "white",
            "gridwidth": 2,
            "linecolor": "white",
            "showbackground": true,
            "ticks": "",
            "zerolinecolor": "white"
           },
           "zaxis": {
            "backgroundcolor": "#E5ECF6",
            "gridcolor": "white",
            "gridwidth": 2,
            "linecolor": "white",
            "showbackground": true,
            "ticks": "",
            "zerolinecolor": "white"
           }
          },
          "shapedefaults": {
           "line": {
            "color": "#2a3f5f"
           }
          },
          "ternary": {
           "aaxis": {
            "gridcolor": "white",
            "linecolor": "white",
            "ticks": ""
           },
           "baxis": {
            "gridcolor": "white",
            "linecolor": "white",
            "ticks": ""
           },
           "bgcolor": "#E5ECF6",
           "caxis": {
            "gridcolor": "white",
            "linecolor": "white",
            "ticks": ""
           }
          },
          "title": {
           "x": 0.05
          },
          "xaxis": {
           "automargin": true,
           "gridcolor": "white",
           "linecolor": "white",
           "ticks": "",
           "title": {
            "standoff": 15
           },
           "zerolinecolor": "white",
           "zerolinewidth": 2
          },
          "yaxis": {
           "automargin": true,
           "gridcolor": "white",
           "linecolor": "white",
           "ticks": "",
           "title": {
            "standoff": 15
           },
           "zerolinecolor": "white",
           "zerolinewidth": 2
          }
         }
        },
        "title": {
         "text": "Empresa informante - Tipo de ducto - Longitud en deciles"
        }
       }
      },
      "text/html": [
       "<div>                            <div id=\"931d697e-d4ea-4da1-afa3-d1976fd38e7f\" class=\"plotly-graph-div\" style=\"height:525px; width:100%;\"></div>            <script type=\"text/javascript\">                require([\"plotly\"], function(Plotly) {                    window.PLOTLYENV=window.PLOTLYENV || {};                                    if (document.getElementById(\"931d697e-d4ea-4da1-afa3-d1976fd38e7f\")) {                    Plotly.newPlot(                        \"931d697e-d4ea-4da1-afa3-d1976fd38e7f\",                        [{\"link\":{\"source\":[0,1,1,1,1,1,1,1,1,2,2,2,2,2,2,2,2,2,2,3,3,3,4,4,4,4,4,4,4,5,5,6,6,6,6,7,7,7,7,7,7,7,7,7,7,7,8,8,8,9,10,10,10,10,10,10,10,10,10,10,10,10,10,10,10,10,10,10,10,10,21,21,21,21,21,21,21,21,21,22,22,22,22,22,22,22,22,22,22,22,22,22,21,21,21,21,21,21,21,21,22,21,22,21,22,21,22,21,21,21,22,21,22,21,21,22,22,21,22,22,21,22,21,22,21,22,21,22,21,22,21,22,21,22,21,22,21,22,21,22],\"target\":[21,21,21,21,21,21,21,21,21,22,22,22,22,22,22,22,22,22,22,22,22,22,21,21,21,21,21,21,21,21,22,21,22,21,22,21,22,21,21,21,22,21,22,21,21,22,22,21,22,22,21,22,21,22,21,22,21,22,21,22,21,22,21,22,21,22,21,22,21,22,11,12,11,13,14,15,16,17,18,19,12,11,13,14,15,16,17,20,18,15,17,20,11,13,14,15,16,17,20,18,18,11,11,17,18,12,12,11,14,16,16,17,17,20,18,18,16,18,18,17,19,19,12,12,11,11,13,13,14,14,15,15,16,16,17,17,20,20,18,18],\"value\":[0.085900607374049,0.3611208789663237,2.3735153883315845,8.870371704894985,9.903987575283551,11.608087703653645,10.477213149652325,3.712865806278773,45.64995176238919,0.0083945558402873,0.0956910011995272,0.8665891693322851,0.3280430593080126,8.033138068764337,18.14126964629811,25.19599608269291,45.15962917415097,214.50726573566442,110.03755359816577,1.6603801552650816,14.04157184984707,6.346285761969309,0.0615442929928378,0.6109249071073288,1.4148625783010402,4.872629046041327,16.248021155379966,3.74709733527213,6.612484120964182,32.74017851428442,32.61656618812809,0.0806895792223288,0.0561221473653694,4.891509920442352,12.672840256635997,0.0707915226859439,0.0484532764631724,0.1137784346887967,0.4199755965787981,2.8126769674486387,2.2256462049283097,4.538476295014545,21.24493341462867,18.2780440234498,62.52571449025484,111.80363446035858,2.961238314210025,237.86861688775403,224.41731903080336,10.750298857255025,0.07972570331373614,0.008078329574873599,0.4476583097148218,0.706136771708479,2.252811750711492,1.6724409526058488,8.796250077760002,3.7852331092285874,16.441500690239824,9.313830711687416,47.45467492930007,34.41536011625929,93.19574708519959,61.119404513113494,70.3466037147131,198.35174192199887,264.91870545678626,212.92996939517045,1123.908221961413,249.7236629714196,0.085900607374049,0.3611208789663237,2.3735153883315845,8.870371704894985,9.903987575283551,11.608087703653645,10.477213149652325,3.712865806278773,45.64995176238919,0.0083945558402873,0.0956910011995272,0.8665891693322851,0.3280430593080126,8.033138068764337,18.14126964629811,25.19599608269291,45.15962917415097,214.50726573566442,110.03755359816577,1.6603801552650816,14.04157184984707,6.346285761969309,0.0615442929928378,0.6109249071073288,1.4148625783010402,4.872629046041327,16.248021155379966,3.74709733527213,6.612484120964182,32.74017851428442,32.61656618812809,0.0806895792223288,0.0561221473653694,4.891509920442352,12.672840256635997,0.0707915226859439,0.0484532764631724,0.1137784346887967,0.4199755965787981,2.8126769674486387,2.2256462049283097,4.538476295014545,21.24493341462867,18.2780440234498,62.52571449025484,111.80363446035858,2.961238314210025,237.86861688775403,224.41731903080336,10.750298857255025,0.07972570331373614,0.008078329574873599,0.4476583097148218,0.706136771708479,2.252811750711492,1.6724409526058488,8.796250077760002,3.7852331092285874,16.441500690239824,9.313830711687416,47.45467492930007,34.41536011625929,93.19574708519959,61.119404513113494,70.3466037147131,198.35174192199887,264.91870545678626,212.92996939517045,1123.908221961413,249.7236629714196]},\"node\":{\"label\":[\"CHEVRON ARGENTINA S.R.L.\",\"OILSTONE ENERGIA S.A.\",\"PAN AMERICAN ENERGY (SUCURSAL ARGENTINA) LLC\",\"PETROBRAS ARGENTINA S.A.\",\"PETROLEOS SUDAMERICANOS S.A.\",\"PLUSPETROL ENERGY S.A.\",\"PLUSPETROL S.A.\",\"TECPETROL S.A.\",\"TOTAL AUSTRAL S.A.\",\"VISTA OIL & GAS ARGENTINA SAU\",\"YPF S.A.\",2,1,3,4,5,6,7,9,0,8,\"AEREO\",\"ENTERRADO\"]},\"type\":\"sankey\"}],                        {\"template\":{\"data\":{\"histogram2dcontour\":[{\"type\":\"histogram2dcontour\",\"colorbar\":{\"outlinewidth\":0,\"ticks\":\"\"},\"colorscale\":[[0.0,\"#0d0887\"],[0.1111111111111111,\"#46039f\"],[0.2222222222222222,\"#7201a8\"],[0.3333333333333333,\"#9c179e\"],[0.4444444444444444,\"#bd3786\"],[0.5555555555555556,\"#d8576b\"],[0.6666666666666666,\"#ed7953\"],[0.7777777777777778,\"#fb9f3a\"],[0.8888888888888888,\"#fdca26\"],[1.0,\"#f0f921\"]]}],\"choropleth\":[{\"type\":\"choropleth\",\"colorbar\":{\"outlinewidth\":0,\"ticks\":\"\"}}],\"histogram2d\":[{\"type\":\"histogram2d\",\"colorbar\":{\"outlinewidth\":0,\"ticks\":\"\"},\"colorscale\":[[0.0,\"#0d0887\"],[0.1111111111111111,\"#46039f\"],[0.2222222222222222,\"#7201a8\"],[0.3333333333333333,\"#9c179e\"],[0.4444444444444444,\"#bd3786\"],[0.5555555555555556,\"#d8576b\"],[0.6666666666666666,\"#ed7953\"],[0.7777777777777778,\"#fb9f3a\"],[0.8888888888888888,\"#fdca26\"],[1.0,\"#f0f921\"]]}],\"heatmap\":[{\"type\":\"heatmap\",\"colorbar\":{\"outlinewidth\":0,\"ticks\":\"\"},\"colorscale\":[[0.0,\"#0d0887\"],[0.1111111111111111,\"#46039f\"],[0.2222222222222222,\"#7201a8\"],[0.3333333333333333,\"#9c179e\"],[0.4444444444444444,\"#bd3786\"],[0.5555555555555556,\"#d8576b\"],[0.6666666666666666,\"#ed7953\"],[0.7777777777777778,\"#fb9f3a\"],[0.8888888888888888,\"#fdca26\"],[1.0,\"#f0f921\"]]}],\"heatmapgl\":[{\"type\":\"heatmapgl\",\"colorbar\":{\"outlinewidth\":0,\"ticks\":\"\"},\"colorscale\":[[0.0,\"#0d0887\"],[0.1111111111111111,\"#46039f\"],[0.2222222222222222,\"#7201a8\"],[0.3333333333333333,\"#9c179e\"],[0.4444444444444444,\"#bd3786\"],[0.5555555555555556,\"#d8576b\"],[0.6666666666666666,\"#ed7953\"],[0.7777777777777778,\"#fb9f3a\"],[0.8888888888888888,\"#fdca26\"],[1.0,\"#f0f921\"]]}],\"contourcarpet\":[{\"type\":\"contourcarpet\",\"colorbar\":{\"outlinewidth\":0,\"ticks\":\"\"}}],\"contour\":[{\"type\":\"contour\",\"colorbar\":{\"outlinewidth\":0,\"ticks\":\"\"},\"colorscale\":[[0.0,\"#0d0887\"],[0.1111111111111111,\"#46039f\"],[0.2222222222222222,\"#7201a8\"],[0.3333333333333333,\"#9c179e\"],[0.4444444444444444,\"#bd3786\"],[0.5555555555555556,\"#d8576b\"],[0.6666666666666666,\"#ed7953\"],[0.7777777777777778,\"#fb9f3a\"],[0.8888888888888888,\"#fdca26\"],[1.0,\"#f0f921\"]]}],\"surface\":[{\"type\":\"surface\",\"colorbar\":{\"outlinewidth\":0,\"ticks\":\"\"},\"colorscale\":[[0.0,\"#0d0887\"],[0.1111111111111111,\"#46039f\"],[0.2222222222222222,\"#7201a8\"],[0.3333333333333333,\"#9c179e\"],[0.4444444444444444,\"#bd3786\"],[0.5555555555555556,\"#d8576b\"],[0.6666666666666666,\"#ed7953\"],[0.7777777777777778,\"#fb9f3a\"],[0.8888888888888888,\"#fdca26\"],[1.0,\"#f0f921\"]]}],\"mesh3d\":[{\"type\":\"mesh3d\",\"colorbar\":{\"outlinewidth\":0,\"ticks\":\"\"}}],\"scatter\":[{\"fillpattern\":{\"fillmode\":\"overlay\",\"size\":10,\"solidity\":0.2},\"type\":\"scatter\"}],\"parcoords\":[{\"type\":\"parcoords\",\"line\":{\"colorbar\":{\"outlinewidth\":0,\"ticks\":\"\"}}}],\"scatterpolargl\":[{\"type\":\"scatterpolargl\",\"marker\":{\"colorbar\":{\"outlinewidth\":0,\"ticks\":\"\"}}}],\"bar\":[{\"error_x\":{\"color\":\"#2a3f5f\"},\"error_y\":{\"color\":\"#2a3f5f\"},\"marker\":{\"line\":{\"color\":\"#E5ECF6\",\"width\":0.5},\"pattern\":{\"fillmode\":\"overlay\",\"size\":10,\"solidity\":0.2}},\"type\":\"bar\"}],\"scattergeo\":[{\"type\":\"scattergeo\",\"marker\":{\"colorbar\":{\"outlinewidth\":0,\"ticks\":\"\"}}}],\"scatterpolar\":[{\"type\":\"scatterpolar\",\"marker\":{\"colorbar\":{\"outlinewidth\":0,\"ticks\":\"\"}}}],\"histogram\":[{\"marker\":{\"pattern\":{\"fillmode\":\"overlay\",\"size\":10,\"solidity\":0.2}},\"type\":\"histogram\"}],\"scattergl\":[{\"type\":\"scattergl\",\"marker\":{\"colorbar\":{\"outlinewidth\":0,\"ticks\":\"\"}}}],\"scatter3d\":[{\"type\":\"scatter3d\",\"line\":{\"colorbar\":{\"outlinewidth\":0,\"ticks\":\"\"}},\"marker\":{\"colorbar\":{\"outlinewidth\":0,\"ticks\":\"\"}}}],\"scattermapbox\":[{\"type\":\"scattermapbox\",\"marker\":{\"colorbar\":{\"outlinewidth\":0,\"ticks\":\"\"}}}],\"scatterternary\":[{\"type\":\"scatterternary\",\"marker\":{\"colorbar\":{\"outlinewidth\":0,\"ticks\":\"\"}}}],\"scattercarpet\":[{\"type\":\"scattercarpet\",\"marker\":{\"colorbar\":{\"outlinewidth\":0,\"ticks\":\"\"}}}],\"carpet\":[{\"aaxis\":{\"endlinecolor\":\"#2a3f5f\",\"gridcolor\":\"white\",\"linecolor\":\"white\",\"minorgridcolor\":\"white\",\"startlinecolor\":\"#2a3f5f\"},\"baxis\":{\"endlinecolor\":\"#2a3f5f\",\"gridcolor\":\"white\",\"linecolor\":\"white\",\"minorgridcolor\":\"white\",\"startlinecolor\":\"#2a3f5f\"},\"type\":\"carpet\"}],\"table\":[{\"cells\":{\"fill\":{\"color\":\"#EBF0F8\"},\"line\":{\"color\":\"white\"}},\"header\":{\"fill\":{\"color\":\"#C8D4E3\"},\"line\":{\"color\":\"white\"}},\"type\":\"table\"}],\"barpolar\":[{\"marker\":{\"line\":{\"color\":\"#E5ECF6\",\"width\":0.5},\"pattern\":{\"fillmode\":\"overlay\",\"size\":10,\"solidity\":0.2}},\"type\":\"barpolar\"}],\"pie\":[{\"automargin\":true,\"type\":\"pie\"}]},\"layout\":{\"autotypenumbers\":\"strict\",\"colorway\":[\"#636efa\",\"#EF553B\",\"#00cc96\",\"#ab63fa\",\"#FFA15A\",\"#19d3f3\",\"#FF6692\",\"#B6E880\",\"#FF97FF\",\"#FECB52\"],\"font\":{\"color\":\"#2a3f5f\"},\"hovermode\":\"closest\",\"hoverlabel\":{\"align\":\"left\"},\"paper_bgcolor\":\"white\",\"plot_bgcolor\":\"#E5ECF6\",\"polar\":{\"bgcolor\":\"#E5ECF6\",\"angularaxis\":{\"gridcolor\":\"white\",\"linecolor\":\"white\",\"ticks\":\"\"},\"radialaxis\":{\"gridcolor\":\"white\",\"linecolor\":\"white\",\"ticks\":\"\"}},\"ternary\":{\"bgcolor\":\"#E5ECF6\",\"aaxis\":{\"gridcolor\":\"white\",\"linecolor\":\"white\",\"ticks\":\"\"},\"baxis\":{\"gridcolor\":\"white\",\"linecolor\":\"white\",\"ticks\":\"\"},\"caxis\":{\"gridcolor\":\"white\",\"linecolor\":\"white\",\"ticks\":\"\"}},\"coloraxis\":{\"colorbar\":{\"outlinewidth\":0,\"ticks\":\"\"}},\"colorscale\":{\"sequential\":[[0.0,\"#0d0887\"],[0.1111111111111111,\"#46039f\"],[0.2222222222222222,\"#7201a8\"],[0.3333333333333333,\"#9c179e\"],[0.4444444444444444,\"#bd3786\"],[0.5555555555555556,\"#d8576b\"],[0.6666666666666666,\"#ed7953\"],[0.7777777777777778,\"#fb9f3a\"],[0.8888888888888888,\"#fdca26\"],[1.0,\"#f0f921\"]],\"sequentialminus\":[[0.0,\"#0d0887\"],[0.1111111111111111,\"#46039f\"],[0.2222222222222222,\"#7201a8\"],[0.3333333333333333,\"#9c179e\"],[0.4444444444444444,\"#bd3786\"],[0.5555555555555556,\"#d8576b\"],[0.6666666666666666,\"#ed7953\"],[0.7777777777777778,\"#fb9f3a\"],[0.8888888888888888,\"#fdca26\"],[1.0,\"#f0f921\"]],\"diverging\":[[0,\"#8e0152\"],[0.1,\"#c51b7d\"],[0.2,\"#de77ae\"],[0.3,\"#f1b6da\"],[0.4,\"#fde0ef\"],[0.5,\"#f7f7f7\"],[0.6,\"#e6f5d0\"],[0.7,\"#b8e186\"],[0.8,\"#7fbc41\"],[0.9,\"#4d9221\"],[1,\"#276419\"]]},\"xaxis\":{\"gridcolor\":\"white\",\"linecolor\":\"white\",\"ticks\":\"\",\"title\":{\"standoff\":15},\"zerolinecolor\":\"white\",\"automargin\":true,\"zerolinewidth\":2},\"yaxis\":{\"gridcolor\":\"white\",\"linecolor\":\"white\",\"ticks\":\"\",\"title\":{\"standoff\":15},\"zerolinecolor\":\"white\",\"automargin\":true,\"zerolinewidth\":2},\"scene\":{\"xaxis\":{\"backgroundcolor\":\"#E5ECF6\",\"gridcolor\":\"white\",\"linecolor\":\"white\",\"showbackground\":true,\"ticks\":\"\",\"zerolinecolor\":\"white\",\"gridwidth\":2},\"yaxis\":{\"backgroundcolor\":\"#E5ECF6\",\"gridcolor\":\"white\",\"linecolor\":\"white\",\"showbackground\":true,\"ticks\":\"\",\"zerolinecolor\":\"white\",\"gridwidth\":2},\"zaxis\":{\"backgroundcolor\":\"#E5ECF6\",\"gridcolor\":\"white\",\"linecolor\":\"white\",\"showbackground\":true,\"ticks\":\"\",\"zerolinecolor\":\"white\",\"gridwidth\":2}},\"shapedefaults\":{\"line\":{\"color\":\"#2a3f5f\"}},\"annotationdefaults\":{\"arrowcolor\":\"#2a3f5f\",\"arrowhead\":0,\"arrowwidth\":1},\"geo\":{\"bgcolor\":\"white\",\"landcolor\":\"#E5ECF6\",\"subunitcolor\":\"white\",\"showland\":true,\"showlakes\":true,\"lakecolor\":\"white\"},\"title\":{\"x\":0.05},\"mapbox\":{\"style\":\"light\"}}},\"title\":{\"text\":\"Empresa informante - Tipo de ducto - Longitud en deciles\"}},                        {\"responsive\": true}                    ).then(function(){\n",
       "                            \n",
       "var gd = document.getElementById('931d697e-d4ea-4da1-afa3-d1976fd38e7f');\n",
       "var x = new MutationObserver(function (mutations, observer) {{\n",
       "        var display = window.getComputedStyle(gd).display;\n",
       "        if (!display || display === 'none') {{\n",
       "            console.log([gd, 'removed!']);\n",
       "            Plotly.purge(gd);\n",
       "            observer.disconnect();\n",
       "        }}\n",
       "}});\n",
       "\n",
       "// Listen for the removal of the full notebook cells\n",
       "var notebookContainer = gd.closest('#notebook-container');\n",
       "if (notebookContainer) {{\n",
       "    x.observe(notebookContainer, {childList: true});\n",
       "}}\n",
       "\n",
       "// Listen for the clearing of the current output cell\n",
       "var outputEl = gd.closest('.output');\n",
       "if (outputEl) {{\n",
       "    x.observe(outputEl, {childList: true});\n",
       "}}\n",
       "\n",
       "                        })                };                });            </script>        </div>"
      ]
     },
     "metadata": {},
     "output_type": "display_data"
    }
   ],
   "source": [
    "import pandas as pd\n",
    "import plotly.graph_objects as go\n",
    "\n",
    "# Unir las columnas 'tipo' y 'tipo_tramo' para obtener las etiquetas únicas\n",
    "all_labels = pd.concat([df_grouped_2[\"empresa_informante\"], df_grouped_2[\"deciles\"],df_grouped_2[\"tipo_tramo\"]]).unique().tolist()\n",
    "\n",
    "\n",
    "# Crear los enlaces del diagrama de Sankey\n",
    "source = []\n",
    "target = []\n",
    "value = []\n",
    "\n",
    "# Añadir enlaces entre 'tipo' y 'tipo_tramo'\n",
    "source.extend(df_grouped_2[\"empresa_informante\"].map(lambda x: all_labels.index(x)))\n",
    "target.extend(df_grouped_2[\"tipo_tramo\"].map(lambda x: all_labels.index(x)))\n",
    "value.extend(df_grouped_2[\"longitud\"])\n",
    "\n",
    "# Añadir enlaces entre 'tipo_tramo' y 'material'\n",
    "source.extend(df_grouped_2[\"tipo_tramo\"].map(lambda x: all_labels.index(x)))\n",
    "target.extend(df_grouped_2[\"deciles\"].map(lambda x: all_labels.index(x)))\n",
    "value.extend(df_grouped_2[\"longitud\"])\n",
    "\n",
    "\n",
    "\n",
    "# Crear un objeto de figura Sankey\n",
    "\n",
    "fig = go.Figure(data=[go.Sankey(\n",
    "    node=dict(\n",
    "        label=all_labels\n",
    "    ),\n",
    "    link=dict(\n",
    "        source=source,\n",
    "        target=target,\n",
    "        value=value\n",
    "    )\n",
    ")])\n",
    "\n",
    "fig.update_layout(\n",
    "    title='Empresa informante - Tipo de ducto - Longitud en deciles',\n",
    "    \n",
    ")\n",
    "\n",
    "# Mostrar el diagrama\n",
    "\n",
    "fig.write_html(\"Empresa informante - tipo de ducto - longitud en deciles.html\")\n",
    "fig.show()"
   ]
  },
  {
   "cell_type": "code",
   "execution_count": 21,
   "id": "b4b9a793",
   "metadata": {},
   "outputs": [
    {
     "data": {
      "text/html": [
       "<div>\n",
       "<style scoped>\n",
       "    .dataframe tbody tr th:only-of-type {\n",
       "        vertical-align: middle;\n",
       "    }\n",
       "\n",
       "    .dataframe tbody tr th {\n",
       "        vertical-align: top;\n",
       "    }\n",
       "\n",
       "    .dataframe thead th {\n",
       "        text-align: right;\n",
       "    }\n",
       "</style>\n",
       "<table border=\"1\" class=\"dataframe\">\n",
       "  <thead>\n",
       "    <tr style=\"text-align: right;\">\n",
       "      <th></th>\n",
       "      <th>du</th>\n",
       "      <th>trdu</th>\n",
       "      <th>empresa_informante</th>\n",
       "      <th>tipo</th>\n",
       "      <th>tipo_tramo</th>\n",
       "      <th>diametro</th>\n",
       "      <th>prof</th>\n",
       "      <th>material</th>\n",
       "      <th>revestim</th>\n",
       "      <th>geojson</th>\n",
       "      <th>longitud</th>\n",
       "      <th>troncal</th>\n",
       "    </tr>\n",
       "    <tr>\n",
       "      <th>ID</th>\n",
       "      <th></th>\n",
       "      <th></th>\n",
       "      <th></th>\n",
       "      <th></th>\n",
       "      <th></th>\n",
       "      <th></th>\n",
       "      <th></th>\n",
       "      <th></th>\n",
       "      <th></th>\n",
       "      <th></th>\n",
       "      <th></th>\n",
       "      <th></th>\n",
       "    </tr>\n",
       "  </thead>\n",
       "  <tbody>\n",
       "    <tr>\n",
       "      <th>123</th>\n",
       "      <td>ALTO LAS HORMIGAS</td>\n",
       "      <td>ALTO LAS HORMIGAS-LAS BASES</td>\n",
       "      <td>COMPAÑÍA GENERAL DE COMBUSTIBLES S.A.</td>\n",
       "      <td>GASODUCTO</td>\n",
       "      <td>ENTERRADO</td>\n",
       "      <td>6.000</td>\n",
       "      <td>1.2</td>\n",
       "      <td>ACERO</td>\n",
       "      <td>POLIURETANO</td>\n",
       "      <td>{\"type\":\"MultiLineString\",\"coordinates\":[[[-67...</td>\n",
       "      <td>17.765197</td>\n",
       "      <td>NO TRONCAL</td>\n",
       "    </tr>\n",
       "    <tr>\n",
       "      <th>124</th>\n",
       "      <td>DEL T-25</td>\n",
       "      <td>DEL T-25</td>\n",
       "      <td>PETROLERA EL TREBOL S.A.</td>\n",
       "      <td>OLEODUCTO</td>\n",
       "      <td>AEREO</td>\n",
       "      <td>2.875</td>\n",
       "      <td>0.0</td>\n",
       "      <td>ACERO</td>\n",
       "      <td>POLIURETANO</td>\n",
       "      <td>{\"type\":\"MultiLineString\",\"coordinates\":[[[-69...</td>\n",
       "      <td>0.117905</td>\n",
       "      <td>NO TRONCAL</td>\n",
       "    </tr>\n",
       "    <tr>\n",
       "      <th>125</th>\n",
       "      <td>DEL T-47</td>\n",
       "      <td>DEL T-47</td>\n",
       "      <td>PETROLERA EL TREBOL S.A.</td>\n",
       "      <td>OLEODUCTO</td>\n",
       "      <td>AEREO</td>\n",
       "      <td>2.875</td>\n",
       "      <td>0.0</td>\n",
       "      <td>ACERO</td>\n",
       "      <td>POLIURETANO</td>\n",
       "      <td>{\"type\":\"MultiLineString\",\"coordinates\":[[[-69...</td>\n",
       "      <td>0.181930</td>\n",
       "      <td>NO TRONCAL</td>\n",
       "    </tr>\n",
       "    <tr>\n",
       "      <th>126</th>\n",
       "      <td>DEL TR-1014</td>\n",
       "      <td>DEL TR-1014</td>\n",
       "      <td>PETROLERA EL TREBOL S.A.</td>\n",
       "      <td>OLEODUCTO</td>\n",
       "      <td>AEREO</td>\n",
       "      <td>2.875</td>\n",
       "      <td>0.0</td>\n",
       "      <td>ACERO</td>\n",
       "      <td>POLIURETANO</td>\n",
       "      <td>{\"type\":\"MultiLineString\",\"coordinates\":[[[-69...</td>\n",
       "      <td>0.708452</td>\n",
       "      <td>NO TRONCAL</td>\n",
       "    </tr>\n",
       "    <tr>\n",
       "      <th>127</th>\n",
       "      <td>DEL T-36</td>\n",
       "      <td>DEL T-36</td>\n",
       "      <td>PETROLERA EL TREBOL S.A.</td>\n",
       "      <td>OLEODUCTO</td>\n",
       "      <td>AEREO</td>\n",
       "      <td>2.875</td>\n",
       "      <td>0.0</td>\n",
       "      <td>ACERO</td>\n",
       "      <td>POLIURETANO</td>\n",
       "      <td>{\"type\":\"MultiLineString\",\"coordinates\":[[[-69...</td>\n",
       "      <td>0.344256</td>\n",
       "      <td>NO TRONCAL</td>\n",
       "    </tr>\n",
       "    <tr>\n",
       "      <th>...</th>\n",
       "      <td>...</td>\n",
       "      <td>...</td>\n",
       "      <td>...</td>\n",
       "      <td>...</td>\n",
       "      <td>...</td>\n",
       "      <td>...</td>\n",
       "      <td>...</td>\n",
       "      <td>...</td>\n",
       "      <td>...</td>\n",
       "      <td>...</td>\n",
       "      <td>...</td>\n",
       "      <td>...</td>\n",
       "    </tr>\n",
       "    <tr>\n",
       "      <th>134107</th>\n",
       "      <td>ACUEDUCTO PIA CL A SATÃLITE DE INY NÂ° 20</td>\n",
       "      <td>DUCAPIACLASAT16/T2</td>\n",
       "      <td>YPF S.A.</td>\n",
       "      <td>ACUEDUCTO</td>\n",
       "      <td>ENTERRADO</td>\n",
       "      <td>4.000</td>\n",
       "      <td>1.2</td>\n",
       "      <td>ACERO</td>\n",
       "      <td>SIN DATOS</td>\n",
       "      <td>{\"type\":\"MultiLineString\",\"coordinates\":[[[-67...</td>\n",
       "      <td>0.809833</td>\n",
       "      <td>NO TRONCAL</td>\n",
       "    </tr>\n",
       "    <tr>\n",
       "      <th>134108</th>\n",
       "      <td>ACUEDUCTO DE AGUA DULCE</td>\n",
       "      <td>S/E</td>\n",
       "      <td>YPF S.A.</td>\n",
       "      <td>ACUEDUCTO</td>\n",
       "      <td>AEREO</td>\n",
       "      <td>6.000</td>\n",
       "      <td>0.0</td>\n",
       "      <td>ERFV</td>\n",
       "      <td>SIN DATOS</td>\n",
       "      <td>{\"type\":\"MultiLineString\",\"coordinates\":[[[-68...</td>\n",
       "      <td>18.292221</td>\n",
       "      <td>NO TRONCAL</td>\n",
       "    </tr>\n",
       "    <tr>\n",
       "      <th>134109</th>\n",
       "      <td>TRONCAL AGUA PRODUCCION SAT-VI-1-PIAS-4 - DERI...</td>\n",
       "      <td>SIN DATO</td>\n",
       "      <td>YPF S.A.</td>\n",
       "      <td>ACUEDUCTO</td>\n",
       "      <td>AEREO</td>\n",
       "      <td>6.000</td>\n",
       "      <td>0.0</td>\n",
       "      <td>ACERO</td>\n",
       "      <td>SIN DATOS</td>\n",
       "      <td>{\"type\":\"MultiLineString\",\"coordinates\":[[[-68...</td>\n",
       "      <td>2.645050</td>\n",
       "      <td>NO TRONCAL</td>\n",
       "    </tr>\n",
       "    <tr>\n",
       "      <th>134110</th>\n",
       "      <td>OLEODUCTO VMON_LACH_PHZ</td>\n",
       "      <td>DUCPCABOLACH-PTCPHZ01</td>\n",
       "      <td>YPF S.A.</td>\n",
       "      <td>OLEODUCTO</td>\n",
       "      <td>AEREO</td>\n",
       "      <td>24.000</td>\n",
       "      <td>0.0</td>\n",
       "      <td>ACERO</td>\n",
       "      <td>SIN DATOS</td>\n",
       "      <td>{\"type\":\"MultiLineString\",\"coordinates\":[[[-68...</td>\n",
       "      <td>148.787938</td>\n",
       "      <td>TRONCAL</td>\n",
       "    </tr>\n",
       "    <tr>\n",
       "      <th>134111</th>\n",
       "      <td>SIN DATO</td>\n",
       "      <td>SIN DATO</td>\n",
       "      <td>YPF S.A.</td>\n",
       "      <td>OLEODUCTO</td>\n",
       "      <td>AEREO</td>\n",
       "      <td>0.000</td>\n",
       "      <td>0.0</td>\n",
       "      <td>SIN DATO</td>\n",
       "      <td>SIN DATOS</td>\n",
       "      <td>{\"type\":\"MultiLineString\",\"coordinates\":[[[-67...</td>\n",
       "      <td>2.931726</td>\n",
       "      <td>NO TRONCAL</td>\n",
       "    </tr>\n",
       "  </tbody>\n",
       "</table>\n",
       "<p>118817 rows × 12 columns</p>\n",
       "</div>"
      ],
      "text/plain": [
       "                                                       du  \\\n",
       "ID                                                          \n",
       "123                                     ALTO LAS HORMIGAS   \n",
       "124                                              DEL T-25   \n",
       "125                                              DEL T-47   \n",
       "126                                           DEL TR-1014   \n",
       "127                                              DEL T-36   \n",
       "...                                                   ...   \n",
       "134107         ACUEDUCTO PIA CL A SATÃLITE DE INY NÂ° 20   \n",
       "134108                            ACUEDUCTO DE AGUA DULCE   \n",
       "134109  TRONCAL AGUA PRODUCCION SAT-VI-1-PIAS-4 - DERI...   \n",
       "134110                            OLEODUCTO VMON_LACH_PHZ   \n",
       "134111                                           SIN DATO   \n",
       "\n",
       "                               trdu                     empresa_informante  \\\n",
       "ID                                                                           \n",
       "123     ALTO LAS HORMIGAS-LAS BASES  COMPAÑÍA GENERAL DE COMBUSTIBLES S.A.   \n",
       "124                        DEL T-25               PETROLERA EL TREBOL S.A.   \n",
       "125                        DEL T-47               PETROLERA EL TREBOL S.A.   \n",
       "126                     DEL TR-1014               PETROLERA EL TREBOL S.A.   \n",
       "127                        DEL T-36               PETROLERA EL TREBOL S.A.   \n",
       "...                             ...                                    ...   \n",
       "134107           DUCAPIACLASAT16/T2                               YPF S.A.   \n",
       "134108                          S/E                               YPF S.A.   \n",
       "134109                     SIN DATO                               YPF S.A.   \n",
       "134110        DUCPCABOLACH-PTCPHZ01                               YPF S.A.   \n",
       "134111                     SIN DATO                               YPF S.A.   \n",
       "\n",
       "             tipo tipo_tramo  diametro  prof  material     revestim  \\\n",
       "ID                                                                    \n",
       "123     GASODUCTO  ENTERRADO     6.000   1.2     ACERO  POLIURETANO   \n",
       "124     OLEODUCTO      AEREO     2.875   0.0     ACERO  POLIURETANO   \n",
       "125     OLEODUCTO      AEREO     2.875   0.0     ACERO  POLIURETANO   \n",
       "126     OLEODUCTO      AEREO     2.875   0.0     ACERO  POLIURETANO   \n",
       "127     OLEODUCTO      AEREO     2.875   0.0     ACERO  POLIURETANO   \n",
       "...           ...        ...       ...   ...       ...          ...   \n",
       "134107  ACUEDUCTO  ENTERRADO     4.000   1.2     ACERO    SIN DATOS   \n",
       "134108  ACUEDUCTO      AEREO     6.000   0.0      ERFV    SIN DATOS   \n",
       "134109  ACUEDUCTO      AEREO     6.000   0.0     ACERO    SIN DATOS   \n",
       "134110  OLEODUCTO      AEREO    24.000   0.0     ACERO    SIN DATOS   \n",
       "134111  OLEODUCTO      AEREO     0.000   0.0  SIN DATO    SIN DATOS   \n",
       "\n",
       "                                                  geojson    longitud  \\\n",
       "ID                                                                      \n",
       "123     {\"type\":\"MultiLineString\",\"coordinates\":[[[-67...   17.765197   \n",
       "124     {\"type\":\"MultiLineString\",\"coordinates\":[[[-69...    0.117905   \n",
       "125     {\"type\":\"MultiLineString\",\"coordinates\":[[[-69...    0.181930   \n",
       "126     {\"type\":\"MultiLineString\",\"coordinates\":[[[-69...    0.708452   \n",
       "127     {\"type\":\"MultiLineString\",\"coordinates\":[[[-69...    0.344256   \n",
       "...                                                   ...         ...   \n",
       "134107  {\"type\":\"MultiLineString\",\"coordinates\":[[[-67...    0.809833   \n",
       "134108  {\"type\":\"MultiLineString\",\"coordinates\":[[[-68...   18.292221   \n",
       "134109  {\"type\":\"MultiLineString\",\"coordinates\":[[[-68...    2.645050   \n",
       "134110  {\"type\":\"MultiLineString\",\"coordinates\":[[[-68...  148.787938   \n",
       "134111  {\"type\":\"MultiLineString\",\"coordinates\":[[[-67...    2.931726   \n",
       "\n",
       "           troncal  \n",
       "ID                  \n",
       "123     NO TRONCAL  \n",
       "124     NO TRONCAL  \n",
       "125     NO TRONCAL  \n",
       "126     NO TRONCAL  \n",
       "127     NO TRONCAL  \n",
       "...            ...  \n",
       "134107  NO TRONCAL  \n",
       "134108  NO TRONCAL  \n",
       "134109  NO TRONCAL  \n",
       "134110     TRONCAL  \n",
       "134111  NO TRONCAL  \n",
       "\n",
       "[118817 rows x 12 columns]"
      ]
     },
     "execution_count": 21,
     "metadata": {},
     "output_type": "execute_result"
    }
   ],
   "source": [
    "df_hidro"
   ]
  },
  {
   "cell_type": "code",
   "execution_count": 35,
   "id": "e152af07",
   "metadata": {
    "scrolled": true
   },
   "outputs": [
    {
     "data": {
      "application/vnd.plotly.v1+json": {
       "config": {
        "plotlyServerURL": "https://plot.ly"
       },
       "data": [
        {
         "hovertemplate": "tipo=GASODUCTO<br>diametro=%{x}<br>longitud=%{y}<extra></extra>",
         "legendgroup": "GASODUCTO",
         "marker": {
          "color": "#636efa",
          "symbol": "circle"
         },
         "mode": "markers",
         "name": "GASODUCTO",
         "orientation": "v",
         "showlegend": true,
         "type": "scatter",
         "x": [
          20,
          24,
          24,
          24,
          20,
          20,
          20,
          20,
          20,
          25.5,
          25.5,
          24,
          24,
          24,
          24,
          24,
          24,
          24,
          24,
          24,
          24,
          24,
          24,
          24,
          36,
          24,
          24,
          30,
          36,
          20,
          20,
          30,
          24,
          20,
          30,
          20,
          20,
          20,
          20,
          20,
          20,
          20,
          20,
          20,
          20,
          20,
          20,
          20,
          24,
          20,
          20,
          24,
          20,
          20,
          20,
          20,
          20,
          20,
          20,
          20,
          24,
          24,
          20,
          20,
          24,
          24,
          24,
          24,
          24,
          24,
          24,
          24,
          26,
          24,
          24,
          24,
          24,
          23,
          24,
          24,
          24,
          23,
          24,
          24,
          24,
          24,
          23,
          24,
          20,
          20,
          20,
          20,
          23,
          20,
          20,
          20,
          20,
          27,
          23,
          20,
          30,
          20,
          28,
          26,
          23,
          22,
          20,
          20,
          20,
          20,
          20,
          20,
          23,
          20,
          20,
          42,
          30,
          21,
          20,
          20,
          20,
          20,
          30,
          20,
          20,
          20,
          20,
          24,
          20,
          24,
          24,
          20,
          30,
          30,
          30,
          22,
          24,
          24,
          24,
          24,
          24,
          24,
          24,
          24,
          24,
          24,
          24,
          27,
          20,
          20,
          23,
          20,
          22,
          23,
          20,
          30,
          23,
          30,
          26,
          23,
          30,
          27,
          20,
          20,
          27,
          20,
          23,
          20,
          20,
          27,
          30,
          23,
          30,
          24,
          30,
          29,
          20,
          20,
          30,
          23,
          23,
          30,
          23,
          20,
          20,
          32,
          20,
          30,
          20,
          24,
          20,
          25,
          30,
          20,
          29,
          20,
          26,
          26,
          30,
          23,
          23,
          30,
          20,
          20,
          30,
          20,
          25,
          26,
          20,
          25,
          30,
          20,
          20,
          20,
          26,
          20,
          23,
          23,
          30,
          30,
          20,
          23,
          25,
          23,
          20,
          23,
          29,
          20,
          25,
          30,
          27,
          25,
          30,
          20,
          25,
          23,
          20,
          20,
          20,
          20,
          23,
          29,
          26,
          30,
          20,
          23,
          23,
          24,
          24,
          24,
          25,
          25,
          20,
          36,
          25,
          20,
          20,
          22,
          23,
          23,
          20,
          20,
          26,
          20,
          30,
          23,
          20,
          20,
          30,
          25,
          20,
          23,
          36,
          23,
          20,
          20,
          20,
          20,
          30,
          24,
          24,
          36,
          24,
          20,
          20,
          42,
          20,
          42,
          42,
          20,
          20,
          20,
          20,
          20,
          20,
          24,
          20,
          20,
          20,
          24,
          20,
          42,
          20,
          20,
          20,
          20,
          20,
          24,
          20,
          24,
          42,
          42,
          20,
          20,
          20,
          20,
          20,
          28,
          20,
          20,
          24,
          20,
          20,
          20,
          20,
          20,
          42,
          42,
          20,
          20,
          20,
          20,
          20,
          20,
          20,
          20,
          20,
          20,
          20,
          20,
          20,
          24,
          20,
          20,
          20,
          20,
          20,
          42,
          20,
          20,
          20,
          20,
          20,
          20,
          20,
          20,
          20,
          20,
          20,
          20,
          42,
          20,
          20,
          20,
          24,
          20,
          20,
          20,
          24,
          20,
          20,
          20,
          42,
          20,
          20,
          24,
          20,
          24,
          30,
          23,
          26,
          20,
          23,
          20,
          30,
          25,
          23,
          23,
          23,
          23,
          30,
          26,
          26,
          20,
          20,
          20,
          20,
          20,
          20,
          20,
          20,
          20,
          20,
          20,
          20,
          24,
          20,
          24,
          24,
          24,
          24,
          24,
          24,
          24,
          24,
          24,
          24,
          24,
          24,
          20,
          20,
          24,
          24,
          24,
          30,
          24,
          24,
          24,
          24,
          24,
          20,
          20,
          24,
          20,
          30,
          24,
          24,
          30,
          30,
          24,
          24,
          24,
          24,
          24,
          24,
          24,
          24,
          24,
          24,
          24,
          24,
          24,
          24,
          24,
          24,
          24,
          24,
          42,
          20,
          24,
          24,
          20,
          24,
          24,
          24,
          24,
          24,
          24,
          24,
          20,
          24,
          24,
          24,
          20,
          24,
          24,
          24,
          24,
          24,
          20,
          24,
          24,
          24,
          24,
          24,
          20,
          20,
          20,
          24,
          30,
          24,
          24,
          20,
          24,
          24,
          24,
          24,
          30,
          42,
          20,
          24,
          36,
          20,
          24,
          24,
          24,
          20,
          24,
          24,
          24,
          24,
          24,
          24,
          24,
          24,
          24,
          24,
          30,
          20,
          20,
          20,
          24,
          24,
          24,
          24,
          24,
          24,
          24,
          24,
          24,
          24,
          20,
          24,
          30,
          20,
          24,
          24,
          24,
          20,
          20,
          20,
          24,
          20,
          24,
          24,
          24,
          24,
          24,
          24,
          24,
          63,
          63,
          63,
          63,
          63,
          125,
          20,
          63,
          63,
          63,
          63,
          63,
          30,
          63,
          63,
          63,
          90,
          30,
          30,
          30,
          30,
          30,
          30,
          30,
          30,
          63,
          63,
          63,
          63,
          63,
          63,
          90,
          63,
          63,
          63,
          63,
          125,
          125,
          125,
          63,
          63,
          63,
          63,
          63,
          63,
          63,
          63,
          63,
          63,
          63,
          63,
          63,
          63,
          63,
          63,
          63,
          63,
          63,
          63,
          63,
          63,
          63,
          63,
          63,
          63,
          63,
          63,
          63,
          63,
          63,
          63,
          63,
          63,
          63,
          63,
          63,
          63,
          63,
          125,
          63,
          63,
          63,
          63,
          63,
          63,
          63,
          63,
          63,
          63,
          63,
          63,
          63,
          63,
          63,
          63,
          63,
          63,
          63,
          63,
          63,
          63,
          63,
          63,
          63,
          63,
          63,
          63,
          63,
          63,
          20,
          24,
          24,
          24,
          24,
          24,
          20
         ],
         "xaxis": "x",
         "y": [
          23.37989329987204,
          17.256944897161908,
          2.955635301661116,
          1.629648530101058,
          12.264041057355843,
          0.085900607374049,
          10.44022221639727,
          0.5328111860691467,
          2.96067257392658,
          3.74709733527213,
          0.2953236360334582,
          4.911736484099336,
          6.120823513248668,
          0.0484532764631724,
          57.08150273019829,
          5.309298141157794,
          4.903075276122869,
          28.0353196118633,
          2.2256462049283097,
          26.686812118296988,
          6.346285761969309,
          3.897907132950703,
          5.0653741553961655,
          5.078290561500203,
          1.032837876268139,
          17.653802513836546,
          25.126403833942017,
          14.51398641102862,
          9.275132678298489,
          4.3796006538358,
          0.3366241075583502,
          0.9890040997830648,
          17.344450058594695,
          1.7032829275228492,
          13.724691059080676,
          3.2682882123234114,
          0.0903231974632919,
          1.8631034529443264,
          0.3280430593080126,
          0.01277810627655,
          4.028878337920286,
          0.0281625638039968,
          0.0028160255681723,
          0.5197548350705522,
          0.0802168311513948,
          0.5183063861958704,
          1.8326303924286529,
          0.5175305078118899,
          4.891509920442352,
          32.61656618812809,
          0.0107786826651296,
          24.09706384728156,
          4.04044595949878,
          1.8353987801687035,
          0.0038183766178106,
          0.0027892651360575,
          0.360646139565335,
          0.01277810627655,
          1.9119154893187784,
          0.1050908654448172,
          0.1204548501009777,
          0.0676782414141159,
          0.8181909619654537,
          32.74017851428442,
          23.97385130142264,
          0.0141226768000315,
          0.0559890214184863,
          0.01164560002685,
          0.1491331166793932,
          5.960426056179455,
          0.0139032370321628,
          3.5780196562341486,
          0.2770252248212199,
          1.572150001239199,
          0.0845092221709309,
          0.0282453536000631,
          0.0226922724562698,
          5.301826322436069,
          0.1040800197105551,
          4.061024679951104,
          1.854574219086752,
          10.71177273563519,
          2.5159487418420805,
          1.7189001862780977,
          0.2770246286029669,
          0.4999847240566442,
          0.0528000104621782,
          1.4138037375341816,
          3.63002954393596,
          5.531171950826465,
          4.801375085090855,
          4.86183249207871,
          7.457279209134058,
          11.026735393191226,
          14.508958739475784,
          6.172039433888754,
          12.264041057355843,
          0.4581740706816751,
          1.3408934346181158,
          7.81186173386106,
          1.3097366427034178,
          0.3465550732904041,
          2.8430373305878858,
          0.6332742386618825,
          0.2547826818241728,
          0.3446778117406039,
          0.9106759689475222,
          0.32736604524999,
          3.007220537220641,
          3.692887653744047,
          2.112809124731167,
          0.7514947679705732,
          1.0967297330788228,
          0.0079309520234785,
          1.359603632393395,
          13.427826235468002,
          0.0231175258190797,
          4.231674049664297,
          0.1372447866102324,
          3.3847888563127606,
          2.7682206404439835,
          1.3565906034427653,
          13.835443477691015,
          10.84929786981833,
          1.4762997712703785,
          2.3425629774366263,
          0.4330268892180799,
          7.202342456412601,
          8.242596769537272,
          4.261940619168898,
          0.0321829917794994,
          14.417485927634038,
          1.232542681848054,
          1.2764669897112864,
          0.1920772977932896,
          8.098497392652796,
          1.7753509094632105,
          0.3156012710738706,
          1.4676296064770584,
          1.9129530668143984,
          2.731064505760481,
          2.955635301661116,
          1.629648530101058,
          2.8134691430760266,
          0.4663278268653592,
          0.4157235653665345,
          2.874226564141364,
          5.072270598547915,
          8.242596769537272,
          1.2526268579378468,
          51.26831141886501,
          6.80497391304408,
          6.362694581808517,
          0.6569860380923345,
          0.0327783985042992,
          1.8030889925472848,
          3.5589262391169907,
          0.3863203017985413,
          10.14962999472489,
          0.1190131404793269,
          0.0293124546902644,
          0.037664970463018,
          2.4799307325612934,
          6.12772272528276,
          1.780728726275914,
          9.278467589182744,
          9.970878368487853,
          4.014824073880422,
          0.3168827187662734,
          0.9890040997830648,
          0.0842377743056334,
          0.8209995271039504,
          0.0377922772596645,
          0.249947067478806,
          0.359088225205958,
          0.1447100145256681,
          2.6984627256715794,
          7.487007294173919,
          0.3948652979521841,
          0.1304987416727643,
          1.3088486528967973,
          0.0005242640688955,
          9.071768093991952,
          3.906144818358519,
          0.028358161340242,
          2.842963263217988,
          0.6129410936593838,
          1.6710241235302803,
          3.0124809582675827,
          5.13410252472617,
          0.5541853214917266,
          2.890535363842609,
          0.0854199631814393,
          1.4851198190688883,
          0.1361073179890998,
          3.144113369800763,
          0.9230711145956724,
          15.64978328148993,
          0.0004123105628994,
          0.2824683260256598,
          0.2187701178846108,
          0.0305665162840773,
          0.0098005101905553,
          2.781843595210275,
          0.0047265209187604,
          5.514273077292856,
          0.0417264354801273,
          46.52552374612659,
          0.3598684801723912,
          2.039907035081199,
          0.0161335055092832,
          3.2941975671093062,
          3.5579581766981607,
          3.157760727846122,
          44.11746272203717,
          5.631639630588609,
          1.0445217831523812,
          14.723266867620136,
          0.0022803508502989,
          1.0610411479739268,
          1.7306451549276372,
          6.752716226225291,
          10.84929786981833,
          3.73262654776222,
          3.2280355553153783,
          0.3392906609101291,
          0.2077733948624064,
          4.90796257771563,
          1.4760591254718898,
          0.384584140488575,
          13.83545183665741,
          0.3544737849241529,
          0.3628942598642525,
          2.537413848887348,
          7.81186173386106,
          7.1441693194748845,
          2.3479793013744974,
          2.825030324943661,
          1.2964765511021108,
          4.2285571784935,
          3.194654430091686,
          13.427826235468002,
          5.999073026593896,
          1.6748879286693872,
          8.934417799555398,
          6.957318033439544,
          28.753343735671788,
          1.8397785916819096,
          6.379773070344132,
          10.738802237353202,
          1.3565906034427653,
          1.8937212194624344,
          3.597101281995515,
          9.27507411763616,
          3.555982668126003,
          3.922251208280161,
          3.689829331135338,
          0.6772246936428608,
          0.5763817709392012,
          2.000224876747524,
          2.9439332563231604,
          1.854718301510542,
          34.99825257243124,
          0.0908278479226668,
          9.420880555093444,
          3.50006240581305,
          6.115301660127407,
          7.519331194658497,
          0.0815661988114856,
          0.0868925392884338,
          0.0149286902190372,
          0.1901148592044324,
          1.0326817651347806,
          6.288257740822943,
          3.007648414675599,
          3.985414706738639,
          4.372682104972365,
          1.582018455197286,
          0.0483718225436465,
          0.0806895792223288,
          34.94268497146364,
          27.5830295187912,
          7.83782180705253,
          2.8126769674486387,
          0.0109635760576166,
          0,
          0.0019416487829448,
          0.0001000000011686,
          0.0016970562745824,
          0.0016643316982461,
          0.0015264337519312,
          0.0006708203931451,
          0.0011313708500566,
          0.0004242640696504,
          0.0020615528131529,
          15.649855985040944,
          0,
          0.0011401754253364,
          0.0008485281377936,
          0.6330573946513626,
          2.0399211452553168,
          0.0012727922059368,
          0.0001000000011686,
          0.0001414213558802,
          9.999999974752428e-05,
          0.0021840329657596,
          1.3565243257192878,
          46.525519353230415,
          10.848905704596133,
          34.99824239928569,
          0.20764115608566,
          0.1446156526723983,
          0.0022203603310477,
          0.0925324354019281,
          0.0003605551270302,
          0.0001414213563826,
          0,
          2.8430373305878858,
          0.0115108644326158,
          0.0010049875616957,
          5.9990367704242304,
          0.0036796738978202,
          0.0013453624048492,
          0.0016278820595156,
          0.0007071067823153,
          9.999999974752428e-05,
          0.0020518284532287,
          0.0001414213568851,
          0.0418094716411747,
          0.0009433981139871,
          0.0009307135785964,
          0.0055154328928955,
          2.8906683110560683,
          0.0003605551278184,
          0.0006082762528958,
          1.4762997712703785,
          1.893891492005905,
          0.0013453624048492,
          0.0012727922064393,
          0.0015811388296423,
          0.0043863424403838,
          0.923028502474946,
          0.0016643316982461,
          0.0007211102548487,
          0.3543738359496203,
          0.0006403124236802,
          7.811919226220751,
          0.1361073179895347,
          0.0034465412291803,
          0.0868109183970353,
          0.001400000000018,
          0.0012727922054344,
          0.0023600847438221,
          0.0019209372703748,
          0.0012369316890429,
          0.0015811388296423,
          0.0002236067975031,
          0.0005000000003008,
          0.0053740115375177,
          0.0008062257750857,
          0.0035383612032159,
          0,
          0.1966081869542608,
          0.0022627417001132,
          0.0427724973748464,
          0.0012041594573763,
          0.0017117242767747,
          0.0007071067815114,
          44.11743321314309,
          3.5558668418988413,
          0.0016643316974349,
          0.0019798989868454,
          13.427828186805414,
          0.0005656854245258,
          0.0007810249676202,
          10.149491469465993,
          12.263969746839877,
          0.8314833053453241,
          3.9004839946961134,
          5.033890665149992,
          7.219936803994953,
          0.3438661747690836,
          8.187823295702888,
          0.817919489193449,
          2.0715652035895484,
          8.242606925657068,
          1.1034914326753724,
          29.32857455830978,
          3.156975730327135,
          5.055435852307087,
          4.10206157961616,
          4.261913612511918,
          0.032179656723981,
          0.1050908654448172,
          0.360646139565335,
          0.5175305078118899,
          0.0038183766178106,
          0.01277810627655,
          0.0027892651360575,
          1.8353987801687035,
          4.04044595949878,
          1.9119154893187784,
          0.5183063861958704,
          0.0107786826651296,
          0.5197548350705522,
          0.0677747755164657,
          0.8181909479712548,
          0.1203195134131345,
          1.4676296064770584,
          0.4157235653665345,
          0.3156012710738706,
          1.7753509094632105,
          1.9129530668143984,
          2.731064505760481,
          2.955635301661116,
          1.629648530101058,
          0.4663278268653592,
          2.8134691430760266,
          2.874226564141364,
          31.02780147904816,
          0.3543738359496203,
          0.4156288565924249,
          4.261913612511918,
          0.1040800197105551,
          14.513992854371857,
          1.4138045738258902,
          0.7887965042215213,
          0.2586992596457853,
          0.2403413691541976,
          1.9129198919374493,
          12.263969746839877,
          0.3441269450375301,
          0.0559890214184863,
          8.242606925657068,
          0.458200008766731,
          2.813576646785368,
          0.3157012253829173,
          13.724629888699884,
          0.0691416661647103,
          1.854574219086752,
          6.379773070344132,
          0.0139032370321628,
          7.219936803994953,
          0.2770246286029669,
          0.014205632685331,
          0.0845092221709309,
          1.467569085281178,
          1.8397785916819096,
          0.4664188005653182,
          0.0141226768000315,
          2.874178055799517,
          0.032179656723981,
          4.061024682223325,
          1.572150001239199,
          0.4999847240566442,
          0.0427724973748464,
          0.1491331166793932,
          13.427828186805414,
          0.1054432998345619,
          0.0234691487595653,
          0.0226922724562698,
          8.008527108295247,
          10.149491469465993,
          2.7311155522866204,
          1.6295544058574691,
          2.5159487420632924,
          0.0282453536000631,
          3.5780196562341486,
          0.01164560002685,
          1.3565243257192878,
          1.7189001862780977,
          2.955603804530166,
          1.7754408608930463,
          10.519870407053334,
          0.8314833053453241,
          5.960425369274628,
          0.6330573946513626,
          15.649855985040944,
          5.9990367704242304,
          4.538476295014545,
          22.813593338999244,
          0.1096400293832702,
          12.672840256635997,
          0.0561221473653694,
          34.998242416436895,
          0.3441269450375301,
          10.519870407053334,
          0.1054432998345619,
          0.0427724973748464,
          0.3713970787735151,
          0.7270292876984092,
          1.8397785916819096,
          1.3565243257192878,
          6.379773070344132,
          0.1233965425676346,
          0.584517075511455,
          0.1115119748095072,
          13.814221614963188,
          13.397810754551356,
          7.988720583868258,
          0.1040800197105551,
          13.22380036648989,
          1.4762997712703785,
          5.9990367704242304,
          0.0616175184425186,
          7.219936803994953,
          8.242606925657068,
          4.261913612511918,
          0.4664188005653182,
          2.813576646785368,
          1.7754408608930463,
          0.4156288565924249,
          0.3157012253829173,
          2.874178055799517,
          1.9129198919374493,
          1.467569085281178,
          0.8314833053453241,
          0.0691416661647103,
          0.3543738359496203,
          49.332337962688186,
          0.1054432998345619,
          0.084059461120136,
          0.0427724973748464,
          15.649855986833538,
          0.1090794085664199,
          2.989097735395956,
          0.1040800197105551,
          10.149491469465993,
          5.999036976537095,
          0.0616393567925829,
          4.153309852590397,
          8.242678782267674,
          4.262047530111017,
          0.0691416661647103,
          0.3543738359496203,
          0.033018353513224,
          0.4199755965787981,
          0.0044181444071064,
          0.1137784346887967,
          0.0295732082936809,
          0.0037818164719326,
          46.57684526568272,
          14.3516597148084,
          2.961238314210025,
          28.823582599389265,
          28.822747133051823,
          32.81792243817603,
          44.170338813087554,
          116.4823694563182,
          28.85422306660755,
          0.2530640285862743,
          0.0660587213045643,
          0.7382173041137854,
          0.2299535501517514,
          0.0980306283984644,
          0.4030109179657539,
          45.64995176238919,
          0.0610924372652763,
          0.0264406266271867,
          0.0213198292996188,
          0.1521025304975395,
          0.0169941166286728,
          0.2490404497400112,
          0.2157487729293924,
          0.1770647900848022,
          0.0899052825885487,
          1.0448004066887906,
          0.0842377743056334,
          0.2750376454336787,
          1.1204684902120854,
          0.0047265209187604,
          2.6863331126729384,
          3.177619779756903,
          0.3388843550521364,
          0.3863203017985413,
          0.2441801197836722,
          0.1431003120347877,
          0.0956153230397639,
          0.1761195915113952,
          0.1129733070222231,
          0.1640849580728924,
          0.2437952896840732,
          2.341055820156189,
          0.1609910130059176,
          0.2694059310696617,
          0.1540471213696145,
          3.712865806278773,
          0.3113005145969698,
          1.204735704112971,
          0.0609338165549241,
          0.2199032453791588,
          0.5701533543720962,
          0.2660786861656604,
          0.1132947791858544,
          0.2441766226613361,
          2.272204437066294,
          0.0603549251763696,
          0.0737353024974782,
          0.7766453800710197,
          1.4631154763839451,
          1.2678619099449515,
          1.1208182638684,
          0.3936525935552778,
          0.0747453260480805,
          0.4899369706092526,
          0.261949457596213,
          0.0908322753343086,
          0.2520707760726408,
          0.0445933850409542,
          0.3406507270233558,
          0.0601774239085063,
          0.2950241792863441,
          0.0702022580385448,
          0.1862688649364557,
          0.0221505417864723,
          0.0722130085859707,
          0.0302861844563408,
          0.6908872870058974,
          0.0924011079828912,
          0.1026737962661264,
          0.1007263110535205,
          0.1768429006287703,
          0.3142261378412899,
          0.1920328644093174,
          0.0687319425349038,
          0.10869674502471,
          0.3790408555031982,
          0.0343347162328903,
          1.096186719866695,
          0.104423814912617,
          0.1001041398436915,
          1.0883355370722965,
          0.5145980327156291,
          0.1460201259641273,
          0.0309622350616444,
          0.6200262370794742,
          0.5746122121470564,
          0.9341028484792916,
          0.0269408611595242,
          0.2953510376063187,
          0.0848842017593866,
          0.2746105677406346,
          0.1956109063345793,
          0.3559486705916539,
          0.1929620881064808,
          0.2733418282928215,
          0.5398227204500711,
          0.3439551848312941,
          0.8842264730729738,
          0.0511329639270277,
          0.2631702267881979,
          0.7163773491886447,
          0.072476823880509,
          0.0411442584083909,
          0.0296863605042883,
          0.0315412428415796,
          0.5120764258383,
          0.3584344892049263,
          1.2676623470242183,
          0.1054432998345619,
          0.0427724973748464,
          15.649855985040944,
          0.1040800197105551,
          10.149491469465993,
          5.999036976537095,
          0.3543738359496203
         ],
         "yaxis": "y"
        },
        {
         "hovertemplate": "tipo=OLEODUCTO<br>diametro=%{x}<br>longitud=%{y}<extra></extra>",
         "legendgroup": "OLEODUCTO",
         "marker": {
          "color": "#EF553B",
          "symbol": "circle"
         },
         "mode": "markers",
         "name": "OLEODUCTO",
         "orientation": "v",
         "showlegend": true,
         "type": "scatter",
         "x": [
          20,
          20,
          24,
          20,
          20,
          20,
          20,
          24,
          24,
          24,
          20,
          20,
          24,
          24,
          24,
          20,
          20,
          20,
          24,
          24,
          24,
          24,
          24,
          24,
          24,
          20,
          24,
          24,
          24,
          20,
          20,
          24,
          30,
          30,
          30,
          30,
          30,
          30,
          20,
          20,
          30,
          30,
          30,
          30,
          22,
          30,
          30,
          30,
          30,
          30,
          30,
          30,
          30,
          30,
          30,
          30,
          30,
          30,
          30,
          30,
          30,
          30,
          30,
          30,
          30,
          30,
          20,
          20,
          30,
          30,
          30,
          30,
          30,
          20,
          30,
          30,
          30,
          30,
          30,
          30,
          30,
          30,
          30,
          30,
          30,
          30,
          30,
          20,
          30,
          20,
          30,
          24,
          24,
          24,
          24,
          24,
          24,
          24,
          24,
          20,
          24,
          24,
          24,
          24,
          20,
          20,
          20,
          20,
          20,
          20,
          20,
          20,
          20,
          24,
          24,
          24,
          20,
          20,
          24,
          24,
          22,
          20,
          63,
          90,
          63,
          24
         ],
         "xaxis": "x",
         "y": [
          6.612484120964182,
          0.0615442929928378,
          1.6603801552650816,
          8.099315982142526,
          10.113947378104614,
          8.296149053913073,
          18.88387584187469,
          6.945816229195312,
          3.572034059097267,
          1.0487388247857443,
          9.905137485213354,
          2.5497639362706206,
          1.679168703554633,
          5.077446021518226,
          0.8024150042633349,
          21.41665023615978,
          7.887457660416573,
          9.175272753449844,
          1.4078831461064616,
          3.849536032109845,
          9.444654269311815,
          2.024041590309912,
          0.9573524947405664,
          4.025913345891223,
          2.031336514525504,
          10.482577100508529,
          3.149388784449477,
          0.4797252065068322,
          1.2257776775786198,
          7.206069641881547,
          10.607706318279863,
          9.069110018114406,
          0.2899144230977502,
          0.0106550457535691,
          0.4348462754510043,
          0.5505043717783363,
          0.0020099751248763,
          0.9026218566356492,
          8.943811548148865,
          0.0007211102552428,
          0.8145880169396732,
          0.000635917360031,
          0.348582108730283,
          0.0119885697893264,
          0.0056603886787259,
          0.2902349239735532,
          0.0057035076924667,
          0.1779399123514263,
          0.000360555126636,
          0.0004472135956419,
          0.0673404845173176,
          0.0044011362163797,
          0.0003605551272272,
          0.2490094113901666,
          0.0017033270048098,
          0.0004472135950063,
          0.0011440306516396,
          0.3502487954973722,
          0.2065089198137354,
          0.0003605551272272,
          0.0003605551272272,
          0.0012165525057916,
          0.0011045361003452,
          0.0022024984388568,
          0.0014328973781221,
          0.0013342650088624,
          0.0012727922064393,
          0.0989247236781101,
          0.6884540528203702,
          0.1738829683106157,
          0.002686598146014,
          0.0736205144088761,
          0.691663313318909,
          2.0351833613075083,
          0.0015652475837933,
          0.005162363800345,
          0.0022840329655071,
          0.003496048807088,
          0.0097557468968849,
          0.0053851648072604,
          0.7460770006875852,
          0.0039560080892922,
          0.0091105565604967,
          0.0050695167418594,
          0.1984274573616744,
          0.1141805156154106,
          0.0049193495507899,
          0.0019849433235909,
          0.1038344923056396,
          0.0967405295500614,
          0.2412747696665768,
          6.945816229195312,
          3.849536032109845,
          0.8024150042633349,
          3.572034059097267,
          9.444654269311815,
          1.679168703554633,
          3.149388784449477,
          9.069110018114406,
          10.105912236793342,
          4.025913345891223,
          0.4797252065068322,
          1.4078831461064616,
          2.024041590309912,
          9.905136513522963,
          18.89468406470161,
          2.5497639362706206,
          9.175272753449844,
          10.607706318279863,
          7.206069641881547,
          7.887457660416573,
          10.482577100508529,
          28.02875011643044,
          1.0487388247857443,
          5.077446021518226,
          1.2257776775786198,
          8.333561935360482,
          8.110777168298293,
          2.031336514525504,
          0.9573524947405664,
          16.45590864233331,
          18.99796793001557,
          0.0597606398569017,
          0.1779615969807558,
          0.3433430186794501,
          148.78793762563274
         ],
         "yaxis": "y"
        },
        {
         "hovertemplate": "tipo=ACUEDUCTO<br>diametro=%{x}<br>longitud=%{y}<extra></extra>",
         "legendgroup": "ACUEDUCTO",
         "marker": {
          "color": "#00cc96",
          "symbol": "circle"
         },
         "mode": "markers",
         "name": "ACUEDUCTO",
         "orientation": "v",
         "showlegend": true,
         "type": "scatter",
         "x": [
          23,
          23,
          23,
          23,
          23,
          23,
          23,
          20,
          20,
          30,
          30,
          24,
          30,
          30,
          30,
          30,
          30,
          30,
          20,
          29,
          30,
          30,
          20,
          20,
          23,
          24,
          30,
          42,
          24,
          20,
          20,
          25,
          20,
          30,
          42,
          24,
          20,
          24,
          20,
          20,
          42,
          20,
          25,
          20,
          42,
          24
         ],
         "xaxis": "x",
         "y": [
          9.489324859309104,
          5.794855257231466,
          2.4485184043878223,
          9.321643491250516,
          6.18103293725436,
          2.1400816756542795,
          2.827197550267567,
          24.970442236838927,
          0.4488161966383729,
          0.0381561306368564,
          2.348627440803125,
          3.569173193740592,
          2.340508759638306,
          1.0121985534524989,
          16.710277575502964,
          0.047644677446662,
          0.5464371116251697,
          0.1672763282720523,
          2.353371342420912,
          13.173837170126925,
          2.7554683772335142,
          0.2079036850783944,
          4.518880735423512,
          2.159921141687317,
          4.182327073597506,
          4.237774813455789,
          0.068653404867379,
          13.173900548375848,
          3.569318847173059,
          8.17408593399903,
          26.438663986800503,
          5.3751494286275125,
          26.438663986800503,
          2.340472993129312,
          13.173900548375848,
          3.569318847173059,
          8.238428925836743,
          3.569318847173059,
          8.238428925836743,
          26.438663986800503,
          13.173900548375848,
          26.438663986800503,
          5.3751494286275125,
          26.438663986800503,
          13.173900548375848,
          3.570305439337626
         ],
         "yaxis": "y"
        },
        {
         "hovertemplate": "tipo=POLIDUCTO<br>diametro=%{x}<br>longitud=%{y}<extra></extra>",
         "legendgroup": "POLIDUCTO",
         "marker": {
          "color": "#ab63fa",
          "symbol": "circle"
         },
         "mode": "markers",
         "name": "POLIDUCTO",
         "orientation": "v",
         "showlegend": true,
         "type": "scatter",
         "x": [
          24
         ],
         "xaxis": "x",
         "y": [
          85.93237085908694
         ],
         "yaxis": "y"
        }
       ],
       "layout": {
        "legend": {
         "title": {
          "text": "tipo"
         },
         "tracegroupgap": 0
        },
        "template": {
         "data": {
          "bar": [
           {
            "error_x": {
             "color": "#2a3f5f"
            },
            "error_y": {
             "color": "#2a3f5f"
            },
            "marker": {
             "line": {
              "color": "#E5ECF6",
              "width": 0.5
             },
             "pattern": {
              "fillmode": "overlay",
              "size": 10,
              "solidity": 0.2
             }
            },
            "type": "bar"
           }
          ],
          "barpolar": [
           {
            "marker": {
             "line": {
              "color": "#E5ECF6",
              "width": 0.5
             },
             "pattern": {
              "fillmode": "overlay",
              "size": 10,
              "solidity": 0.2
             }
            },
            "type": "barpolar"
           }
          ],
          "carpet": [
           {
            "aaxis": {
             "endlinecolor": "#2a3f5f",
             "gridcolor": "white",
             "linecolor": "white",
             "minorgridcolor": "white",
             "startlinecolor": "#2a3f5f"
            },
            "baxis": {
             "endlinecolor": "#2a3f5f",
             "gridcolor": "white",
             "linecolor": "white",
             "minorgridcolor": "white",
             "startlinecolor": "#2a3f5f"
            },
            "type": "carpet"
           }
          ],
          "choropleth": [
           {
            "colorbar": {
             "outlinewidth": 0,
             "ticks": ""
            },
            "type": "choropleth"
           }
          ],
          "contour": [
           {
            "colorbar": {
             "outlinewidth": 0,
             "ticks": ""
            },
            "colorscale": [
             [
              0,
              "#0d0887"
             ],
             [
              0.1111111111111111,
              "#46039f"
             ],
             [
              0.2222222222222222,
              "#7201a8"
             ],
             [
              0.3333333333333333,
              "#9c179e"
             ],
             [
              0.4444444444444444,
              "#bd3786"
             ],
             [
              0.5555555555555556,
              "#d8576b"
             ],
             [
              0.6666666666666666,
              "#ed7953"
             ],
             [
              0.7777777777777778,
              "#fb9f3a"
             ],
             [
              0.8888888888888888,
              "#fdca26"
             ],
             [
              1,
              "#f0f921"
             ]
            ],
            "type": "contour"
           }
          ],
          "contourcarpet": [
           {
            "colorbar": {
             "outlinewidth": 0,
             "ticks": ""
            },
            "type": "contourcarpet"
           }
          ],
          "heatmap": [
           {
            "colorbar": {
             "outlinewidth": 0,
             "ticks": ""
            },
            "colorscale": [
             [
              0,
              "#0d0887"
             ],
             [
              0.1111111111111111,
              "#46039f"
             ],
             [
              0.2222222222222222,
              "#7201a8"
             ],
             [
              0.3333333333333333,
              "#9c179e"
             ],
             [
              0.4444444444444444,
              "#bd3786"
             ],
             [
              0.5555555555555556,
              "#d8576b"
             ],
             [
              0.6666666666666666,
              "#ed7953"
             ],
             [
              0.7777777777777778,
              "#fb9f3a"
             ],
             [
              0.8888888888888888,
              "#fdca26"
             ],
             [
              1,
              "#f0f921"
             ]
            ],
            "type": "heatmap"
           }
          ],
          "heatmapgl": [
           {
            "colorbar": {
             "outlinewidth": 0,
             "ticks": ""
            },
            "colorscale": [
             [
              0,
              "#0d0887"
             ],
             [
              0.1111111111111111,
              "#46039f"
             ],
             [
              0.2222222222222222,
              "#7201a8"
             ],
             [
              0.3333333333333333,
              "#9c179e"
             ],
             [
              0.4444444444444444,
              "#bd3786"
             ],
             [
              0.5555555555555556,
              "#d8576b"
             ],
             [
              0.6666666666666666,
              "#ed7953"
             ],
             [
              0.7777777777777778,
              "#fb9f3a"
             ],
             [
              0.8888888888888888,
              "#fdca26"
             ],
             [
              1,
              "#f0f921"
             ]
            ],
            "type": "heatmapgl"
           }
          ],
          "histogram": [
           {
            "marker": {
             "pattern": {
              "fillmode": "overlay",
              "size": 10,
              "solidity": 0.2
             }
            },
            "type": "histogram"
           }
          ],
          "histogram2d": [
           {
            "colorbar": {
             "outlinewidth": 0,
             "ticks": ""
            },
            "colorscale": [
             [
              0,
              "#0d0887"
             ],
             [
              0.1111111111111111,
              "#46039f"
             ],
             [
              0.2222222222222222,
              "#7201a8"
             ],
             [
              0.3333333333333333,
              "#9c179e"
             ],
             [
              0.4444444444444444,
              "#bd3786"
             ],
             [
              0.5555555555555556,
              "#d8576b"
             ],
             [
              0.6666666666666666,
              "#ed7953"
             ],
             [
              0.7777777777777778,
              "#fb9f3a"
             ],
             [
              0.8888888888888888,
              "#fdca26"
             ],
             [
              1,
              "#f0f921"
             ]
            ],
            "type": "histogram2d"
           }
          ],
          "histogram2dcontour": [
           {
            "colorbar": {
             "outlinewidth": 0,
             "ticks": ""
            },
            "colorscale": [
             [
              0,
              "#0d0887"
             ],
             [
              0.1111111111111111,
              "#46039f"
             ],
             [
              0.2222222222222222,
              "#7201a8"
             ],
             [
              0.3333333333333333,
              "#9c179e"
             ],
             [
              0.4444444444444444,
              "#bd3786"
             ],
             [
              0.5555555555555556,
              "#d8576b"
             ],
             [
              0.6666666666666666,
              "#ed7953"
             ],
             [
              0.7777777777777778,
              "#fb9f3a"
             ],
             [
              0.8888888888888888,
              "#fdca26"
             ],
             [
              1,
              "#f0f921"
             ]
            ],
            "type": "histogram2dcontour"
           }
          ],
          "mesh3d": [
           {
            "colorbar": {
             "outlinewidth": 0,
             "ticks": ""
            },
            "type": "mesh3d"
           }
          ],
          "parcoords": [
           {
            "line": {
             "colorbar": {
              "outlinewidth": 0,
              "ticks": ""
             }
            },
            "type": "parcoords"
           }
          ],
          "pie": [
           {
            "automargin": true,
            "type": "pie"
           }
          ],
          "scatter": [
           {
            "fillpattern": {
             "fillmode": "overlay",
             "size": 10,
             "solidity": 0.2
            },
            "type": "scatter"
           }
          ],
          "scatter3d": [
           {
            "line": {
             "colorbar": {
              "outlinewidth": 0,
              "ticks": ""
             }
            },
            "marker": {
             "colorbar": {
              "outlinewidth": 0,
              "ticks": ""
             }
            },
            "type": "scatter3d"
           }
          ],
          "scattercarpet": [
           {
            "marker": {
             "colorbar": {
              "outlinewidth": 0,
              "ticks": ""
             }
            },
            "type": "scattercarpet"
           }
          ],
          "scattergeo": [
           {
            "marker": {
             "colorbar": {
              "outlinewidth": 0,
              "ticks": ""
             }
            },
            "type": "scattergeo"
           }
          ],
          "scattergl": [
           {
            "marker": {
             "colorbar": {
              "outlinewidth": 0,
              "ticks": ""
             }
            },
            "type": "scattergl"
           }
          ],
          "scattermapbox": [
           {
            "marker": {
             "colorbar": {
              "outlinewidth": 0,
              "ticks": ""
             }
            },
            "type": "scattermapbox"
           }
          ],
          "scatterpolar": [
           {
            "marker": {
             "colorbar": {
              "outlinewidth": 0,
              "ticks": ""
             }
            },
            "type": "scatterpolar"
           }
          ],
          "scatterpolargl": [
           {
            "marker": {
             "colorbar": {
              "outlinewidth": 0,
              "ticks": ""
             }
            },
            "type": "scatterpolargl"
           }
          ],
          "scatterternary": [
           {
            "marker": {
             "colorbar": {
              "outlinewidth": 0,
              "ticks": ""
             }
            },
            "type": "scatterternary"
           }
          ],
          "surface": [
           {
            "colorbar": {
             "outlinewidth": 0,
             "ticks": ""
            },
            "colorscale": [
             [
              0,
              "#0d0887"
             ],
             [
              0.1111111111111111,
              "#46039f"
             ],
             [
              0.2222222222222222,
              "#7201a8"
             ],
             [
              0.3333333333333333,
              "#9c179e"
             ],
             [
              0.4444444444444444,
              "#bd3786"
             ],
             [
              0.5555555555555556,
              "#d8576b"
             ],
             [
              0.6666666666666666,
              "#ed7953"
             ],
             [
              0.7777777777777778,
              "#fb9f3a"
             ],
             [
              0.8888888888888888,
              "#fdca26"
             ],
             [
              1,
              "#f0f921"
             ]
            ],
            "type": "surface"
           }
          ],
          "table": [
           {
            "cells": {
             "fill": {
              "color": "#EBF0F8"
             },
             "line": {
              "color": "white"
             }
            },
            "header": {
             "fill": {
              "color": "#C8D4E3"
             },
             "line": {
              "color": "white"
             }
            },
            "type": "table"
           }
          ]
         },
         "layout": {
          "annotationdefaults": {
           "arrowcolor": "#2a3f5f",
           "arrowhead": 0,
           "arrowwidth": 1
          },
          "autotypenumbers": "strict",
          "coloraxis": {
           "colorbar": {
            "outlinewidth": 0,
            "ticks": ""
           }
          },
          "colorscale": {
           "diverging": [
            [
             0,
             "#8e0152"
            ],
            [
             0.1,
             "#c51b7d"
            ],
            [
             0.2,
             "#de77ae"
            ],
            [
             0.3,
             "#f1b6da"
            ],
            [
             0.4,
             "#fde0ef"
            ],
            [
             0.5,
             "#f7f7f7"
            ],
            [
             0.6,
             "#e6f5d0"
            ],
            [
             0.7,
             "#b8e186"
            ],
            [
             0.8,
             "#7fbc41"
            ],
            [
             0.9,
             "#4d9221"
            ],
            [
             1,
             "#276419"
            ]
           ],
           "sequential": [
            [
             0,
             "#0d0887"
            ],
            [
             0.1111111111111111,
             "#46039f"
            ],
            [
             0.2222222222222222,
             "#7201a8"
            ],
            [
             0.3333333333333333,
             "#9c179e"
            ],
            [
             0.4444444444444444,
             "#bd3786"
            ],
            [
             0.5555555555555556,
             "#d8576b"
            ],
            [
             0.6666666666666666,
             "#ed7953"
            ],
            [
             0.7777777777777778,
             "#fb9f3a"
            ],
            [
             0.8888888888888888,
             "#fdca26"
            ],
            [
             1,
             "#f0f921"
            ]
           ],
           "sequentialminus": [
            [
             0,
             "#0d0887"
            ],
            [
             0.1111111111111111,
             "#46039f"
            ],
            [
             0.2222222222222222,
             "#7201a8"
            ],
            [
             0.3333333333333333,
             "#9c179e"
            ],
            [
             0.4444444444444444,
             "#bd3786"
            ],
            [
             0.5555555555555556,
             "#d8576b"
            ],
            [
             0.6666666666666666,
             "#ed7953"
            ],
            [
             0.7777777777777778,
             "#fb9f3a"
            ],
            [
             0.8888888888888888,
             "#fdca26"
            ],
            [
             1,
             "#f0f921"
            ]
           ]
          },
          "colorway": [
           "#636efa",
           "#EF553B",
           "#00cc96",
           "#ab63fa",
           "#FFA15A",
           "#19d3f3",
           "#FF6692",
           "#B6E880",
           "#FF97FF",
           "#FECB52"
          ],
          "font": {
           "color": "#2a3f5f"
          },
          "geo": {
           "bgcolor": "white",
           "lakecolor": "white",
           "landcolor": "#E5ECF6",
           "showlakes": true,
           "showland": true,
           "subunitcolor": "white"
          },
          "hoverlabel": {
           "align": "left"
          },
          "hovermode": "closest",
          "mapbox": {
           "style": "light"
          },
          "paper_bgcolor": "white",
          "plot_bgcolor": "#E5ECF6",
          "polar": {
           "angularaxis": {
            "gridcolor": "white",
            "linecolor": "white",
            "ticks": ""
           },
           "bgcolor": "#E5ECF6",
           "radialaxis": {
            "gridcolor": "white",
            "linecolor": "white",
            "ticks": ""
           }
          },
          "scene": {
           "xaxis": {
            "backgroundcolor": "#E5ECF6",
            "gridcolor": "white",
            "gridwidth": 2,
            "linecolor": "white",
            "showbackground": true,
            "ticks": "",
            "zerolinecolor": "white"
           },
           "yaxis": {
            "backgroundcolor": "#E5ECF6",
            "gridcolor": "white",
            "gridwidth": 2,
            "linecolor": "white",
            "showbackground": true,
            "ticks": "",
            "zerolinecolor": "white"
           },
           "zaxis": {
            "backgroundcolor": "#E5ECF6",
            "gridcolor": "white",
            "gridwidth": 2,
            "linecolor": "white",
            "showbackground": true,
            "ticks": "",
            "zerolinecolor": "white"
           }
          },
          "shapedefaults": {
           "line": {
            "color": "#2a3f5f"
           }
          },
          "ternary": {
           "aaxis": {
            "gridcolor": "white",
            "linecolor": "white",
            "ticks": ""
           },
           "baxis": {
            "gridcolor": "white",
            "linecolor": "white",
            "ticks": ""
           },
           "bgcolor": "#E5ECF6",
           "caxis": {
            "gridcolor": "white",
            "linecolor": "white",
            "ticks": ""
           }
          },
          "title": {
           "x": 0.05
          },
          "xaxis": {
           "automargin": true,
           "gridcolor": "white",
           "linecolor": "white",
           "ticks": "",
           "title": {
            "standoff": 15
           },
           "zerolinecolor": "white",
           "zerolinewidth": 2
          },
          "yaxis": {
           "automargin": true,
           "gridcolor": "white",
           "linecolor": "white",
           "ticks": "",
           "title": {
            "standoff": 15
           },
           "zerolinecolor": "white",
           "zerolinewidth": 2
          }
         }
        },
        "title": {
         "text": "Relación entre diámetro y longitud con tipo de ducto"
        },
        "xaxis": {
         "anchor": "y",
         "domain": [
          0,
          1
         ],
         "title": {
          "text": "diametro"
         }
        },
        "yaxis": {
         "anchor": "x",
         "domain": [
          0,
          1
         ],
         "title": {
          "text": "longitud"
         }
        }
       }
      },
      "text/html": [
       "<div>                            <div id=\"179cd0a6-e7fd-40a7-8ecd-05a58c5f2d09\" class=\"plotly-graph-div\" style=\"height:525px; width:100%;\"></div>            <script type=\"text/javascript\">                require([\"plotly\"], function(Plotly) {                    window.PLOTLYENV=window.PLOTLYENV || {};                                    if (document.getElementById(\"179cd0a6-e7fd-40a7-8ecd-05a58c5f2d09\")) {                    Plotly.newPlot(                        \"179cd0a6-e7fd-40a7-8ecd-05a58c5f2d09\",                        [{\"hovertemplate\":\"tipo=GASODUCTO<br>diametro=%{x}<br>longitud=%{y}<extra></extra>\",\"legendgroup\":\"GASODUCTO\",\"marker\":{\"color\":\"#636efa\",\"symbol\":\"circle\"},\"mode\":\"markers\",\"name\":\"GASODUCTO\",\"orientation\":\"v\",\"showlegend\":true,\"x\":[20.0,24.0,24.0,24.0,20.0,20.0,20.0,20.0,20.0,25.5,25.5,24.0,24.0,24.0,24.0,24.0,24.0,24.0,24.0,24.0,24.0,24.0,24.0,24.0,36.0,24.0,24.0,30.0,36.0,20.0,20.0,30.0,24.0,20.0,30.0,20.0,20.0,20.0,20.0,20.0,20.0,20.0,20.0,20.0,20.0,20.0,20.0,20.0,24.0,20.0,20.0,24.0,20.0,20.0,20.0,20.0,20.0,20.0,20.0,20.0,24.0,24.0,20.0,20.0,24.0,24.0,24.0,24.0,24.0,24.0,24.0,24.0,26.0,24.0,24.0,24.0,24.0,23.0,24.0,24.0,24.0,23.0,24.0,24.0,24.0,24.0,23.0,24.0,20.0,20.0,20.0,20.0,23.0,20.0,20.0,20.0,20.0,27.0,23.0,20.0,30.0,20.0,28.0,26.0,23.0,22.0,20.0,20.0,20.0,20.0,20.0,20.0,23.0,20.0,20.0,42.0,30.0,21.0,20.0,20.0,20.0,20.0,30.0,20.0,20.0,20.0,20.0,24.0,20.0,24.0,24.0,20.0,30.0,30.0,30.0,22.0,24.0,24.0,24.0,24.0,24.0,24.0,24.0,24.0,24.0,24.0,24.0,27.0,20.0,20.0,23.0,20.0,22.0,23.0,20.0,30.0,23.0,30.0,26.0,23.0,30.0,27.0,20.0,20.0,27.0,20.0,23.0,20.0,20.0,27.0,30.0,23.0,30.0,24.0,30.0,29.0,20.0,20.0,30.0,23.0,23.0,30.0,23.0,20.0,20.0,32.0,20.0,30.0,20.0,24.0,20.0,25.0,30.0,20.0,29.0,20.0,26.0,26.0,30.0,23.0,23.0,30.0,20.0,20.0,30.0,20.0,25.0,26.0,20.0,25.0,30.0,20.0,20.0,20.0,26.0,20.0,23.0,23.0,30.0,30.0,20.0,23.0,25.0,23.0,20.0,23.0,29.0,20.0,25.0,30.0,27.0,25.0,30.0,20.0,25.0,23.0,20.0,20.0,20.0,20.0,23.0,29.0,26.0,30.0,20.0,23.0,23.0,24.0,24.0,24.0,25.0,25.0,20.0,36.0,25.0,20.0,20.0,22.0,23.0,23.0,20.0,20.0,26.0,20.0,30.0,23.0,20.0,20.0,30.0,25.0,20.0,23.0,36.0,23.0,20.0,20.0,20.0,20.0,30.0,24.0,24.0,36.0,24.0,20.0,20.0,42.0,20.0,42.0,42.0,20.0,20.0,20.0,20.0,20.0,20.0,24.0,20.0,20.0,20.0,24.0,20.0,42.0,20.0,20.0,20.0,20.0,20.0,24.0,20.0,24.0,42.0,42.0,20.0,20.0,20.0,20.0,20.0,28.0,20.0,20.0,24.0,20.0,20.0,20.0,20.0,20.0,42.0,42.0,20.0,20.0,20.0,20.0,20.0,20.0,20.0,20.0,20.0,20.0,20.0,20.0,20.0,24.0,20.0,20.0,20.0,20.0,20.0,42.0,20.0,20.0,20.0,20.0,20.0,20.0,20.0,20.0,20.0,20.0,20.0,20.0,42.0,20.0,20.0,20.0,24.0,20.0,20.0,20.0,24.0,20.0,20.0,20.0,42.0,20.0,20.0,24.0,20.0,24.0,30.0,23.0,26.0,20.0,23.0,20.0,30.0,25.0,23.0,23.0,23.0,23.0,30.0,26.0,26.0,20.0,20.0,20.0,20.0,20.0,20.0,20.0,20.0,20.0,20.0,20.0,20.0,24.0,20.0,24.0,24.0,24.0,24.0,24.0,24.0,24.0,24.0,24.0,24.0,24.0,24.0,20.0,20.0,24.0,24.0,24.0,30.0,24.0,24.0,24.0,24.0,24.0,20.0,20.0,24.0,20.0,30.0,24.0,24.0,30.0,30.0,24.0,24.0,24.0,24.0,24.0,24.0,24.0,24.0,24.0,24.0,24.0,24.0,24.0,24.0,24.0,24.0,24.0,24.0,42.0,20.0,24.0,24.0,20.0,24.0,24.0,24.0,24.0,24.0,24.0,24.0,20.0,24.0,24.0,24.0,20.0,24.0,24.0,24.0,24.0,24.0,20.0,24.0,24.0,24.0,24.0,24.0,20.0,20.0,20.0,24.0,30.0,24.0,24.0,20.0,24.0,24.0,24.0,24.0,30.0,42.0,20.0,24.0,36.0,20.0,24.0,24.0,24.0,20.0,24.0,24.0,24.0,24.0,24.0,24.0,24.0,24.0,24.0,24.0,30.0,20.0,20.0,20.0,24.0,24.0,24.0,24.0,24.0,24.0,24.0,24.0,24.0,24.0,20.0,24.0,30.0,20.0,24.0,24.0,24.0,20.0,20.0,20.0,24.0,20.0,24.0,24.0,24.0,24.0,24.0,24.0,24.0,63.0,63.0,63.0,63.0,63.0,125.0,20.0,63.0,63.0,63.0,63.0,63.0,30.0,63.0,63.0,63.0,90.0,30.0,30.0,30.0,30.0,30.0,30.0,30.0,30.0,63.0,63.0,63.0,63.0,63.0,63.0,90.0,63.0,63.0,63.0,63.0,125.0,125.0,125.0,63.0,63.0,63.0,63.0,63.0,63.0,63.0,63.0,63.0,63.0,63.0,63.0,63.0,63.0,63.0,63.0,63.0,63.0,63.0,63.0,63.0,63.0,63.0,63.0,63.0,63.0,63.0,63.0,63.0,63.0,63.0,63.0,63.0,63.0,63.0,63.0,63.0,63.0,63.0,125.0,63.0,63.0,63.0,63.0,63.0,63.0,63.0,63.0,63.0,63.0,63.0,63.0,63.0,63.0,63.0,63.0,63.0,63.0,63.0,63.0,63.0,63.0,63.0,63.0,63.0,63.0,63.0,63.0,63.0,63.0,20.0,24.0,24.0,24.0,24.0,24.0,20.0],\"xaxis\":\"x\",\"y\":[23.37989329987204,17.256944897161908,2.955635301661116,1.629648530101058,12.264041057355843,0.085900607374049,10.44022221639727,0.5328111860691467,2.96067257392658,3.74709733527213,0.2953236360334582,4.911736484099336,6.120823513248668,0.0484532764631724,57.08150273019829,5.309298141157794,4.903075276122869,28.0353196118633,2.2256462049283097,26.686812118296988,6.346285761969309,3.897907132950703,5.0653741553961655,5.078290561500203,1.032837876268139,17.653802513836546,25.126403833942017,14.51398641102862,9.275132678298489,4.3796006538358,0.3366241075583502,0.9890040997830648,17.344450058594695,1.7032829275228492,13.724691059080676,3.2682882123234114,0.0903231974632919,1.8631034529443264,0.3280430593080126,0.01277810627655,4.028878337920286,0.0281625638039968,0.0028160255681723,0.5197548350705522,0.0802168311513948,0.5183063861958704,1.8326303924286529,0.5175305078118899,4.891509920442352,32.61656618812809,0.0107786826651296,24.09706384728156,4.04044595949878,1.8353987801687035,0.0038183766178106,0.0027892651360575,0.360646139565335,0.01277810627655,1.9119154893187784,0.1050908654448172,0.1204548501009777,0.0676782414141159,0.8181909619654537,32.74017851428442,23.97385130142264,0.0141226768000315,0.0559890214184863,0.01164560002685,0.1491331166793932,5.960426056179455,0.0139032370321628,3.5780196562341486,0.2770252248212199,1.572150001239199,0.0845092221709309,0.0282453536000631,0.0226922724562698,5.301826322436069,0.1040800197105551,4.061024679951104,1.854574219086752,10.71177273563519,2.5159487418420805,1.7189001862780977,0.2770246286029669,0.4999847240566442,0.0528000104621782,1.4138037375341816,3.63002954393596,5.531171950826465,4.801375085090855,4.86183249207871,7.457279209134058,11.026735393191226,14.508958739475784,6.172039433888754,12.264041057355843,0.4581740706816751,1.3408934346181158,7.81186173386106,1.3097366427034178,0.3465550732904041,2.8430373305878858,0.6332742386618825,0.2547826818241728,0.3446778117406039,0.9106759689475222,0.32736604524999,3.007220537220641,3.692887653744047,2.112809124731167,0.7514947679705732,1.0967297330788228,0.0079309520234785,1.359603632393395,13.427826235468002,0.0231175258190797,4.231674049664297,0.1372447866102324,3.3847888563127606,2.7682206404439835,1.3565906034427653,13.835443477691015,10.84929786981833,1.4762997712703785,2.3425629774366263,0.4330268892180799,7.202342456412601,8.242596769537272,4.261940619168898,0.0321829917794994,14.417485927634038,1.232542681848054,1.2764669897112864,0.1920772977932896,8.098497392652796,1.7753509094632105,0.3156012710738706,1.4676296064770584,1.9129530668143984,2.731064505760481,2.955635301661116,1.629648530101058,2.8134691430760266,0.4663278268653592,0.4157235653665345,2.874226564141364,5.072270598547915,8.242596769537272,1.2526268579378468,51.26831141886501,6.80497391304408,6.362694581808517,0.6569860380923345,0.0327783985042992,1.8030889925472848,3.5589262391169907,0.3863203017985413,10.14962999472489,0.1190131404793269,0.0293124546902644,0.037664970463018,2.4799307325612934,6.12772272528276,1.780728726275914,9.278467589182744,9.970878368487853,4.014824073880422,0.3168827187662734,0.9890040997830648,0.0842377743056334,0.8209995271039504,0.0377922772596645,0.249947067478806,0.359088225205958,0.1447100145256681,2.6984627256715794,7.487007294173919,0.3948652979521841,0.1304987416727643,1.3088486528967973,0.0005242640688955,9.071768093991952,3.906144818358519,0.028358161340242,2.842963263217988,0.6129410936593838,1.6710241235302803,3.0124809582675827,5.13410252472617,0.5541853214917266,2.890535363842609,0.0854199631814393,1.4851198190688883,0.1361073179890998,3.144113369800763,0.9230711145956724,15.64978328148993,0.0004123105628994,0.2824683260256598,0.2187701178846108,0.0305665162840773,0.0098005101905553,2.781843595210275,0.0047265209187604,5.514273077292856,0.0417264354801273,46.52552374612659,0.3598684801723912,2.039907035081199,0.0161335055092832,3.2941975671093062,3.5579581766981607,3.157760727846122,44.11746272203717,5.631639630588609,1.0445217831523812,14.723266867620136,0.0022803508502989,1.0610411479739268,1.7306451549276372,6.752716226225291,10.84929786981833,3.73262654776222,3.2280355553153783,0.3392906609101291,0.2077733948624064,4.90796257771563,1.4760591254718898,0.384584140488575,13.83545183665741,0.3544737849241529,0.3628942598642525,2.537413848887348,7.81186173386106,7.1441693194748845,2.3479793013744974,2.825030324943661,1.2964765511021108,4.2285571784935,3.194654430091686,13.427826235468002,5.999073026593896,1.6748879286693872,8.934417799555398,6.957318033439544,28.753343735671788,1.8397785916819096,6.379773070344132,10.738802237353202,1.3565906034427653,1.8937212194624344,3.597101281995515,9.27507411763616,3.555982668126003,3.922251208280161,3.689829331135338,0.6772246936428608,0.5763817709392012,2.000224876747524,2.9439332563231604,1.854718301510542,34.99825257243124,0.0908278479226668,9.420880555093444,3.50006240581305,6.115301660127407,7.519331194658497,0.0815661988114856,0.0868925392884338,0.0149286902190372,0.1901148592044324,1.0326817651347806,6.288257740822943,3.007648414675599,3.985414706738639,4.372682104972365,1.582018455197286,0.0483718225436465,0.0806895792223288,34.94268497146364,27.5830295187912,7.83782180705253,2.8126769674486387,0.0109635760576166,0.0,0.0019416487829448,0.0001000000011686,0.0016970562745824,0.0016643316982461,0.0015264337519312,0.0006708203931451,0.0011313708500566,0.0004242640696504,0.0020615528131529,15.649855985040944,0.0,0.0011401754253364,0.0008485281377936,0.6330573946513626,2.0399211452553168,0.0012727922059368,0.0001000000011686,0.0001414213558802,9.999999974752428e-05,0.0021840329657596,1.3565243257192878,46.525519353230415,10.848905704596133,34.99824239928569,0.20764115608566,0.1446156526723983,0.0022203603310477,0.0925324354019281,0.0003605551270302,0.0001414213563826,0.0,2.8430373305878858,0.0115108644326158,0.0010049875616957,5.9990367704242304,0.0036796738978202,0.0013453624048492,0.0016278820595156,0.0007071067823153,9.999999974752428e-05,0.0020518284532287,0.0001414213568851,0.0418094716411747,0.0009433981139871,0.0009307135785964,0.0055154328928955,2.8906683110560683,0.0003605551278184,0.0006082762528958,1.4762997712703785,1.893891492005905,0.0013453624048492,0.0012727922064393,0.0015811388296423,0.0043863424403838,0.923028502474946,0.0016643316982461,0.0007211102548487,0.3543738359496203,0.0006403124236802,7.811919226220751,0.1361073179895347,0.0034465412291803,0.0868109183970353,0.001400000000018,0.0012727922054344,0.0023600847438221,0.0019209372703748,0.0012369316890429,0.0015811388296423,0.0002236067975031,0.0005000000003008,0.0053740115375177,0.0008062257750857,0.0035383612032159,0.0,0.1966081869542608,0.0022627417001132,0.0427724973748464,0.0012041594573763,0.0017117242767747,0.0007071067815114,44.11743321314309,3.5558668418988413,0.0016643316974349,0.0019798989868454,13.427828186805414,0.0005656854245258,0.0007810249676202,10.149491469465993,12.263969746839877,0.8314833053453241,3.9004839946961134,5.033890665149992,7.219936803994953,0.3438661747690836,8.187823295702888,0.817919489193449,2.0715652035895484,8.242606925657068,1.1034914326753724,29.32857455830978,3.156975730327135,5.055435852307087,4.10206157961616,4.261913612511918,0.032179656723981,0.1050908654448172,0.360646139565335,0.5175305078118899,0.0038183766178106,0.01277810627655,0.0027892651360575,1.8353987801687035,4.04044595949878,1.9119154893187784,0.5183063861958704,0.0107786826651296,0.5197548350705522,0.0677747755164657,0.8181909479712548,0.1203195134131345,1.4676296064770584,0.4157235653665345,0.3156012710738706,1.7753509094632105,1.9129530668143984,2.731064505760481,2.955635301661116,1.629648530101058,0.4663278268653592,2.8134691430760266,2.874226564141364,31.02780147904816,0.3543738359496203,0.4156288565924249,4.261913612511918,0.1040800197105551,14.513992854371857,1.4138045738258902,0.7887965042215213,0.2586992596457853,0.2403413691541976,1.9129198919374493,12.263969746839877,0.3441269450375301,0.0559890214184863,8.242606925657068,0.458200008766731,2.813576646785368,0.3157012253829173,13.724629888699884,0.0691416661647103,1.854574219086752,6.379773070344132,0.0139032370321628,7.219936803994953,0.2770246286029669,0.014205632685331,0.0845092221709309,1.467569085281178,1.8397785916819096,0.4664188005653182,0.0141226768000315,2.874178055799517,0.032179656723981,4.061024682223325,1.572150001239199,0.4999847240566442,0.0427724973748464,0.1491331166793932,13.427828186805414,0.1054432998345619,0.0234691487595653,0.0226922724562698,8.008527108295247,10.149491469465993,2.7311155522866204,1.6295544058574691,2.5159487420632924,0.0282453536000631,3.5780196562341486,0.01164560002685,1.3565243257192878,1.7189001862780977,2.955603804530166,1.7754408608930463,10.519870407053334,0.8314833053453241,5.960425369274628,0.6330573946513626,15.649855985040944,5.9990367704242304,4.538476295014545,22.813593338999244,0.1096400293832702,12.672840256635997,0.0561221473653694,34.998242416436895,0.3441269450375301,10.519870407053334,0.1054432998345619,0.0427724973748464,0.3713970787735151,0.7270292876984092,1.8397785916819096,1.3565243257192878,6.379773070344132,0.1233965425676346,0.584517075511455,0.1115119748095072,13.814221614963188,13.397810754551356,7.988720583868258,0.1040800197105551,13.22380036648989,1.4762997712703785,5.9990367704242304,0.0616175184425186,7.219936803994953,8.242606925657068,4.261913612511918,0.4664188005653182,2.813576646785368,1.7754408608930463,0.4156288565924249,0.3157012253829173,2.874178055799517,1.9129198919374493,1.467569085281178,0.8314833053453241,0.0691416661647103,0.3543738359496203,49.332337962688186,0.1054432998345619,0.084059461120136,0.0427724973748464,15.649855986833538,0.1090794085664199,2.989097735395956,0.1040800197105551,10.149491469465993,5.999036976537095,0.0616393567925829,4.153309852590397,8.242678782267674,4.262047530111017,0.0691416661647103,0.3543738359496203,0.033018353513224,0.4199755965787981,0.0044181444071064,0.1137784346887967,0.0295732082936809,0.0037818164719326,46.57684526568272,14.3516597148084,2.961238314210025,28.823582599389265,28.822747133051823,32.81792243817603,44.170338813087554,116.4823694563182,28.85422306660755,0.2530640285862743,0.0660587213045643,0.7382173041137854,0.2299535501517514,0.0980306283984644,0.4030109179657539,45.64995176238919,0.0610924372652763,0.0264406266271867,0.0213198292996188,0.1521025304975395,0.0169941166286728,0.2490404497400112,0.2157487729293924,0.1770647900848022,0.0899052825885487,1.0448004066887906,0.0842377743056334,0.2750376454336787,1.1204684902120854,0.0047265209187604,2.6863331126729384,3.177619779756903,0.3388843550521364,0.3863203017985413,0.2441801197836722,0.1431003120347877,0.0956153230397639,0.1761195915113952,0.1129733070222231,0.1640849580728924,0.2437952896840732,2.341055820156189,0.1609910130059176,0.2694059310696617,0.1540471213696145,3.712865806278773,0.3113005145969698,1.204735704112971,0.0609338165549241,0.2199032453791588,0.5701533543720962,0.2660786861656604,0.1132947791858544,0.2441766226613361,2.272204437066294,0.0603549251763696,0.0737353024974782,0.7766453800710197,1.4631154763839451,1.2678619099449515,1.1208182638684,0.3936525935552778,0.0747453260480805,0.4899369706092526,0.261949457596213,0.0908322753343086,0.2520707760726408,0.0445933850409542,0.3406507270233558,0.0601774239085063,0.2950241792863441,0.0702022580385448,0.1862688649364557,0.0221505417864723,0.0722130085859707,0.0302861844563408,0.6908872870058974,0.0924011079828912,0.1026737962661264,0.1007263110535205,0.1768429006287703,0.3142261378412899,0.1920328644093174,0.0687319425349038,0.10869674502471,0.3790408555031982,0.0343347162328903,1.096186719866695,0.104423814912617,0.1001041398436915,1.0883355370722965,0.5145980327156291,0.1460201259641273,0.0309622350616444,0.6200262370794742,0.5746122121470564,0.9341028484792916,0.0269408611595242,0.2953510376063187,0.0848842017593866,0.2746105677406346,0.1956109063345793,0.3559486705916539,0.1929620881064808,0.2733418282928215,0.5398227204500711,0.3439551848312941,0.8842264730729738,0.0511329639270277,0.2631702267881979,0.7163773491886447,0.072476823880509,0.0411442584083909,0.0296863605042883,0.0315412428415796,0.5120764258383,0.3584344892049263,1.2676623470242183,0.1054432998345619,0.0427724973748464,15.649855985040944,0.1040800197105551,10.149491469465993,5.999036976537095,0.3543738359496203],\"yaxis\":\"y\",\"type\":\"scatter\"},{\"hovertemplate\":\"tipo=OLEODUCTO<br>diametro=%{x}<br>longitud=%{y}<extra></extra>\",\"legendgroup\":\"OLEODUCTO\",\"marker\":{\"color\":\"#EF553B\",\"symbol\":\"circle\"},\"mode\":\"markers\",\"name\":\"OLEODUCTO\",\"orientation\":\"v\",\"showlegend\":true,\"x\":[20.0,20.0,24.0,20.0,20.0,20.0,20.0,24.0,24.0,24.0,20.0,20.0,24.0,24.0,24.0,20.0,20.0,20.0,24.0,24.0,24.0,24.0,24.0,24.0,24.0,20.0,24.0,24.0,24.0,20.0,20.0,24.0,30.0,30.0,30.0,30.0,30.0,30.0,20.0,20.0,30.0,30.0,30.0,30.0,22.0,30.0,30.0,30.0,30.0,30.0,30.0,30.0,30.0,30.0,30.0,30.0,30.0,30.0,30.0,30.0,30.0,30.0,30.0,30.0,30.0,30.0,20.0,20.0,30.0,30.0,30.0,30.0,30.0,20.0,30.0,30.0,30.0,30.0,30.0,30.0,30.0,30.0,30.0,30.0,30.0,30.0,30.0,20.0,30.0,20.0,30.0,24.0,24.0,24.0,24.0,24.0,24.0,24.0,24.0,20.0,24.0,24.0,24.0,24.0,20.0,20.0,20.0,20.0,20.0,20.0,20.0,20.0,20.0,24.0,24.0,24.0,20.0,20.0,24.0,24.0,22.0,20.0,63.0,90.0,63.0,24.0],\"xaxis\":\"x\",\"y\":[6.612484120964182,0.0615442929928378,1.6603801552650816,8.099315982142526,10.113947378104614,8.296149053913073,18.88387584187469,6.945816229195312,3.572034059097267,1.0487388247857443,9.905137485213354,2.5497639362706206,1.679168703554633,5.077446021518226,0.8024150042633349,21.41665023615978,7.887457660416573,9.175272753449844,1.4078831461064616,3.849536032109845,9.444654269311815,2.024041590309912,0.9573524947405664,4.025913345891223,2.031336514525504,10.482577100508529,3.149388784449477,0.4797252065068322,1.2257776775786198,7.206069641881547,10.607706318279863,9.069110018114406,0.2899144230977502,0.0106550457535691,0.4348462754510043,0.5505043717783363,0.0020099751248763,0.9026218566356492,8.943811548148865,0.0007211102552428,0.8145880169396732,0.000635917360031,0.348582108730283,0.0119885697893264,0.0056603886787259,0.2902349239735532,0.0057035076924667,0.1779399123514263,0.000360555126636,0.0004472135956419,0.0673404845173176,0.0044011362163797,0.0003605551272272,0.2490094113901666,0.0017033270048098,0.0004472135950063,0.0011440306516396,0.3502487954973722,0.2065089198137354,0.0003605551272272,0.0003605551272272,0.0012165525057916,0.0011045361003452,0.0022024984388568,0.0014328973781221,0.0013342650088624,0.0012727922064393,0.0989247236781101,0.6884540528203702,0.1738829683106157,0.002686598146014,0.0736205144088761,0.691663313318909,2.0351833613075083,0.0015652475837933,0.005162363800345,0.0022840329655071,0.003496048807088,0.0097557468968849,0.0053851648072604,0.7460770006875852,0.0039560080892922,0.0091105565604967,0.0050695167418594,0.1984274573616744,0.1141805156154106,0.0049193495507899,0.0019849433235909,0.1038344923056396,0.0967405295500614,0.2412747696665768,6.945816229195312,3.849536032109845,0.8024150042633349,3.572034059097267,9.444654269311815,1.679168703554633,3.149388784449477,9.069110018114406,10.105912236793342,4.025913345891223,0.4797252065068322,1.4078831461064616,2.024041590309912,9.905136513522963,18.89468406470161,2.5497639362706206,9.175272753449844,10.607706318279863,7.206069641881547,7.887457660416573,10.482577100508529,28.02875011643044,1.0487388247857443,5.077446021518226,1.2257776775786198,8.333561935360482,8.110777168298293,2.031336514525504,0.9573524947405664,16.45590864233331,18.99796793001557,0.0597606398569017,0.1779615969807558,0.3433430186794501,148.78793762563274],\"yaxis\":\"y\",\"type\":\"scatter\"},{\"hovertemplate\":\"tipo=ACUEDUCTO<br>diametro=%{x}<br>longitud=%{y}<extra></extra>\",\"legendgroup\":\"ACUEDUCTO\",\"marker\":{\"color\":\"#00cc96\",\"symbol\":\"circle\"},\"mode\":\"markers\",\"name\":\"ACUEDUCTO\",\"orientation\":\"v\",\"showlegend\":true,\"x\":[23.0,23.0,23.0,23.0,23.0,23.0,23.0,20.0,20.0,30.0,30.0,24.0,30.0,30.0,30.0,30.0,30.0,30.0,20.0,29.0,30.0,30.0,20.0,20.0,23.0,24.0,30.0,42.0,24.0,20.0,20.0,25.0,20.0,30.0,42.0,24.0,20.0,24.0,20.0,20.0,42.0,20.0,25.0,20.0,42.0,24.0],\"xaxis\":\"x\",\"y\":[9.489324859309104,5.794855257231466,2.4485184043878223,9.321643491250516,6.18103293725436,2.1400816756542795,2.827197550267567,24.970442236838927,0.4488161966383729,0.0381561306368564,2.348627440803125,3.569173193740592,2.340508759638306,1.0121985534524989,16.710277575502964,0.047644677446662,0.5464371116251697,0.1672763282720523,2.353371342420912,13.173837170126925,2.7554683772335142,0.2079036850783944,4.518880735423512,2.159921141687317,4.182327073597506,4.237774813455789,0.068653404867379,13.173900548375848,3.569318847173059,8.17408593399903,26.438663986800503,5.3751494286275125,26.438663986800503,2.340472993129312,13.173900548375848,3.569318847173059,8.238428925836743,3.569318847173059,8.238428925836743,26.438663986800503,13.173900548375848,26.438663986800503,5.3751494286275125,26.438663986800503,13.173900548375848,3.570305439337626],\"yaxis\":\"y\",\"type\":\"scatter\"},{\"hovertemplate\":\"tipo=POLIDUCTO<br>diametro=%{x}<br>longitud=%{y}<extra></extra>\",\"legendgroup\":\"POLIDUCTO\",\"marker\":{\"color\":\"#ab63fa\",\"symbol\":\"circle\"},\"mode\":\"markers\",\"name\":\"POLIDUCTO\",\"orientation\":\"v\",\"showlegend\":true,\"x\":[24.0],\"xaxis\":\"x\",\"y\":[85.93237085908694],\"yaxis\":\"y\",\"type\":\"scatter\"}],                        {\"template\":{\"data\":{\"histogram2dcontour\":[{\"type\":\"histogram2dcontour\",\"colorbar\":{\"outlinewidth\":0,\"ticks\":\"\"},\"colorscale\":[[0.0,\"#0d0887\"],[0.1111111111111111,\"#46039f\"],[0.2222222222222222,\"#7201a8\"],[0.3333333333333333,\"#9c179e\"],[0.4444444444444444,\"#bd3786\"],[0.5555555555555556,\"#d8576b\"],[0.6666666666666666,\"#ed7953\"],[0.7777777777777778,\"#fb9f3a\"],[0.8888888888888888,\"#fdca26\"],[1.0,\"#f0f921\"]]}],\"choropleth\":[{\"type\":\"choropleth\",\"colorbar\":{\"outlinewidth\":0,\"ticks\":\"\"}}],\"histogram2d\":[{\"type\":\"histogram2d\",\"colorbar\":{\"outlinewidth\":0,\"ticks\":\"\"},\"colorscale\":[[0.0,\"#0d0887\"],[0.1111111111111111,\"#46039f\"],[0.2222222222222222,\"#7201a8\"],[0.3333333333333333,\"#9c179e\"],[0.4444444444444444,\"#bd3786\"],[0.5555555555555556,\"#d8576b\"],[0.6666666666666666,\"#ed7953\"],[0.7777777777777778,\"#fb9f3a\"],[0.8888888888888888,\"#fdca26\"],[1.0,\"#f0f921\"]]}],\"heatmap\":[{\"type\":\"heatmap\",\"colorbar\":{\"outlinewidth\":0,\"ticks\":\"\"},\"colorscale\":[[0.0,\"#0d0887\"],[0.1111111111111111,\"#46039f\"],[0.2222222222222222,\"#7201a8\"],[0.3333333333333333,\"#9c179e\"],[0.4444444444444444,\"#bd3786\"],[0.5555555555555556,\"#d8576b\"],[0.6666666666666666,\"#ed7953\"],[0.7777777777777778,\"#fb9f3a\"],[0.8888888888888888,\"#fdca26\"],[1.0,\"#f0f921\"]]}],\"heatmapgl\":[{\"type\":\"heatmapgl\",\"colorbar\":{\"outlinewidth\":0,\"ticks\":\"\"},\"colorscale\":[[0.0,\"#0d0887\"],[0.1111111111111111,\"#46039f\"],[0.2222222222222222,\"#7201a8\"],[0.3333333333333333,\"#9c179e\"],[0.4444444444444444,\"#bd3786\"],[0.5555555555555556,\"#d8576b\"],[0.6666666666666666,\"#ed7953\"],[0.7777777777777778,\"#fb9f3a\"],[0.8888888888888888,\"#fdca26\"],[1.0,\"#f0f921\"]]}],\"contourcarpet\":[{\"type\":\"contourcarpet\",\"colorbar\":{\"outlinewidth\":0,\"ticks\":\"\"}}],\"contour\":[{\"type\":\"contour\",\"colorbar\":{\"outlinewidth\":0,\"ticks\":\"\"},\"colorscale\":[[0.0,\"#0d0887\"],[0.1111111111111111,\"#46039f\"],[0.2222222222222222,\"#7201a8\"],[0.3333333333333333,\"#9c179e\"],[0.4444444444444444,\"#bd3786\"],[0.5555555555555556,\"#d8576b\"],[0.6666666666666666,\"#ed7953\"],[0.7777777777777778,\"#fb9f3a\"],[0.8888888888888888,\"#fdca26\"],[1.0,\"#f0f921\"]]}],\"surface\":[{\"type\":\"surface\",\"colorbar\":{\"outlinewidth\":0,\"ticks\":\"\"},\"colorscale\":[[0.0,\"#0d0887\"],[0.1111111111111111,\"#46039f\"],[0.2222222222222222,\"#7201a8\"],[0.3333333333333333,\"#9c179e\"],[0.4444444444444444,\"#bd3786\"],[0.5555555555555556,\"#d8576b\"],[0.6666666666666666,\"#ed7953\"],[0.7777777777777778,\"#fb9f3a\"],[0.8888888888888888,\"#fdca26\"],[1.0,\"#f0f921\"]]}],\"mesh3d\":[{\"type\":\"mesh3d\",\"colorbar\":{\"outlinewidth\":0,\"ticks\":\"\"}}],\"scatter\":[{\"fillpattern\":{\"fillmode\":\"overlay\",\"size\":10,\"solidity\":0.2},\"type\":\"scatter\"}],\"parcoords\":[{\"type\":\"parcoords\",\"line\":{\"colorbar\":{\"outlinewidth\":0,\"ticks\":\"\"}}}],\"scatterpolargl\":[{\"type\":\"scatterpolargl\",\"marker\":{\"colorbar\":{\"outlinewidth\":0,\"ticks\":\"\"}}}],\"bar\":[{\"error_x\":{\"color\":\"#2a3f5f\"},\"error_y\":{\"color\":\"#2a3f5f\"},\"marker\":{\"line\":{\"color\":\"#E5ECF6\",\"width\":0.5},\"pattern\":{\"fillmode\":\"overlay\",\"size\":10,\"solidity\":0.2}},\"type\":\"bar\"}],\"scattergeo\":[{\"type\":\"scattergeo\",\"marker\":{\"colorbar\":{\"outlinewidth\":0,\"ticks\":\"\"}}}],\"scatterpolar\":[{\"type\":\"scatterpolar\",\"marker\":{\"colorbar\":{\"outlinewidth\":0,\"ticks\":\"\"}}}],\"histogram\":[{\"marker\":{\"pattern\":{\"fillmode\":\"overlay\",\"size\":10,\"solidity\":0.2}},\"type\":\"histogram\"}],\"scattergl\":[{\"type\":\"scattergl\",\"marker\":{\"colorbar\":{\"outlinewidth\":0,\"ticks\":\"\"}}}],\"scatter3d\":[{\"type\":\"scatter3d\",\"line\":{\"colorbar\":{\"outlinewidth\":0,\"ticks\":\"\"}},\"marker\":{\"colorbar\":{\"outlinewidth\":0,\"ticks\":\"\"}}}],\"scattermapbox\":[{\"type\":\"scattermapbox\",\"marker\":{\"colorbar\":{\"outlinewidth\":0,\"ticks\":\"\"}}}],\"scatterternary\":[{\"type\":\"scatterternary\",\"marker\":{\"colorbar\":{\"outlinewidth\":0,\"ticks\":\"\"}}}],\"scattercarpet\":[{\"type\":\"scattercarpet\",\"marker\":{\"colorbar\":{\"outlinewidth\":0,\"ticks\":\"\"}}}],\"carpet\":[{\"aaxis\":{\"endlinecolor\":\"#2a3f5f\",\"gridcolor\":\"white\",\"linecolor\":\"white\",\"minorgridcolor\":\"white\",\"startlinecolor\":\"#2a3f5f\"},\"baxis\":{\"endlinecolor\":\"#2a3f5f\",\"gridcolor\":\"white\",\"linecolor\":\"white\",\"minorgridcolor\":\"white\",\"startlinecolor\":\"#2a3f5f\"},\"type\":\"carpet\"}],\"table\":[{\"cells\":{\"fill\":{\"color\":\"#EBF0F8\"},\"line\":{\"color\":\"white\"}},\"header\":{\"fill\":{\"color\":\"#C8D4E3\"},\"line\":{\"color\":\"white\"}},\"type\":\"table\"}],\"barpolar\":[{\"marker\":{\"line\":{\"color\":\"#E5ECF6\",\"width\":0.5},\"pattern\":{\"fillmode\":\"overlay\",\"size\":10,\"solidity\":0.2}},\"type\":\"barpolar\"}],\"pie\":[{\"automargin\":true,\"type\":\"pie\"}]},\"layout\":{\"autotypenumbers\":\"strict\",\"colorway\":[\"#636efa\",\"#EF553B\",\"#00cc96\",\"#ab63fa\",\"#FFA15A\",\"#19d3f3\",\"#FF6692\",\"#B6E880\",\"#FF97FF\",\"#FECB52\"],\"font\":{\"color\":\"#2a3f5f\"},\"hovermode\":\"closest\",\"hoverlabel\":{\"align\":\"left\"},\"paper_bgcolor\":\"white\",\"plot_bgcolor\":\"#E5ECF6\",\"polar\":{\"bgcolor\":\"#E5ECF6\",\"angularaxis\":{\"gridcolor\":\"white\",\"linecolor\":\"white\",\"ticks\":\"\"},\"radialaxis\":{\"gridcolor\":\"white\",\"linecolor\":\"white\",\"ticks\":\"\"}},\"ternary\":{\"bgcolor\":\"#E5ECF6\",\"aaxis\":{\"gridcolor\":\"white\",\"linecolor\":\"white\",\"ticks\":\"\"},\"baxis\":{\"gridcolor\":\"white\",\"linecolor\":\"white\",\"ticks\":\"\"},\"caxis\":{\"gridcolor\":\"white\",\"linecolor\":\"white\",\"ticks\":\"\"}},\"coloraxis\":{\"colorbar\":{\"outlinewidth\":0,\"ticks\":\"\"}},\"colorscale\":{\"sequential\":[[0.0,\"#0d0887\"],[0.1111111111111111,\"#46039f\"],[0.2222222222222222,\"#7201a8\"],[0.3333333333333333,\"#9c179e\"],[0.4444444444444444,\"#bd3786\"],[0.5555555555555556,\"#d8576b\"],[0.6666666666666666,\"#ed7953\"],[0.7777777777777778,\"#fb9f3a\"],[0.8888888888888888,\"#fdca26\"],[1.0,\"#f0f921\"]],\"sequentialminus\":[[0.0,\"#0d0887\"],[0.1111111111111111,\"#46039f\"],[0.2222222222222222,\"#7201a8\"],[0.3333333333333333,\"#9c179e\"],[0.4444444444444444,\"#bd3786\"],[0.5555555555555556,\"#d8576b\"],[0.6666666666666666,\"#ed7953\"],[0.7777777777777778,\"#fb9f3a\"],[0.8888888888888888,\"#fdca26\"],[1.0,\"#f0f921\"]],\"diverging\":[[0,\"#8e0152\"],[0.1,\"#c51b7d\"],[0.2,\"#de77ae\"],[0.3,\"#f1b6da\"],[0.4,\"#fde0ef\"],[0.5,\"#f7f7f7\"],[0.6,\"#e6f5d0\"],[0.7,\"#b8e186\"],[0.8,\"#7fbc41\"],[0.9,\"#4d9221\"],[1,\"#276419\"]]},\"xaxis\":{\"gridcolor\":\"white\",\"linecolor\":\"white\",\"ticks\":\"\",\"title\":{\"standoff\":15},\"zerolinecolor\":\"white\",\"automargin\":true,\"zerolinewidth\":2},\"yaxis\":{\"gridcolor\":\"white\",\"linecolor\":\"white\",\"ticks\":\"\",\"title\":{\"standoff\":15},\"zerolinecolor\":\"white\",\"automargin\":true,\"zerolinewidth\":2},\"scene\":{\"xaxis\":{\"backgroundcolor\":\"#E5ECF6\",\"gridcolor\":\"white\",\"linecolor\":\"white\",\"showbackground\":true,\"ticks\":\"\",\"zerolinecolor\":\"white\",\"gridwidth\":2},\"yaxis\":{\"backgroundcolor\":\"#E5ECF6\",\"gridcolor\":\"white\",\"linecolor\":\"white\",\"showbackground\":true,\"ticks\":\"\",\"zerolinecolor\":\"white\",\"gridwidth\":2},\"zaxis\":{\"backgroundcolor\":\"#E5ECF6\",\"gridcolor\":\"white\",\"linecolor\":\"white\",\"showbackground\":true,\"ticks\":\"\",\"zerolinecolor\":\"white\",\"gridwidth\":2}},\"shapedefaults\":{\"line\":{\"color\":\"#2a3f5f\"}},\"annotationdefaults\":{\"arrowcolor\":\"#2a3f5f\",\"arrowhead\":0,\"arrowwidth\":1},\"geo\":{\"bgcolor\":\"white\",\"landcolor\":\"#E5ECF6\",\"subunitcolor\":\"white\",\"showland\":true,\"showlakes\":true,\"lakecolor\":\"white\"},\"title\":{\"x\":0.05},\"mapbox\":{\"style\":\"light\"}}},\"xaxis\":{\"anchor\":\"y\",\"domain\":[0.0,1.0],\"title\":{\"text\":\"diametro\"}},\"yaxis\":{\"anchor\":\"x\",\"domain\":[0.0,1.0],\"title\":{\"text\":\"longitud\"}},\"legend\":{\"title\":{\"text\":\"tipo\"},\"tracegroupgap\":0},\"title\":{\"text\":\"Relaci\\u00f3n entre di\\u00e1metro y longitud con tipo de ducto\"}},                        {\"responsive\": true}                    ).then(function(){\n",
       "                            \n",
       "var gd = document.getElementById('179cd0a6-e7fd-40a7-8ecd-05a58c5f2d09');\n",
       "var x = new MutationObserver(function (mutations, observer) {{\n",
       "        var display = window.getComputedStyle(gd).display;\n",
       "        if (!display || display === 'none') {{\n",
       "            console.log([gd, 'removed!']);\n",
       "            Plotly.purge(gd);\n",
       "            observer.disconnect();\n",
       "        }}\n",
       "}});\n",
       "\n",
       "// Listen for the removal of the full notebook cells\n",
       "var notebookContainer = gd.closest('#notebook-container');\n",
       "if (notebookContainer) {{\n",
       "    x.observe(notebookContainer, {childList: true});\n",
       "}}\n",
       "\n",
       "// Listen for the clearing of the current output cell\n",
       "var outputEl = gd.closest('.output');\n",
       "if (outputEl) {{\n",
       "    x.observe(outputEl, {childList: true});\n",
       "}}\n",
       "\n",
       "                        })                };                });            </script>        </div>"
      ]
     },
     "metadata": {},
     "output_type": "display_data"
    }
   ],
   "source": [
    "fig = px.scatter(df_hidro_troncal, \n",
    "                 x=\"diametro\", \n",
    "                 y='longitud', \n",
    "                 color='tipo',  # Diferenciar los puntos según la edad\n",
    "                 #size='prof',   # Opcional: tamaño de los puntos según la edad\n",
    "                 title='Relación entre diámetro y longitud con tipo de ducto',\n",
    "                 \n",
    "                )\n",
    "fig.write_html(\"Tipo de ducto según relación entre diámetro y longitud.html\")\n",
    "fig.show()"
   ]
  },
  {
   "cell_type": "code",
   "execution_count": null,
   "id": "3d449470",
   "metadata": {},
   "outputs": [],
   "source": []
  }
 ],
 "metadata": {
  "kernelspec": {
   "display_name": "Python 3 (ipykernel)",
   "language": "python",
   "name": "python3"
  },
  "language_info": {
   "codemirror_mode": {
    "name": "ipython",
    "version": 3
   },
   "file_extension": ".py",
   "mimetype": "text/x-python",
   "name": "python",
   "nbconvert_exporter": "python",
   "pygments_lexer": "ipython3",
   "version": "3.11.5"
  }
 },
 "nbformat": 4,
 "nbformat_minor": 5
}
