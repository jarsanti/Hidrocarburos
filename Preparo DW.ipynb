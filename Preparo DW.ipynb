{
 "cells": [
  {
   "cell_type": "code",
   "execution_count": 1,
   "id": "fc683585",
   "metadata": {},
   "outputs": [],
   "source": [
    "import pandas as pd"
   ]
  },
  {
   "cell_type": "code",
   "execution_count": 2,
   "id": "ab37274c",
   "metadata": {},
   "outputs": [],
   "source": [
    "hidro = pd.read_csv(\"hidrocarburos_con_long.csv\", index_col=\"ID\")\n"
   ]
  },
  {
   "cell_type": "code",
   "execution_count": 3,
   "id": "9c0560b2",
   "metadata": {
    "scrolled": true
   },
   "outputs": [
    {
     "data": {
      "text/html": [
       "<div>\n",
       "<style scoped>\n",
       "    .dataframe tbody tr th:only-of-type {\n",
       "        vertical-align: middle;\n",
       "    }\n",
       "\n",
       "    .dataframe tbody tr th {\n",
       "        vertical-align: top;\n",
       "    }\n",
       "\n",
       "    .dataframe thead th {\n",
       "        text-align: right;\n",
       "    }\n",
       "</style>\n",
       "<table border=\"1\" class=\"dataframe\">\n",
       "  <thead>\n",
       "    <tr style=\"text-align: right;\">\n",
       "      <th></th>\n",
       "      <th>du</th>\n",
       "      <th>trdu</th>\n",
       "      <th>empresa_informante</th>\n",
       "      <th>tipo</th>\n",
       "      <th>tipo_tramo</th>\n",
       "      <th>diametro</th>\n",
       "      <th>prof</th>\n",
       "      <th>material</th>\n",
       "      <th>revestim</th>\n",
       "      <th>geojson</th>\n",
       "      <th>longitud</th>\n",
       "    </tr>\n",
       "    <tr>\n",
       "      <th>ID</th>\n",
       "      <th></th>\n",
       "      <th></th>\n",
       "      <th></th>\n",
       "      <th></th>\n",
       "      <th></th>\n",
       "      <th></th>\n",
       "      <th></th>\n",
       "      <th></th>\n",
       "      <th></th>\n",
       "      <th></th>\n",
       "      <th></th>\n",
       "    </tr>\n",
       "  </thead>\n",
       "  <tbody>\n",
       "    <tr>\n",
       "      <th>123</th>\n",
       "      <td>ALTO LAS HORMIGAS</td>\n",
       "      <td>ALTO LAS HORMIGAS-LAS BASES</td>\n",
       "      <td>COMPAÑÍA GENERAL DE COMBUSTIBLES S.A.</td>\n",
       "      <td>GASODUCTO</td>\n",
       "      <td>ENTERRADO</td>\n",
       "      <td>6.000</td>\n",
       "      <td>1.2</td>\n",
       "      <td>ACERO</td>\n",
       "      <td>POLIURETANO EXTRUIDO TRICAPA</td>\n",
       "      <td>{\"type\":\"MultiLineString\",\"coordinates\":[[[-67...</td>\n",
       "      <td>17.765197</td>\n",
       "    </tr>\n",
       "    <tr>\n",
       "      <th>124</th>\n",
       "      <td>DEL T-25</td>\n",
       "      <td>DEL T-25</td>\n",
       "      <td>PETROLERA EL TREBOL S.A.</td>\n",
       "      <td>OLEODUCTO</td>\n",
       "      <td>AEREO</td>\n",
       "      <td>2.875</td>\n",
       "      <td>0.0</td>\n",
       "      <td>ACERO</td>\n",
       "      <td>POLIURETANO Y CHAPA</td>\n",
       "      <td>{\"type\":\"MultiLineString\",\"coordinates\":[[[-69...</td>\n",
       "      <td>0.117905</td>\n",
       "    </tr>\n",
       "    <tr>\n",
       "      <th>125</th>\n",
       "      <td>DEL T-47</td>\n",
       "      <td>DEL T-47</td>\n",
       "      <td>PETROLERA EL TREBOL S.A.</td>\n",
       "      <td>OLEODUCTO</td>\n",
       "      <td>AEREO</td>\n",
       "      <td>2.875</td>\n",
       "      <td>0.0</td>\n",
       "      <td>ACERO</td>\n",
       "      <td>POLIURETANO Y CHAPA</td>\n",
       "      <td>{\"type\":\"MultiLineString\",\"coordinates\":[[[-69...</td>\n",
       "      <td>0.181930</td>\n",
       "    </tr>\n",
       "    <tr>\n",
       "      <th>126</th>\n",
       "      <td>DEL TR-1014</td>\n",
       "      <td>DEL TR-1014</td>\n",
       "      <td>PETROLERA EL TREBOL S.A.</td>\n",
       "      <td>OLEODUCTO</td>\n",
       "      <td>AEREO</td>\n",
       "      <td>2.875</td>\n",
       "      <td>0.0</td>\n",
       "      <td>ACERO</td>\n",
       "      <td>POLIURETANO Y CHAPA</td>\n",
       "      <td>{\"type\":\"MultiLineString\",\"coordinates\":[[[-69...</td>\n",
       "      <td>0.708452</td>\n",
       "    </tr>\n",
       "    <tr>\n",
       "      <th>127</th>\n",
       "      <td>DEL T-36</td>\n",
       "      <td>DEL T-36</td>\n",
       "      <td>PETROLERA EL TREBOL S.A.</td>\n",
       "      <td>OLEODUCTO</td>\n",
       "      <td>AEREO</td>\n",
       "      <td>2.875</td>\n",
       "      <td>0.0</td>\n",
       "      <td>ACERO</td>\n",
       "      <td>POLIURETANO Y CHAPA</td>\n",
       "      <td>{\"type\":\"MultiLineString\",\"coordinates\":[[[-69...</td>\n",
       "      <td>0.344256</td>\n",
       "    </tr>\n",
       "  </tbody>\n",
       "</table>\n",
       "</div>"
      ],
      "text/plain": [
       "                    du                         trdu  \\\n",
       "ID                                                    \n",
       "123  ALTO LAS HORMIGAS  ALTO LAS HORMIGAS-LAS BASES   \n",
       "124           DEL T-25                     DEL T-25   \n",
       "125           DEL T-47                     DEL T-47   \n",
       "126        DEL TR-1014                  DEL TR-1014   \n",
       "127           DEL T-36                     DEL T-36   \n",
       "\n",
       "                        empresa_informante       tipo tipo_tramo  diametro  \\\n",
       "ID                                                                           \n",
       "123  COMPAÑÍA GENERAL DE COMBUSTIBLES S.A.  GASODUCTO  ENTERRADO     6.000   \n",
       "124               PETROLERA EL TREBOL S.A.  OLEODUCTO      AEREO     2.875   \n",
       "125               PETROLERA EL TREBOL S.A.  OLEODUCTO      AEREO     2.875   \n",
       "126               PETROLERA EL TREBOL S.A.  OLEODUCTO      AEREO     2.875   \n",
       "127               PETROLERA EL TREBOL S.A.  OLEODUCTO      AEREO     2.875   \n",
       "\n",
       "     prof material                      revestim  \\\n",
       "ID                                                 \n",
       "123   1.2    ACERO  POLIURETANO EXTRUIDO TRICAPA   \n",
       "124   0.0    ACERO           POLIURETANO Y CHAPA   \n",
       "125   0.0    ACERO           POLIURETANO Y CHAPA   \n",
       "126   0.0    ACERO           POLIURETANO Y CHAPA   \n",
       "127   0.0    ACERO           POLIURETANO Y CHAPA   \n",
       "\n",
       "                                               geojson   longitud  \n",
       "ID                                                                 \n",
       "123  {\"type\":\"MultiLineString\",\"coordinates\":[[[-67...  17.765197  \n",
       "124  {\"type\":\"MultiLineString\",\"coordinates\":[[[-69...   0.117905  \n",
       "125  {\"type\":\"MultiLineString\",\"coordinates\":[[[-69...   0.181930  \n",
       "126  {\"type\":\"MultiLineString\",\"coordinates\":[[[-69...   0.708452  \n",
       "127  {\"type\":\"MultiLineString\",\"coordinates\":[[[-69...   0.344256  "
      ]
     },
     "execution_count": 3,
     "metadata": {},
     "output_type": "execute_result"
    }
   ],
   "source": [
    "hidro.head()"
   ]
  },
  {
   "cell_type": "code",
   "execution_count": 4,
   "id": "f0bddc56",
   "metadata": {
    "scrolled": true
   },
   "outputs": [
    {
     "name": "stdout",
     "output_type": "stream",
     "text": [
      "<class 'pandas.core.frame.DataFrame'>\n",
      "Index: 132980 entries, 123 to 134111\n",
      "Data columns (total 11 columns):\n",
      " #   Column              Non-Null Count   Dtype  \n",
      "---  ------              --------------   -----  \n",
      " 0   du                  132980 non-null  object \n",
      " 1   trdu                132980 non-null  object \n",
      " 2   empresa_informante  132980 non-null  object \n",
      " 3   tipo                132980 non-null  object \n",
      " 4   tipo_tramo          132980 non-null  object \n",
      " 5   diametro            132980 non-null  float64\n",
      " 6   prof                132980 non-null  float64\n",
      " 7   material            132980 non-null  object \n",
      " 8   revestim            132960 non-null  object \n",
      " 9   geojson             132980 non-null  object \n",
      " 10  longitud            132980 non-null  float64\n",
      "dtypes: float64(3), object(8)\n",
      "memory usage: 12.2+ MB\n"
     ]
    }
   ],
   "source": [
    "hidro.info()"
   ]
  },
  {
   "cell_type": "code",
   "execution_count": 5,
   "id": "da84ea36",
   "metadata": {
    "scrolled": true
   },
   "outputs": [
    {
     "name": "stdout",
     "output_type": "stream",
     "text": [
      "empresa_informante\n",
      "YPF S.A.                                                  34638\n",
      "PAN AMERICAN ENERGY (SUCURSAL ARGENTINA) LLC              25518\n",
      "PAN AMERICAN ENERGY SL                                    17366\n",
      "TECPETROL S.A.                                            14381\n",
      "SINOPEC ARGENTINA EXPLORATION AND PRODUCTION, INC.        14163\n",
      "CGC ENERGIA SAU                                           14163\n",
      "PLUSPETROL S.A.                                            4359\n",
      "CHEVRON ARGENTINA S.R.L.                                   2320\n",
      "AMERICAS PETROGAS ARGENTINA S.A.                           1650\n",
      "OILSTONE ENERGIA S.A.                                      1154\n",
      "CAPEX S.A.                                                  672\n",
      "MADALENA ENERGY ARGENTINA SRL                               273\n",
      "VISTA OIL & GAS ARGENTINA SAU                               258\n",
      "VISTA ENERGY ARGENTINA SAU                                  251\n",
      "CENTRAL INTERNATIONAL CORPORATION (SUCURSAL ARGENTINA)      208\n",
      "PETROLEOS SUDAMERICANOS S.A.                                168\n",
      "DAPETROL S.A.                                               168\n",
      "PRESIDENT PETROLEUM S.A.                                    158\n",
      "PETROLERA ENTRE LOMAS S.A.                                  157\n",
      "PETROBRAS ARGENTINA S.A.                                    150\n",
      "PETROLERA EL TREBOL S.A.                                    140\n",
      "COMPAÑÍAS ASOCIADAS PETROLERAS S.A.                         135\n",
      "INGENIERIA ALPA S.A.                                         75\n",
      "SHELL ARGENTINA S.A.                                         69\n",
      "CHAÑARES ENERGIA S.A.                                        62\n",
      "PETROQUIMICA COMODORO RIVADAVIA S.A.                         54\n",
      "ENAP SIPETROL ARGENTINA S.A.                                 41\n",
      "PLUSPETROL ENERGY S.A.                                       33\n",
      "TOTAL AUSTRAL S.A.                                           32\n",
      "SAN JORGE PETROLEUM S.A.                                     28\n",
      "ROCH S.A.                                                    24\n",
      "ENERGIAL S.A.                                                23\n",
      "QUINTANA E&P ARGENTINA S.R.L.                                15\n",
      "PETRO AP S.A.                                                13\n",
      "O&G DEVELOPMENTS LTD S.A.                                    12\n",
      "PETROLERA CERRO NEGRO S.A.                                   10\n",
      "GAS Y PETROLEO DEL NEUQUEN S.A.                              10\n",
      "MEDANITO S.A.                                                 9\n",
      "COLHUE HUAPI S.A.                                             8\n",
      "EXXONMOBIL EXPLORATION ARGENTINA S.R.L.                       7\n",
      "GRECOIL y CIA. S.R.L.                                         2\n",
      "PETROLERA PIEDRA DEL AGUILA S.A.                              1\n",
      "VENOIL S.A.                                                   1\n",
      "COMPAÑÍA GENERAL DE COMBUSTIBLES S.A.                         1\n",
      "Name: count, dtype: int64\n",
      "________________\n",
      "tipo\n",
      "OLEODUCTO    77874\n",
      "GASODUCTO    28880\n",
      "ACUEDUCTO    24073\n",
      "POLIDUCTO     2028\n",
      "OTROS          125\n",
      "Name: count, dtype: int64\n",
      "________________\n",
      "tipo_tramo\n",
      "AEREO        72946\n",
      "ENTERRADO    60034\n",
      "Name: count, dtype: int64\n",
      "________________\n"
     ]
    }
   ],
   "source": [
    "# Verifico que en estas columnas no haya error de carga\n",
    "\n",
    "columnas_nombre = [\"empresa_informante\", \"tipo\", \"tipo_tramo\"]\n",
    "\n",
    "for col in columnas_nombre:\n",
    "    print(hidro[col].value_counts())\n",
    "    print(\"________________\")"
   ]
  },
  {
   "cell_type": "code",
   "execution_count": 6,
   "id": "e1914d37",
   "metadata": {},
   "outputs": [
    {
     "data": {
      "text/plain": [
       "material\n",
       "ACERO                         46021\n",
       "API 5L GR B                   32175\n",
       "SIN DATO                      12635\n",
       "ERFV                          11682\n",
       "ASTM A53 GR B                  9259\n",
       "                              ...  \n",
       "PLASTICO                          1\n",
       "ACERO ASTM A53GR B                1\n",
       "ACERO ASTM A53 A 106 GR AB        1\n",
       "ACERO API 5L GR X-56              1\n",
       "ACERO X42                         1\n",
       "Name: count, Length: 124, dtype: int64"
      ]
     },
     "execution_count": 6,
     "metadata": {},
     "output_type": "execute_result"
    }
   ],
   "source": [
    "hidro.material.value_counts()"
   ]
  },
  {
   "cell_type": "code",
   "execution_count": 7,
   "id": "bb788760",
   "metadata": {
    "scrolled": true
   },
   "outputs": [],
   "source": [
    "# Utilizo algunas palabras claves para estandarizar la columna \"material\". \n",
    "\n",
    "filas_con_palabras_clave = hidro[hidro['material'].str.contains(r'acero|carbono|api|astm|aisi|gr b|TUBING| carbon|J55|STEEL|sch|x42|x56|grb', case=False)]\n",
    "hidro.loc[filas_con_palabras_clave.index, 'material'] = 'ACERO'"
   ]
  },
  {
   "cell_type": "code",
   "execution_count": 8,
   "id": "67108744",
   "metadata": {},
   "outputs": [],
   "source": [
    "filas_con_palabras_clave = hidro[hidro['material'].str.contains(r'dato|AEREO|GALVANIZADO|sin dato|definir|otro|s/d', case=False)]\n",
    "hidro.loc[filas_con_palabras_clave.index, 'material'] = 'SIN DATO'"
   ]
  },
  {
   "cell_type": "code",
   "execution_count": 9,
   "id": "29637398",
   "metadata": {},
   "outputs": [],
   "source": [
    "filas_con_palabras_clave = hidro[hidro['material'].str.contains(r'erfv|prfv|fiber|fibra|glass', case=False)]\n",
    "hidro.loc[filas_con_palabras_clave.index, 'material'] = 'ERFV'"
   ]
  },
  {
   "cell_type": "code",
   "execution_count": 10,
   "id": "35909242",
   "metadata": {},
   "outputs": [],
   "source": [
    "filas_con_palabras_clave = hidro[hidro['material'].str.contains(r'PE|POLIETILENO|PAD|PLASTICO|MANGUERA', case=False)]\n",
    "hidro.loc[filas_con_palabras_clave.index, 'material'] = 'PEAD'"
   ]
  },
  {
   "cell_type": "code",
   "execution_count": 11,
   "id": "e6e8f161",
   "metadata": {},
   "outputs": [],
   "source": [
    "filas_con_palabras_clave = hidro[hidro['material'].str.contains(r'ALDYL', case=False)]\n",
    "hidro.loc[filas_con_palabras_clave.index, 'material'] = 'ALDIL'"
   ]
  },
  {
   "cell_type": "code",
   "execution_count": 12,
   "id": "5130cedf",
   "metadata": {
    "scrolled": true
   },
   "outputs": [
    {
     "data": {
      "text/plain": [
       "material\n",
       "ACERO       105184\n",
       "SIN DATO     14339\n",
       "ERFV         11972\n",
       "PEAD          1453\n",
       "ALDIL           32\n",
       "Name: count, dtype: int64"
      ]
     },
     "execution_count": 12,
     "metadata": {},
     "output_type": "execute_result"
    }
   ],
   "source": [
    "hidro.material.value_counts()"
   ]
  },
  {
   "cell_type": "code",
   "execution_count": 13,
   "id": "3f472ded",
   "metadata": {
    "scrolled": true
   },
   "outputs": [
    {
     "name": "stdout",
     "output_type": "stream",
     "text": [
      "<class 'pandas.core.frame.DataFrame'>\n",
      "Index: 132980 entries, 123 to 134111\n",
      "Data columns (total 11 columns):\n",
      " #   Column              Non-Null Count   Dtype  \n",
      "---  ------              --------------   -----  \n",
      " 0   du                  132980 non-null  object \n",
      " 1   trdu                132980 non-null  object \n",
      " 2   empresa_informante  132980 non-null  object \n",
      " 3   tipo                132980 non-null  object \n",
      " 4   tipo_tramo          132980 non-null  object \n",
      " 5   diametro            132980 non-null  float64\n",
      " 6   prof                132980 non-null  float64\n",
      " 7   material            132980 non-null  object \n",
      " 8   revestim            132960 non-null  object \n",
      " 9   geojson             132980 non-null  object \n",
      " 10  longitud            132980 non-null  float64\n",
      "dtypes: float64(3), object(8)\n",
      "memory usage: 16.2+ MB\n"
     ]
    }
   ],
   "source": [
    "hidro.info()"
   ]
  },
  {
   "cell_type": "code",
   "execution_count": 1,
   "id": "450a380c",
   "metadata": {},
   "outputs": [
    {
     "ename": "NameError",
     "evalue": "name 'hidro' is not defined",
     "output_type": "error",
     "traceback": [
      "\u001b[1;31m---------------------------------------------------------------------------\u001b[0m",
      "\u001b[1;31mNameError\u001b[0m                                 Traceback (most recent call last)",
      "Cell \u001b[1;32mIn[1], line 1\u001b[0m\n\u001b[1;32m----> 1\u001b[0m hidro[\u001b[38;5;124m\"\u001b[39m\u001b[38;5;124mrevestim\u001b[39m\u001b[38;5;124m\"\u001b[39m]\u001b[38;5;241m.\u001b[39mvalue_counts()\n",
      "\u001b[1;31mNameError\u001b[0m: name 'hidro' is not defined"
     ]
    }
   ],
   "source": [
    "hidro[\"revestim\"].value_counts()"
   ]
  },
  {
   "cell_type": "code",
   "execution_count": null,
   "id": "48d5d0de",
   "metadata": {},
   "outputs": [],
   "source": [
    "# Utilizo algunas palabras claves para estandarizar la columna \"revestim\". \n",
    "\n",
    "filas_con_palabras_clave = hidro[(hidro['revestim'].str.contains(r'revestim|no revestido|desnudo|sin revestir|no aplica|no posee|sin revestim|no tiene|ninguno', case=False)) & (~hidro['revestim'].isna())]\n",
    "hidro.loc[filas_con_palabras_clave.index, 'revestim'] = 'SIN REVESTIMIENTO'"
   ]
  },
  {
   "cell_type": "code",
   "execution_count": 16,
   "id": "85dfae84",
   "metadata": {},
   "outputs": [],
   "source": [
    "filas_con_palabras_clave = hidro[(hidro['revestim'].str.contains(r'epoxi|epoxy', case=False)) & (~hidro['revestim'].isna())]\n",
    "hidro.loc[filas_con_palabras_clave.index, 'revestim'] = 'EPOXI'"
   ]
  },
  {
   "cell_type": "code",
   "execution_count": 17,
   "id": "945c66f8",
   "metadata": {},
   "outputs": [],
   "source": [
    "filas_con_palabras_clave = hidro[(hidro['revestim'].str.contains(r'polietileno', case=False)) & (~hidro['revestim'].isna())]\n",
    "hidro.loc[filas_con_palabras_clave.index, 'revestim'] = 'POLIETILENO'"
   ]
  },
  {
   "cell_type": "code",
   "execution_count": 18,
   "id": "fa1e8166",
   "metadata": {},
   "outputs": [],
   "source": [
    "filas_con_palabras_clave = hidro[(hidro['revestim'].str.contains(r'polipropileno', case=False)) & (~hidro['revestim'].isna())]\n",
    "hidro.loc[filas_con_palabras_clave.index, 'revestim'] = 'POLIPROPILENO'"
   ]
  },
  {
   "cell_type": "code",
   "execution_count": 19,
   "id": "b9997f53",
   "metadata": {},
   "outputs": [],
   "source": [
    "filas_con_palabras_clave = hidro[(hidro['revestim'].str.contains(r'poliuretano|poliuretanico', case=False)) & (~hidro['revestim'].isna())]\n",
    "hidro.loc[filas_con_palabras_clave.index, 'revestim'] = 'POLIURETANO'"
   ]
  },
  {
   "cell_type": "code",
   "execution_count": 20,
   "id": "e4dacc6f",
   "metadata": {},
   "outputs": [],
   "source": [
    "hidro.loc[hidro[hidro[\"revestim\"].isna()].index,\"revestim\"] = \"SIN DATOS\""
   ]
  },
  {
   "cell_type": "code",
   "execution_count": 21,
   "id": "059f9b8d",
   "metadata": {},
   "outputs": [],
   "source": [
    "filas_con_palabras_clave = hidro[(hidro['revestim'].str.contains(r'null|s/d|otro|datos|dato|definir|n/c|unknown|-', case=False))]\n",
    "hidro.loc[filas_con_palabras_clave.index, 'revestim'] = 'SIN DATOS'"
   ]
  },
  {
   "cell_type": "code",
   "execution_count": 22,
   "id": "758759d8",
   "metadata": {},
   "outputs": [],
   "source": [
    "filas_con_palabras_clave = hidro[(hidro['revestim'].str.contains(r'TRICAPA', case=False))]\n",
    "hidro.loc[filas_con_palabras_clave.index, 'revestim'] = 'TRICAPA'"
   ]
  },
  {
   "cell_type": "code",
   "execution_count": 23,
   "id": "8d15c724",
   "metadata": {},
   "outputs": [],
   "source": [
    "filas_con_palabras_clave = hidro[(hidro['revestim'].str.contains(r'ASFALTICO|ASF|LTICO', case=False))]\n",
    "hidro.loc[filas_con_palabras_clave.index, 'revestim'] = 'ASFALTICO'"
   ]
  },
  {
   "cell_type": "code",
   "execution_count": 24,
   "id": "afe7db66",
   "metadata": {},
   "outputs": [],
   "source": [
    "filas_con_palabras_clave = hidro[(hidro['revestim'].str.contains(r'ERFV|PRFV', case=False))]\n",
    "hidro.loc[filas_con_palabras_clave.index, 'revestim'] = 'ERFV'"
   ]
  },
  {
   "cell_type": "code",
   "execution_count": 25,
   "id": "12cd324e",
   "metadata": {},
   "outputs": [],
   "source": [
    "filas_con_palabras_clave = hidro[(hidro['revestim'].str.contains(r'PLA|STICO|PLASTICO', case=False))]\n",
    "hidro.loc[filas_con_palabras_clave.index, 'revestim'] = 'PLASTICO'"
   ]
  },
  {
   "cell_type": "code",
   "execution_count": 26,
   "id": "5080678d",
   "metadata": {},
   "outputs": [],
   "source": [
    "filas_con_palabras_clave = hidro[(hidro['revestim'].str.contains(r'RMICO', case=False))]\n",
    "hidro.loc[filas_con_palabras_clave.index, 'revestim'] = 'TÉRMICO'"
   ]
  },
  {
   "cell_type": "code",
   "execution_count": 27,
   "id": "7c3ec499",
   "metadata": {},
   "outputs": [],
   "source": [
    "# Al resto de los valores existentes de \"revestim\" los coloco dentro la categoría otros.\n",
    " \n",
    "a = hidro.revestim.value_counts(normalize=True) < 0.0009\n",
    "a = a[a == True]\n",
    "type(a)\n",
    "hidro.loc[hidro[\"revestim\"].isin(a.index),\"revestim\"] = \"OTROS\"\n"
   ]
  },
  {
   "cell_type": "code",
   "execution_count": 28,
   "id": "a037d0ab",
   "metadata": {
    "scrolled": true
   },
   "outputs": [
    {
     "data": {
      "text/plain": [
       "revestim\n",
       "SIN DATOS             37033\n",
       "SIN REVESTIMIENTO     33502\n",
       "POLIETILENO           33022\n",
       "POLIKEN Y SATURADO     8301\n",
       "POLIPROPILENO          7965\n",
       "TRICAPA                3508\n",
       "POLYGUARD              3268\n",
       "ASFALTICO              1260\n",
       "TÉRMICO                 953\n",
       "BICAPA                  916\n",
       "OTROS                   797\n",
       "EPOXI                   780\n",
       "POLIURETANO             629\n",
       "VELO DE VIDRIO          463\n",
       "ERFV                    345\n",
       "PLASTICO                238\n",
       "Name: count, dtype: int64"
      ]
     },
     "execution_count": 28,
     "metadata": {},
     "output_type": "execute_result"
    }
   ],
   "source": [
    "hidro[\"revestim\"].value_counts()"
   ]
  },
  {
   "cell_type": "code",
   "execution_count": 29,
   "id": "f8f06c3c",
   "metadata": {},
   "outputs": [],
   "source": [
    "# Estandarizo los diámetros de los caños.\n",
    "\n",
    "hidro[\"diametro\"].replace({9999:0, 999:0,658:0}, inplace=True)\n",
    "hidro[\"diametro\"].replace({2.48:2.5, 2.7:2.75,2.78:2.75,2.785:2.75,2.8:2.75,2.87:2.875,2.88:3,2.9:3,3.375:3.5,5.9:6,6.5:6,6.58:6,8.75:8.625,12.7:12.75,15.24:15,20.32:20,25.4:25.5}, inplace=True)\n"
   ]
  },
  {
   "cell_type": "code",
   "execution_count": 30,
   "id": "da9ce879",
   "metadata": {},
   "outputs": [
    {
     "name": "stdout",
     "output_type": "stream",
     "text": [
      "<class 'pandas.core.frame.DataFrame'>\n",
      "Index: 132980 entries, 123 to 134111\n",
      "Data columns (total 11 columns):\n",
      " #   Column              Non-Null Count   Dtype  \n",
      "---  ------              --------------   -----  \n",
      " 0   du                  132980 non-null  object \n",
      " 1   trdu                132980 non-null  object \n",
      " 2   empresa_informante  132980 non-null  object \n",
      " 3   tipo                132980 non-null  object \n",
      " 4   tipo_tramo          132980 non-null  object \n",
      " 5   diametro            132980 non-null  float64\n",
      " 6   prof                132980 non-null  float64\n",
      " 7   material            132980 non-null  object \n",
      " 8   revestim            132980 non-null  object \n",
      " 9   geojson             132980 non-null  object \n",
      " 10  longitud            132980 non-null  float64\n",
      "dtypes: float64(3), object(8)\n",
      "memory usage: 16.2+ MB\n"
     ]
    }
   ],
   "source": [
    "hidro.info()"
   ]
  },
  {
   "cell_type": "code",
   "execution_count": 31,
   "id": "926bc19f",
   "metadata": {},
   "outputs": [
    {
     "data": {
      "text/plain": [
       "diametro\n",
       "0.000       7129\n",
       "0.500         18\n",
       "0.750         12\n",
       "1.000        238\n",
       "1.500         28\n",
       "2.000       7546\n",
       "2.375         13\n",
       "2.500        805\n",
       "2.750        236\n",
       "2.870          1\n",
       "2.875      10196\n",
       "3.000      30130\n",
       "3.500        382\n",
       "4.000      41066\n",
       "4.500       1193\n",
       "5.000        100\n",
       "5.500        105\n",
       "6.000      17919\n",
       "6.625        618\n",
       "7.000         25\n",
       "8.000       6580\n",
       "8.625        156\n",
       "9.000         58\n",
       "9.625         51\n",
       "10.000      3548\n",
       "10.750       125\n",
       "11.000        89\n",
       "12.000      1743\n",
       "12.750       138\n",
       "13.000       392\n",
       "14.000       353\n",
       "15.000       177\n",
       "16.000       786\n",
       "17.000         3\n",
       "18.000       177\n",
       "19.000         5\n",
       "20.000       274\n",
       "21.000         1\n",
       "22.000         6\n",
       "23.000        46\n",
       "24.000       230\n",
       "25.000        14\n",
       "25.500         2\n",
       "26.000        12\n",
       "27.000         6\n",
       "28.000         2\n",
       "29.000         5\n",
       "30.000       114\n",
       "32.000         1\n",
       "36.000         6\n",
       "42.000        18\n",
       "63.000        94\n",
       "90.000         3\n",
       "125.000        5\n",
       "Name: count, dtype: int64"
      ]
     },
     "execution_count": 31,
     "metadata": {},
     "output_type": "execute_result"
    }
   ],
   "source": [
    "hidro[\"diametro\"].value_counts().sort_index()"
   ]
  },
  {
   "cell_type": "code",
   "execution_count": 32,
   "id": "e32b563e",
   "metadata": {},
   "outputs": [
    {
     "data": {
      "text/plain": [
       "prof\n",
       "0.00       72946\n",
       "0.10           1\n",
       "0.30           2\n",
       "0.40          20\n",
       "0.43           4\n",
       "           ...  \n",
       "300.00         4\n",
       "914.40         9\n",
       "1000.00       25\n",
       "1200.00        3\n",
       "9999.00       60\n",
       "Name: count, Length: 126, dtype: int64"
      ]
     },
     "execution_count": 32,
     "metadata": {},
     "output_type": "execute_result"
    }
   ],
   "source": [
    "hidro.prof.value_counts().sort_index()"
   ]
  },
  {
   "cell_type": "code",
   "execution_count": 33,
   "id": "9178d148",
   "metadata": {},
   "outputs": [],
   "source": [
    "# Estandarizo los valores de la columna \"prof\"\n",
    "\n",
    "hidro.loc[hidro[\"prof\"].between(0, 0.6), \"prof\"] = 0\n",
    "hidro.loc[hidro[\"prof\"].between(0.7, 0.81), \"prof\"] = 0.8\n",
    "hidro.loc[hidro[\"prof\"].between(0.9, 1.16), \"prof\"] = 1\n",
    "hidro.loc[hidro[\"prof\"].between(1.16, 1.3), \"prof\"] = 1.2\n",
    "hidro.loc[hidro[\"prof\"].between(1.4, 2), \"prof\"] = 1.6\n",
    "hidro.loc[hidro[\"prof\"].between(10, 20), \"prof\"] = 0\n",
    "hidro.loc[hidro[\"prof\"].between(30, 49), \"prof\"] = 0.4\n",
    "hidro.loc[hidro[\"prof\"].between(50, 70), \"prof\"] = 0.6\n",
    "hidro.loc[hidro[\"prof\"].between(71, 87), \"prof\"] = 0.8\n",
    "hidro.loc[hidro[\"prof\"].between(90, 109), \"prof\"] = 1\n",
    "hidro.loc[hidro[\"prof\"].between(110, 130), \"prof\"] = 1.2\n",
    "hidro.loc[hidro[\"prof\"].between(130, 160), \"prof\"] = 1.6\n",
    "hidro.loc[hidro[\"prof\"].between(165, 300), \"prof\"] = 2\n",
    "hidro.loc[hidro[\"prof\"].between(301, 10000), \"prof\"] = 0"
   ]
  },
  {
   "cell_type": "code",
   "execution_count": 34,
   "id": "ea1b63f0",
   "metadata": {
    "scrolled": true
   },
   "outputs": [
    {
     "data": {
      "text/plain": [
       "prof\n",
       "0.0    73208\n",
       "0.4    31204\n",
       "0.6     3778\n",
       "0.8    17798\n",
       "1.0     3437\n",
       "1.2     2383\n",
       "1.6     1016\n",
       "2.0      156\n",
       "Name: count, dtype: int64"
      ]
     },
     "execution_count": 34,
     "metadata": {},
     "output_type": "execute_result"
    }
   ],
   "source": [
    "hidro.prof.value_counts().sort_index()"
   ]
  },
  {
   "cell_type": "code",
   "execution_count": 35,
   "id": "11e4258b",
   "metadata": {},
   "outputs": [
    {
     "name": "stdout",
     "output_type": "stream",
     "text": [
      "<class 'pandas.core.frame.DataFrame'>\n",
      "Index: 132980 entries, 123 to 134111\n",
      "Data columns (total 11 columns):\n",
      " #   Column              Non-Null Count   Dtype  \n",
      "---  ------              --------------   -----  \n",
      " 0   du                  132980 non-null  object \n",
      " 1   trdu                132980 non-null  object \n",
      " 2   empresa_informante  132980 non-null  object \n",
      " 3   tipo                132980 non-null  object \n",
      " 4   tipo_tramo          132980 non-null  object \n",
      " 5   diametro            132980 non-null  float64\n",
      " 6   prof                132980 non-null  float64\n",
      " 7   material            132980 non-null  object \n",
      " 8   revestim            132980 non-null  object \n",
      " 9   geojson             132980 non-null  object \n",
      " 10  longitud            132980 non-null  float64\n",
      "dtypes: float64(3), object(8)\n",
      "memory usage: 16.2+ MB\n"
     ]
    }
   ],
   "source": [
    "hidro.info()"
   ]
  },
  {
   "cell_type": "code",
   "execution_count": 36,
   "id": "d1a6067e",
   "metadata": {},
   "outputs": [],
   "source": [
    "hidro.index.name = \"ID\""
   ]
  },
  {
   "cell_type": "code",
   "execution_count": 37,
   "id": "37848732",
   "metadata": {},
   "outputs": [],
   "source": [
    "hidro.to_csv(path_or_buf=\"hidrocarburos_limpio.csv\", index=\"ID\")"
   ]
  }
 ],
 "metadata": {
  "kernelspec": {
   "display_name": "Python 3 (ipykernel)",
   "language": "python",
   "name": "python3"
  },
  "language_info": {
   "codemirror_mode": {
    "name": "ipython",
    "version": 3
   },
   "file_extension": ".py",
   "mimetype": "text/x-python",
   "name": "python",
   "nbconvert_exporter": "python",
   "pygments_lexer": "ipython3",
   "version": "3.11.5"
  }
 },
 "nbformat": 4,
 "nbformat_minor": 5
}
